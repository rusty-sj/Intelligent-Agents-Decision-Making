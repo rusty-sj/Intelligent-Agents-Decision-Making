{
 "cells": [
  {
   "cell_type": "markdown",
   "metadata": {},
   "source": [
    "# Distributed Deep Q-Learning \n",
    "\n",
    "The goal of this assignment is to implement and experiment with both single-core and distributed versions of the deep reinforcement learning algorithm Deep Q Networks (DQN). In particular, DQN will be run in the classic RL benchmark Cart-Pole and abblation experiments will be run to observe the impact of the different DQN components. \n",
    "\n",
    "The relevant content about DQN can be found Q-Learning and SARSA are in the following course notes from CS533.\n",
    "\n",
    "https://oregonstate.instructure.com/courses/1719746/files/75047394/download?wrap=1\n",
    "\n",
    "The full pseudo-code for DQN is on slide 45 with prior slides introducing the individual components. \n",
    "\n",
    "\n",
    "## Recap of DQN \n",
    "\n",
    "From the course slides it can be seen that DQN is simply the standard table-based Q-learning algorithm but with three extensions:\n",
    "\n",
    "1) Use of function approximation via a neural network instead of a Q-table. \n",
    "2) Use of experience replay. \n",
    "3) Use of a target network. \n",
    "\n",
    "Extension (1) allows for scaling to problems with enormous state spaces, such as when the states correspond to images or sequences of images. Extensions (2) and (3) are claimed to improve the robustness and effectiveness of DQN compared. \n",
    "\n",
    "(2) adjusts Q-learning so that updates are not just performed on individual experiences as they arrive. But rather, experiences are stored in a memory buffer and updates are performed by sampling random mini-batches of experience tuples from the memory buffer and updating the network based on the mini-batch. This allows for reuse of experience as well as helping to reduce correlation between successive updates, which is claimed to be beneficial. \n",
    "\n",
    "(3) adjusts the way that target values are computed for the Q-learning updates. Let $Q_{\\theta}(s,a)$ be the function approximation network with parameters $\\theta$ for representing the Q-function. Given an experience tuple $(s, a, r, s')$ the origional Q-learning algorithm updates the parameters so that $Q_{\\theta}(s,a)$ moves closer to the target value: \n",
    "\\begin{equation}\n",
    "r + \\beta \\max_a' Q_{\\theta}(s',a') \n",
    "\\end{equation}\n",
    "Rather, DQN stores two function approximation networks. The first is the update network with parameters $\\theta$, which is the network that is continually updated during learning. The second is a target network with parameters $\\theta'$. Given the same experience tuple, DQN will update the parameters $\\theta$ so that $Q_{\\theta}(s,a)$ moves toward a target value based on the target network:\n",
    "\\begin{equation}\n",
    "r + \\beta \\max_a' Q_{\\theta'}(s',a') \n",
    "\\end{equation}\n",
    "Periodically the target network is updated with the most recent parameters $\\theta' \\leftarrow \\theta$. This use of a target network is claimed to stabilize learning.\n",
    "\n",
    "In the assignment you will get to see an example of the impact of both the target network and experience replay.\n",
    "\n",
    "Further reading about DQN and its application to learning to play Atari games can be found in the following paper. \n",
    "\n",
    "Mnih, V., Kavukcuoglu, K., Silver, D., Rusu, A.A., Veness, J., Bellemare, M.G., Graves, A., Riedmiller, M., Fidjeland, A.K., Ostrovski, G. and Petersen, S., 2015. Human-level control through deep reinforcement learning. Nature, 518(7540), p.529.\n",
    "https://oregonstate.instructure.com/courses/1719746/files/75234294/download?wrap=1"
   ]
  },
  {
   "cell_type": "code",
   "execution_count": 1,
   "metadata": {},
   "outputs": [],
   "source": [
    "#!pip3 install --user gym[Box2D]\n",
    "#!pip3 install --user torch\n",
    "#!pip3 install --user JSAnimation\n",
    "#!pip3 install --user matplotlib"
   ]
  },
  {
   "cell_type": "markdown",
   "metadata": {},
   "source": [
    "Install the packages for enviroment"
   ]
  },
  {
   "cell_type": "code",
   "execution_count": 2,
   "metadata": {},
   "outputs": [],
   "source": [
    "import gym\n",
    "import torch\n",
    "import time\n",
    "import os\n",
    "import ray\n",
    "import numpy as np\n",
    "\n",
    "from tqdm import tqdm\n",
    "from random import uniform, randint\n",
    "\n",
    "import io\n",
    "import base64\n",
    "from IPython.display import HTML\n",
    "\n",
    "from dqn_model import DQNModel\n",
    "from dqn_model import _DQNModel\n",
    "from memory import ReplayBuffer\n",
    "\n",
    "import matplotlib.pyplot as plt\n",
    "%matplotlib inline\n",
    "\n",
    "FloatTensor = torch.FloatTensor"
   ]
  },
  {
   "cell_type": "markdown",
   "metadata": {},
   "source": [
    "## Useful PyTorch functions"
   ]
  },
  {
   "cell_type": "markdown",
   "metadata": {},
   "source": [
    "### Tensors\n",
    "\n",
    "This assignment will use the PyTorch library for the required neural network functionality. You do not need to be familiar with the details of PyTorch or neural network training. However, the assignment will require dealing with data in the form of tensors.  \n",
    "\n",
    "The mini-batches used to train the PyTorch neural network is expected to be represented as a tensor matrix. The function `FloatTensor` can convert a list or NumPy matrix into a tensor matrix if needed. \n",
    "\n",
    "You can find more infomation here: https://pytorch.org/docs/stable/tensors.html"
   ]
  },
  {
   "cell_type": "code",
   "execution_count": 3,
   "metadata": {},
   "outputs": [
    {
     "name": "stdout",
     "output_type": "stream",
     "text": [
      "[[3, 2, 1], [6, 4, 5], [7, 8, 9]]\n",
      "<class 'torch.Tensor'>\n",
      "tensor([[3., 2., 1.],\n",
      "        [6., 4., 5.],\n",
      "        [7., 8., 9.]])\n",
      "[[9, 5, 13], [0, 1, 2], [2, 0, 1]]\n",
      "<class 'torch.Tensor'>\n",
      "tensor([[ 9.,  5., 13.],\n",
      "        [ 0.,  1.,  2.],\n",
      "        [ 2.,  0.,  1.]])\n"
     ]
    }
   ],
   "source": [
    "# list\n",
    "m = [[3,2,1],[6,4,5],[7,8,9]]\n",
    "print(m)\n",
    "\n",
    "# tensor matrix\n",
    "m_tensor = FloatTensor(m)\n",
    "print(type(m_tensor))\n",
    "print(m_tensor)\n",
    "\n",
    "\n",
    "l = [[9,5,13],[0,1,2],[2,0,1]]\n",
    "print(l)\n",
    "\n",
    "# tensor matrix\n",
    "l_tensor = FloatTensor(l)\n",
    "print(type(l_tensor))\n",
    "print(l_tensor)"
   ]
  },
  {
   "cell_type": "markdown",
   "metadata": {},
   "source": [
    "### Tensor.max()\n",
    "Once you have a tenosr maxtrix, you can use torch.max(m_tensor, dim) to get the max value and max index corresponding to the dimension you choose.\n",
    "```\n",
    ">>> a = torch.randn(4, 4)\n",
    ">>> a\n",
    "tensor([[-1.2360, -0.2942, -0.1222,  0.8475],\n",
    "        [ 1.1949, -1.1127, -2.2379, -0.6702],\n",
    "        [ 1.5717, -0.9207,  0.1297, -1.8768],\n",
    "        [-0.6172,  1.0036, -0.6060, -0.2432]])\n",
    ">>> torch.max(a, 1)\n",
    "torch.return_types.max(values=tensor([0.8475, 1.1949, 1.5717, 1.0036]), indices=tensor([3, 0, 0, 1]))\n",
    "```\n",
    "You can find more infomation here: https://pytorch.org/docs/stable/torch.html#torch.max"
   ]
  },
  {
   "cell_type": "code",
   "execution_count": 4,
   "metadata": {},
   "outputs": [
    {
     "name": "stdout",
     "output_type": "stream",
     "text": [
      "tensor([3., 6., 9.]) tensor([0, 0, 2])\n",
      "torch.return_types.max(\n",
      "values=tensor(9.),\n",
      "indices=tensor(2))\n"
     ]
    }
   ],
   "source": [
    "max_value, index = torch.max(m_tensor, dim = 1)\n",
    "print(max_value, index)\n",
    "print(torch.max(max_value, dim = 0))"
   ]
  },
  {
   "cell_type": "markdown",
   "metadata": {},
   "source": [
    "## Initialize Environment\n",
    "### CartPole-v0:  \n",
    "CartPole is a classic control task that is often used as an introductory reinforcement learning benchmark. The environment involves controlling a 2d cart that can move in either the left or right direction on a frictionless track. A pole is attached to the cart via an unactuated joint. The system is controlled by applying a force of +1 or -1 to the cart. The pendulum starts upright, and the goal is to prevent it from falling over. A reward of +1 is provided for every timestep that the pole remains upright. The episode ends when the pole is more than 15 degrees from vertical, or the cart moves more than 2.4 units from the center.  \n",
    "(You can find more infomation by this Link: https://gym.openai.com/envs/CartPole-v0/)  \n",
    "  \n"
   ]
  },
  {
   "cell_type": "code",
   "execution_count": 5,
   "metadata": {},
   "outputs": [],
   "source": [
    "# Set the Env name and action space for CartPole\n",
    "ENV_NAME = 'CartPole-v0'\n",
    "# Move left, Move right\n",
    "ACTION_DICT = {\n",
    "    \"LEFT\": 0,\n",
    "    \"RIGHT\":1\n",
    "}\n",
    "# Register the environment\n",
    "env_CartPole = gym.make(ENV_NAME)"
   ]
  },
  {
   "cell_type": "code",
   "execution_count": 6,
   "metadata": {},
   "outputs": [],
   "source": [
    "# Set result saveing floder\n",
    "result_floder = ENV_NAME\n",
    "result_file = ENV_NAME + \"/results.txt\"\n",
    "if not os.path.isdir(result_floder):\n",
    "    os.mkdir(result_floder)"
   ]
  },
  {
   "cell_type": "markdown",
   "metadata": {},
   "source": [
    "## Helper Function\n",
    "Plot results."
   ]
  },
  {
   "cell_type": "code",
   "execution_count": 7,
   "metadata": {},
   "outputs": [],
   "source": [
    "def plot_result(total_rewards ,learning_num, legend):\n",
    "    print(\"\\nLearning Performance:\\n\")\n",
    "    episodes = []\n",
    "    for i in range(len(total_rewards)):\n",
    "        episodes.append(i * learning_num + 1)\n",
    "        \n",
    "    plt.figure(num = 1)\n",
    "    fig, ax = plt.subplots()\n",
    "    plt.plot(episodes, total_rewards)\n",
    "    plt.title('performance')\n",
    "    plt.legend(legend)\n",
    "    plt.xlabel(\"Episodes\")\n",
    "    plt.ylabel(\"total rewards\")\n",
    "    plt.show()"
   ]
  },
  {
   "cell_type": "markdown",
   "metadata": {},
   "source": [
    "## Hyperparams\n",
    "When function approximation is involves, especially neural networks, additional hyper parameters are inroduced and setting the parameters can require experience. Below is a list of the hyperparameters used in this assignment and values for the parameters that have worked well for a basic DQN implementation. You will adjust these values for particular parts of the assignment. For example, experiments that do not use the target network will set 'use_target_model' to False. \n",
    "\n",
    "You can find the more infomation about these hyperparameters in the notation of DQN_agent.init() function."
   ]
  },
  {
   "cell_type": "code",
   "execution_count": 8,
   "metadata": {},
   "outputs": [],
   "source": [
    "hyperparams_CartPole = {\n",
    "    'epsilon_decay_steps' : 100000, \n",
    "    'final_epsilon' : 0.1,\n",
    "    'batch_size' : 32, \n",
    "    'update_steps' : 10, \n",
    "    'memory_size' : 2000, \n",
    "    'beta' : 0.99, \n",
    "    'model_replace_freq' : 2000,\n",
    "    'learning_rate' : 0.0003,\n",
    "    'use_target_model': True\n",
    "}"
   ]
  },
  {
   "cell_type": "markdown",
   "metadata": {},
   "source": [
    "***\n",
    "# Part 1: Non-distributed DQN\n",
    "\n",
    "In this part, you will complete an implementation of DQN and run experiments on the CartPole environment from OpenAI Gym.  \n",
    "Note that OpenAI Gym has many other environments that use the same interface---so this experience will allow the curious student to easily explore these algorithms more widely. \n",
    "\n",
    "Below you need to fill in the missing code for the DQN implementation. \n",
    "\n",
    "The Run function below can then be used to generate learning curves. \n",
    "\n",
    "You should conduct the following experiments involving different features of DQN. \n",
    "\n",
    "1. DQN without a replay buffer and without a target network. This is just standard Q-learning with a function approximator.\n",
    "    The corresponding parameters are: memory_size = 1, update_steps = 1, batch_size = 1, use_target_model = False  \n",
    "    \n",
    "2. DQN without a replay buffer (but including the target network).   \n",
    "    The corresponding parameters are: memory_size = 1, update_steps = 1, batch_size = 1, use_target_model = True  \n",
    "\n",
    "3. DQN with a replay buffer, but without a target network.   \n",
    "    Here you set use_target_model = False and otherwise set the replay memory parameters to the above suggested values \n",
    "   \n",
    "4. Full DQN\n",
    "\n",
    "For each experiment, record the parameters that you used, plot the resulting learning curves, and give a summary of your observations regarding the differences you observed. \n",
    "***\n"
   ]
  },
  {
   "cell_type": "markdown",
   "metadata": {},
   "source": [
    "\n",
    "## DQN Agent\n",
    "\n",
    "The full DQN agent involves a number of functions, the neural network, and the replay memory. Interfaces to a neural network model and memory are provided. \n",
    "\n",
    "Some useful information is below:   \n",
    "- Neural Network Model: The network is used to represent the Q-function $Q(s,a)$. It takes a state $s$ as input and returns a vector of Q-values, one value for each action. The following interface functions are used for predicting Q-values, actions, and updating the neural network model parameters. \n",
    "    1. Model.predict(state) --- Returns the action that has the best Q-value in 'state'.\n",
    "    2. Model.predict_batch(states) --- This is used to predict both the Q-values and best actions for a batch of states. Given a batch of states, the function returns: 1) 'best_actions' a vector containing the best action for each input state, and 2) 'q_values' a matrix where each row gives the Q-value for all actions of each state (one row per state).   \n",
    "    3. Model.fit(q_values, q_target) --- It is used to update the neural network (via back-propagation). 'q_values' is a vector containing the Q-value predictions for a list of state-action pairs (e.g. from a batch of experience tuples). 'q_target' is a vector containing target values that we would like the correspoinding predictions to get closer to. This function updates the network in a way that the network predictions will ideally be closer to the targets. There is no return value.  \n",
    "    4. Model.replace(another_model) --- It takes another model as input, and replace the weight of itself by the input model.\n",
    "- Memory: This is the buffer used to store experience tuples for experience replay.\n",
    "    1. Memory.add(state, action, reward, state', is_terminal) --- It takes one example as input, and store it into its storage.  \n",
    "    2. Memory.sample(batch_size) --- It takes a batch_size int number as input. Return 'batch_size' number of randomly selected examples from the current memory buffer. The batch takes the form (states, actions, rewards, states', is_terminals) with each component being a vector/list of size equal to batch_size. "
   ]
  },
  {
   "cell_type": "code",
   "execution_count": 9,
   "metadata": {},
   "outputs": [],
   "source": [
    "class DQN_agent(object):\n",
    "    def __init__(self, env, hyper_params, action_space = len(ACTION_DICT)):\n",
    "        \n",
    "        self.env = env\n",
    "        self.max_episode_steps = env._max_episode_steps\n",
    "        \n",
    "        \"\"\"\n",
    "            beta: The discounted factor of Q-value function\n",
    "            (epsilon): The explore or exploit policy epsilon. \n",
    "            initial_epsilon: When the 'steps' is 0, the epsilon is initial_epsilon, 1\n",
    "            final_epsilon: After the number of 'steps' reach 'epsilon_decay_steps', \n",
    "                The epsilon set to the 'final_epsilon' determinately.\n",
    "            epsilon_decay_steps: The epsilon will decrease linearly along with the steps from 0 to 'epsilon_decay_steps'.\n",
    "        \"\"\"\n",
    "        self.beta = hyper_params['beta']\n",
    "        self.initial_epsilon = 1\n",
    "        self.final_epsilon = hyper_params['final_epsilon']\n",
    "        self.epsilon_decay_steps = hyper_params['epsilon_decay_steps']\n",
    "\n",
    "        \"\"\"\n",
    "            episode: Record training episode\n",
    "            steps: Add 1 when predicting an action\n",
    "            learning: The trigger of agent learning. It is on while training agent. It is off while testing agent.\n",
    "            action_space: The action space of the current environment, e.g 2.\n",
    "        \"\"\"\n",
    "        self.episode = 0\n",
    "        self.steps = 0\n",
    "        self.best_reward = 0\n",
    "        self.learning = True\n",
    "        self.action_space = action_space\n",
    "\n",
    "        \"\"\"\n",
    "            input_len The input length of the neural network. It equals to the length of the state vector.\n",
    "            output_len: The output length of the neural network. It is equal to the action space.\n",
    "            eval_model: The model for predicting action for the agent.\n",
    "            target_model: The model for calculating Q-value of next_state to update 'eval_model'.\n",
    "            use_target_model: Trigger for turn 'target_model' on/off\n",
    "        \"\"\"\n",
    "        state = env.reset()\n",
    "        input_len = len(state)\n",
    "        output_len = action_space\n",
    "        self.eval_model = DQNModel(input_len, output_len, learning_rate = hyper_params['learning_rate'])\n",
    "        self.use_target_model = hyper_params['use_target_model']\n",
    "        if self.use_target_model:\n",
    "            self.target_model = DQNModel(input_len, output_len)\n",
    "#         memory: Store and sample experience replay.\n",
    "        self.memory = ReplayBuffer(hyper_params['memory_size'])\n",
    "        \n",
    "        \"\"\"\n",
    "            batch_size: Mini batch size for training model.\n",
    "            update_steps: The frequence of traning model\n",
    "            model_replace_freq: The frequence of replacing 'target_model' by 'eval_model'\n",
    "        \"\"\"\n",
    "        self.batch_size = hyper_params['batch_size']\n",
    "        self.update_steps = hyper_params['update_steps']\n",
    "        self.model_replace_freq = hyper_params['model_replace_freq']\n",
    "        \n",
    "    # Linear decrease function for epsilon\n",
    "    def linear_decrease(self, initial_value, final_value, curr_steps, final_decay_steps):\n",
    "        decay_rate = curr_steps / final_decay_steps\n",
    "        if decay_rate > 1:\n",
    "            decay_rate = 1\n",
    "        return initial_value - (initial_value - final_value) * decay_rate\n",
    "    \n",
    "    def explore_or_exploit_policy(self, state):\n",
    "        p = uniform(0, 1)\n",
    "        # Get decreased epsilon\n",
    "        epsilon = self.linear_decrease(self.initial_epsilon, \n",
    "                               self.final_epsilon,\n",
    "                               self.steps,\n",
    "                               self.epsilon_decay_steps)\n",
    "        \n",
    "        if p < epsilon:\n",
    "            #return action\n",
    "            return randint(0, self.action_space - 1)\n",
    "        else:\n",
    "            #return action\n",
    "            return self.greedy_policy(state)\n",
    "        \n",
    "    def greedy_policy(self, state):\n",
    "        return self.eval_model.predict(state)\n",
    "    \n",
    "    # This next function will be called in the main RL loop to update the neural network model given a batch of experience\n",
    "    # 1) Sample a 'batch_size' batch of experiences from the memory.\n",
    "    # 2) Predict the Q-value from the 'eval_model' based on (states, actions)\n",
    "    # 3) Predict the Q-value from the 'target_model' base on (next_states), and take the max of each Q-value vector, Q_max\n",
    "    # 4) If is_terminal == 1, q_target = reward, otherwise q_target = reward + discounted factor * Q_max\n",
    "    # 5) Call fit() to do the back-propagation for 'eval_model'.\n",
    "    def update_batch(self):\n",
    "        if len(self.memory) < self.batch_size or self.steps % self.update_steps != 0:\n",
    "            return\n",
    "\n",
    "        batch = self.memory.sample(self.batch_size)\n",
    "\n",
    "        (states, actions, reward, next_states,\n",
    "         is_terminal) = batch\n",
    "        \n",
    "        states = states\n",
    "        next_states = next_states\n",
    "        terminal = FloatTensor([1 if t else 0 for t in is_terminal])\n",
    "        reward = FloatTensor(reward)\n",
    "        batch_index = torch.arange(self.batch_size,\n",
    "                                   dtype=torch.long)\n",
    "        \n",
    "        # Current Q Values\n",
    "        _, q_values = self.eval_model.predict_batch(states)\n",
    "        q_values = q_values[batch_index, actions]\n",
    "        \n",
    "        # Calculate target\n",
    "        if self.use_target_model:\n",
    "            actions, q_next = self.target_model.predict_batch(next_states)\n",
    "        else:\n",
    "            actions, q_next = self.eval_model.predict_batch(next_states)\n",
    "            \n",
    "        q_max, indices = torch.max(q_next, dim = 1)\n",
    "            \n",
    "        #INSERT YOUR CODE HERE --- neet to compute 'q_targets' used below\n",
    "        q_targets = []\n",
    "        for i, is_term in enumerate(terminal):\n",
    "            if is_term == 1:\n",
    "                q_targets.append(reward[i])\n",
    "            else:\n",
    "                q_targets.append(reward[i] + self.beta * q_max[i])\n",
    "        \n",
    "        q_targets_tensor = FloatTensor(q_targets)\n",
    "            \n",
    "        # update model\n",
    "        self.eval_model.fit(q_values, q_targets_tensor)\n",
    "    \n",
    "    def learn_and_evaluate(self, training_episodes, test_interval):\n",
    "        test_number = training_episodes // test_interval\n",
    "        all_results = []\n",
    "        \n",
    "        for i in range(test_number):\n",
    "            # learn\n",
    "            self.learn(test_interval)\n",
    "            \n",
    "            # evaluate\n",
    "            avg_reward = self.evaluate()\n",
    "            all_results.append(avg_reward)\n",
    "            \n",
    "        return all_results\n",
    "    \n",
    "    def learn(self, test_interval):\n",
    "        for episode in tqdm(range(test_interval), desc=\"Training\"):\n",
    "            state = self.env.reset()\n",
    "            done = False\n",
    "            steps = 0\n",
    "            self.episode += 1\n",
    "            \n",
    "            if self.use_target_model == True:\n",
    "                while steps < self.max_episode_steps and not done:\n",
    "                    #INSERT YOUR CODE HERE\n",
    "                    # add experience from explore-exploit policy to memory\n",
    "                    # update the model every 'update_steps' of experience\n",
    "                    # update the target network (if the target network is being used) every 'model_replace_freq' of experiences \n",
    "                    action = self.explore_or_exploit_policy(state)\n",
    "                    obs_state, reward, done, _ = self.env.step(action)\n",
    "                    self.memory.add(state, action, reward, obs_state, done)\n",
    "\n",
    "                    self.steps += 1\n",
    "                    steps += 1\n",
    "\n",
    "                    if self.steps % self.update_steps == 0:\n",
    "                        self.update_batch()\n",
    "\n",
    "                    if self.steps % self.model_replace_freq == 0:\n",
    "                        self.target_model.replace(self.eval_model)\n",
    "                    state = obs_state\n",
    "            \n",
    "            else:\n",
    "                while steps < self.max_episode_steps and not done:\n",
    "                    #INSERT YOUR CODE HERE\n",
    "                    # add experience from explore-exploit policy to memory\n",
    "                    # update the model every 'update_steps' of experience\n",
    "                    # update the target network (if the target network is being used) every 'model_replace_freq' of experiences \n",
    "                    action = self.explore_or_exploit_policy(state)\n",
    "                    obs_state, reward, done, _ = self.env.step(action)\n",
    "                    self.memory.add(state, action, reward, obs_state, done)\n",
    "\n",
    "                    self.steps += 1\n",
    "                    steps += 1\n",
    "\n",
    "                    if self.steps % self.update_steps == 0:\n",
    "                        self.update_batch()\n",
    "                    state = obs_state\n",
    "                \n",
    "                \n",
    "    def evaluate(self, trials = 30):\n",
    "        total_reward = 0\n",
    "        for _ in tqdm(range(trials), desc=\"Evaluating\"):\n",
    "            state = self.env.reset()\n",
    "            done = False\n",
    "            steps = 0\n",
    "\n",
    "            while steps < self.max_episode_steps and not done:\n",
    "                steps += 1\n",
    "                action = self.greedy_policy(state)\n",
    "                state, reward, done, _ = self.env.step(action)\n",
    "                total_reward += reward\n",
    "\n",
    "        avg_reward = total_reward / trials\n",
    "        print(avg_reward)\n",
    "        f = open(result_file, \"a+\")\n",
    "        f.write(str(avg_reward) + \"\\n\")\n",
    "        f.close()\n",
    "        if avg_reward >= self.best_reward:\n",
    "            self.best_reward = avg_reward\n",
    "            self.save_model()\n",
    "        return avg_reward\n",
    "\n",
    "    # save model\n",
    "    def save_model(self):\n",
    "        self.eval_model.save(result_floder + '/best_model.pt')\n",
    "        \n",
    "    # load model\n",
    "    def load_model(self):\n",
    "        self.eval_model.load(result_floder + '/best_model.pt')"
   ]
  },
  {
   "cell_type": "markdown",
   "metadata": {},
   "source": [
    "## Run function"
   ]
  },
  {
   "cell_type": "code",
   "execution_count": 10,
   "metadata": {},
   "outputs": [
    {
     "name": "stderr",
     "output_type": "stream",
     "text": [
      "Training: 100%|██████████| 50/50 [00:01<00:00, 33.54it/s]\n",
      "Evaluating: 100%|██████████| 30/30 [00:00<00:00, 693.99it/s]\n",
      "Training:   8%|▊         | 4/50 [00:00<00:01, 37.60it/s]"
     ]
    },
    {
     "name": "stdout",
     "output_type": "stream",
     "text": [
      "10.066666666666666\n"
     ]
    },
    {
     "name": "stderr",
     "output_type": "stream",
     "text": [
      "Training: 100%|██████████| 50/50 [00:01<00:00, 36.45it/s]\n",
      "Evaluating: 100%|██████████| 30/30 [00:00<00:00, 778.93it/s]\n",
      "Training:  10%|█         | 5/50 [00:00<00:01, 41.04it/s]"
     ]
    },
    {
     "name": "stdout",
     "output_type": "stream",
     "text": [
      "9.3\n"
     ]
    },
    {
     "name": "stderr",
     "output_type": "stream",
     "text": [
      "Training: 100%|██████████| 50/50 [00:01<00:00, 33.48it/s]\n",
      "Evaluating: 100%|██████████| 30/30 [00:00<00:00, 788.21it/s]\n",
      "Training:  10%|█         | 5/50 [00:00<00:01, 42.03it/s]"
     ]
    },
    {
     "name": "stdout",
     "output_type": "stream",
     "text": [
      "9.166666666666666\n"
     ]
    },
    {
     "name": "stderr",
     "output_type": "stream",
     "text": [
      "Training: 100%|██████████| 50/50 [00:01<00:00, 36.66it/s]\n",
      "Evaluating: 100%|██████████| 30/30 [00:00<00:00, 475.14it/s]\n",
      "Training:   6%|▌         | 3/50 [00:00<00:02, 22.78it/s]"
     ]
    },
    {
     "name": "stdout",
     "output_type": "stream",
     "text": [
      "9.366666666666667\n"
     ]
    },
    {
     "name": "stderr",
     "output_type": "stream",
     "text": [
      "Training: 100%|██████████| 50/50 [00:01<00:00, 33.37it/s]\n",
      "Evaluating: 100%|██████████| 30/30 [00:00<00:00, 612.38it/s]\n",
      "Training:   4%|▍         | 2/50 [00:00<00:02, 16.24it/s]"
     ]
    },
    {
     "name": "stdout",
     "output_type": "stream",
     "text": [
      "9.1\n"
     ]
    },
    {
     "name": "stderr",
     "output_type": "stream",
     "text": [
      "Training: 100%|██████████| 50/50 [00:02<00:00, 24.42it/s]\n",
      "Evaluating: 100%|██████████| 30/30 [00:00<00:00, 614.86it/s]\n",
      "Training:   8%|▊         | 4/50 [00:00<00:01, 38.92it/s]"
     ]
    },
    {
     "name": "stdout",
     "output_type": "stream",
     "text": [
      "9.2\n"
     ]
    },
    {
     "name": "stderr",
     "output_type": "stream",
     "text": [
      "Training: 100%|██████████| 50/50 [00:01<00:00, 33.49it/s]\n",
      "Evaluating: 100%|██████████| 30/30 [00:00<00:00, 596.32it/s]\n",
      "Training:   8%|▊         | 4/50 [00:00<00:01, 35.02it/s]"
     ]
    },
    {
     "name": "stdout",
     "output_type": "stream",
     "text": [
      "9.166666666666666\n"
     ]
    },
    {
     "name": "stderr",
     "output_type": "stream",
     "text": [
      "Training: 100%|██████████| 50/50 [00:01<00:00, 28.52it/s]\n",
      "Evaluating: 100%|██████████| 30/30 [00:00<00:00, 609.77it/s]\n",
      "Training:   8%|▊         | 4/50 [00:00<00:01, 33.62it/s]"
     ]
    },
    {
     "name": "stdout",
     "output_type": "stream",
     "text": [
      "9.433333333333334\n"
     ]
    },
    {
     "name": "stderr",
     "output_type": "stream",
     "text": [
      "Training: 100%|██████████| 50/50 [00:01<00:00, 27.36it/s]\n",
      "Evaluating: 100%|██████████| 30/30 [00:00<00:00, 591.58it/s]\n",
      "Training:   6%|▌         | 3/50 [00:00<00:01, 29.53it/s]"
     ]
    },
    {
     "name": "stdout",
     "output_type": "stream",
     "text": [
      "9.233333333333333\n"
     ]
    },
    {
     "name": "stderr",
     "output_type": "stream",
     "text": [
      "Training: 100%|██████████| 50/50 [00:01<00:00, 30.42it/s]\n",
      "Evaluating: 100%|██████████| 30/30 [00:00<00:00, 597.11it/s]\n",
      "Training:   4%|▍         | 2/50 [00:00<00:02, 18.77it/s]"
     ]
    },
    {
     "name": "stdout",
     "output_type": "stream",
     "text": [
      "9.333333333333334\n"
     ]
    },
    {
     "name": "stderr",
     "output_type": "stream",
     "text": [
      "Training: 100%|██████████| 50/50 [00:02<00:00, 22.35it/s]\n",
      "Evaluating: 100%|██████████| 30/30 [00:00<00:00, 588.65it/s]\n",
      "Training:   4%|▍         | 2/50 [00:00<00:02, 19.42it/s]"
     ]
    },
    {
     "name": "stdout",
     "output_type": "stream",
     "text": [
      "9.3\n"
     ]
    },
    {
     "name": "stderr",
     "output_type": "stream",
     "text": [
      "Training: 100%|██████████| 50/50 [00:01<00:00, 36.70it/s]\n",
      "Evaluating: 100%|██████████| 30/30 [00:00<00:00, 716.27it/s]\n",
      "Training:   8%|▊         | 4/50 [00:00<00:01, 37.07it/s]"
     ]
    },
    {
     "name": "stdout",
     "output_type": "stream",
     "text": [
      "9.4\n"
     ]
    },
    {
     "name": "stderr",
     "output_type": "stream",
     "text": [
      "Training: 100%|██████████| 50/50 [00:01<00:00, 36.09it/s]\n",
      "Evaluating: 100%|██████████| 30/30 [00:00<00:00, 769.57it/s]\n",
      "Training:  10%|█         | 5/50 [00:00<00:01, 44.53it/s]"
     ]
    },
    {
     "name": "stdout",
     "output_type": "stream",
     "text": [
      "9.2\n"
     ]
    },
    {
     "name": "stderr",
     "output_type": "stream",
     "text": [
      "Training: 100%|██████████| 50/50 [00:01<00:00, 38.38it/s]\n",
      "Evaluating: 100%|██████████| 30/30 [00:00<00:00, 767.76it/s]\n",
      "Training:   6%|▌         | 3/50 [00:00<00:02, 20.22it/s]"
     ]
    },
    {
     "name": "stdout",
     "output_type": "stream",
     "text": [
      "9.166666666666666\n"
     ]
    },
    {
     "name": "stderr",
     "output_type": "stream",
     "text": [
      "Training: 100%|██████████| 50/50 [00:01<00:00, 34.49it/s]\n",
      "Evaluating: 100%|██████████| 30/30 [00:00<00:00, 753.76it/s]\n",
      "Training:  10%|█         | 5/50 [00:00<00:01, 32.13it/s]"
     ]
    },
    {
     "name": "stdout",
     "output_type": "stream",
     "text": [
      "9.333333333333334\n"
     ]
    },
    {
     "name": "stderr",
     "output_type": "stream",
     "text": [
      "Training: 100%|██████████| 50/50 [00:01<00:00, 35.99it/s]\n",
      "Evaluating: 100%|██████████| 30/30 [00:00<00:00, 94.54it/s]\n",
      "Training:   6%|▌         | 3/50 [00:00<00:02, 22.40it/s]"
     ]
    },
    {
     "name": "stdout",
     "output_type": "stream",
     "text": [
      "80.9\n"
     ]
    },
    {
     "name": "stderr",
     "output_type": "stream",
     "text": [
      "Training: 100%|██████████| 50/50 [00:01<00:00, 30.45it/s]\n",
      "Evaluating: 100%|██████████| 30/30 [00:00<00:00, 581.51it/s]\n",
      "Training:   8%|▊         | 4/50 [00:00<00:01, 31.61it/s]"
     ]
    },
    {
     "name": "stdout",
     "output_type": "stream",
     "text": [
      "9.3\n"
     ]
    },
    {
     "name": "stderr",
     "output_type": "stream",
     "text": [
      "Training: 100%|██████████| 50/50 [00:01<00:00, 29.90it/s]\n",
      "Evaluating: 100%|██████████| 30/30 [00:00<00:00, 42.21it/s]\n",
      "Training:   6%|▌         | 3/50 [00:00<00:02, 21.05it/s]"
     ]
    },
    {
     "name": "stdout",
     "output_type": "stream",
     "text": [
      "138.06666666666666\n"
     ]
    },
    {
     "name": "stderr",
     "output_type": "stream",
     "text": [
      "Training: 100%|██████████| 50/50 [00:01<00:00, 29.62it/s]\n",
      "Evaluating: 100%|██████████| 30/30 [00:00<00:00, 619.88it/s]\n",
      "Training:  10%|█         | 5/50 [00:00<00:01, 41.08it/s]"
     ]
    },
    {
     "name": "stdout",
     "output_type": "stream",
     "text": [
      "9.233333333333333\n"
     ]
    },
    {
     "name": "stderr",
     "output_type": "stream",
     "text": [
      "Training: 100%|██████████| 50/50 [00:01<00:00, 27.42it/s]\n",
      "Evaluating: 100%|██████████| 30/30 [00:00<00:00, 51.02it/s]\n",
      "Training:   4%|▍         | 2/50 [00:00<00:02, 16.37it/s]"
     ]
    },
    {
     "name": "stdout",
     "output_type": "stream",
     "text": [
      "117.66666666666667\n"
     ]
    },
    {
     "name": "stderr",
     "output_type": "stream",
     "text": [
      "Training: 100%|██████████| 50/50 [00:01<00:00, 32.50it/s]\n",
      "Evaluating: 100%|██████████| 30/30 [00:00<00:00, 495.86it/s]\n",
      "Training:   4%|▍         | 2/50 [00:00<00:02, 16.71it/s]"
     ]
    },
    {
     "name": "stdout",
     "output_type": "stream",
     "text": [
      "14.933333333333334\n"
     ]
    },
    {
     "name": "stderr",
     "output_type": "stream",
     "text": [
      "Training: 100%|██████████| 50/50 [00:01<00:00, 27.10it/s]\n",
      "Evaluating: 100%|██████████| 30/30 [00:00<00:00, 615.76it/s]\n",
      "Training:   8%|▊         | 4/50 [00:00<00:01, 31.97it/s]"
     ]
    },
    {
     "name": "stdout",
     "output_type": "stream",
     "text": [
      "11.266666666666667\n"
     ]
    },
    {
     "name": "stderr",
     "output_type": "stream",
     "text": [
      "Training: 100%|██████████| 50/50 [00:01<00:00, 29.10it/s]\n",
      "Evaluating: 100%|██████████| 30/30 [00:00<00:00, 335.15it/s]\n",
      "Training:   4%|▍         | 2/50 [00:00<00:03, 13.32it/s]"
     ]
    },
    {
     "name": "stdout",
     "output_type": "stream",
     "text": [
      "21.366666666666667\n"
     ]
    },
    {
     "name": "stderr",
     "output_type": "stream",
     "text": [
      "Training: 100%|██████████| 50/50 [00:03<00:00, 16.18it/s]\n",
      "Evaluating: 100%|██████████| 30/30 [00:00<00:00, 63.51it/s]\n",
      "Training:   4%|▍         | 2/50 [00:00<00:02, 18.90it/s]"
     ]
    },
    {
     "name": "stdout",
     "output_type": "stream",
     "text": [
      "94.06666666666666\n"
     ]
    },
    {
     "name": "stderr",
     "output_type": "stream",
     "text": [
      "Training: 100%|██████████| 50/50 [00:02<00:00, 19.58it/s]\n",
      "Evaluating: 100%|██████████| 30/30 [00:00<00:00, 61.67it/s]\n",
      "Training:   8%|▊         | 4/50 [00:00<00:01, 37.91it/s]"
     ]
    },
    {
     "name": "stdout",
     "output_type": "stream",
     "text": [
      "96.73333333333333\n"
     ]
    },
    {
     "name": "stderr",
     "output_type": "stream",
     "text": [
      "Training: 100%|██████████| 50/50 [00:02<00:00, 18.57it/s]\n",
      "Evaluating: 100%|██████████| 30/30 [00:00<00:00, 38.60it/s]\n",
      "Training:   0%|          | 0/50 [00:00<?, ?it/s]"
     ]
    },
    {
     "name": "stdout",
     "output_type": "stream",
     "text": [
      "177.83333333333334\n"
     ]
    },
    {
     "name": "stderr",
     "output_type": "stream",
     "text": [
      "Training: 100%|██████████| 50/50 [00:03<00:00, 15.58it/s]\n",
      "Evaluating: 100%|██████████| 30/30 [00:00<00:00, 38.60it/s]\n",
      "Training:   2%|▏         | 1/50 [00:00<00:07,  6.51it/s]"
     ]
    },
    {
     "name": "stdout",
     "output_type": "stream",
     "text": [
      "200.0\n"
     ]
    },
    {
     "name": "stderr",
     "output_type": "stream",
     "text": [
      "Training: 100%|██████████| 50/50 [00:04<00:00, 12.27it/s]\n",
      "Evaluating: 100%|██████████| 30/30 [00:00<00:00, 38.07it/s]\n",
      "Training:   2%|▏         | 1/50 [00:00<00:06,  8.02it/s]"
     ]
    },
    {
     "name": "stdout",
     "output_type": "stream",
     "text": [
      "200.0\n"
     ]
    },
    {
     "name": "stderr",
     "output_type": "stream",
     "text": [
      "Training: 100%|██████████| 50/50 [00:03<00:00, 15.37it/s]\n",
      "Evaluating: 100%|██████████| 30/30 [00:00<00:00, 43.68it/s]\n",
      "Training:   6%|▌         | 3/50 [00:00<00:02, 21.19it/s]"
     ]
    },
    {
     "name": "stdout",
     "output_type": "stream",
     "text": [
      "176.43333333333334\n"
     ]
    },
    {
     "name": "stderr",
     "output_type": "stream",
     "text": [
      "Training: 100%|██████████| 50/50 [00:03<00:00, 16.41it/s]\n",
      "Evaluating: 100%|██████████| 30/30 [00:00<00:00, 65.41it/s]\n",
      "Training:   2%|▏         | 1/50 [00:00<00:06,  7.87it/s]"
     ]
    },
    {
     "name": "stdout",
     "output_type": "stream",
     "text": [
      "116.86666666666666\n"
     ]
    },
    {
     "name": "stderr",
     "output_type": "stream",
     "text": [
      "Training: 100%|██████████| 50/50 [00:03<00:00, 16.45it/s]\n",
      "Evaluating: 100%|██████████| 30/30 [00:00<00:00, 90.05it/s]\n",
      "Training:   4%|▍         | 2/50 [00:00<00:03, 12.74it/s]"
     ]
    },
    {
     "name": "stdout",
     "output_type": "stream",
     "text": [
      "80.73333333333333\n"
     ]
    },
    {
     "name": "stderr",
     "output_type": "stream",
     "text": [
      "Training: 100%|██████████| 50/50 [00:02<00:00, 20.05it/s]\n",
      "Evaluating: 100%|██████████| 30/30 [00:00<00:00, 101.59it/s]\n",
      "Training:   8%|▊         | 4/50 [00:00<00:01, 38.46it/s]"
     ]
    },
    {
     "name": "stdout",
     "output_type": "stream",
     "text": [
      "75.83333333333333\n"
     ]
    },
    {
     "name": "stderr",
     "output_type": "stream",
     "text": [
      "Training: 100%|██████████| 50/50 [00:02<00:00, 18.62it/s]\n",
      "Evaluating: 100%|██████████| 30/30 [00:00<00:00, 107.61it/s]\n",
      "Training:   8%|▊         | 4/50 [00:00<00:02, 21.20it/s]"
     ]
    },
    {
     "name": "stdout",
     "output_type": "stream",
     "text": [
      "71.16666666666667\n"
     ]
    },
    {
     "name": "stderr",
     "output_type": "stream",
     "text": [
      "Training: 100%|██████████| 50/50 [00:02<00:00, 19.09it/s]\n",
      "Evaluating: 100%|██████████| 30/30 [00:00<00:00, 69.14it/s]\n",
      "Training:   4%|▍         | 2/50 [00:00<00:03, 15.86it/s]"
     ]
    },
    {
     "name": "stdout",
     "output_type": "stream",
     "text": [
      "85.63333333333334\n"
     ]
    },
    {
     "name": "stderr",
     "output_type": "stream",
     "text": [
      "Training: 100%|██████████| 50/50 [00:03<00:00, 15.49it/s]\n",
      "Evaluating: 100%|██████████| 30/30 [00:00<00:00, 92.24it/s]\n",
      "Training:   4%|▍         | 2/50 [00:00<00:03, 14.68it/s]"
     ]
    },
    {
     "name": "stdout",
     "output_type": "stream",
     "text": [
      "64.8\n"
     ]
    },
    {
     "name": "stderr",
     "output_type": "stream",
     "text": [
      "Training: 100%|██████████| 50/50 [00:02<00:00, 17.44it/s]\n",
      "Evaluating: 100%|██████████| 30/30 [00:00<00:00, 115.11it/s]\n",
      "Training:   4%|▍         | 2/50 [00:00<00:03, 12.31it/s]"
     ]
    },
    {
     "name": "stdout",
     "output_type": "stream",
     "text": [
      "64.1\n"
     ]
    },
    {
     "name": "stderr",
     "output_type": "stream",
     "text": [
      "Training: 100%|██████████| 50/50 [00:03<00:00, 12.94it/s]\n",
      "Evaluating: 100%|██████████| 30/30 [00:00<00:00, 195.54it/s]\n",
      "Training:   8%|▊         | 4/50 [00:00<00:01, 35.48it/s]"
     ]
    },
    {
     "name": "stdout",
     "output_type": "stream",
     "text": [
      "37.03333333333333\n"
     ]
    },
    {
     "name": "stderr",
     "output_type": "stream",
     "text": [
      "Training: 100%|██████████| 50/50 [00:01<00:00, 34.78it/s]\n",
      "Evaluating: 100%|██████████| 30/30 [00:00<00:00, 313.76it/s]\n",
      "Training:   8%|▊         | 4/50 [00:00<00:01, 36.51it/s]"
     ]
    },
    {
     "name": "stdout",
     "output_type": "stream",
     "text": [
      "22.633333333333333\n"
     ]
    },
    {
     "name": "stderr",
     "output_type": "stream",
     "text": [
      "Training: 100%|██████████| 50/50 [00:02<00:00, 21.22it/s]\n",
      "Evaluating: 100%|██████████| 30/30 [00:00<00:00, 91.74it/s]\n",
      "Training:   4%|▍         | 2/50 [00:00<00:04, 11.20it/s]"
     ]
    },
    {
     "name": "stdout",
     "output_type": "stream",
     "text": [
      "82.9\n"
     ]
    },
    {
     "name": "stderr",
     "output_type": "stream",
     "text": [
      "Training: 100%|██████████| 50/50 [00:03<00:00, 15.24it/s]\n",
      "Evaluating: 100%|██████████| 30/30 [00:00<00:00, 51.20it/s]\n",
      "Training:   6%|▌         | 3/50 [00:00<00:01, 27.98it/s]"
     ]
    },
    {
     "name": "stdout",
     "output_type": "stream",
     "text": [
      "97.16666666666667\n"
     ]
    },
    {
     "name": "stderr",
     "output_type": "stream",
     "text": [
      "Training: 100%|██████████| 50/50 [00:02<00:00, 16.92it/s]\n",
      "Evaluating: 100%|██████████| 30/30 [00:00<00:00, 65.57it/s]\n",
      "Training:   4%|▍         | 2/50 [00:00<00:02, 16.28it/s]"
     ]
    },
    {
     "name": "stdout",
     "output_type": "stream",
     "text": [
      "89.6\n"
     ]
    },
    {
     "name": "stderr",
     "output_type": "stream",
     "text": [
      "Training: 100%|██████████| 50/50 [00:02<00:00, 23.07it/s]\n",
      "Evaluating: 100%|██████████| 30/30 [00:00<00:00, 71.00it/s]\n",
      "Training:   6%|▌         | 3/50 [00:00<00:01, 27.24it/s]"
     ]
    },
    {
     "name": "stdout",
     "output_type": "stream",
     "text": [
      "103.26666666666667\n"
     ]
    },
    {
     "name": "stderr",
     "output_type": "stream",
     "text": [
      "Training: 100%|██████████| 50/50 [00:02<00:00, 20.79it/s]\n",
      "Evaluating: 100%|██████████| 30/30 [00:00<00:00, 51.69it/s]\n",
      "Training:   2%|▏         | 1/50 [00:00<00:09,  5.22it/s]"
     ]
    },
    {
     "name": "stdout",
     "output_type": "stream",
     "text": [
      "144.06666666666666\n"
     ]
    },
    {
     "name": "stderr",
     "output_type": "stream",
     "text": [
      "Training: 100%|██████████| 50/50 [00:02<00:00, 17.77it/s]\n",
      "Evaluating: 100%|██████████| 30/30 [00:00<00:00, 605.66it/s]\n",
      "Training:   0%|          | 0/50 [00:00<?, ?it/s]"
     ]
    },
    {
     "name": "stdout",
     "output_type": "stream",
     "text": [
      "9.566666666666666\n"
     ]
    },
    {
     "name": "stderr",
     "output_type": "stream",
     "text": [
      "Training: 100%|██████████| 50/50 [00:04<00:00, 10.45it/s]\n",
      "Evaluating: 100%|██████████| 30/30 [00:00<00:00, 37.27it/s]\n",
      "Training:   0%|          | 0/50 [00:00<?, ?it/s]"
     ]
    },
    {
     "name": "stdout",
     "output_type": "stream",
     "text": [
      "200.0\n"
     ]
    },
    {
     "name": "stderr",
     "output_type": "stream",
     "text": [
      "Training: 100%|██████████| 50/50 [00:07<00:00,  6.41it/s]\n",
      "Evaluating: 100%|██████████| 30/30 [00:00<00:00, 169.22it/s]\n",
      "Training:   4%|▍         | 2/50 [00:00<00:02, 19.42it/s]"
     ]
    },
    {
     "name": "stdout",
     "output_type": "stream",
     "text": [
      "43.03333333333333\n"
     ]
    },
    {
     "name": "stderr",
     "output_type": "stream",
     "text": [
      "Training: 100%|██████████| 50/50 [00:07<00:00,  6.33it/s]\n",
      "Evaluating: 100%|██████████| 30/30 [00:00<00:00, 37.58it/s]\n",
      "Training:   2%|▏         | 1/50 [00:00<00:08,  5.86it/s]"
     ]
    },
    {
     "name": "stdout",
     "output_type": "stream",
     "text": [
      "200.0\n"
     ]
    },
    {
     "name": "stderr",
     "output_type": "stream",
     "text": [
      "Training: 100%|██████████| 50/50 [00:10<00:00,  4.55it/s]\n",
      "Evaluating: 100%|██████████| 30/30 [00:00<00:00, 98.69it/s] \n",
      "Training:   2%|▏         | 1/50 [00:00<00:07,  6.66it/s]"
     ]
    },
    {
     "name": "stdout",
     "output_type": "stream",
     "text": [
      "78.0\n"
     ]
    },
    {
     "name": "stderr",
     "output_type": "stream",
     "text": [
      "Training: 100%|██████████| 50/50 [00:03<00:00, 13.52it/s]\n",
      "Evaluating: 100%|██████████| 30/30 [00:00<00:00, 81.38it/s]\n",
      "Training:   0%|          | 0/50 [00:00<?, ?it/s]"
     ]
    },
    {
     "name": "stdout",
     "output_type": "stream",
     "text": [
      "94.43333333333334\n"
     ]
    },
    {
     "name": "stderr",
     "output_type": "stream",
     "text": [
      "Training: 100%|██████████| 50/50 [00:04<00:00, 11.48it/s]\n",
      "Evaluating: 100%|██████████| 30/30 [00:00<00:00, 761.67it/s]\n",
      "Training:  14%|█▍        | 7/50 [00:00<00:00, 67.83it/s]"
     ]
    },
    {
     "name": "stdout",
     "output_type": "stream",
     "text": [
      "9.366666666666667\n"
     ]
    },
    {
     "name": "stderr",
     "output_type": "stream",
     "text": [
      "Training: 100%|██████████| 50/50 [00:03<00:00, 14.09it/s]\n",
      "Evaluating: 100%|██████████| 30/30 [00:00<00:00, 398.74it/s]\n",
      "Training:   0%|          | 0/50 [00:00<?, ?it/s]"
     ]
    },
    {
     "name": "stdout",
     "output_type": "stream",
     "text": [
      "15.433333333333334\n"
     ]
    },
    {
     "name": "stderr",
     "output_type": "stream",
     "text": [
      "Training: 100%|██████████| 50/50 [00:04<00:00, 10.38it/s]\n",
      "Evaluating: 100%|██████████| 30/30 [00:00<00:00, 53.43it/s]\n",
      "Training:   2%|▏         | 1/50 [00:00<00:07,  6.21it/s]"
     ]
    },
    {
     "name": "stdout",
     "output_type": "stream",
     "text": [
      "144.3\n"
     ]
    },
    {
     "name": "stderr",
     "output_type": "stream",
     "text": [
      "Training: 100%|██████████| 50/50 [00:11<00:00,  4.25it/s]\n",
      "Evaluating: 100%|██████████| 30/30 [00:00<00:00, 38.40it/s]\n",
      "Training:   0%|          | 0/50 [00:00<?, ?it/s]"
     ]
    },
    {
     "name": "stdout",
     "output_type": "stream",
     "text": [
      "200.0\n"
     ]
    },
    {
     "name": "stderr",
     "output_type": "stream",
     "text": [
      "Training: 100%|██████████| 50/50 [00:10<00:00,  4.76it/s]\n",
      "Evaluating: 100%|██████████| 30/30 [00:00<00:00, 37.10it/s]\n",
      "Training:   0%|          | 0/50 [00:00<?, ?it/s]"
     ]
    },
    {
     "name": "stdout",
     "output_type": "stream",
     "text": [
      "200.0\n"
     ]
    },
    {
     "name": "stderr",
     "output_type": "stream",
     "text": [
      "Training: 100%|██████████| 50/50 [00:12<00:00,  4.05it/s]\n",
      "Evaluating: 100%|██████████| 30/30 [00:00<00:00, 38.44it/s]\n",
      "Training:   0%|          | 0/50 [00:00<?, ?it/s]"
     ]
    },
    {
     "name": "stdout",
     "output_type": "stream",
     "text": [
      "200.0\n"
     ]
    },
    {
     "name": "stderr",
     "output_type": "stream",
     "text": [
      "Training: 100%|██████████| 50/50 [00:13<00:00,  3.70it/s]\n",
      "Evaluating: 100%|██████████| 30/30 [00:00<00:00, 38.88it/s]\n",
      "Training:   0%|          | 0/50 [00:00<?, ?it/s]"
     ]
    },
    {
     "name": "stdout",
     "output_type": "stream",
     "text": [
      "200.0\n"
     ]
    },
    {
     "name": "stderr",
     "output_type": "stream",
     "text": [
      "Training: 100%|██████████| 50/50 [00:12<00:00,  3.95it/s]\n",
      "Evaluating: 100%|██████████| 30/30 [00:00<00:00, 38.46it/s]\n",
      "Training:   0%|          | 0/50 [00:00<?, ?it/s]"
     ]
    },
    {
     "name": "stdout",
     "output_type": "stream",
     "text": [
      "200.0\n"
     ]
    },
    {
     "name": "stderr",
     "output_type": "stream",
     "text": [
      "Training: 100%|██████████| 50/50 [00:07<00:00,  6.92it/s]\n",
      "Evaluating: 100%|██████████| 30/30 [00:00<00:00, 89.78it/s]\n",
      "Training:   2%|▏         | 1/50 [00:00<00:08,  5.47it/s]"
     ]
    },
    {
     "name": "stdout",
     "output_type": "stream",
     "text": [
      "85.53333333333333\n"
     ]
    },
    {
     "name": "stderr",
     "output_type": "stream",
     "text": [
      "Training: 100%|██████████| 50/50 [00:05<00:00,  9.87it/s]\n",
      "Evaluating: 100%|██████████| 30/30 [00:00<00:00, 748.94it/s]\n",
      "Training:  14%|█▍        | 7/50 [00:00<00:00, 68.80it/s]"
     ]
    },
    {
     "name": "stdout",
     "output_type": "stream",
     "text": [
      "9.566666666666666\n"
     ]
    },
    {
     "name": "stderr",
     "output_type": "stream",
     "text": [
      "Training: 100%|██████████| 50/50 [00:02<00:00, 18.28it/s]\n",
      "Evaluating: 100%|██████████| 30/30 [00:00<00:00, 86.08it/s]\n",
      "Training:   4%|▍         | 2/50 [00:00<00:03, 13.99it/s]"
     ]
    },
    {
     "name": "stdout",
     "output_type": "stream",
     "text": [
      "89.93333333333334\n"
     ]
    },
    {
     "name": "stderr",
     "output_type": "stream",
     "text": [
      "Training: 100%|██████████| 50/50 [00:08<00:00,  6.21it/s]\n",
      "Evaluating: 100%|██████████| 30/30 [00:00<00:00, 38.17it/s]\n",
      "Training:   2%|▏         | 1/50 [00:00<00:06,  7.15it/s]"
     ]
    },
    {
     "name": "stdout",
     "output_type": "stream",
     "text": [
      "200.0\n"
     ]
    },
    {
     "name": "stderr",
     "output_type": "stream",
     "text": [
      "Training: 100%|██████████| 50/50 [00:09<00:00,  5.47it/s]\n",
      "Evaluating: 100%|██████████| 30/30 [00:00<00:00, 160.17it/s]\n",
      "Training:   4%|▍         | 2/50 [00:00<00:03, 15.46it/s]"
     ]
    },
    {
     "name": "stdout",
     "output_type": "stream",
     "text": [
      "47.666666666666664\n"
     ]
    },
    {
     "name": "stderr",
     "output_type": "stream",
     "text": [
      "Training: 100%|██████████| 50/50 [00:12<00:00,  4.00it/s]\n",
      "Evaluating: 100%|██████████| 30/30 [00:00<00:00, 38.39it/s]\n",
      "Training:   0%|          | 0/50 [00:00<?, ?it/s]"
     ]
    },
    {
     "name": "stdout",
     "output_type": "stream",
     "text": [
      "200.0\n"
     ]
    },
    {
     "name": "stderr",
     "output_type": "stream",
     "text": [
      "Training: 100%|██████████| 50/50 [00:12<00:00,  4.13it/s]\n",
      "Evaluating: 100%|██████████| 30/30 [00:00<00:00, 37.47it/s]\n",
      "Training:   0%|          | 0/50 [00:00<?, ?it/s]"
     ]
    },
    {
     "name": "stdout",
     "output_type": "stream",
     "text": [
      "200.0\n"
     ]
    },
    {
     "name": "stderr",
     "output_type": "stream",
     "text": [
      "Training: 100%|██████████| 50/50 [00:07<00:00,  7.10it/s]\n",
      "Evaluating: 100%|██████████| 30/30 [00:00<00:00, 176.30it/s]\n",
      "Training:   2%|▏         | 1/50 [00:00<00:06,  7.82it/s]"
     ]
    },
    {
     "name": "stdout",
     "output_type": "stream",
     "text": [
      "43.266666666666666\n"
     ]
    },
    {
     "name": "stderr",
     "output_type": "stream",
     "text": [
      "Training: 100%|██████████| 50/50 [00:04<00:00, 11.66it/s]\n",
      "Evaluating: 100%|██████████| 30/30 [00:00<00:00, 37.04it/s]\n",
      "Training:   4%|▍         | 2/50 [00:00<00:02, 18.94it/s]"
     ]
    },
    {
     "name": "stdout",
     "output_type": "stream",
     "text": [
      "200.0\n"
     ]
    },
    {
     "name": "stderr",
     "output_type": "stream",
     "text": [
      "Training: 100%|██████████| 50/50 [00:12<00:00,  3.88it/s]\n",
      "Evaluating: 100%|██████████| 30/30 [00:00<00:00, 38.08it/s]\n",
      "Training:   0%|          | 0/50 [00:00<?, ?it/s]"
     ]
    },
    {
     "name": "stdout",
     "output_type": "stream",
     "text": [
      "200.0\n"
     ]
    },
    {
     "name": "stderr",
     "output_type": "stream",
     "text": [
      "Training: 100%|██████████| 50/50 [00:09<00:00,  5.04it/s]\n",
      "Evaluating: 100%|██████████| 30/30 [00:00<00:00, 38.28it/s]\n",
      "Training:   2%|▏         | 1/50 [00:00<00:08,  5.96it/s]"
     ]
    },
    {
     "name": "stdout",
     "output_type": "stream",
     "text": [
      "200.0\n"
     ]
    },
    {
     "name": "stderr",
     "output_type": "stream",
     "text": [
      "Training: 100%|██████████| 50/50 [00:05<00:00,  8.43it/s]\n",
      "Evaluating: 100%|██████████| 30/30 [00:00<00:00, 64.67it/s]\n",
      "Training:   0%|          | 0/50 [00:00<?, ?it/s]"
     ]
    },
    {
     "name": "stdout",
     "output_type": "stream",
     "text": [
      "92.43333333333334\n"
     ]
    },
    {
     "name": "stderr",
     "output_type": "stream",
     "text": [
      "Training: 100%|██████████| 50/50 [00:06<00:00,  7.49it/s]\n",
      "Evaluating: 100%|██████████| 30/30 [00:00<00:00, 71.94it/s]\n",
      "Training:   2%|▏         | 1/50 [00:00<00:07,  6.69it/s]"
     ]
    },
    {
     "name": "stdout",
     "output_type": "stream",
     "text": [
      "102.4\n"
     ]
    },
    {
     "name": "stderr",
     "output_type": "stream",
     "text": [
      "Training: 100%|██████████| 50/50 [00:06<00:00,  7.79it/s]\n",
      "Evaluating: 100%|██████████| 30/30 [00:00<00:00, 102.48it/s]\n",
      "Training:   2%|▏         | 1/50 [00:00<00:06,  7.90it/s]"
     ]
    },
    {
     "name": "stdout",
     "output_type": "stream",
     "text": [
      "71.43333333333334\n"
     ]
    },
    {
     "name": "stderr",
     "output_type": "stream",
     "text": [
      "Training: 100%|██████████| 50/50 [00:04<00:00, 11.76it/s]\n",
      "Evaluating: 100%|██████████| 30/30 [00:00<00:00, 44.48it/s]\n",
      "Training:  12%|█▏        | 6/50 [00:00<00:00, 55.53it/s]"
     ]
    },
    {
     "name": "stdout",
     "output_type": "stream",
     "text": [
      "132.03333333333333\n"
     ]
    },
    {
     "name": "stderr",
     "output_type": "stream",
     "text": [
      "Training: 100%|██████████| 50/50 [00:04<00:00, 10.19it/s]\n",
      "Evaluating: 100%|██████████| 30/30 [00:00<00:00, 101.56it/s]\n",
      "Training:   2%|▏         | 1/50 [00:00<00:05,  8.88it/s]"
     ]
    },
    {
     "name": "stdout",
     "output_type": "stream",
     "text": [
      "72.93333333333334\n"
     ]
    },
    {
     "name": "stderr",
     "output_type": "stream",
     "text": [
      "Training: 100%|██████████| 50/50 [00:08<00:00,  6.10it/s]\n",
      "Evaluating: 100%|██████████| 30/30 [00:00<00:00, 101.71it/s]\n",
      "Training:   0%|          | 0/50 [00:00<?, ?it/s]"
     ]
    },
    {
     "name": "stdout",
     "output_type": "stream",
     "text": [
      "66.3\n"
     ]
    },
    {
     "name": "stderr",
     "output_type": "stream",
     "text": [
      "Training: 100%|██████████| 50/50 [00:11<00:00,  4.26it/s]\n",
      "Evaluating: 100%|██████████| 30/30 [00:00<00:00, 47.17it/s]\n",
      "Training:   0%|          | 0/50 [00:00<?, ?it/s]"
     ]
    },
    {
     "name": "stdout",
     "output_type": "stream",
     "text": [
      "161.23333333333332\n"
     ]
    },
    {
     "name": "stderr",
     "output_type": "stream",
     "text": [
      "Training: 100%|██████████| 50/50 [00:11<00:00,  4.53it/s]\n",
      "Evaluating: 100%|██████████| 30/30 [00:00<00:00, 37.35it/s]\n",
      "Training:   0%|          | 0/50 [00:00<?, ?it/s]"
     ]
    },
    {
     "name": "stdout",
     "output_type": "stream",
     "text": [
      "200.0\n"
     ]
    },
    {
     "name": "stderr",
     "output_type": "stream",
     "text": [
      "Training: 100%|██████████| 50/50 [00:12<00:00,  4.11it/s]\n",
      "Evaluating: 100%|██████████| 30/30 [00:00<00:00, 38.47it/s]\n",
      "Training:   0%|          | 0/50 [00:00<?, ?it/s]"
     ]
    },
    {
     "name": "stdout",
     "output_type": "stream",
     "text": [
      "200.0\n"
     ]
    },
    {
     "name": "stderr",
     "output_type": "stream",
     "text": [
      "Training: 100%|██████████| 50/50 [00:12<00:00,  3.89it/s]\n",
      "Evaluating: 100%|██████████| 30/30 [00:00<00:00, 38.63it/s]\n",
      "Training:   0%|          | 0/50 [00:00<?, ?it/s]"
     ]
    },
    {
     "name": "stdout",
     "output_type": "stream",
     "text": [
      "200.0\n"
     ]
    },
    {
     "name": "stderr",
     "output_type": "stream",
     "text": [
      "Training: 100%|██████████| 50/50 [00:04<00:00, 10.55it/s]\n",
      "Evaluating: 100%|██████████| 30/30 [00:00<00:00, 177.02it/s]\n",
      "Training:   4%|▍         | 2/50 [00:00<00:02, 18.91it/s]"
     ]
    },
    {
     "name": "stdout",
     "output_type": "stream",
     "text": [
      "40.6\n"
     ]
    },
    {
     "name": "stderr",
     "output_type": "stream",
     "text": [
      "Training: 100%|██████████| 50/50 [00:05<00:00,  9.78it/s]\n",
      "Evaluating: 100%|██████████| 30/30 [00:00<00:00, 769.51it/s]\n",
      "Training:   0%|          | 0/50 [00:00<?, ?it/s]"
     ]
    },
    {
     "name": "stdout",
     "output_type": "stream",
     "text": [
      "9.466666666666667\n"
     ]
    },
    {
     "name": "stderr",
     "output_type": "stream",
     "text": [
      "Training: 100%|██████████| 50/50 [00:10<00:00,  4.87it/s]\n",
      "Evaluating: 100%|██████████| 30/30 [00:00<00:00, 75.02it/s]\n",
      "Training:   0%|          | 0/50 [00:00<?, ?it/s]"
     ]
    },
    {
     "name": "stdout",
     "output_type": "stream",
     "text": [
      "102.73333333333333\n"
     ]
    },
    {
     "name": "stderr",
     "output_type": "stream",
     "text": [
      "Training: 100%|██████████| 50/50 [00:10<00:00,  4.98it/s]\n",
      "Evaluating: 100%|██████████| 30/30 [00:00<00:00, 100.32it/s]\n",
      "Training:   2%|▏         | 1/50 [00:00<00:05,  8.47it/s]"
     ]
    },
    {
     "name": "stdout",
     "output_type": "stream",
     "text": [
      "76.93333333333334\n"
     ]
    },
    {
     "name": "stderr",
     "output_type": "stream",
     "text": [
      "Training: 100%|██████████| 50/50 [00:07<00:00,  6.66it/s]\n",
      "Evaluating: 100%|██████████| 30/30 [00:00<00:00, 36.85it/s]\n",
      "Training:   0%|          | 0/50 [00:00<?, ?it/s]"
     ]
    },
    {
     "name": "stdout",
     "output_type": "stream",
     "text": [
      "200.0\n"
     ]
    },
    {
     "name": "stderr",
     "output_type": "stream",
     "text": [
      "Training: 100%|██████████| 50/50 [00:08<00:00,  5.66it/s]\n",
      "Evaluating: 100%|██████████| 30/30 [00:00<00:00, 57.51it/s]\n",
      "Training:   2%|▏         | 1/50 [00:00<00:08,  5.99it/s]"
     ]
    },
    {
     "name": "stdout",
     "output_type": "stream",
     "text": [
      "132.43333333333334\n"
     ]
    },
    {
     "name": "stderr",
     "output_type": "stream",
     "text": [
      "Training: 100%|██████████| 50/50 [00:09<00:00,  5.25it/s]\n",
      "Evaluating: 100%|██████████| 30/30 [00:00<00:00, 70.65it/s]\n",
      "Training:   2%|▏         | 1/50 [00:00<00:07,  6.32it/s]"
     ]
    },
    {
     "name": "stdout",
     "output_type": "stream",
     "text": [
      "102.66666666666667\n"
     ]
    },
    {
     "name": "stderr",
     "output_type": "stream",
     "text": [
      "Training: 100%|██████████| 50/50 [00:12<00:00,  4.13it/s]\n",
      "Evaluating: 100%|██████████| 30/30 [00:00<00:00, 47.24it/s]\n",
      "Training:   0%|          | 0/50 [00:00<?, ?it/s]"
     ]
    },
    {
     "name": "stdout",
     "output_type": "stream",
     "text": [
      "159.46666666666667\n"
     ]
    },
    {
     "name": "stderr",
     "output_type": "stream",
     "text": [
      "Training: 100%|██████████| 50/50 [00:08<00:00,  5.70it/s]\n",
      "Evaluating: 100%|██████████| 30/30 [00:00<00:00, 96.58it/s]\n",
      "Training:   2%|▏         | 1/50 [00:00<00:05,  9.40it/s]"
     ]
    },
    {
     "name": "stdout",
     "output_type": "stream",
     "text": [
      "80.26666666666667\n"
     ]
    },
    {
     "name": "stderr",
     "output_type": "stream",
     "text": [
      "Training: 100%|██████████| 50/50 [00:04<00:00, 11.81it/s]\n",
      "Evaluating: 100%|██████████| 30/30 [00:00<00:00, 111.78it/s]\n",
      "Training:   2%|▏         | 1/50 [00:00<00:05,  9.30it/s]"
     ]
    },
    {
     "name": "stdout",
     "output_type": "stream",
     "text": [
      "68.33333333333333\n"
     ]
    },
    {
     "name": "stderr",
     "output_type": "stream",
     "text": [
      "Training: 100%|██████████| 50/50 [00:04<00:00, 12.48it/s]\n",
      "Evaluating: 100%|██████████| 30/30 [00:00<00:00, 158.95it/s]\n",
      "Training:   4%|▍         | 2/50 [00:00<00:03, 13.96it/s]"
     ]
    },
    {
     "name": "stdout",
     "output_type": "stream",
     "text": [
      "46.96666666666667\n"
     ]
    },
    {
     "name": "stderr",
     "output_type": "stream",
     "text": [
      "Training: 100%|██████████| 50/50 [00:05<00:00, 10.00it/s]\n",
      "Evaluating: 100%|██████████| 30/30 [00:00<00:00, 67.79it/s]\n",
      "Training:   2%|▏         | 1/50 [00:00<00:08,  5.96it/s]"
     ]
    },
    {
     "name": "stdout",
     "output_type": "stream",
     "text": [
      "111.5\n"
     ]
    },
    {
     "name": "stderr",
     "output_type": "stream",
     "text": [
      "Training: 100%|██████████| 50/50 [00:08<00:00,  6.19it/s]\n",
      "Evaluating: 100%|██████████| 30/30 [00:00<00:00, 37.80it/s]\n",
      "Training:   0%|          | 0/50 [00:00<?, ?it/s]"
     ]
    },
    {
     "name": "stdout",
     "output_type": "stream",
     "text": [
      "200.0\n"
     ]
    },
    {
     "name": "stderr",
     "output_type": "stream",
     "text": [
      "Training: 100%|██████████| 50/50 [00:07<00:00,  7.02it/s]\n",
      "Evaluating: 100%|██████████| 30/30 [00:00<00:00, 52.30it/s]\n",
      "Training:   2%|▏         | 1/50 [00:00<00:05,  9.40it/s]"
     ]
    },
    {
     "name": "stdout",
     "output_type": "stream",
     "text": [
      "146.0\n"
     ]
    },
    {
     "name": "stderr",
     "output_type": "stream",
     "text": [
      "Training: 100%|██████████| 50/50 [00:05<00:00,  8.85it/s]\n",
      "Evaluating: 100%|██████████| 30/30 [00:00<00:00, 125.63it/s]\n",
      "Training:   4%|▍         | 2/50 [00:00<00:03, 12.71it/s]"
     ]
    },
    {
     "name": "stdout",
     "output_type": "stream",
     "text": [
      "60.4\n"
     ]
    },
    {
     "name": "stderr",
     "output_type": "stream",
     "text": [
      "Training: 100%|██████████| 50/50 [00:03<00:00, 14.86it/s]\n",
      "Evaluating: 100%|██████████| 30/30 [00:00<00:00, 113.94it/s]\n",
      "Training:   4%|▍         | 2/50 [00:00<00:02, 17.96it/s]"
     ]
    },
    {
     "name": "stdout",
     "output_type": "stream",
     "text": [
      "63.8\n"
     ]
    },
    {
     "name": "stderr",
     "output_type": "stream",
     "text": [
      "Training: 100%|██████████| 50/50 [00:04<00:00, 11.19it/s]\n",
      "Evaluating: 100%|██████████| 30/30 [00:00<00:00, 66.84it/s]\n",
      "Training:   2%|▏         | 1/50 [00:00<00:07,  6.68it/s]"
     ]
    },
    {
     "name": "stdout",
     "output_type": "stream",
     "text": [
      "113.23333333333333\n"
     ]
    },
    {
     "name": "stderr",
     "output_type": "stream",
     "text": [
      "Training: 100%|██████████| 50/50 [00:07<00:00,  6.31it/s]\n",
      "Evaluating: 100%|██████████| 30/30 [00:00<00:00, 67.83it/s]\n",
      "Training:   0%|          | 0/50 [00:00<?, ?it/s]"
     ]
    },
    {
     "name": "stdout",
     "output_type": "stream",
     "text": [
      "111.83333333333333\n"
     ]
    },
    {
     "name": "stderr",
     "output_type": "stream",
     "text": [
      "Training: 100%|██████████| 50/50 [00:07<00:00,  6.84it/s]\n",
      "Evaluating: 100%|██████████| 30/30 [00:00<00:00, 87.05it/s]\n",
      "Training:   0%|          | 0/50 [00:00<?, ?it/s]"
     ]
    },
    {
     "name": "stdout",
     "output_type": "stream",
     "text": [
      "86.56666666666666\n"
     ]
    },
    {
     "name": "stderr",
     "output_type": "stream",
     "text": [
      "Training: 100%|██████████| 50/50 [00:04<00:00, 10.55it/s]\n",
      "Evaluating: 100%|██████████| 30/30 [00:00<00:00, 484.95it/s]\n",
      "Training:   4%|▍         | 2/50 [00:00<00:02, 19.37it/s]"
     ]
    },
    {
     "name": "stdout",
     "output_type": "stream",
     "text": [
      "14.433333333333334\n"
     ]
    },
    {
     "name": "stderr",
     "output_type": "stream",
     "text": [
      "Training: 100%|██████████| 50/50 [00:02<00:00, 22.03it/s]\n",
      "Evaluating: 100%|██████████| 30/30 [00:00<00:00, 119.11it/s]\n",
      "Training:   6%|▌         | 3/50 [00:00<00:02, 21.85it/s]"
     ]
    },
    {
     "name": "stdout",
     "output_type": "stream",
     "text": [
      "64.16666666666667\n"
     ]
    },
    {
     "name": "stderr",
     "output_type": "stream",
     "text": [
      "Training: 100%|██████████| 50/50 [00:04<00:00, 10.16it/s]\n",
      "Evaluating: 100%|██████████| 30/30 [00:00<00:00, 155.06it/s]\n",
      "Training:   2%|▏         | 1/50 [00:00<00:05,  9.38it/s]"
     ]
    },
    {
     "name": "stdout",
     "output_type": "stream",
     "text": [
      "49.8\n"
     ]
    },
    {
     "name": "stderr",
     "output_type": "stream",
     "text": [
      "Training: 100%|██████████| 50/50 [00:06<00:00,  8.12it/s]\n",
      "Evaluating: 100%|██████████| 30/30 [00:00<00:00, 90.93it/s]\n",
      "Training:   0%|          | 0/50 [00:00<?, ?it/s]"
     ]
    },
    {
     "name": "stdout",
     "output_type": "stream",
     "text": [
      "65.7\n"
     ]
    },
    {
     "name": "stderr",
     "output_type": "stream",
     "text": [
      "Training: 100%|██████████| 50/50 [00:04<00:00, 12.42it/s]\n",
      "Evaluating: 100%|██████████| 30/30 [00:00<00:00, 96.79it/s]\n",
      "Training:   2%|▏         | 1/50 [00:00<00:05,  8.77it/s]"
     ]
    },
    {
     "name": "stdout",
     "output_type": "stream",
     "text": [
      "78.26666666666667\n"
     ]
    },
    {
     "name": "stderr",
     "output_type": "stream",
     "text": [
      "Training: 100%|██████████| 50/50 [00:03<00:00, 14.04it/s]\n",
      "Evaluating: 100%|██████████| 30/30 [00:00<00:00, 91.83it/s]\n",
      "Training:   2%|▏         | 1/50 [00:00<00:05,  8.38it/s]"
     ]
    },
    {
     "name": "stdout",
     "output_type": "stream",
     "text": [
      "83.9\n"
     ]
    },
    {
     "name": "stderr",
     "output_type": "stream",
     "text": [
      "Training: 100%|██████████| 50/50 [00:05<00:00,  9.77it/s]\n",
      "Evaluating: 100%|██████████| 30/30 [00:00<00:00, 80.06it/s]\n",
      "Training:   2%|▏         | 1/50 [00:00<00:09,  5.36it/s]"
     ]
    },
    {
     "name": "stdout",
     "output_type": "stream",
     "text": [
      "96.3\n"
     ]
    },
    {
     "name": "stderr",
     "output_type": "stream",
     "text": [
      "Training: 100%|██████████| 50/50 [00:06<00:00,  7.63it/s]\n",
      "Evaluating: 100%|██████████| 30/30 [00:00<00:00, 129.33it/s]\n",
      "Training:  12%|█▏        | 6/50 [00:00<00:00, 50.57it/s]"
     ]
    },
    {
     "name": "stdout",
     "output_type": "stream",
     "text": [
      "58.63333333333333\n"
     ]
    },
    {
     "name": "stderr",
     "output_type": "stream",
     "text": [
      "Training: 100%|██████████| 50/50 [00:03<00:00, 15.62it/s]\n",
      "Evaluating: 100%|██████████| 30/30 [00:00<00:00, 83.63it/s]\n",
      "Training:   2%|▏         | 1/50 [00:00<00:07,  6.55it/s]"
     ]
    },
    {
     "name": "stdout",
     "output_type": "stream",
     "text": [
      "92.26666666666667\n"
     ]
    },
    {
     "name": "stderr",
     "output_type": "stream",
     "text": [
      "Training: 100%|██████████| 50/50 [00:05<00:00,  9.98it/s]\n",
      "Evaluating: 100%|██████████| 30/30 [00:00<00:00, 78.53it/s]\n",
      "Training:   0%|          | 0/50 [00:00<?, ?it/s]"
     ]
    },
    {
     "name": "stdout",
     "output_type": "stream",
     "text": [
      "97.13333333333334\n"
     ]
    },
    {
     "name": "stderr",
     "output_type": "stream",
     "text": [
      "Training: 100%|██████████| 50/50 [00:05<00:00,  9.90it/s]\n",
      "Evaluating: 100%|██████████| 30/30 [00:00<00:00, 79.07it/s]\n",
      "Training:   2%|▏         | 1/50 [00:00<00:06,  7.06it/s]"
     ]
    },
    {
     "name": "stdout",
     "output_type": "stream",
     "text": [
      "96.4\n"
     ]
    },
    {
     "name": "stderr",
     "output_type": "stream",
     "text": [
      "Training: 100%|██████████| 50/50 [00:06<00:00,  7.25it/s]\n",
      "Evaluating: 100%|██████████| 30/30 [00:00<00:00, 112.23it/s]\n",
      "Training:   0%|          | 0/50 [00:00<?, ?it/s]"
     ]
    },
    {
     "name": "stdout",
     "output_type": "stream",
     "text": [
      "66.53333333333333\n"
     ]
    },
    {
     "name": "stderr",
     "output_type": "stream",
     "text": [
      "Training: 100%|██████████| 50/50 [00:14<00:00,  3.48it/s]\n",
      "Evaluating: 100%|██████████| 30/30 [00:00<00:00, 124.91it/s]\n",
      "Training:   2%|▏         | 1/50 [00:00<00:07,  6.45it/s]"
     ]
    },
    {
     "name": "stdout",
     "output_type": "stream",
     "text": [
      "61.53333333333333\n"
     ]
    },
    {
     "name": "stderr",
     "output_type": "stream",
     "text": [
      "Training: 100%|██████████| 50/50 [00:07<00:00,  6.83it/s]\n",
      "Evaluating: 100%|██████████| 30/30 [00:00<00:00, 44.02it/s]\n",
      "Training:   0%|          | 0/50 [00:00<?, ?it/s]"
     ]
    },
    {
     "name": "stdout",
     "output_type": "stream",
     "text": [
      "174.33333333333334\n"
     ]
    },
    {
     "name": "stderr",
     "output_type": "stream",
     "text": [
      "Training: 100%|██████████| 50/50 [00:08<00:00,  5.77it/s]\n",
      "Evaluating: 100%|██████████| 30/30 [00:00<00:00, 351.28it/s]\n",
      "Training:   0%|          | 0/50 [00:00<?, ?it/s]"
     ]
    },
    {
     "name": "stdout",
     "output_type": "stream",
     "text": [
      "21.366666666666667\n"
     ]
    },
    {
     "name": "stderr",
     "output_type": "stream",
     "text": [
      "Training: 100%|██████████| 50/50 [00:08<00:00,  5.69it/s]\n",
      "Evaluating: 100%|██████████| 30/30 [00:00<00:00, 65.22it/s]\n",
      "Training:   2%|▏         | 1/50 [00:00<00:06,  7.64it/s]"
     ]
    },
    {
     "name": "stdout",
     "output_type": "stream",
     "text": [
      "112.86666666666666\n"
     ]
    },
    {
     "name": "stderr",
     "output_type": "stream",
     "text": [
      "Training: 100%|██████████| 50/50 [00:10<00:00,  4.84it/s]\n",
      "Evaluating: 100%|██████████| 30/30 [00:00<00:00, 131.89it/s]\n",
      "Training:   2%|▏         | 1/50 [00:00<00:05,  8.30it/s]"
     ]
    },
    {
     "name": "stdout",
     "output_type": "stream",
     "text": [
      "58.13333333333333\n"
     ]
    },
    {
     "name": "stderr",
     "output_type": "stream",
     "text": [
      "Training: 100%|██████████| 50/50 [00:03<00:00, 14.99it/s]\n",
      "Evaluating: 100%|██████████| 30/30 [00:00<00:00, 744.42it/s]\n",
      "Training:   6%|▌         | 3/50 [00:00<00:03, 15.61it/s]"
     ]
    },
    {
     "name": "stdout",
     "output_type": "stream",
     "text": [
      "9.466666666666667\n"
     ]
    },
    {
     "name": "stderr",
     "output_type": "stream",
     "text": [
      "Training: 100%|██████████| 50/50 [00:05<00:00,  9.30it/s]\n",
      "Evaluating: 100%|██████████| 30/30 [00:00<00:00, 137.35it/s]\n",
      "Training:   0%|          | 0/50 [00:00<?, ?it/s]"
     ]
    },
    {
     "name": "stdout",
     "output_type": "stream",
     "text": [
      "55.4\n"
     ]
    },
    {
     "name": "stderr",
     "output_type": "stream",
     "text": [
      "Training: 100%|██████████| 50/50 [00:05<00:00,  9.25it/s]\n",
      "Evaluating: 100%|██████████| 30/30 [00:00<00:00, 116.51it/s]\n",
      "Training:   4%|▍         | 2/50 [00:00<00:04, 11.03it/s]"
     ]
    },
    {
     "name": "stdout",
     "output_type": "stream",
     "text": [
      "48.8\n"
     ]
    },
    {
     "name": "stderr",
     "output_type": "stream",
     "text": [
      "Training: 100%|██████████| 50/50 [00:03<00:00, 14.05it/s]\n",
      "Evaluating: 100%|██████████| 30/30 [00:00<00:00, 309.62it/s]\n",
      "Training:   6%|▌         | 3/50 [00:00<00:02, 18.00it/s]"
     ]
    },
    {
     "name": "stdout",
     "output_type": "stream",
     "text": [
      "23.266666666666666\n"
     ]
    },
    {
     "name": "stderr",
     "output_type": "stream",
     "text": [
      "Training: 100%|██████████| 50/50 [00:07<00:00,  6.84it/s]\n",
      "Evaluating: 100%|██████████| 30/30 [00:00<00:00, 48.41it/s]\n",
      "Training:   2%|▏         | 1/50 [00:00<00:08,  5.72it/s]"
     ]
    },
    {
     "name": "stdout",
     "output_type": "stream",
     "text": [
      "123.03333333333333\n"
     ]
    },
    {
     "name": "stderr",
     "output_type": "stream",
     "text": [
      "Training: 100%|██████████| 50/50 [00:09<00:00,  5.34it/s]\n",
      "Evaluating: 100%|██████████| 30/30 [00:00<00:00, 230.12it/s]\n",
      "Training:   0%|          | 0/50 [00:00<?, ?it/s]"
     ]
    },
    {
     "name": "stdout",
     "output_type": "stream",
     "text": [
      "32.53333333333333\n"
     ]
    },
    {
     "name": "stderr",
     "output_type": "stream",
     "text": [
      "Training: 100%|██████████| 50/50 [00:03<00:00, 16.06it/s]\n",
      "Evaluating: 100%|██████████| 30/30 [00:00<00:00, 752.26it/s]\n",
      "Training:  12%|█▏        | 6/50 [00:00<00:00, 54.84it/s]"
     ]
    },
    {
     "name": "stdout",
     "output_type": "stream",
     "text": [
      "9.433333333333334\n"
     ]
    },
    {
     "name": "stderr",
     "output_type": "stream",
     "text": [
      "Training: 100%|██████████| 50/50 [00:05<00:00,  9.93it/s]\n",
      "Evaluating: 100%|██████████| 30/30 [00:00<00:00, 125.02it/s]\n",
      "Training:   0%|          | 0/50 [00:00<?, ?it/s]"
     ]
    },
    {
     "name": "stdout",
     "output_type": "stream",
     "text": [
      "59.7\n"
     ]
    },
    {
     "name": "stderr",
     "output_type": "stream",
     "text": [
      "Training: 100%|██████████| 50/50 [00:07<00:00,  7.10it/s]\n",
      "Evaluating: 100%|██████████| 30/30 [00:00<00:00, 84.15it/s]\n",
      "Training:   2%|▏         | 1/50 [00:00<00:06,  7.43it/s]"
     ]
    },
    {
     "name": "stdout",
     "output_type": "stream",
     "text": [
      "90.53333333333333\n"
     ]
    },
    {
     "name": "stderr",
     "output_type": "stream",
     "text": [
      "Training: 100%|██████████| 50/50 [00:07<00:00,  6.48it/s]\n",
      "Evaluating: 100%|██████████| 30/30 [00:00<00:00, 96.56it/s] \n",
      "Training:   2%|▏         | 1/50 [00:00<00:08,  5.87it/s]"
     ]
    },
    {
     "name": "stdout",
     "output_type": "stream",
     "text": [
      "78.7\n"
     ]
    },
    {
     "name": "stderr",
     "output_type": "stream",
     "text": [
      "Training: 100%|██████████| 50/50 [00:09<00:00,  5.52it/s]\n",
      "Evaluating: 100%|██████████| 30/30 [00:00<00:00, 55.33it/s]\n",
      "Training:   2%|▏         | 1/50 [00:00<00:06,  7.28it/s]"
     ]
    },
    {
     "name": "stdout",
     "output_type": "stream",
     "text": [
      "108.6\n"
     ]
    },
    {
     "name": "stderr",
     "output_type": "stream",
     "text": [
      "Training: 100%|██████████| 50/50 [00:05<00:00,  9.00it/s]\n",
      "Evaluating: 100%|██████████| 30/30 [00:00<00:00, 63.12it/s]\n",
      "Training:   2%|▏         | 1/50 [00:00<00:06,  7.51it/s]"
     ]
    },
    {
     "name": "stdout",
     "output_type": "stream",
     "text": [
      "92.96666666666667\n"
     ]
    },
    {
     "name": "stderr",
     "output_type": "stream",
     "text": [
      "Training: 100%|██████████| 50/50 [00:06<00:00,  7.67it/s]\n",
      "Evaluating: 100%|██████████| 30/30 [00:00<00:00, 156.19it/s]\n",
      "Training:   2%|▏         | 1/50 [00:00<00:08,  5.47it/s]"
     ]
    },
    {
     "name": "stdout",
     "output_type": "stream",
     "text": [
      "45.96666666666667\n"
     ]
    },
    {
     "name": "stderr",
     "output_type": "stream",
     "text": [
      "Training: 100%|██████████| 50/50 [00:04<00:00, 11.28it/s]\n",
      "Evaluating: 100%|██████████| 30/30 [00:00<00:00, 38.02it/s]\n",
      "Training:   2%|▏         | 1/50 [00:00<00:06,  7.75it/s]"
     ]
    },
    {
     "name": "stdout",
     "output_type": "stream",
     "text": [
      "200.0\n"
     ]
    },
    {
     "name": "stderr",
     "output_type": "stream",
     "text": [
      "Training: 100%|██████████| 50/50 [00:06<00:00,  7.46it/s]\n",
      "Evaluating: 100%|██████████| 30/30 [00:00<00:00, 37.62it/s]\n",
      "Training:   0%|          | 0/50 [00:00<?, ?it/s]"
     ]
    },
    {
     "name": "stdout",
     "output_type": "stream",
     "text": [
      "200.0\n"
     ]
    },
    {
     "name": "stderr",
     "output_type": "stream",
     "text": [
      "Training: 100%|██████████| 50/50 [00:05<00:00,  8.51it/s]\n",
      "Evaluating: 100%|██████████| 30/30 [00:00<00:00, 41.19it/s]\n",
      "Training:   0%|          | 0/50 [00:00<?, ?it/s]"
     ]
    },
    {
     "name": "stdout",
     "output_type": "stream",
     "text": [
      "180.7\n"
     ]
    },
    {
     "name": "stderr",
     "output_type": "stream",
     "text": [
      "Training: 100%|██████████| 50/50 [00:07<00:00,  6.32it/s]\n",
      "Evaluating: 100%|██████████| 30/30 [00:00<00:00, 219.47it/s]\n",
      "Training:   6%|▌         | 3/50 [00:00<00:02, 20.02it/s]"
     ]
    },
    {
     "name": "stdout",
     "output_type": "stream",
     "text": [
      "33.56666666666667\n"
     ]
    },
    {
     "name": "stderr",
     "output_type": "stream",
     "text": [
      "Training: 100%|██████████| 50/50 [00:13<00:00,  3.76it/s]\n",
      "Evaluating: 100%|██████████| 30/30 [00:00<00:00, 187.81it/s]\n",
      "Training:   2%|▏         | 1/50 [00:00<00:05,  9.18it/s]"
     ]
    },
    {
     "name": "stdout",
     "output_type": "stream",
     "text": [
      "38.333333333333336\n"
     ]
    },
    {
     "name": "stderr",
     "output_type": "stream",
     "text": [
      "Training: 100%|██████████| 50/50 [00:10<00:00,  4.83it/s]\n",
      "Evaluating: 100%|██████████| 30/30 [00:00<00:00, 44.88it/s]\n",
      "Training:   0%|          | 0/50 [00:00<?, ?it/s]"
     ]
    },
    {
     "name": "stdout",
     "output_type": "stream",
     "text": [
      "170.0\n"
     ]
    },
    {
     "name": "stderr",
     "output_type": "stream",
     "text": [
      "Training: 100%|██████████| 50/50 [00:12<00:00,  3.99it/s]\n",
      "Evaluating: 100%|██████████| 30/30 [00:00<00:00, 37.90it/s]\n",
      "Training:   0%|          | 0/50 [00:00<?, ?it/s]"
     ]
    },
    {
     "name": "stdout",
     "output_type": "stream",
     "text": [
      "200.0\n"
     ]
    },
    {
     "name": "stderr",
     "output_type": "stream",
     "text": [
      "Training: 100%|██████████| 50/50 [00:13<00:00,  3.57it/s]\n",
      "Evaluating: 100%|██████████| 30/30 [00:00<00:00, 38.15it/s]\n",
      "Training:   0%|          | 0/50 [00:00<?, ?it/s]"
     ]
    },
    {
     "name": "stdout",
     "output_type": "stream",
     "text": [
      "200.0\n"
     ]
    },
    {
     "name": "stderr",
     "output_type": "stream",
     "text": [
      "Training: 100%|██████████| 50/50 [00:13<00:00,  3.59it/s]\n",
      "Evaluating: 100%|██████████| 30/30 [00:00<00:00, 38.53it/s]\n",
      "Training:   0%|          | 0/50 [00:00<?, ?it/s]"
     ]
    },
    {
     "name": "stdout",
     "output_type": "stream",
     "text": [
      "200.0\n"
     ]
    },
    {
     "name": "stderr",
     "output_type": "stream",
     "text": [
      "Training: 100%|██████████| 50/50 [00:12<00:00,  3.96it/s]\n",
      "Evaluating: 100%|██████████| 30/30 [00:00<00:00, 82.47it/s]\n",
      "Training:   4%|▍         | 2/50 [00:00<00:04, 11.36it/s]"
     ]
    },
    {
     "name": "stdout",
     "output_type": "stream",
     "text": [
      "91.4\n"
     ]
    },
    {
     "name": "stderr",
     "output_type": "stream",
     "text": [
      "Training: 100%|██████████| 50/50 [00:07<00:00,  6.42it/s]\n",
      "Evaluating: 100%|██████████| 30/30 [00:00<00:00, 98.93it/s] \n",
      "Training:   0%|          | 0/50 [00:00<?, ?it/s]"
     ]
    },
    {
     "name": "stdout",
     "output_type": "stream",
     "text": [
      "77.2\n"
     ]
    },
    {
     "name": "stderr",
     "output_type": "stream",
     "text": [
      "Training: 100%|██████████| 50/50 [00:13<00:00,  3.81it/s]\n",
      "Evaluating: 100%|██████████| 30/30 [00:00<00:00, 38.30it/s]\n",
      "Training:   0%|          | 0/50 [00:00<?, ?it/s]"
     ]
    },
    {
     "name": "stdout",
     "output_type": "stream",
     "text": [
      "200.0\n"
     ]
    },
    {
     "name": "stderr",
     "output_type": "stream",
     "text": [
      "Training: 100%|██████████| 50/50 [00:13<00:00,  3.60it/s]\n",
      "Evaluating: 100%|██████████| 30/30 [00:00<00:00, 443.58it/s]\n",
      "Training:   8%|▊         | 4/50 [00:00<00:01, 39.09it/s]"
     ]
    },
    {
     "name": "stdout",
     "output_type": "stream",
     "text": [
      "16.366666666666667\n"
     ]
    },
    {
     "name": "stderr",
     "output_type": "stream",
     "text": [
      "Training: 100%|██████████| 50/50 [00:06<00:00,  7.37it/s]\n",
      "Evaluating: 100%|██████████| 30/30 [00:00<00:00, 600.74it/s]\n",
      "Training:   0%|          | 0/50 [00:00<?, ?it/s]"
     ]
    },
    {
     "name": "stdout",
     "output_type": "stream",
     "text": [
      "9.233333333333333\n"
     ]
    },
    {
     "name": "stderr",
     "output_type": "stream",
     "text": [
      "Training: 100%|██████████| 50/50 [00:11<00:00,  4.30it/s]\n",
      "Evaluating: 100%|██████████| 30/30 [00:00<00:00, 37.54it/s]\n",
      "Training:   0%|          | 0/50 [00:00<?, ?it/s]"
     ]
    },
    {
     "name": "stdout",
     "output_type": "stream",
     "text": [
      "200.0\n"
     ]
    },
    {
     "name": "stderr",
     "output_type": "stream",
     "text": [
      "Training: 100%|██████████| 50/50 [00:10<00:00,  4.90it/s]\n",
      "Evaluating: 100%|██████████| 30/30 [00:00<00:00, 519.44it/s]\n",
      "Training:   0%|          | 0/50 [00:00<?, ?it/s]"
     ]
    },
    {
     "name": "stdout",
     "output_type": "stream",
     "text": [
      "9.533333333333333\n"
     ]
    },
    {
     "name": "stderr",
     "output_type": "stream",
     "text": [
      "Training: 100%|██████████| 50/50 [00:08<00:00,  5.63it/s]\n",
      "Evaluating: 100%|██████████| 30/30 [00:00<00:00, 37.46it/s]\n",
      "Training:   0%|          | 0/50 [00:00<?, ?it/s]"
     ]
    },
    {
     "name": "stdout",
     "output_type": "stream",
     "text": [
      "200.0\n"
     ]
    },
    {
     "name": "stderr",
     "output_type": "stream",
     "text": [
      "Training: 100%|██████████| 50/50 [00:14<00:00,  3.57it/s]\n",
      "Evaluating: 100%|██████████| 30/30 [00:00<00:00, 397.38it/s]\n",
      "Training:   0%|          | 0/50 [00:00<?, ?it/s]"
     ]
    },
    {
     "name": "stdout",
     "output_type": "stream",
     "text": [
      "14.633333333333333\n"
     ]
    },
    {
     "name": "stderr",
     "output_type": "stream",
     "text": [
      "Training: 100%|██████████| 50/50 [00:13<00:00,  3.64it/s]\n",
      "Evaluating: 100%|██████████| 30/30 [00:00<00:00, 137.41it/s]\n",
      "Training:   0%|          | 0/50 [00:00<?, ?it/s]"
     ]
    },
    {
     "name": "stdout",
     "output_type": "stream",
     "text": [
      "41.833333333333336\n"
     ]
    },
    {
     "name": "stderr",
     "output_type": "stream",
     "text": [
      "Training: 100%|██████████| 50/50 [00:12<00:00,  3.97it/s]\n",
      "Evaluating: 100%|██████████| 30/30 [00:00<00:00, 92.37it/s]\n",
      "Training:   0%|          | 0/50 [00:00<?, ?it/s]"
     ]
    },
    {
     "name": "stdout",
     "output_type": "stream",
     "text": [
      "79.1\n"
     ]
    },
    {
     "name": "stderr",
     "output_type": "stream",
     "text": [
      "Training: 100%|██████████| 50/50 [00:09<00:00,  5.49it/s]\n",
      "Evaluating: 100%|██████████| 30/30 [00:00<00:00, 76.60it/s]\n",
      "Training:   2%|▏         | 1/50 [00:00<00:05,  8.89it/s]"
     ]
    },
    {
     "name": "stdout",
     "output_type": "stream",
     "text": [
      "75.56666666666666\n"
     ]
    },
    {
     "name": "stderr",
     "output_type": "stream",
     "text": [
      "Training: 100%|██████████| 50/50 [00:06<00:00,  7.88it/s]\n",
      "Evaluating: 100%|██████████| 30/30 [00:00<00:00, 91.24it/s]\n",
      "Training:   2%|▏         | 1/50 [00:00<00:06,  7.60it/s]"
     ]
    },
    {
     "name": "stdout",
     "output_type": "stream",
     "text": [
      "83.6\n"
     ]
    },
    {
     "name": "stderr",
     "output_type": "stream",
     "text": [
      "Training: 100%|██████████| 50/50 [00:05<00:00,  8.35it/s]\n",
      "Evaluating: 100%|██████████| 30/30 [00:00<00:00, 103.12it/s]\n",
      "Training:   2%|▏         | 1/50 [00:00<00:05,  8.82it/s]"
     ]
    },
    {
     "name": "stdout",
     "output_type": "stream",
     "text": [
      "73.96666666666667\n"
     ]
    },
    {
     "name": "stderr",
     "output_type": "stream",
     "text": [
      "Training: 100%|██████████| 50/50 [00:05<00:00,  8.53it/s]\n",
      "Evaluating: 100%|██████████| 30/30 [00:00<00:00, 78.37it/s]\n",
      "Training:   2%|▏         | 1/50 [00:00<00:07,  6.42it/s]"
     ]
    },
    {
     "name": "stdout",
     "output_type": "stream",
     "text": [
      "96.9\n"
     ]
    },
    {
     "name": "stderr",
     "output_type": "stream",
     "text": [
      "Training: 100%|██████████| 50/50 [00:09<00:00,  5.51it/s]\n",
      "Evaluating: 100%|██████████| 30/30 [00:00<00:00, 606.38it/s]\n",
      "Training:   0%|          | 0/50 [00:00<?, ?it/s]"
     ]
    },
    {
     "name": "stdout",
     "output_type": "stream",
     "text": [
      "9.4\n"
     ]
    },
    {
     "name": "stderr",
     "output_type": "stream",
     "text": [
      "Training: 100%|██████████| 50/50 [00:09<00:00,  5.41it/s]\n",
      "Evaluating: 100%|██████████| 30/30 [00:00<00:00, 38.02it/s]\n",
      "Training:   0%|          | 0/50 [00:00<?, ?it/s]"
     ]
    },
    {
     "name": "stdout",
     "output_type": "stream",
     "text": [
      "200.0\n"
     ]
    },
    {
     "name": "stderr",
     "output_type": "stream",
     "text": [
      "Training: 100%|██████████| 50/50 [00:10<00:00,  4.82it/s]\n",
      "Evaluating: 100%|██████████| 30/30 [00:00<00:00, 64.96it/s]\n",
      "Training:   2%|▏         | 1/50 [00:00<00:08,  5.72it/s]"
     ]
    },
    {
     "name": "stdout",
     "output_type": "stream",
     "text": [
      "115.73333333333333\n"
     ]
    },
    {
     "name": "stderr",
     "output_type": "stream",
     "text": [
      "Training: 100%|██████████| 50/50 [00:10<00:00,  4.60it/s]\n",
      "Evaluating: 100%|██████████| 30/30 [00:00<00:00, 88.84it/s]\n",
      "Training:   2%|▏         | 1/50 [00:00<00:06,  7.00it/s]"
     ]
    },
    {
     "name": "stdout",
     "output_type": "stream",
     "text": [
      "85.96666666666667\n"
     ]
    },
    {
     "name": "stderr",
     "output_type": "stream",
     "text": [
      "Training: 100%|██████████| 50/50 [00:08<00:00,  6.10it/s]\n",
      "Evaluating: 100%|██████████| 30/30 [00:00<00:00, 136.21it/s]\n",
      "Training:   4%|▍         | 2/50 [00:00<00:03, 14.80it/s]"
     ]
    },
    {
     "name": "stdout",
     "output_type": "stream",
     "text": [
      "49.5\n"
     ]
    },
    {
     "name": "stderr",
     "output_type": "stream",
     "text": [
      "Training: 100%|██████████| 50/50 [00:09<00:00,  5.12it/s]\n",
      "Evaluating: 100%|██████████| 30/30 [00:00<00:00, 38.25it/s]\n",
      "Training:   0%|          | 0/50 [00:00<?, ?it/s]"
     ]
    },
    {
     "name": "stdout",
     "output_type": "stream",
     "text": [
      "200.0\n"
     ]
    },
    {
     "name": "stderr",
     "output_type": "stream",
     "text": [
      "Training: 100%|██████████| 50/50 [00:11<00:00,  4.34it/s]\n",
      "Evaluating: 100%|██████████| 30/30 [00:00<00:00, 38.05it/s]\n",
      "Training:   0%|          | 0/50 [00:00<?, ?it/s]"
     ]
    },
    {
     "name": "stdout",
     "output_type": "stream",
     "text": [
      "200.0\n"
     ]
    },
    {
     "name": "stderr",
     "output_type": "stream",
     "text": [
      "Training: 100%|██████████| 50/50 [00:13<00:00,  3.78it/s]\n",
      "Evaluating: 100%|██████████| 30/30 [00:00<00:00, 39.22it/s]\n",
      "Training:   0%|          | 0/50 [00:00<?, ?it/s]"
     ]
    },
    {
     "name": "stdout",
     "output_type": "stream",
     "text": [
      "193.73333333333332\n"
     ]
    },
    {
     "name": "stderr",
     "output_type": "stream",
     "text": [
      "Training: 100%|██████████| 50/50 [00:13<00:00,  3.61it/s]\n",
      "Evaluating: 100%|██████████| 30/30 [00:00<00:00, 37.79it/s]\n",
      "Training:   0%|          | 0/50 [00:00<?, ?it/s]"
     ]
    },
    {
     "name": "stdout",
     "output_type": "stream",
     "text": [
      "200.0\n"
     ]
    },
    {
     "name": "stderr",
     "output_type": "stream",
     "text": [
      "Training: 100%|██████████| 50/50 [00:10<00:00,  4.69it/s]\n",
      "Evaluating: 100%|██████████| 30/30 [00:00<00:00, 38.19it/s]\n",
      "Training:   2%|▏         | 1/50 [00:00<00:05,  9.14it/s]"
     ]
    },
    {
     "name": "stdout",
     "output_type": "stream",
     "text": [
      "200.0\n"
     ]
    },
    {
     "name": "stderr",
     "output_type": "stream",
     "text": [
      "Training: 100%|██████████| 50/50 [00:12<00:00,  3.95it/s]\n",
      "Evaluating: 100%|██████████| 30/30 [00:00<00:00, 38.06it/s]\n",
      "Training:   0%|          | 0/50 [00:00<?, ?it/s]"
     ]
    },
    {
     "name": "stdout",
     "output_type": "stream",
     "text": [
      "200.0\n"
     ]
    },
    {
     "name": "stderr",
     "output_type": "stream",
     "text": [
      "Training: 100%|██████████| 50/50 [00:11<00:00,  4.21it/s]\n",
      "Evaluating: 100%|██████████| 30/30 [00:00<00:00, 85.24it/s]\n",
      "Training:   0%|          | 0/50 [00:00<?, ?it/s]"
     ]
    },
    {
     "name": "stdout",
     "output_type": "stream",
     "text": [
      "88.23333333333333\n"
     ]
    },
    {
     "name": "stderr",
     "output_type": "stream",
     "text": [
      "Training: 100%|██████████| 50/50 [00:05<00:00,  9.72it/s]\n",
      "Evaluating: 100%|██████████| 30/30 [00:00<00:00, 205.24it/s]\n",
      "Training:   4%|▍         | 2/50 [00:00<00:02, 17.99it/s]"
     ]
    },
    {
     "name": "stdout",
     "output_type": "stream",
     "text": [
      "36.06666666666667\n"
     ]
    },
    {
     "name": "stderr",
     "output_type": "stream",
     "text": [
      "Training: 100%|██████████| 50/50 [00:02<00:00, 21.99it/s]\n",
      "Evaluating: 100%|██████████| 30/30 [00:00<00:00, 230.43it/s]\n",
      "Training:   4%|▍         | 2/50 [00:00<00:02, 19.33it/s]"
     ]
    },
    {
     "name": "stdout",
     "output_type": "stream",
     "text": [
      "32.36666666666667\n"
     ]
    },
    {
     "name": "stderr",
     "output_type": "stream",
     "text": [
      "Training: 100%|██████████| 50/50 [00:11<00:00,  4.39it/s]\n",
      "Evaluating: 100%|██████████| 30/30 [00:00<00:00, 57.68it/s]\n",
      "Training:   2%|▏         | 1/50 [00:00<00:08,  5.65it/s]"
     ]
    },
    {
     "name": "stdout",
     "output_type": "stream",
     "text": [
      "132.16666666666666\n"
     ]
    },
    {
     "name": "stderr",
     "output_type": "stream",
     "text": [
      "Training: 100%|██████████| 50/50 [00:07<00:00,  6.77it/s]\n",
      "Evaluating: 100%|██████████| 30/30 [00:00<00:00, 54.96it/s]\n",
      "Training:   0%|          | 0/50 [00:00<?, ?it/s]"
     ]
    },
    {
     "name": "stdout",
     "output_type": "stream",
     "text": [
      "139.06666666666666\n"
     ]
    },
    {
     "name": "stderr",
     "output_type": "stream",
     "text": [
      "Training: 100%|██████████| 50/50 [00:07<00:00,  6.69it/s]\n",
      "Evaluating: 100%|██████████| 30/30 [00:00<00:00, 38.07it/s]\n"
     ]
    },
    {
     "name": "stdout",
     "output_type": "stream",
     "text": [
      "200.0\n"
     ]
    },
    {
     "name": "stderr",
     "output_type": "stream",
     "text": [
      "Training: 100%|██████████| 50/50 [00:12<00:00,  3.94it/s]\n",
      "Evaluating: 100%|██████████| 30/30 [00:00<00:00, 733.60it/s]\n",
      "Training:   0%|          | 0/50 [00:00<?, ?it/s]"
     ]
    },
    {
     "name": "stdout",
     "output_type": "stream",
     "text": [
      "9.2\n"
     ]
    },
    {
     "name": "stderr",
     "output_type": "stream",
     "text": [
      "Training: 100%|██████████| 50/50 [00:09<00:00,  5.28it/s]\n",
      "Evaluating: 100%|██████████| 30/30 [00:00<00:00, 55.20it/s]\n",
      "Training:   4%|▍         | 2/50 [00:00<00:03, 15.44it/s]"
     ]
    },
    {
     "name": "stdout",
     "output_type": "stream",
     "text": [
      "136.23333333333332\n"
     ]
    },
    {
     "name": "stderr",
     "output_type": "stream",
     "text": [
      "Training: 100%|██████████| 50/50 [00:03<00:00, 13.29it/s]\n",
      "Evaluating: 100%|██████████| 30/30 [00:00<00:00, 114.63it/s]\n",
      "Training:   0%|          | 0/50 [00:00<?, ?it/s]"
     ]
    },
    {
     "name": "stdout",
     "output_type": "stream",
     "text": [
      "66.03333333333333\n"
     ]
    },
    {
     "name": "stderr",
     "output_type": "stream",
     "text": [
      "Training: 100%|██████████| 50/50 [00:05<00:00,  9.65it/s]\n",
      "Evaluating: 100%|██████████| 30/30 [00:00<00:00, 68.20it/s]\n",
      "Training:   2%|▏         | 1/50 [00:00<00:05,  8.96it/s]"
     ]
    },
    {
     "name": "stdout",
     "output_type": "stream",
     "text": [
      "111.73333333333333\n"
     ]
    },
    {
     "name": "stderr",
     "output_type": "stream",
     "text": [
      "Training: 100%|██████████| 50/50 [00:09<00:00,  5.07it/s]\n",
      "Evaluating: 100%|██████████| 30/30 [00:00<00:00, 392.20it/s]\n",
      "Training:   6%|▌         | 3/50 [00:00<00:02, 18.57it/s]"
     ]
    },
    {
     "name": "stdout",
     "output_type": "stream",
     "text": [
      "19.266666666666666\n"
     ]
    },
    {
     "name": "stderr",
     "output_type": "stream",
     "text": [
      "Training: 100%|██████████| 50/50 [00:07<00:00,  7.00it/s]\n",
      "Evaluating: 100%|██████████| 30/30 [00:00<00:00, 738.33it/s]\n",
      "Training:   0%|          | 0/50 [00:00<?, ?it/s]"
     ]
    },
    {
     "name": "stdout",
     "output_type": "stream",
     "text": [
      "9.266666666666667\n"
     ]
    },
    {
     "name": "stderr",
     "output_type": "stream",
     "text": [
      "Training: 100%|██████████| 50/50 [00:15<00:00,  3.32it/s]\n",
      "Evaluating: 100%|██████████| 30/30 [00:00<00:00, 74.08it/s]\n",
      "Training:   0%|          | 0/50 [00:00<?, ?it/s]"
     ]
    },
    {
     "name": "stdout",
     "output_type": "stream",
     "text": [
      "99.73333333333333\n"
     ]
    },
    {
     "name": "stderr",
     "output_type": "stream",
     "text": [
      "Training: 100%|██████████| 50/50 [00:14<00:00,  3.49it/s]\n",
      "Evaluating: 100%|██████████| 30/30 [00:00<00:00, 38.23it/s]\n",
      "Training:   0%|          | 0/50 [00:00<?, ?it/s]"
     ]
    },
    {
     "name": "stdout",
     "output_type": "stream",
     "text": [
      "200.0\n"
     ]
    },
    {
     "name": "stderr",
     "output_type": "stream",
     "text": [
      "Training: 100%|██████████| 50/50 [00:10<00:00,  4.64it/s]\n",
      "Evaluating: 100%|██████████| 30/30 [00:00<00:00, 100.53it/s]\n",
      "Training:   2%|▏         | 1/50 [00:00<00:05,  9.77it/s]"
     ]
    },
    {
     "name": "stdout",
     "output_type": "stream",
     "text": [
      "75.03333333333333\n"
     ]
    },
    {
     "name": "stderr",
     "output_type": "stream",
     "text": [
      "Training: 100%|██████████| 50/50 [00:05<00:00,  9.67it/s]\n",
      "Evaluating: 100%|██████████| 30/30 [00:00<00:00, 92.88it/s]\n",
      "Training:   2%|▏         | 1/50 [00:00<00:06,  8.04it/s]"
     ]
    },
    {
     "name": "stdout",
     "output_type": "stream",
     "text": [
      "75.6\n"
     ]
    },
    {
     "name": "stderr",
     "output_type": "stream",
     "text": [
      "Training: 100%|██████████| 50/50 [00:05<00:00,  8.76it/s]\n",
      "Evaluating: 100%|██████████| 30/30 [00:00<00:00, 124.92it/s]\n",
      "Training:   2%|▏         | 1/50 [00:00<00:06,  7.29it/s]"
     ]
    },
    {
     "name": "stdout",
     "output_type": "stream",
     "text": [
      "60.166666666666664\n"
     ]
    },
    {
     "name": "stderr",
     "output_type": "stream",
     "text": [
      "Training: 100%|██████████| 50/50 [00:04<00:00, 12.07it/s]\n",
      "Evaluating: 100%|██████████| 30/30 [00:00<00:00, 66.78it/s]\n",
      "Training:   6%|▌         | 3/50 [00:00<00:01, 26.82it/s]"
     ]
    },
    {
     "name": "stdout",
     "output_type": "stream",
     "text": [
      "114.5\n"
     ]
    },
    {
     "name": "stderr",
     "output_type": "stream",
     "text": [
      "Training: 100%|██████████| 50/50 [00:09<00:00,  5.21it/s]\n",
      "Evaluating: 100%|██████████| 30/30 [00:00<00:00, 37.85it/s]\n",
      "Training:   2%|▏         | 1/50 [00:00<00:08,  5.71it/s]"
     ]
    },
    {
     "name": "stdout",
     "output_type": "stream",
     "text": [
      "200.0\n"
     ]
    },
    {
     "name": "stderr",
     "output_type": "stream",
     "text": [
      "Training: 100%|██████████| 50/50 [00:10<00:00,  4.65it/s]\n",
      "Evaluating: 100%|██████████| 30/30 [00:00<00:00, 84.84it/s]\n",
      "Training:   0%|          | 0/50 [00:00<?, ?it/s]"
     ]
    },
    {
     "name": "stdout",
     "output_type": "stream",
     "text": [
      "89.9\n"
     ]
    },
    {
     "name": "stderr",
     "output_type": "stream",
     "text": [
      "Training: 100%|██████████| 50/50 [00:09<00:00,  5.30it/s]\n",
      "Evaluating: 100%|██████████| 30/30 [00:00<00:00, 191.14it/s]\n",
      "Training:   8%|▊         | 4/50 [00:00<00:01, 31.07it/s]"
     ]
    },
    {
     "name": "stdout",
     "output_type": "stream",
     "text": [
      "26.1\n"
     ]
    },
    {
     "name": "stderr",
     "output_type": "stream",
     "text": [
      "Training: 100%|██████████| 50/50 [00:03<00:00, 15.02it/s]\n",
      "Evaluating: 100%|██████████| 30/30 [00:00<00:00, 750.79it/s]\n",
      "Training:  16%|█▌        | 8/50 [00:00<00:00, 74.44it/s]"
     ]
    },
    {
     "name": "stdout",
     "output_type": "stream",
     "text": [
      "9.6\n"
     ]
    },
    {
     "name": "stderr",
     "output_type": "stream",
     "text": [
      "Training: 100%|██████████| 50/50 [00:03<00:00, 13.97it/s]\n",
      "Evaluating: 100%|██████████| 30/30 [00:00<00:00, 765.30it/s]\n",
      "Training:  12%|█▏        | 6/50 [00:00<00:00, 52.77it/s]"
     ]
    },
    {
     "name": "stdout",
     "output_type": "stream",
     "text": [
      "9.566666666666666\n"
     ]
    },
    {
     "name": "stderr",
     "output_type": "stream",
     "text": [
      "Training: 100%|██████████| 50/50 [00:04<00:00, 11.35it/s]\n",
      "Evaluating: 100%|██████████| 30/30 [00:00<00:00, 53.97it/s]\n",
      "Training:   2%|▏         | 1/50 [00:00<00:06,  7.97it/s]"
     ]
    },
    {
     "name": "stdout",
     "output_type": "stream",
     "text": [
      "138.8\n"
     ]
    },
    {
     "name": "stderr",
     "output_type": "stream",
     "text": [
      "Training: 100%|██████████| 50/50 [00:11<00:00,  4.54it/s]\n",
      "Evaluating: 100%|██████████| 30/30 [00:00<00:00, 200.72it/s]\n",
      "Training:   4%|▍         | 2/50 [00:00<00:03, 15.18it/s]"
     ]
    },
    {
     "name": "stdout",
     "output_type": "stream",
     "text": [
      "37.7\n"
     ]
    },
    {
     "name": "stderr",
     "output_type": "stream",
     "text": [
      "Training: 100%|██████████| 50/50 [00:02<00:00, 18.58it/s]\n",
      "Evaluating: 100%|██████████| 30/30 [00:00<00:00, 165.13it/s]\n",
      "Training:   4%|▍         | 2/50 [00:00<00:04, 11.02it/s]"
     ]
    },
    {
     "name": "stdout",
     "output_type": "stream",
     "text": [
      "45.9\n"
     ]
    },
    {
     "name": "stderr",
     "output_type": "stream",
     "text": [
      "Training: 100%|██████████| 50/50 [00:05<00:00,  8.63it/s]\n",
      "Evaluating: 100%|██████████| 30/30 [00:00<00:00, 47.20it/s]\n",
      "Training:   0%|          | 0/50 [00:00<?, ?it/s]"
     ]
    },
    {
     "name": "stdout",
     "output_type": "stream",
     "text": [
      "161.03333333333333\n"
     ]
    },
    {
     "name": "stderr",
     "output_type": "stream",
     "text": [
      "Training: 100%|██████████| 50/50 [00:05<00:00,  8.64it/s]\n",
      "Evaluating: 100%|██████████| 30/30 [00:00<00:00, 68.99it/s]\n",
      "Training:   2%|▏         | 1/50 [00:00<00:06,  7.32it/s]"
     ]
    },
    {
     "name": "stdout",
     "output_type": "stream",
     "text": [
      "102.56666666666666\n"
     ]
    },
    {
     "name": "stderr",
     "output_type": "stream",
     "text": [
      "Training: 100%|██████████| 50/50 [00:05<00:00,  9.70it/s]\n",
      "Evaluating: 100%|██████████| 30/30 [00:00<00:00, 363.63it/s]\n",
      "Training:   0%|          | 0/50 [00:00<?, ?it/s]"
     ]
    },
    {
     "name": "stdout",
     "output_type": "stream",
     "text": [
      "20.366666666666667\n"
     ]
    },
    {
     "name": "stderr",
     "output_type": "stream",
     "text": [
      "Training: 100%|██████████| 50/50 [00:06<00:00,  7.81it/s]\n",
      "Evaluating: 100%|██████████| 30/30 [00:00<00:00, 64.64it/s]\n",
      "Training:   2%|▏         | 1/50 [00:00<00:07,  6.25it/s]"
     ]
    },
    {
     "name": "stdout",
     "output_type": "stream",
     "text": [
      "96.36666666666666\n"
     ]
    },
    {
     "name": "stderr",
     "output_type": "stream",
     "text": [
      "Training: 100%|██████████| 50/50 [00:06<00:00,  7.99it/s]\n",
      "Evaluating: 100%|██████████| 30/30 [00:00<00:00, 79.34it/s]\n",
      "Training:   2%|▏         | 1/50 [00:00<00:06,  7.07it/s]"
     ]
    },
    {
     "name": "stdout",
     "output_type": "stream",
     "text": [
      "96.26666666666667\n"
     ]
    },
    {
     "name": "stderr",
     "output_type": "stream",
     "text": [
      "Training: 100%|██████████| 50/50 [00:05<00:00,  9.60it/s]\n",
      "Evaluating: 100%|██████████| 30/30 [00:00<00:00, 178.07it/s]\n",
      "Training:   2%|▏         | 1/50 [00:00<00:06,  7.28it/s]"
     ]
    },
    {
     "name": "stdout",
     "output_type": "stream",
     "text": [
      "41.766666666666666\n"
     ]
    },
    {
     "name": "stderr",
     "output_type": "stream",
     "text": [
      "Training: 100%|██████████| 50/50 [00:03<00:00, 13.52it/s]\n",
      "Evaluating: 100%|██████████| 30/30 [00:00<00:00, 147.29it/s]\n",
      "Training:   4%|▍         | 2/50 [00:00<00:03, 14.37it/s]"
     ]
    },
    {
     "name": "stdout",
     "output_type": "stream",
     "text": [
      "50.7\n"
     ]
    },
    {
     "name": "stderr",
     "output_type": "stream",
     "text": [
      "Training: 100%|██████████| 50/50 [00:03<00:00, 12.85it/s]\n",
      "Evaluating: 100%|██████████| 30/30 [00:00<00:00, 736.35it/s]\n",
      "Training:   6%|▌         | 3/50 [00:00<00:01, 28.71it/s]"
     ]
    },
    {
     "name": "stdout",
     "output_type": "stream",
     "text": [
      "9.4\n"
     ]
    },
    {
     "name": "stderr",
     "output_type": "stream",
     "text": [
      "Training: 100%|██████████| 50/50 [00:05<00:00,  9.76it/s]\n",
      "Evaluating: 100%|██████████| 30/30 [00:00<00:00, 764.56it/s]\n",
      "Training:   6%|▌         | 3/50 [00:00<00:01, 27.15it/s]"
     ]
    },
    {
     "name": "stdout",
     "output_type": "stream",
     "text": [
      "9.333333333333334\n"
     ]
    },
    {
     "name": "stderr",
     "output_type": "stream",
     "text": [
      "Training: 100%|██████████| 50/50 [00:04<00:00, 10.64it/s]\n",
      "Evaluating: 100%|██████████| 30/30 [00:00<00:00, 60.90it/s]\n",
      "Training:   2%|▏         | 1/50 [00:00<00:08,  6.01it/s]"
     ]
    },
    {
     "name": "stdout",
     "output_type": "stream",
     "text": [
      "124.06666666666666\n"
     ]
    },
    {
     "name": "stderr",
     "output_type": "stream",
     "text": [
      "Training: 100%|██████████| 50/50 [00:06<00:00,  7.80it/s]\n",
      "Evaluating: 100%|██████████| 30/30 [00:00<00:00, 67.83it/s]\n",
      "Training:   2%|▏         | 1/50 [00:00<00:09,  5.35it/s]"
     ]
    },
    {
     "name": "stdout",
     "output_type": "stream",
     "text": [
      "107.3\n"
     ]
    },
    {
     "name": "stderr",
     "output_type": "stream",
     "text": [
      "Training: 100%|██████████| 50/50 [00:07<00:00,  6.71it/s]\n",
      "Evaluating: 100%|██████████| 30/30 [00:00<00:00, 132.87it/s]\n"
     ]
    },
    {
     "name": "stdout",
     "output_type": "stream",
     "text": [
      "56.86666666666667\n",
      "\n",
      "Learning Performance:\n",
      "\n"
     ]
    },
    {
     "data": {
      "text/plain": [
       "<Figure size 432x288 with 0 Axes>"
      ]
     },
     "metadata": {},
     "output_type": "display_data"
    },
    {
     "data": {
      "image/png": "[encoded data removed]",
      "text/plain": [
       "<Figure size 432x288 with 1 Axes>"
      ]
     },
     "metadata": {
      "needs_background": "light"
     },
     "output_type": "display_data"
    }
   ],
   "source": [
    "# DQN without a replay buffer and without a target network. This is just standard Q-learning with a function approximator. \n",
    "# The corresponding parameters are: memory_size = 1, update_steps = 1, batch_size = 1, use_target_model = False\n",
    "\n",
    "hyperparams_CartPole = {\n",
    "    'epsilon_decay_steps' : 100000, \n",
    "    'final_epsilon' : 0.1,\n",
    "    'batch_size' : 1, \n",
    "    'update_steps' : 1, \n",
    "    'memory_size' : 1, \n",
    "    'beta' : 0.99, \n",
    "    'model_replace_freq' : 2000,\n",
    "    'learning_rate' : 0.0003,\n",
    "    'use_target_model': False\n",
    "}\n",
    "\n",
    "training_episodes, test_interval = 10000, 50\n",
    "agent = DQN_agent(env_CartPole, hyperparams_CartPole)\n",
    "result = agent.learn_and_evaluate(training_episodes, test_interval)\n",
    "plot_result(result, test_interval, [\"latest_update, no target_model\"])"
   ]
  },
  {
   "cell_type": "code",
   "execution_count": 11,
   "metadata": {},
   "outputs": [
    {
     "name": "stderr",
     "output_type": "stream",
     "text": [
      "Training: 100%|██████████| 50/50 [00:01<00:00, 28.83it/s]\n",
      "Evaluating: 100%|██████████| 30/30 [00:00<00:00, 642.47it/s]\n",
      "Training:   8%|▊         | 4/50 [00:00<00:01, 39.25it/s]"
     ]
    },
    {
     "name": "stdout",
     "output_type": "stream",
     "text": [
      "10.566666666666666\n"
     ]
    },
    {
     "name": "stderr",
     "output_type": "stream",
     "text": [
      "Training: 100%|██████████| 50/50 [00:01<00:00, 36.71it/s]\n",
      "Evaluating: 100%|██████████| 30/30 [00:00<00:00, 743.55it/s]\n",
      "Training:  10%|█         | 5/50 [00:00<00:01, 39.06it/s]"
     ]
    },
    {
     "name": "stdout",
     "output_type": "stream",
     "text": [
      "9.566666666666666\n"
     ]
    },
    {
     "name": "stderr",
     "output_type": "stream",
     "text": [
      "Training: 100%|██████████| 50/50 [00:01<00:00, 26.70it/s]\n",
      "Evaluating: 100%|██████████| 30/30 [00:00<00:00, 637.26it/s]\n",
      "Training:   6%|▌         | 3/50 [00:00<00:01, 27.00it/s]"
     ]
    },
    {
     "name": "stdout",
     "output_type": "stream",
     "text": [
      "11.433333333333334\n"
     ]
    },
    {
     "name": "stderr",
     "output_type": "stream",
     "text": [
      "Training: 100%|██████████| 50/50 [00:01<00:00, 31.51it/s]\n",
      "Evaluating: 100%|██████████| 30/30 [00:00<00:00, 427.04it/s]\n",
      "Training:  10%|█         | 5/50 [00:00<00:01, 37.97it/s]"
     ]
    },
    {
     "name": "stdout",
     "output_type": "stream",
     "text": [
      "16.3\n"
     ]
    },
    {
     "name": "stderr",
     "output_type": "stream",
     "text": [
      "Training: 100%|██████████| 50/50 [00:01<00:00, 29.85it/s]\n",
      "Evaluating: 100%|██████████| 30/30 [00:00<00:00, 736.40it/s]\n",
      "Training:   8%|▊         | 4/50 [00:00<00:01, 39.34it/s]"
     ]
    },
    {
     "name": "stdout",
     "output_type": "stream",
     "text": [
      "9.266666666666667\n"
     ]
    },
    {
     "name": "stderr",
     "output_type": "stream",
     "text": [
      "Training: 100%|██████████| 50/50 [00:01<00:00, 32.11it/s]\n",
      "Evaluating: 100%|██████████| 30/30 [00:00<00:00, 770.80it/s]\n",
      "Training:   6%|▌         | 3/50 [00:00<00:01, 23.76it/s]"
     ]
    },
    {
     "name": "stdout",
     "output_type": "stream",
     "text": [
      "9.166666666666666\n"
     ]
    },
    {
     "name": "stderr",
     "output_type": "stream",
     "text": [
      "Training: 100%|██████████| 50/50 [00:01<00:00, 31.40it/s]\n",
      "Evaluating: 100%|██████████| 30/30 [00:00<00:00, 108.27it/s]\n",
      "Training:   8%|▊         | 4/50 [00:00<00:01, 31.07it/s]"
     ]
    },
    {
     "name": "stdout",
     "output_type": "stream",
     "text": [
      "70.93333333333334\n"
     ]
    },
    {
     "name": "stderr",
     "output_type": "stream",
     "text": [
      "Training: 100%|██████████| 50/50 [00:01<00:00, 30.32it/s]\n",
      "Evaluating: 100%|██████████| 30/30 [00:00<00:00, 584.90it/s]\n",
      "Training:  10%|█         | 5/50 [00:00<00:01, 43.98it/s]"
     ]
    },
    {
     "name": "stdout",
     "output_type": "stream",
     "text": [
      "12.066666666666666\n"
     ]
    },
    {
     "name": "stderr",
     "output_type": "stream",
     "text": [
      "Training: 100%|██████████| 50/50 [00:01<00:00, 36.89it/s]\n",
      "Evaluating: 100%|██████████| 30/30 [00:00<00:00, 120.94it/s]\n",
      "Training:   6%|▌         | 3/50 [00:00<00:01, 26.16it/s]"
     ]
    },
    {
     "name": "stdout",
     "output_type": "stream",
     "text": [
      "46.733333333333334\n"
     ]
    },
    {
     "name": "stderr",
     "output_type": "stream",
     "text": [
      "Training: 100%|██████████| 50/50 [00:02<00:00, 21.48it/s]\n",
      "Evaluating: 100%|██████████| 30/30 [00:00<00:00, 650.09it/s]\n",
      "Training:   4%|▍         | 2/50 [00:00<00:03, 13.24it/s]"
     ]
    },
    {
     "name": "stdout",
     "output_type": "stream",
     "text": [
      "11.0\n"
     ]
    },
    {
     "name": "stderr",
     "output_type": "stream",
     "text": [
      "Training: 100%|██████████| 50/50 [00:01<00:00, 25.02it/s]\n",
      "Evaluating: 100%|██████████| 30/30 [00:00<00:00, 587.42it/s]\n",
      "Training:   4%|▍         | 2/50 [00:00<00:02, 19.27it/s]"
     ]
    },
    {
     "name": "stdout",
     "output_type": "stream",
     "text": [
      "9.333333333333334\n"
     ]
    },
    {
     "name": "stderr",
     "output_type": "stream",
     "text": [
      "Training: 100%|██████████| 50/50 [00:01<00:00, 26.54it/s]\n",
      "Evaluating: 100%|██████████| 30/30 [00:00<00:00, 55.46it/s]\n",
      "Training:  10%|█         | 5/50 [00:00<00:00, 49.63it/s]"
     ]
    },
    {
     "name": "stdout",
     "output_type": "stream",
     "text": [
      "131.96666666666667\n"
     ]
    },
    {
     "name": "stderr",
     "output_type": "stream",
     "text": [
      "Training: 100%|██████████| 50/50 [00:01<00:00, 28.03it/s]\n",
      "Evaluating: 100%|██████████| 30/30 [00:00<00:00, 45.30it/s]\n",
      "Training:   4%|▍         | 2/50 [00:00<00:02, 17.56it/s]"
     ]
    },
    {
     "name": "stdout",
     "output_type": "stream",
     "text": [
      "171.1\n"
     ]
    },
    {
     "name": "stderr",
     "output_type": "stream",
     "text": [
      "Training: 100%|██████████| 50/50 [00:02<00:00, 23.29it/s]\n",
      "Evaluating: 100%|██████████| 30/30 [00:00<00:00, 47.13it/s]\n",
      "Training:   8%|▊         | 4/50 [00:00<00:01, 23.21it/s]"
     ]
    },
    {
     "name": "stdout",
     "output_type": "stream",
     "text": [
      "165.73333333333332\n"
     ]
    },
    {
     "name": "stderr",
     "output_type": "stream",
     "text": [
      "Training: 100%|██████████| 50/50 [00:02<00:00, 21.30it/s]\n",
      "Evaluating: 100%|██████████| 30/30 [00:00<00:00, 45.53it/s]\n",
      "Training:  10%|█         | 5/50 [00:00<00:01, 44.39it/s]"
     ]
    },
    {
     "name": "stdout",
     "output_type": "stream",
     "text": [
      "171.0\n"
     ]
    },
    {
     "name": "stderr",
     "output_type": "stream",
     "text": [
      "Training: 100%|██████████| 50/50 [00:01<00:00, 27.11it/s]\n",
      "Evaluating: 100%|██████████| 30/30 [00:00<00:00, 37.39it/s]\n",
      "Training:   6%|▌         | 3/50 [00:00<00:01, 24.27it/s]"
     ]
    },
    {
     "name": "stdout",
     "output_type": "stream",
     "text": [
      "200.0\n"
     ]
    },
    {
     "name": "stderr",
     "output_type": "stream",
     "text": [
      "Training: 100%|██████████| 50/50 [00:02<00:00, 18.81it/s]\n",
      "Evaluating: 100%|██████████| 30/30 [00:00<00:00, 38.68it/s]\n",
      "Training:   2%|▏         | 1/50 [00:00<00:07,  6.95it/s]"
     ]
    },
    {
     "name": "stdout",
     "output_type": "stream",
     "text": [
      "198.8\n"
     ]
    },
    {
     "name": "stderr",
     "output_type": "stream",
     "text": [
      "Training: 100%|██████████| 50/50 [00:02<00:00, 22.69it/s]\n",
      "Evaluating: 100%|██████████| 30/30 [00:00<00:00, 46.80it/s]\n",
      "Training:   6%|▌         | 3/50 [00:00<00:01, 27.19it/s]"
     ]
    },
    {
     "name": "stdout",
     "output_type": "stream",
     "text": [
      "156.8\n"
     ]
    },
    {
     "name": "stderr",
     "output_type": "stream",
     "text": [
      "Training: 100%|██████████| 50/50 [00:02<00:00, 20.18it/s]\n",
      "Evaluating: 100%|██████████| 30/30 [00:00<00:00, 33.31it/s]\n",
      "Training:   6%|▌         | 3/50 [00:00<00:01, 25.82it/s]"
     ]
    },
    {
     "name": "stdout",
     "output_type": "stream",
     "text": [
      "180.26666666666668\n"
     ]
    },
    {
     "name": "stderr",
     "output_type": "stream",
     "text": [
      "Training: 100%|██████████| 50/50 [00:02<00:00, 17.95it/s]\n",
      "Evaluating: 100%|██████████| 30/30 [00:00<00:00, 38.98it/s]\n",
      "Training:   0%|          | 0/50 [00:00<?, ?it/s]"
     ]
    },
    {
     "name": "stdout",
     "output_type": "stream",
     "text": [
      "197.5\n"
     ]
    },
    {
     "name": "stderr",
     "output_type": "stream",
     "text": [
      "Training: 100%|██████████| 50/50 [00:03<00:00, 13.18it/s]\n",
      "Evaluating: 100%|██████████| 30/30 [00:00<00:00, 61.59it/s]\n",
      "Training:   6%|▌         | 3/50 [00:00<00:02, 21.14it/s]"
     ]
    },
    {
     "name": "stdout",
     "output_type": "stream",
     "text": [
      "124.53333333333333\n"
     ]
    },
    {
     "name": "stderr",
     "output_type": "stream",
     "text": [
      "Training: 100%|██████████| 50/50 [00:02<00:00, 17.52it/s]\n",
      "Evaluating: 100%|██████████| 30/30 [00:00<00:00, 44.54it/s]\n",
      "Training:   4%|▍         | 2/50 [00:00<00:02, 16.22it/s]"
     ]
    },
    {
     "name": "stdout",
     "output_type": "stream",
     "text": [
      "163.66666666666666\n"
     ]
    },
    {
     "name": "stderr",
     "output_type": "stream",
     "text": [
      "Training: 100%|██████████| 50/50 [00:02<00:00, 16.72it/s]\n",
      "Evaluating: 100%|██████████| 30/30 [00:00<00:00, 46.79it/s]\n",
      "Training:   2%|▏         | 1/50 [00:00<00:05,  8.59it/s]"
     ]
    },
    {
     "name": "stdout",
     "output_type": "stream",
     "text": [
      "164.23333333333332\n"
     ]
    },
    {
     "name": "stderr",
     "output_type": "stream",
     "text": [
      "Training: 100%|██████████| 50/50 [00:03<00:00, 13.85it/s]\n",
      "Evaluating: 100%|██████████| 30/30 [00:00<00:00, 38.19it/s]\n",
      "Training:   4%|▍         | 2/50 [00:00<00:02, 19.86it/s]"
     ]
    },
    {
     "name": "stdout",
     "output_type": "stream",
     "text": [
      "200.0\n"
     ]
    },
    {
     "name": "stderr",
     "output_type": "stream",
     "text": [
      "Training: 100%|██████████| 50/50 [00:03<00:00, 13.68it/s]\n",
      "Evaluating: 100%|██████████| 30/30 [00:00<00:00, 47.34it/s]\n",
      "Training:   2%|▏         | 1/50 [00:00<00:06,  7.34it/s]"
     ]
    },
    {
     "name": "stdout",
     "output_type": "stream",
     "text": [
      "120.36666666666666\n"
     ]
    },
    {
     "name": "stderr",
     "output_type": "stream",
     "text": [
      "Training: 100%|██████████| 50/50 [00:03<00:00, 15.39it/s]\n",
      "Evaluating: 100%|██████████| 30/30 [00:00<00:00, 56.88it/s]\n",
      "Training:   2%|▏         | 1/50 [00:00<00:06,  7.95it/s]"
     ]
    },
    {
     "name": "stdout",
     "output_type": "stream",
     "text": [
      "134.83333333333334\n"
     ]
    },
    {
     "name": "stderr",
     "output_type": "stream",
     "text": [
      "Training: 100%|██████████| 50/50 [00:03<00:00, 15.55it/s]\n",
      "Evaluating: 100%|██████████| 30/30 [00:00<00:00, 68.83it/s]\n",
      "Training:   0%|          | 0/50 [00:00<?, ?it/s]"
     ]
    },
    {
     "name": "stdout",
     "output_type": "stream",
     "text": [
      "106.6\n"
     ]
    },
    {
     "name": "stderr",
     "output_type": "stream",
     "text": [
      "Training: 100%|██████████| 50/50 [00:02<00:00, 18.20it/s]\n",
      "Evaluating: 100%|██████████| 30/30 [00:00<00:00, 77.40it/s]\n",
      "Training:   0%|          | 0/50 [00:00<?, ?it/s]"
     ]
    },
    {
     "name": "stdout",
     "output_type": "stream",
     "text": [
      "98.3\n"
     ]
    },
    {
     "name": "stderr",
     "output_type": "stream",
     "text": [
      "Training: 100%|██████████| 50/50 [00:03<00:00, 15.43it/s]\n",
      "Evaluating: 100%|██████████| 30/30 [00:00<00:00, 45.32it/s]\n",
      "Training:   4%|▍         | 2/50 [00:00<00:03, 14.95it/s]"
     ]
    },
    {
     "name": "stdout",
     "output_type": "stream",
     "text": [
      "133.06666666666666\n"
     ]
    },
    {
     "name": "stderr",
     "output_type": "stream",
     "text": [
      "Training: 100%|██████████| 50/50 [00:02<00:00, 19.50it/s]\n",
      "Evaluating: 100%|██████████| 30/30 [00:00<00:00, 66.34it/s]\n",
      "Training:   0%|          | 0/50 [00:00<?, ?it/s]"
     ]
    },
    {
     "name": "stdout",
     "output_type": "stream",
     "text": [
      "99.0\n"
     ]
    },
    {
     "name": "stderr",
     "output_type": "stream",
     "text": [
      "Training: 100%|██████████| 50/50 [00:02<00:00, 16.83it/s]\n",
      "Evaluating: 100%|██████████| 30/30 [00:00<00:00, 78.41it/s]\n",
      "Training:  10%|█         | 5/50 [00:00<00:00, 45.69it/s]"
     ]
    },
    {
     "name": "stdout",
     "output_type": "stream",
     "text": [
      "96.66666666666667\n"
     ]
    },
    {
     "name": "stderr",
     "output_type": "stream",
     "text": [
      "Training: 100%|██████████| 50/50 [00:02<00:00, 23.22it/s]\n",
      "Evaluating: 100%|██████████| 30/30 [00:00<00:00, 58.84it/s]\n",
      "Training:   6%|▌         | 3/50 [00:00<00:02, 17.36it/s]"
     ]
    },
    {
     "name": "stdout",
     "output_type": "stream",
     "text": [
      "97.96666666666667\n"
     ]
    },
    {
     "name": "stderr",
     "output_type": "stream",
     "text": [
      "Training: 100%|██████████| 50/50 [00:02<00:00, 19.64it/s]\n",
      "Evaluating: 100%|██████████| 30/30 [00:00<00:00, 82.60it/s]\n",
      "Training:   4%|▍         | 2/50 [00:00<00:03, 14.56it/s]"
     ]
    },
    {
     "name": "stdout",
     "output_type": "stream",
     "text": [
      "91.7\n"
     ]
    },
    {
     "name": "stderr",
     "output_type": "stream",
     "text": [
      "Training: 100%|██████████| 50/50 [00:02<00:00, 18.33it/s]\n",
      "Evaluating: 100%|██████████| 30/30 [00:00<00:00, 83.84it/s]\n",
      "Training:   2%|▏         | 1/50 [00:00<00:05,  9.20it/s]"
     ]
    },
    {
     "name": "stdout",
     "output_type": "stream",
     "text": [
      "91.33333333333333\n"
     ]
    },
    {
     "name": "stderr",
     "output_type": "stream",
     "text": [
      "Training: 100%|██████████| 50/50 [00:02<00:00, 18.70it/s]\n",
      "Evaluating: 100%|██████████| 30/30 [00:00<00:00, 53.20it/s]\n",
      "Training:   2%|▏         | 1/50 [00:00<00:07,  6.40it/s]"
     ]
    },
    {
     "name": "stdout",
     "output_type": "stream",
     "text": [
      "104.6\n"
     ]
    },
    {
     "name": "stderr",
     "output_type": "stream",
     "text": [
      "Training: 100%|██████████| 50/50 [00:02<00:00, 17.02it/s]\n",
      "Evaluating: 100%|██████████| 30/30 [00:00<00:00, 74.21it/s]\n",
      "Training:   4%|▍         | 2/50 [00:00<00:03, 14.10it/s]"
     ]
    },
    {
     "name": "stdout",
     "output_type": "stream",
     "text": [
      "100.46666666666667\n"
     ]
    },
    {
     "name": "stderr",
     "output_type": "stream",
     "text": [
      "Training: 100%|██████████| 50/50 [00:03<00:00, 12.61it/s]\n",
      "Evaluating: 100%|██████████| 30/30 [00:00<00:00, 60.75it/s]\n",
      "Training:   2%|▏         | 1/50 [00:00<00:05,  9.04it/s]"
     ]
    },
    {
     "name": "stdout",
     "output_type": "stream",
     "text": [
      "123.03333333333333\n"
     ]
    },
    {
     "name": "stderr",
     "output_type": "stream",
     "text": [
      "Training: 100%|██████████| 50/50 [00:03<00:00, 15.34it/s]\n",
      "Evaluating: 100%|██████████| 30/30 [00:00<00:00, 59.70it/s]\n",
      "Training:   8%|▊         | 4/50 [00:00<00:01, 26.56it/s]"
     ]
    },
    {
     "name": "stdout",
     "output_type": "stream",
     "text": [
      "124.4\n"
     ]
    },
    {
     "name": "stderr",
     "output_type": "stream",
     "text": [
      "Training: 100%|██████████| 50/50 [00:03<00:00, 16.29it/s]\n",
      "Evaluating: 100%|██████████| 30/30 [00:00<00:00, 63.91it/s]\n",
      "Training:   4%|▍         | 2/50 [00:00<00:03, 12.69it/s]"
     ]
    },
    {
     "name": "stdout",
     "output_type": "stream",
     "text": [
      "116.86666666666666\n"
     ]
    },
    {
     "name": "stderr",
     "output_type": "stream",
     "text": [
      "Training: 100%|██████████| 50/50 [00:06<00:00,  8.00it/s]\n",
      "Evaluating: 100%|██████████| 30/30 [00:00<00:00, 66.18it/s]\n",
      "Training:   8%|▊         | 4/50 [00:00<00:01, 32.16it/s]"
     ]
    },
    {
     "name": "stdout",
     "output_type": "stream",
     "text": [
      "111.76666666666667\n"
     ]
    },
    {
     "name": "stderr",
     "output_type": "stream",
     "text": [
      "Training: 100%|██████████| 50/50 [00:01<00:00, 30.82it/s]\n",
      "Evaluating: 100%|██████████| 30/30 [00:00<00:00, 121.36it/s]\n",
      "Training:   6%|▌         | 3/50 [00:00<00:01, 25.46it/s]"
     ]
    },
    {
     "name": "stdout",
     "output_type": "stream",
     "text": [
      "63.2\n"
     ]
    },
    {
     "name": "stderr",
     "output_type": "stream",
     "text": [
      "Training: 100%|██████████| 50/50 [00:04<00:00, 11.56it/s]\n",
      "Evaluating: 100%|██████████| 30/30 [00:00<00:00, 68.59it/s]\n",
      "Training:   0%|          | 0/50 [00:00<?, ?it/s]"
     ]
    },
    {
     "name": "stdout",
     "output_type": "stream",
     "text": [
      "109.33333333333333\n"
     ]
    },
    {
     "name": "stderr",
     "output_type": "stream",
     "text": [
      "Training: 100%|██████████| 50/50 [00:03<00:00, 13.24it/s]\n",
      "Evaluating: 100%|██████████| 30/30 [00:00<00:00, 191.12it/s]\n",
      "Training:   6%|▌         | 3/50 [00:00<00:02, 22.28it/s]"
     ]
    },
    {
     "name": "stdout",
     "output_type": "stream",
     "text": [
      "39.9\n"
     ]
    },
    {
     "name": "stderr",
     "output_type": "stream",
     "text": [
      "Training: 100%|██████████| 50/50 [00:04<00:00, 12.13it/s]\n",
      "Evaluating: 100%|██████████| 30/30 [00:00<00:00, 342.49it/s]\n",
      "Training:   0%|          | 0/50 [00:00<?, ?it/s]"
     ]
    },
    {
     "name": "stdout",
     "output_type": "stream",
     "text": [
      "21.6\n"
     ]
    },
    {
     "name": "stderr",
     "output_type": "stream",
     "text": [
      "Training: 100%|██████████| 50/50 [00:05<00:00,  8.98it/s]\n",
      "Evaluating: 100%|██████████| 30/30 [00:00<00:00, 48.88it/s]\n",
      "Training:   0%|          | 0/50 [00:00<?, ?it/s]"
     ]
    },
    {
     "name": "stdout",
     "output_type": "stream",
     "text": [
      "153.16666666666666\n"
     ]
    },
    {
     "name": "stderr",
     "output_type": "stream",
     "text": [
      "Training: 100%|██████████| 50/50 [00:08<00:00,  5.74it/s]\n",
      "Evaluating: 100%|██████████| 30/30 [00:00<00:00, 65.98it/s]\n",
      "Training:   0%|          | 0/50 [00:00<?, ?it/s]"
     ]
    },
    {
     "name": "stdout",
     "output_type": "stream",
     "text": [
      "116.3\n"
     ]
    },
    {
     "name": "stderr",
     "output_type": "stream",
     "text": [
      "Training: 100%|██████████| 50/50 [00:03<00:00, 15.73it/s]\n",
      "Evaluating: 100%|██████████| 30/30 [00:00<00:00, 185.03it/s]\n",
      "Training:   0%|          | 0/50 [00:00<?, ?it/s]"
     ]
    },
    {
     "name": "stdout",
     "output_type": "stream",
     "text": [
      "40.666666666666664\n"
     ]
    },
    {
     "name": "stderr",
     "output_type": "stream",
     "text": [
      "Training: 100%|██████████| 50/50 [00:06<00:00,  7.69it/s]\n",
      "Evaluating: 100%|██████████| 30/30 [00:00<00:00, 41.11it/s]\n",
      "Training:   0%|          | 0/50 [00:00<?, ?it/s]"
     ]
    },
    {
     "name": "stdout",
     "output_type": "stream",
     "text": [
      "173.0\n"
     ]
    },
    {
     "name": "stderr",
     "output_type": "stream",
     "text": [
      "Training: 100%|██████████| 50/50 [00:07<00:00,  6.39it/s]\n",
      "Evaluating: 100%|██████████| 30/30 [00:00<00:00, 282.69it/s]\n",
      "Training:   8%|▊         | 4/50 [00:00<00:01, 28.12it/s]"
     ]
    },
    {
     "name": "stdout",
     "output_type": "stream",
     "text": [
      "25.2\n"
     ]
    },
    {
     "name": "stderr",
     "output_type": "stream",
     "text": [
      "Training: 100%|██████████| 50/50 [00:02<00:00, 20.60it/s]\n",
      "Evaluating: 100%|██████████| 30/30 [00:00<00:00, 332.08it/s]\n",
      "Training:  10%|█         | 5/50 [00:00<00:01, 44.45it/s]"
     ]
    },
    {
     "name": "stdout",
     "output_type": "stream",
     "text": [
      "16.766666666666666\n"
     ]
    },
    {
     "name": "stderr",
     "output_type": "stream",
     "text": [
      "Training: 100%|██████████| 50/50 [00:04<00:00, 10.26it/s]\n",
      "Evaluating: 100%|██████████| 30/30 [00:00<00:00, 37.84it/s]\n",
      "Training:   2%|▏         | 1/50 [00:00<00:08,  5.54it/s]"
     ]
    },
    {
     "name": "stdout",
     "output_type": "stream",
     "text": [
      "197.86666666666667\n"
     ]
    },
    {
     "name": "stderr",
     "output_type": "stream",
     "text": [
      "Training: 100%|██████████| 50/50 [00:10<00:00,  4.64it/s]\n",
      "Evaluating: 100%|██████████| 30/30 [00:00<00:00, 59.51it/s]\n",
      "Training:   0%|          | 0/50 [00:00<?, ?it/s]"
     ]
    },
    {
     "name": "stdout",
     "output_type": "stream",
     "text": [
      "120.03333333333333\n"
     ]
    },
    {
     "name": "stderr",
     "output_type": "stream",
     "text": [
      "Training: 100%|██████████| 50/50 [00:08<00:00,  5.56it/s]\n",
      "Evaluating: 100%|██████████| 30/30 [00:00<00:00, 78.67it/s]\n",
      "Training:   0%|          | 0/50 [00:00<?, ?it/s]"
     ]
    },
    {
     "name": "stdout",
     "output_type": "stream",
     "text": [
      "96.73333333333333\n"
     ]
    },
    {
     "name": "stderr",
     "output_type": "stream",
     "text": [
      "Training: 100%|██████████| 50/50 [00:07<00:00,  6.65it/s]\n",
      "Evaluating: 100%|██████████| 30/30 [00:00<00:00, 45.74it/s]\n",
      "Training:   0%|          | 0/50 [00:00<?, ?it/s]"
     ]
    },
    {
     "name": "stdout",
     "output_type": "stream",
     "text": [
      "165.1\n"
     ]
    },
    {
     "name": "stderr",
     "output_type": "stream",
     "text": [
      "Training: 100%|██████████| 50/50 [00:11<00:00,  4.17it/s]\n",
      "Evaluating: 100%|██████████| 30/30 [00:00<00:00, 65.59it/s]\n",
      "Training:   2%|▏         | 1/50 [00:00<00:09,  5.07it/s]"
     ]
    },
    {
     "name": "stdout",
     "output_type": "stream",
     "text": [
      "116.76666666666667\n"
     ]
    },
    {
     "name": "stderr",
     "output_type": "stream",
     "text": [
      "Training: 100%|██████████| 50/50 [00:03<00:00, 12.76it/s]\n",
      "Evaluating: 100%|██████████| 30/30 [00:00<00:00, 378.53it/s]\n",
      "Training:  10%|█         | 5/50 [00:00<00:00, 47.53it/s]"
     ]
    },
    {
     "name": "stdout",
     "output_type": "stream",
     "text": [
      "16.133333333333333\n"
     ]
    },
    {
     "name": "stderr",
     "output_type": "stream",
     "text": [
      "Training: 100%|██████████| 50/50 [00:03<00:00, 13.33it/s]\n",
      "Evaluating: 100%|██████████| 30/30 [00:00<00:00, 44.56it/s]\n",
      "Training:   0%|          | 0/50 [00:00<?, ?it/s]"
     ]
    },
    {
     "name": "stdout",
     "output_type": "stream",
     "text": [
      "130.0\n"
     ]
    },
    {
     "name": "stderr",
     "output_type": "stream",
     "text": [
      "Training: 100%|██████████| 50/50 [00:04<00:00, 12.39it/s]\n",
      "Evaluating: 100%|██████████| 30/30 [00:00<00:00, 440.85it/s]\n",
      "Training:  10%|█         | 5/50 [00:00<00:00, 47.12it/s]"
     ]
    },
    {
     "name": "stdout",
     "output_type": "stream",
     "text": [
      "16.7\n"
     ]
    },
    {
     "name": "stderr",
     "output_type": "stream",
     "text": [
      "Training: 100%|██████████| 50/50 [00:01<00:00, 28.37it/s]\n",
      "Evaluating: 100%|██████████| 30/30 [00:00<00:00, 236.95it/s]\n",
      "Training:   0%|          | 0/50 [00:00<?, ?it/s]"
     ]
    },
    {
     "name": "stdout",
     "output_type": "stream",
     "text": [
      "32.0\n"
     ]
    },
    {
     "name": "stderr",
     "output_type": "stream",
     "text": [
      "Training: 100%|██████████| 50/50 [00:06<00:00,  7.24it/s]\n",
      "Evaluating: 100%|██████████| 30/30 [00:00<00:00, 69.34it/s]\n",
      "Training:   2%|▏         | 1/50 [00:00<00:08,  5.87it/s]"
     ]
    },
    {
     "name": "stdout",
     "output_type": "stream",
     "text": [
      "105.0\n"
     ]
    },
    {
     "name": "stderr",
     "output_type": "stream",
     "text": [
      "Training: 100%|██████████| 50/50 [00:06<00:00,  7.46it/s]\n",
      "Evaluating: 100%|██████████| 30/30 [00:00<00:00, 43.70it/s]\n",
      "Training:   0%|          | 0/50 [00:00<?, ?it/s]"
     ]
    },
    {
     "name": "stdout",
     "output_type": "stream",
     "text": [
      "136.33333333333334\n"
     ]
    },
    {
     "name": "stderr",
     "output_type": "stream",
     "text": [
      "Training: 100%|██████████| 50/50 [00:06<00:00,  8.04it/s]\n",
      "Evaluating: 100%|██████████| 30/30 [00:00<00:00, 68.54it/s]\n",
      "Training:   2%|▏         | 1/50 [00:00<00:08,  5.45it/s]"
     ]
    },
    {
     "name": "stdout",
     "output_type": "stream",
     "text": [
      "105.9\n"
     ]
    },
    {
     "name": "stderr",
     "output_type": "stream",
     "text": [
      "Training: 100%|██████████| 50/50 [00:06<00:00,  7.66it/s]\n",
      "Evaluating: 100%|██████████| 30/30 [00:00<00:00, 104.47it/s]\n",
      "Training:   2%|▏         | 1/50 [00:00<00:05,  8.48it/s]"
     ]
    },
    {
     "name": "stdout",
     "output_type": "stream",
     "text": [
      "69.03333333333333\n"
     ]
    },
    {
     "name": "stderr",
     "output_type": "stream",
     "text": [
      "Training: 100%|██████████| 50/50 [00:05<00:00,  9.55it/s]\n",
      "Evaluating: 100%|██████████| 30/30 [00:00<00:00, 89.47it/s]\n",
      "Training:   2%|▏         | 1/50 [00:00<00:05,  8.89it/s]"
     ]
    },
    {
     "name": "stdout",
     "output_type": "stream",
     "text": [
      "85.73333333333333\n"
     ]
    },
    {
     "name": "stderr",
     "output_type": "stream",
     "text": [
      "Training: 100%|██████████| 50/50 [00:01<00:00, 32.78it/s]\n",
      "Evaluating: 100%|██████████| 30/30 [00:00<00:00, 341.24it/s]\n",
      "Training:   4%|▍         | 2/50 [00:00<00:02, 18.24it/s]"
     ]
    },
    {
     "name": "stdout",
     "output_type": "stream",
     "text": [
      "22.333333333333332\n"
     ]
    },
    {
     "name": "stderr",
     "output_type": "stream",
     "text": [
      "Training: 100%|██████████| 50/50 [00:01<00:00, 28.24it/s]\n",
      "Evaluating: 100%|██████████| 30/30 [00:00<00:00, 531.38it/s]\n",
      "Training:  10%|█         | 5/50 [00:00<00:01, 44.97it/s]"
     ]
    },
    {
     "name": "stdout",
     "output_type": "stream",
     "text": [
      "13.333333333333334\n"
     ]
    },
    {
     "name": "stderr",
     "output_type": "stream",
     "text": [
      "Training: 100%|██████████| 50/50 [00:01<00:00, 35.56it/s]\n",
      "Evaluating: 100%|██████████| 30/30 [00:00<00:00, 561.50it/s]\n",
      "Training:  10%|█         | 5/50 [00:00<00:00, 45.91it/s]"
     ]
    },
    {
     "name": "stdout",
     "output_type": "stream",
     "text": [
      "13.066666666666666\n"
     ]
    },
    {
     "name": "stderr",
     "output_type": "stream",
     "text": [
      "Training: 100%|██████████| 50/50 [00:01<00:00, 27.69it/s]\n",
      "Evaluating: 100%|██████████| 30/30 [00:00<00:00, 264.33it/s]\n",
      "Training:   8%|▊         | 4/50 [00:00<00:01, 27.58it/s]"
     ]
    },
    {
     "name": "stdout",
     "output_type": "stream",
     "text": [
      "28.6\n"
     ]
    },
    {
     "name": "stderr",
     "output_type": "stream",
     "text": [
      "Training: 100%|██████████| 50/50 [00:01<00:00, 28.49it/s]\n",
      "Evaluating: 100%|██████████| 30/30 [00:00<00:00, 432.52it/s]\n",
      "Training:   6%|▌         | 3/50 [00:00<00:01, 29.44it/s]"
     ]
    },
    {
     "name": "stdout",
     "output_type": "stream",
     "text": [
      "17.4\n"
     ]
    },
    {
     "name": "stderr",
     "output_type": "stream",
     "text": [
      "Training: 100%|██████████| 50/50 [00:02<00:00, 19.94it/s]\n",
      "Evaluating: 100%|██████████| 30/30 [00:00<00:00, 107.94it/s]\n",
      "Training:   4%|▍         | 2/50 [00:00<00:03, 13.15it/s]"
     ]
    },
    {
     "name": "stdout",
     "output_type": "stream",
     "text": [
      "71.56666666666666\n"
     ]
    },
    {
     "name": "stderr",
     "output_type": "stream",
     "text": [
      "Training: 100%|██████████| 50/50 [00:03<00:00, 14.99it/s]\n",
      "Evaluating: 100%|██████████| 30/30 [00:00<00:00, 118.92it/s]\n",
      "Training:   2%|▏         | 1/50 [00:00<00:06,  7.73it/s]"
     ]
    },
    {
     "name": "stdout",
     "output_type": "stream",
     "text": [
      "63.5\n"
     ]
    },
    {
     "name": "stderr",
     "output_type": "stream",
     "text": [
      "Training: 100%|██████████| 50/50 [00:07<00:00,  7.09it/s]\n",
      "Evaluating: 100%|██████████| 30/30 [00:00<00:00, 89.70it/s]\n",
      "Training:   2%|▏         | 1/50 [00:00<00:05,  8.99it/s]"
     ]
    },
    {
     "name": "stdout",
     "output_type": "stream",
     "text": [
      "79.66666666666667\n"
     ]
    },
    {
     "name": "stderr",
     "output_type": "stream",
     "text": [
      "Training: 100%|██████████| 50/50 [00:05<00:00,  9.12it/s]\n",
      "Evaluating: 100%|██████████| 30/30 [00:00<00:00, 63.36it/s]\n",
      "Training:   0%|          | 0/50 [00:00<?, ?it/s]"
     ]
    },
    {
     "name": "stdout",
     "output_type": "stream",
     "text": [
      "121.06666666666666\n"
     ]
    },
    {
     "name": "stderr",
     "output_type": "stream",
     "text": [
      "Training: 100%|██████████| 50/50 [00:02<00:00, 22.41it/s]\n",
      "Evaluating: 100%|██████████| 30/30 [00:00<00:00, 44.72it/s]\n",
      "Training:   4%|▍         | 2/50 [00:00<00:02, 19.57it/s]"
     ]
    },
    {
     "name": "stdout",
     "output_type": "stream",
     "text": [
      "134.4\n"
     ]
    },
    {
     "name": "stderr",
     "output_type": "stream",
     "text": [
      "Training: 100%|██████████| 50/50 [00:06<00:00,  7.19it/s]\n",
      "Evaluating: 100%|██████████| 30/30 [00:00<00:00, 37.96it/s]\n",
      "Training:   0%|          | 0/50 [00:00<?, ?it/s]"
     ]
    },
    {
     "name": "stdout",
     "output_type": "stream",
     "text": [
      "199.8\n"
     ]
    },
    {
     "name": "stderr",
     "output_type": "stream",
     "text": [
      "Training: 100%|██████████| 50/50 [00:08<00:00,  5.91it/s]\n",
      "Evaluating: 100%|██████████| 30/30 [00:00<00:00, 52.45it/s]\n",
      "Training:   0%|          | 0/50 [00:00<?, ?it/s]"
     ]
    },
    {
     "name": "stdout",
     "output_type": "stream",
     "text": [
      "146.4\n"
     ]
    },
    {
     "name": "stderr",
     "output_type": "stream",
     "text": [
      "Training: 100%|██████████| 50/50 [00:06<00:00,  7.30it/s]\n",
      "Evaluating: 100%|██████████| 30/30 [00:00<00:00, 77.00it/s]\n",
      "Training:   2%|▏         | 1/50 [00:00<00:07,  6.63it/s]"
     ]
    },
    {
     "name": "stdout",
     "output_type": "stream",
     "text": [
      "99.43333333333334\n"
     ]
    },
    {
     "name": "stderr",
     "output_type": "stream",
     "text": [
      "Training: 100%|██████████| 50/50 [00:08<00:00,  5.65it/s]\n",
      "Evaluating: 100%|██████████| 30/30 [00:00<00:00, 39.94it/s]\n",
      "Training:   8%|▊         | 4/50 [00:00<00:01, 37.62it/s]"
     ]
    },
    {
     "name": "stdout",
     "output_type": "stream",
     "text": [
      "158.16666666666666\n"
     ]
    },
    {
     "name": "stderr",
     "output_type": "stream",
     "text": [
      "Training: 100%|██████████| 50/50 [00:06<00:00,  8.28it/s]\n",
      "Evaluating: 100%|██████████| 30/30 [00:00<00:00, 67.41it/s] \n",
      "Training:   0%|          | 0/50 [00:00<?, ?it/s]"
     ]
    },
    {
     "name": "stdout",
     "output_type": "stream",
     "text": [
      "92.56666666666666\n"
     ]
    },
    {
     "name": "stderr",
     "output_type": "stream",
     "text": [
      "Training: 100%|██████████| 50/50 [00:06<00:00,  7.60it/s]\n",
      "Evaluating: 100%|██████████| 30/30 [00:00<00:00, 69.98it/s]\n"
     ]
    },
    {
     "name": "stdout",
     "output_type": "stream",
     "text": [
      "107.96666666666667\n"
     ]
    },
    {
     "name": "stderr",
     "output_type": "stream",
     "text": [
      "Training: 100%|██████████| 50/50 [00:08<00:00,  5.90it/s]\n",
      "Evaluating: 100%|██████████| 30/30 [00:00<00:00, 72.38it/s]\n",
      "Training:   0%|          | 0/50 [00:00<?, ?it/s]"
     ]
    },
    {
     "name": "stdout",
     "output_type": "stream",
     "text": [
      "101.76666666666667\n"
     ]
    },
    {
     "name": "stderr",
     "output_type": "stream",
     "text": [
      "Training: 100%|██████████| 50/50 [00:03<00:00, 16.43it/s]\n",
      "Evaluating: 100%|██████████| 30/30 [00:00<00:00, 333.78it/s]\n",
      "Training:   6%|▌         | 3/50 [00:00<00:01, 28.64it/s]"
     ]
    },
    {
     "name": "stdout",
     "output_type": "stream",
     "text": [
      "22.966666666666665\n"
     ]
    },
    {
     "name": "stderr",
     "output_type": "stream",
     "text": [
      "Training: 100%|██████████| 50/50 [00:04<00:00, 10.57it/s]\n",
      "Evaluating: 100%|██████████| 30/30 [00:00<00:00, 68.20it/s]\n",
      "Training:   2%|▏         | 1/50 [00:00<00:08,  5.55it/s]"
     ]
    },
    {
     "name": "stdout",
     "output_type": "stream",
     "text": [
      "102.0\n"
     ]
    },
    {
     "name": "stderr",
     "output_type": "stream",
     "text": [
      "Training: 100%|██████████| 50/50 [00:05<00:00,  9.92it/s]\n",
      "Evaluating: 100%|██████████| 30/30 [00:00<00:00, 62.29it/s]\n",
      "Training:   0%|          | 0/50 [00:00<?, ?it/s]"
     ]
    },
    {
     "name": "stdout",
     "output_type": "stream",
     "text": [
      "122.53333333333333\n"
     ]
    },
    {
     "name": "stderr",
     "output_type": "stream",
     "text": [
      "Training: 100%|██████████| 50/50 [00:08<00:00,  6.00it/s]\n",
      "Evaluating: 100%|██████████| 30/30 [00:00<00:00, 316.60it/s]\n",
      "Training:   6%|▌         | 3/50 [00:00<00:01, 29.73it/s]"
     ]
    },
    {
     "name": "stdout",
     "output_type": "stream",
     "text": [
      "24.0\n"
     ]
    },
    {
     "name": "stderr",
     "output_type": "stream",
     "text": [
      "Training: 100%|██████████| 50/50 [00:05<00:00,  9.97it/s]\n",
      "Evaluating: 100%|██████████| 30/30 [00:00<00:00, 38.62it/s]\n",
      "Training:   4%|▍         | 2/50 [00:00<00:02, 16.15it/s]"
     ]
    },
    {
     "name": "stdout",
     "output_type": "stream",
     "text": [
      "154.66666666666666\n"
     ]
    },
    {
     "name": "stderr",
     "output_type": "stream",
     "text": [
      "Training: 100%|██████████| 50/50 [00:04<00:00, 12.18it/s]\n",
      "Evaluating: 100%|██████████| 30/30 [00:00<00:00, 74.96it/s]\n",
      "Training:   0%|          | 0/50 [00:00<?, ?it/s]"
     ]
    },
    {
     "name": "stdout",
     "output_type": "stream",
     "text": [
      "98.06666666666666\n"
     ]
    },
    {
     "name": "stderr",
     "output_type": "stream",
     "text": [
      "Training: 100%|██████████| 50/50 [00:05<00:00,  8.61it/s]\n",
      "Evaluating: 100%|██████████| 30/30 [00:00<00:00, 54.02it/s]\n",
      "Training:   0%|          | 0/50 [00:00<?, ?it/s]"
     ]
    },
    {
     "name": "stdout",
     "output_type": "stream",
     "text": [
      "133.13333333333333\n"
     ]
    },
    {
     "name": "stderr",
     "output_type": "stream",
     "text": [
      "Training: 100%|██████████| 50/50 [00:05<00:00,  9.39it/s]\n",
      "Evaluating: 100%|██████████| 30/30 [00:00<00:00, 70.77it/s]\n",
      "Training:   2%|▏         | 1/50 [00:00<00:09,  5.28it/s]"
     ]
    },
    {
     "name": "stdout",
     "output_type": "stream",
     "text": [
      "103.0\n"
     ]
    },
    {
     "name": "stderr",
     "output_type": "stream",
     "text": [
      "Training: 100%|██████████| 50/50 [00:06<00:00,  7.38it/s]\n",
      "Evaluating: 100%|██████████| 30/30 [00:00<00:00, 68.88it/s]\n",
      "Training:   0%|          | 0/50 [00:00<?, ?it/s]"
     ]
    },
    {
     "name": "stdout",
     "output_type": "stream",
     "text": [
      "103.13333333333334\n"
     ]
    },
    {
     "name": "stderr",
     "output_type": "stream",
     "text": [
      "Training: 100%|██████████| 50/50 [00:06<00:00,  8.19it/s]\n",
      "Evaluating: 100%|██████████| 30/30 [00:00<00:00, 161.23it/s]\n",
      "Training:   4%|▍         | 2/50 [00:00<00:02, 19.81it/s]"
     ]
    },
    {
     "name": "stdout",
     "output_type": "stream",
     "text": [
      "44.86666666666667\n"
     ]
    },
    {
     "name": "stderr",
     "output_type": "stream",
     "text": [
      "Training: 100%|██████████| 50/50 [00:04<00:00, 12.22it/s]\n",
      "Evaluating: 100%|██████████| 30/30 [00:00<00:00, 52.06it/s]\n",
      "Training:   0%|          | 0/50 [00:00<?, ?it/s]"
     ]
    },
    {
     "name": "stdout",
     "output_type": "stream",
     "text": [
      "147.43333333333334\n"
     ]
    },
    {
     "name": "stderr",
     "output_type": "stream",
     "text": [
      "Training: 100%|██████████| 50/50 [00:03<00:00, 15.58it/s]\n",
      "Evaluating: 100%|██████████| 30/30 [00:00<00:00, 49.27it/s]\n",
      "Training:   2%|▏         | 1/50 [00:00<00:09,  5.34it/s]"
     ]
    },
    {
     "name": "stdout",
     "output_type": "stream",
     "text": [
      "154.8\n"
     ]
    },
    {
     "name": "stderr",
     "output_type": "stream",
     "text": [
      "Training: 100%|██████████| 50/50 [00:05<00:00,  8.60it/s]\n",
      "Evaluating: 100%|██████████| 30/30 [00:00<00:00, 306.18it/s]\n",
      "Training:   6%|▌         | 3/50 [00:00<00:01, 28.14it/s]"
     ]
    },
    {
     "name": "stdout",
     "output_type": "stream",
     "text": [
      "23.533333333333335\n"
     ]
    },
    {
     "name": "stderr",
     "output_type": "stream",
     "text": [
      "Training: 100%|██████████| 50/50 [00:06<00:00,  7.61it/s]\n",
      "Evaluating: 100%|██████████| 30/30 [00:00<00:00, 37.64it/s]\n",
      "Training:   0%|          | 0/50 [00:00<?, ?it/s]"
     ]
    },
    {
     "name": "stdout",
     "output_type": "stream",
     "text": [
      "200.0\n"
     ]
    },
    {
     "name": "stderr",
     "output_type": "stream",
     "text": [
      "Training: 100%|██████████| 50/50 [00:08<00:00,  6.24it/s]\n",
      "Evaluating: 100%|██████████| 30/30 [00:00<00:00, 38.31it/s]\n",
      "Training:   0%|          | 0/50 [00:00<?, ?it/s]"
     ]
    },
    {
     "name": "stdout",
     "output_type": "stream",
     "text": [
      "200.0\n"
     ]
    },
    {
     "name": "stderr",
     "output_type": "stream",
     "text": [
      "Training: 100%|██████████| 50/50 [00:07<00:00,  6.74it/s]\n",
      "Evaluating: 100%|██████████| 30/30 [00:00<00:00, 559.57it/s]\n",
      "Training:   0%|          | 0/50 [00:00<?, ?it/s]"
     ]
    },
    {
     "name": "stdout",
     "output_type": "stream",
     "text": [
      "12.966666666666667\n"
     ]
    },
    {
     "name": "stderr",
     "output_type": "stream",
     "text": [
      "Training: 100%|██████████| 50/50 [00:07<00:00,  6.73it/s]\n",
      "Evaluating: 100%|██████████| 30/30 [00:00<00:00, 38.31it/s]\n",
      "Training:   0%|          | 0/50 [00:00<?, ?it/s]"
     ]
    },
    {
     "name": "stdout",
     "output_type": "stream",
     "text": [
      "200.0\n"
     ]
    },
    {
     "name": "stderr",
     "output_type": "stream",
     "text": [
      "Training: 100%|██████████| 50/50 [00:11<00:00,  4.46it/s]\n",
      "Evaluating: 100%|██████████| 30/30 [00:00<00:00, 59.07it/s]\n",
      "Training:   0%|          | 0/50 [00:00<?, ?it/s]"
     ]
    },
    {
     "name": "stdout",
     "output_type": "stream",
     "text": [
      "127.13333333333334\n"
     ]
    },
    {
     "name": "stderr",
     "output_type": "stream",
     "text": [
      "Training: 100%|██████████| 50/50 [00:08<00:00,  5.63it/s]\n",
      "Evaluating: 100%|██████████| 30/30 [00:00<00:00, 38.21it/s]\n",
      "Training:   0%|          | 0/50 [00:00<?, ?it/s]"
     ]
    },
    {
     "name": "stdout",
     "output_type": "stream",
     "text": [
      "200.0\n"
     ]
    },
    {
     "name": "stderr",
     "output_type": "stream",
     "text": [
      "Training: 100%|██████████| 50/50 [00:07<00:00,  7.01it/s]\n",
      "Evaluating: 100%|██████████| 30/30 [00:00<00:00, 345.48it/s]\n",
      "Training:  10%|█         | 5/50 [00:00<00:00, 45.05it/s]"
     ]
    },
    {
     "name": "stdout",
     "output_type": "stream",
     "text": [
      "21.933333333333334\n"
     ]
    },
    {
     "name": "stderr",
     "output_type": "stream",
     "text": [
      "Training: 100%|██████████| 50/50 [00:02<00:00, 17.81it/s]\n",
      "Evaluating: 100%|██████████| 30/30 [00:00<00:00, 425.24it/s]\n",
      "Training:   0%|          | 0/50 [00:00<?, ?it/s]"
     ]
    },
    {
     "name": "stdout",
     "output_type": "stream",
     "text": [
      "17.466666666666665\n"
     ]
    },
    {
     "name": "stderr",
     "output_type": "stream",
     "text": [
      "Training: 100%|██████████| 50/50 [00:02<00:00, 18.65it/s]\n",
      "Evaluating: 100%|██████████| 30/30 [00:00<00:00, 37.95it/s]\n",
      "Training:   0%|          | 0/50 [00:00<?, ?it/s]"
     ]
    },
    {
     "name": "stdout",
     "output_type": "stream",
     "text": [
      "200.0\n"
     ]
    },
    {
     "name": "stderr",
     "output_type": "stream",
     "text": [
      "Training: 100%|██████████| 50/50 [00:06<00:00,  8.22it/s]\n",
      "Evaluating: 100%|██████████| 30/30 [00:00<00:00, 71.59it/s]\n",
      "Training:   0%|          | 0/50 [00:00<?, ?it/s]"
     ]
    },
    {
     "name": "stdout",
     "output_type": "stream",
     "text": [
      "106.9\n"
     ]
    },
    {
     "name": "stderr",
     "output_type": "stream",
     "text": [
      "Training: 100%|██████████| 50/50 [00:09<00:00,  5.27it/s]\n",
      "Evaluating: 100%|██████████| 30/30 [00:00<00:00, 169.44it/s]\n",
      "Training:   4%|▍         | 2/50 [00:00<00:02, 17.55it/s]"
     ]
    },
    {
     "name": "stdout",
     "output_type": "stream",
     "text": [
      "40.86666666666667\n"
     ]
    },
    {
     "name": "stderr",
     "output_type": "stream",
     "text": [
      "Training: 100%|██████████| 50/50 [00:05<00:00,  9.32it/s]\n",
      "Evaluating: 100%|██████████| 30/30 [00:00<00:00, 57.92it/s]\n",
      "Training:   0%|          | 0/50 [00:00<?, ?it/s]"
     ]
    },
    {
     "name": "stdout",
     "output_type": "stream",
     "text": [
      "130.0\n"
     ]
    },
    {
     "name": "stderr",
     "output_type": "stream",
     "text": [
      "Training: 100%|██████████| 50/50 [00:04<00:00, 10.28it/s]\n",
      "Evaluating: 100%|██████████| 30/30 [00:00<00:00, 409.53it/s]\n",
      "Training:   0%|          | 0/50 [00:00<?, ?it/s]"
     ]
    },
    {
     "name": "stdout",
     "output_type": "stream",
     "text": [
      "17.933333333333334\n"
     ]
    },
    {
     "name": "stderr",
     "output_type": "stream",
     "text": [
      "Training: 100%|██████████| 50/50 [00:04<00:00, 11.85it/s]\n",
      "Evaluating: 100%|██████████| 30/30 [00:00<00:00, 142.83it/s]\n",
      "Training:   4%|▍         | 2/50 [00:00<00:03, 15.88it/s]"
     ]
    },
    {
     "name": "stdout",
     "output_type": "stream",
     "text": [
      "52.766666666666666\n"
     ]
    },
    {
     "name": "stderr",
     "output_type": "stream",
     "text": [
      "Training: 100%|██████████| 50/50 [00:04<00:00, 11.08it/s]\n",
      "Evaluating: 100%|██████████| 30/30 [00:00<00:00, 134.06it/s]\n",
      "Training:   4%|▍         | 2/50 [00:00<00:03, 13.75it/s]"
     ]
    },
    {
     "name": "stdout",
     "output_type": "stream",
     "text": [
      "50.56666666666667\n"
     ]
    },
    {
     "name": "stderr",
     "output_type": "stream",
     "text": [
      "Training: 100%|██████████| 50/50 [00:03<00:00, 14.22it/s]\n",
      "Evaluating: 100%|██████████| 30/30 [00:00<00:00, 182.42it/s]\n",
      "Training:   0%|          | 0/50 [00:00<?, ?it/s]"
     ]
    },
    {
     "name": "stdout",
     "output_type": "stream",
     "text": [
      "41.2\n"
     ]
    },
    {
     "name": "stderr",
     "output_type": "stream",
     "text": [
      "Training: 100%|██████████| 50/50 [00:05<00:00,  9.32it/s]\n",
      "Evaluating: 100%|██████████| 30/30 [00:00<00:00, 408.41it/s]\n",
      "Training:   0%|          | 0/50 [00:00<?, ?it/s]"
     ]
    },
    {
     "name": "stdout",
     "output_type": "stream",
     "text": [
      "17.9\n"
     ]
    },
    {
     "name": "stderr",
     "output_type": "stream",
     "text": [
      "Training: 100%|██████████| 50/50 [00:06<00:00,  7.58it/s]\n",
      "Evaluating: 100%|██████████| 30/30 [00:00<00:00, 69.25it/s]\n",
      "Training:   0%|          | 0/50 [00:00<?, ?it/s]"
     ]
    },
    {
     "name": "stdout",
     "output_type": "stream",
     "text": [
      "109.83333333333333\n"
     ]
    },
    {
     "name": "stderr",
     "output_type": "stream",
     "text": [
      "Training: 100%|██████████| 50/50 [00:06<00:00,  7.59it/s]\n",
      "Evaluating: 100%|██████████| 30/30 [00:00<00:00, 99.86it/s] \n",
      "Training:   4%|▍         | 2/50 [00:00<00:04, 11.06it/s]"
     ]
    },
    {
     "name": "stdout",
     "output_type": "stream",
     "text": [
      "74.13333333333334\n"
     ]
    },
    {
     "name": "stderr",
     "output_type": "stream",
     "text": [
      "Training: 100%|██████████| 50/50 [00:04<00:00, 10.55it/s]\n",
      "Evaluating: 100%|██████████| 30/30 [00:00<00:00, 166.72it/s]\n",
      "Training:   0%|          | 0/50 [00:00<?, ?it/s]"
     ]
    },
    {
     "name": "stdout",
     "output_type": "stream",
     "text": [
      "43.06666666666667\n"
     ]
    },
    {
     "name": "stderr",
     "output_type": "stream",
     "text": [
      "Training: 100%|██████████| 50/50 [00:04<00:00, 11.58it/s]\n",
      "Evaluating: 100%|██████████| 30/30 [00:00<00:00, 116.35it/s]\n",
      "Training:   0%|          | 0/50 [00:00<?, ?it/s]"
     ]
    },
    {
     "name": "stdout",
     "output_type": "stream",
     "text": [
      "65.3\n"
     ]
    },
    {
     "name": "stderr",
     "output_type": "stream",
     "text": [
      "Training: 100%|██████████| 50/50 [00:02<00:00, 22.03it/s]\n",
      "Evaluating: 100%|██████████| 30/30 [00:00<00:00, 387.73it/s]\n",
      "Training:  10%|█         | 5/50 [00:00<00:01, 44.94it/s]"
     ]
    },
    {
     "name": "stdout",
     "output_type": "stream",
     "text": [
      "17.866666666666667\n"
     ]
    },
    {
     "name": "stderr",
     "output_type": "stream",
     "text": [
      "Training: 100%|██████████| 50/50 [00:01<00:00, 31.34it/s]\n",
      "Evaluating: 100%|██████████| 30/30 [00:00<00:00, 507.62it/s]\n",
      "Training:   8%|▊         | 4/50 [00:00<00:01, 33.81it/s]"
     ]
    },
    {
     "name": "stdout",
     "output_type": "stream",
     "text": [
      "14.666666666666666\n"
     ]
    },
    {
     "name": "stderr",
     "output_type": "stream",
     "text": [
      "Training: 100%|██████████| 50/50 [00:02<00:00, 17.60it/s]\n",
      "Evaluating: 100%|██████████| 30/30 [00:00<00:00, 213.96it/s]\n",
      "Training:   2%|▏         | 1/50 [00:00<00:08,  6.04it/s]"
     ]
    },
    {
     "name": "stdout",
     "output_type": "stream",
     "text": [
      "35.56666666666667\n"
     ]
    },
    {
     "name": "stderr",
     "output_type": "stream",
     "text": [
      "Training: 100%|██████████| 50/50 [00:04<00:00, 11.00it/s]\n",
      "Evaluating: 100%|██████████| 30/30 [00:00<00:00, 242.35it/s]\n",
      "Training:   0%|          | 0/50 [00:00<?, ?it/s]"
     ]
    },
    {
     "name": "stdout",
     "output_type": "stream",
     "text": [
      "27.0\n"
     ]
    },
    {
     "name": "stderr",
     "output_type": "stream",
     "text": [
      "Training: 100%|██████████| 50/50 [00:06<00:00,  7.80it/s]\n",
      "Evaluating: 100%|██████████| 30/30 [00:00<00:00, 69.79it/s]\n",
      "Training:   2%|▏         | 1/50 [00:00<00:07,  6.89it/s]"
     ]
    },
    {
     "name": "stdout",
     "output_type": "stream",
     "text": [
      "108.7\n"
     ]
    },
    {
     "name": "stderr",
     "output_type": "stream",
     "text": [
      "Training: 100%|██████████| 50/50 [00:04<00:00, 12.16it/s]\n",
      "Evaluating: 100%|██████████| 30/30 [00:00<00:00, 65.76it/s]\n",
      "Training:   2%|▏         | 1/50 [00:00<00:07,  6.51it/s]"
     ]
    },
    {
     "name": "stdout",
     "output_type": "stream",
     "text": [
      "115.2\n"
     ]
    },
    {
     "name": "stderr",
     "output_type": "stream",
     "text": [
      "Training: 100%|██████████| 50/50 [00:04<00:00, 11.41it/s]\n",
      "Evaluating: 100%|██████████| 30/30 [00:00<00:00, 223.86it/s]\n",
      "Training:   2%|▏         | 1/50 [00:00<00:07,  6.88it/s]"
     ]
    },
    {
     "name": "stdout",
     "output_type": "stream",
     "text": [
      "31.666666666666668\n"
     ]
    },
    {
     "name": "stderr",
     "output_type": "stream",
     "text": [
      "Training: 100%|██████████| 50/50 [00:05<00:00,  8.91it/s]\n",
      "Evaluating: 100%|██████████| 30/30 [00:00<00:00, 43.06it/s]\n",
      "Training:   0%|          | 0/50 [00:00<?, ?it/s]"
     ]
    },
    {
     "name": "stdout",
     "output_type": "stream",
     "text": [
      "136.73333333333332\n"
     ]
    },
    {
     "name": "stderr",
     "output_type": "stream",
     "text": [
      "Training: 100%|██████████| 50/50 [00:05<00:00,  9.73it/s]\n",
      "Evaluating: 100%|██████████| 30/30 [00:00<00:00, 115.89it/s]\n",
      "Training:   2%|▏         | 1/50 [00:00<00:05,  9.59it/s]"
     ]
    },
    {
     "name": "stdout",
     "output_type": "stream",
     "text": [
      "65.9\n"
     ]
    },
    {
     "name": "stderr",
     "output_type": "stream",
     "text": [
      "Training: 100%|██████████| 50/50 [00:05<00:00,  8.47it/s]\n",
      "Evaluating: 100%|██████████| 30/30 [00:00<00:00, 37.95it/s]\n",
      "Training:   4%|▍         | 2/50 [00:00<00:02, 16.45it/s]"
     ]
    },
    {
     "name": "stdout",
     "output_type": "stream",
     "text": [
      "197.66666666666666\n"
     ]
    },
    {
     "name": "stderr",
     "output_type": "stream",
     "text": [
      "Training: 100%|██████████| 50/50 [00:04<00:00, 12.07it/s]\n",
      "Evaluating: 100%|██████████| 30/30 [00:00<00:00, 208.87it/s]\n",
      "Training:   4%|▍         | 2/50 [00:00<00:02, 16.20it/s]"
     ]
    },
    {
     "name": "stdout",
     "output_type": "stream",
     "text": [
      "26.6\n"
     ]
    },
    {
     "name": "stderr",
     "output_type": "stream",
     "text": [
      "Training: 100%|██████████| 50/50 [00:03<00:00, 13.39it/s]\n",
      "Evaluating: 100%|██████████| 30/30 [00:00<00:00, 39.36it/s]\n",
      "Training:   4%|▍         | 2/50 [00:00<00:04, 11.03it/s]"
     ]
    },
    {
     "name": "stdout",
     "output_type": "stream",
     "text": [
      "194.23333333333332\n"
     ]
    },
    {
     "name": "stderr",
     "output_type": "stream",
     "text": [
      "Training: 100%|██████████| 50/50 [00:06<00:00,  7.16it/s]\n",
      "Evaluating: 100%|██████████| 30/30 [00:01<00:00, 29.71it/s]\n",
      "Training:   4%|▍         | 2/50 [00:00<00:02, 19.15it/s]"
     ]
    },
    {
     "name": "stdout",
     "output_type": "stream",
     "text": [
      "200.0\n"
     ]
    },
    {
     "name": "stderr",
     "output_type": "stream",
     "text": [
      "Training: 100%|██████████| 50/50 [00:05<00:00,  8.84it/s]\n",
      "Evaluating: 100%|██████████| 30/30 [00:00<00:00, 79.29it/s]\n",
      "Training:   0%|          | 0/50 [00:00<?, ?it/s]"
     ]
    },
    {
     "name": "stdout",
     "output_type": "stream",
     "text": [
      "96.13333333333334\n"
     ]
    },
    {
     "name": "stderr",
     "output_type": "stream",
     "text": [
      "Training: 100%|██████████| 50/50 [00:04<00:00, 11.21it/s]\n",
      "Evaluating: 100%|██████████| 30/30 [00:00<00:00, 168.62it/s]\n",
      "Training:   0%|          | 0/50 [00:00<?, ?it/s]"
     ]
    },
    {
     "name": "stdout",
     "output_type": "stream",
     "text": [
      "45.0\n"
     ]
    },
    {
     "name": "stderr",
     "output_type": "stream",
     "text": [
      "Training: 100%|██████████| 50/50 [00:04<00:00, 11.22it/s]\n",
      "Evaluating: 100%|██████████| 30/30 [00:00<00:00, 540.94it/s]\n",
      "Training:  10%|█         | 5/50 [00:00<00:01, 32.30it/s]"
     ]
    },
    {
     "name": "stdout",
     "output_type": "stream",
     "text": [
      "10.6\n"
     ]
    },
    {
     "name": "stderr",
     "output_type": "stream",
     "text": [
      "Training: 100%|██████████| 50/50 [00:06<00:00,  7.72it/s]\n",
      "Evaluating: 100%|██████████| 30/30 [00:00<00:00, 60.18it/s]\n",
      "Training:   2%|▏         | 1/50 [00:00<00:08,  5.99it/s]"
     ]
    },
    {
     "name": "stdout",
     "output_type": "stream",
     "text": [
      "127.16666666666667\n"
     ]
    },
    {
     "name": "stderr",
     "output_type": "stream",
     "text": [
      "Training: 100%|██████████| 50/50 [00:04<00:00, 11.21it/s]\n",
      "Evaluating: 100%|██████████| 30/30 [00:00<00:00, 45.41it/s]\n",
      "Training:   0%|          | 0/50 [00:00<?, ?it/s]"
     ]
    },
    {
     "name": "stdout",
     "output_type": "stream",
     "text": [
      "168.73333333333332\n"
     ]
    },
    {
     "name": "stderr",
     "output_type": "stream",
     "text": [
      "Training: 100%|██████████| 50/50 [00:06<00:00,  7.97it/s]\n",
      "Evaluating: 100%|██████████| 30/30 [00:00<00:00, 38.13it/s]\n",
      "Training:   0%|          | 0/50 [00:00<?, ?it/s]"
     ]
    },
    {
     "name": "stdout",
     "output_type": "stream",
     "text": [
      "200.0\n"
     ]
    },
    {
     "name": "stderr",
     "output_type": "stream",
     "text": [
      "Training: 100%|██████████| 50/50 [00:04<00:00, 11.18it/s]\n",
      "Evaluating: 100%|██████████| 30/30 [00:00<00:00, 89.82it/s]\n",
      "Training:   2%|▏         | 1/50 [00:00<00:06,  7.57it/s]"
     ]
    },
    {
     "name": "stdout",
     "output_type": "stream",
     "text": [
      "83.6\n"
     ]
    },
    {
     "name": "stderr",
     "output_type": "stream",
     "text": [
      "Training: 100%|██████████| 50/50 [00:03<00:00, 12.65it/s]\n",
      "Evaluating: 100%|██████████| 30/30 [00:00<00:00, 102.19it/s]\n",
      "Training:   8%|▊         | 4/50 [00:00<00:01, 27.79it/s]"
     ]
    },
    {
     "name": "stdout",
     "output_type": "stream",
     "text": [
      "74.4\n"
     ]
    },
    {
     "name": "stderr",
     "output_type": "stream",
     "text": [
      "Training: 100%|██████████| 50/50 [00:04<00:00, 11.22it/s]\n",
      "Evaluating: 100%|██████████| 30/30 [00:00<00:00, 38.25it/s]\n",
      "Training:   2%|▏         | 1/50 [00:00<00:07,  6.30it/s]"
     ]
    },
    {
     "name": "stdout",
     "output_type": "stream",
     "text": [
      "200.0\n"
     ]
    },
    {
     "name": "stderr",
     "output_type": "stream",
     "text": [
      "Training: 100%|██████████| 50/50 [00:05<00:00,  8.56it/s]\n",
      "Evaluating: 100%|██████████| 30/30 [00:00<00:00, 37.51it/s]\n",
      "Training:   2%|▏         | 1/50 [00:00<00:08,  5.91it/s]"
     ]
    },
    {
     "name": "stdout",
     "output_type": "stream",
     "text": [
      "200.0\n"
     ]
    },
    {
     "name": "stderr",
     "output_type": "stream",
     "text": [
      "Training: 100%|██████████| 50/50 [00:04<00:00, 11.06it/s]\n",
      "Evaluating: 100%|██████████| 30/30 [00:00<00:00, 38.30it/s]\n",
      "Training:   8%|▊         | 4/50 [00:00<00:01, 35.33it/s]"
     ]
    },
    {
     "name": "stdout",
     "output_type": "stream",
     "text": [
      "200.0\n"
     ]
    },
    {
     "name": "stderr",
     "output_type": "stream",
     "text": [
      "Training: 100%|██████████| 50/50 [00:03<00:00, 16.16it/s]\n",
      "Evaluating: 100%|██████████| 30/30 [00:00<00:00, 120.56it/s]\n",
      "Training:   4%|▍         | 2/50 [00:00<00:03, 12.15it/s]"
     ]
    },
    {
     "name": "stdout",
     "output_type": "stream",
     "text": [
      "62.56666666666667\n"
     ]
    },
    {
     "name": "stderr",
     "output_type": "stream",
     "text": [
      "Training: 100%|██████████| 50/50 [00:06<00:00,  7.85it/s]\n",
      "Evaluating: 100%|██████████| 30/30 [00:01<00:00, 28.59it/s]\n",
      "Training:   0%|          | 0/50 [00:00<?, ?it/s]"
     ]
    },
    {
     "name": "stdout",
     "output_type": "stream",
     "text": [
      "200.0\n"
     ]
    },
    {
     "name": "stderr",
     "output_type": "stream",
     "text": [
      "Training: 100%|██████████| 50/50 [00:08<00:00,  6.11it/s]\n",
      "Evaluating: 100%|██████████| 30/30 [00:00<00:00, 625.18it/s]\n",
      "Training:   0%|          | 0/50 [00:00<?, ?it/s]"
     ]
    },
    {
     "name": "stdout",
     "output_type": "stream",
     "text": [
      "11.0\n"
     ]
    },
    {
     "name": "stderr",
     "output_type": "stream",
     "text": [
      "Training: 100%|██████████| 50/50 [00:04<00:00, 11.38it/s]\n",
      "Evaluating: 100%|██████████| 30/30 [00:00<00:00, 135.26it/s]\n",
      "Training:   0%|          | 0/50 [00:00<?, ?it/s]"
     ]
    },
    {
     "name": "stdout",
     "output_type": "stream",
     "text": [
      "38.733333333333334\n"
     ]
    },
    {
     "name": "stderr",
     "output_type": "stream",
     "text": [
      "Training: 100%|██████████| 50/50 [00:05<00:00,  9.21it/s]\n",
      "Evaluating: 100%|██████████| 30/30 [00:00<00:00, 616.87it/s]\n",
      "Training:  12%|█▏        | 6/50 [00:00<00:00, 52.04it/s]"
     ]
    },
    {
     "name": "stdout",
     "output_type": "stream",
     "text": [
      "11.7\n"
     ]
    },
    {
     "name": "stderr",
     "output_type": "stream",
     "text": [
      "Training: 100%|██████████| 50/50 [00:04<00:00, 10.19it/s]\n",
      "Evaluating: 100%|██████████| 30/30 [00:00<00:00, 37.74it/s]\n",
      "Training:   0%|          | 0/50 [00:00<?, ?it/s]"
     ]
    },
    {
     "name": "stdout",
     "output_type": "stream",
     "text": [
      "200.0\n"
     ]
    },
    {
     "name": "stderr",
     "output_type": "stream",
     "text": [
      "Training: 100%|██████████| 50/50 [00:05<00:00,  8.89it/s]\n",
      "Evaluating: 100%|██████████| 30/30 [00:00<00:00, 37.33it/s]\n",
      "Training:   2%|▏         | 1/50 [00:00<00:05,  9.22it/s]"
     ]
    },
    {
     "name": "stdout",
     "output_type": "stream",
     "text": [
      "200.0\n"
     ]
    },
    {
     "name": "stderr",
     "output_type": "stream",
     "text": [
      "Training: 100%|██████████| 50/50 [00:09<00:00,  5.49it/s]\n",
      "Evaluating: 100%|██████████| 30/30 [00:00<00:00, 37.31it/s]\n",
      "Training:   0%|          | 0/50 [00:00<?, ?it/s]"
     ]
    },
    {
     "name": "stdout",
     "output_type": "stream",
     "text": [
      "200.0\n"
     ]
    },
    {
     "name": "stderr",
     "output_type": "stream",
     "text": [
      "Training: 100%|██████████| 50/50 [00:09<00:00,  5.55it/s]\n",
      "Evaluating: 100%|██████████| 30/30 [00:00<00:00, 37.46it/s]\n",
      "Training:   2%|▏         | 1/50 [00:00<00:09,  5.44it/s]"
     ]
    },
    {
     "name": "stdout",
     "output_type": "stream",
     "text": [
      "200.0\n"
     ]
    },
    {
     "name": "stderr",
     "output_type": "stream",
     "text": [
      "Training: 100%|██████████| 50/50 [00:04<00:00, 10.68it/s]\n",
      "Evaluating: 100%|██████████| 30/30 [00:00<00:00, 162.69it/s]\n",
      "Training:   0%|          | 0/50 [00:00<?, ?it/s]"
     ]
    },
    {
     "name": "stdout",
     "output_type": "stream",
     "text": [
      "46.13333333333333\n"
     ]
    },
    {
     "name": "stderr",
     "output_type": "stream",
     "text": [
      "Training: 100%|██████████| 50/50 [00:04<00:00, 12.02it/s]\n",
      "Evaluating: 100%|██████████| 30/30 [00:00<00:00, 38.22it/s]\n",
      "Training:   0%|          | 0/50 [00:00<?, ?it/s]"
     ]
    },
    {
     "name": "stdout",
     "output_type": "stream",
     "text": [
      "200.0\n"
     ]
    },
    {
     "name": "stderr",
     "output_type": "stream",
     "text": [
      "Training: 100%|██████████| 50/50 [00:07<00:00,  6.78it/s]\n",
      "Evaluating: 100%|██████████| 30/30 [00:00<00:00, 38.13it/s]\n",
      "Training:   0%|          | 0/50 [00:00<?, ?it/s]"
     ]
    },
    {
     "name": "stdout",
     "output_type": "stream",
     "text": [
      "200.0\n"
     ]
    },
    {
     "name": "stderr",
     "output_type": "stream",
     "text": [
      "Training: 100%|██████████| 50/50 [00:03<00:00, 14.11it/s]\n",
      "Evaluating: 100%|██████████| 30/30 [00:00<00:00, 37.97it/s]\n",
      "Training:   2%|▏         | 1/50 [00:00<00:07,  6.51it/s]"
     ]
    },
    {
     "name": "stdout",
     "output_type": "stream",
     "text": [
      "200.0\n"
     ]
    },
    {
     "name": "stderr",
     "output_type": "stream",
     "text": [
      "Training: 100%|██████████| 50/50 [00:05<00:00,  8.71it/s]\n",
      "Evaluating: 100%|██████████| 30/30 [00:00<00:00, 38.29it/s]\n",
      "Training:   0%|          | 0/50 [00:00<?, ?it/s]"
     ]
    },
    {
     "name": "stdout",
     "output_type": "stream",
     "text": [
      "200.0\n"
     ]
    },
    {
     "name": "stderr",
     "output_type": "stream",
     "text": [
      "Training: 100%|██████████| 50/50 [00:10<00:00,  4.71it/s]\n",
      "Evaluating: 100%|██████████| 30/30 [00:00<00:00, 36.73it/s]\n",
      "Training:   0%|          | 0/50 [00:00<?, ?it/s]"
     ]
    },
    {
     "name": "stdout",
     "output_type": "stream",
     "text": [
      "200.0\n"
     ]
    },
    {
     "name": "stderr",
     "output_type": "stream",
     "text": [
      "Training: 100%|██████████| 50/50 [00:05<00:00,  8.38it/s]\n",
      "Evaluating: 100%|██████████| 30/30 [00:01<00:00, 29.39it/s]\n",
      "Training:   2%|▏         | 1/50 [00:00<00:04,  9.91it/s]"
     ]
    },
    {
     "name": "stdout",
     "output_type": "stream",
     "text": [
      "200.0\n"
     ]
    },
    {
     "name": "stderr",
     "output_type": "stream",
     "text": [
      "Training: 100%|██████████| 50/50 [00:06<00:00,  7.16it/s]\n",
      "Evaluating: 100%|██████████| 30/30 [00:01<00:00, 29.72it/s]\n",
      "Training:   0%|          | 0/50 [00:00<?, ?it/s]"
     ]
    },
    {
     "name": "stdout",
     "output_type": "stream",
     "text": [
      "200.0\n"
     ]
    },
    {
     "name": "stderr",
     "output_type": "stream",
     "text": [
      "Training: 100%|██████████| 50/50 [00:07<00:00,  7.13it/s]\n",
      "Evaluating: 100%|██████████| 30/30 [00:00<00:00, 92.25it/s]\n",
      "Training:   0%|          | 0/50 [00:00<?, ?it/s]"
     ]
    },
    {
     "name": "stdout",
     "output_type": "stream",
     "text": [
      "81.76666666666667\n"
     ]
    },
    {
     "name": "stderr",
     "output_type": "stream",
     "text": [
      "Training: 100%|██████████| 50/50 [00:07<00:00,  7.10it/s]\n",
      "Evaluating: 100%|██████████| 30/30 [00:00<00:00, 125.43it/s]\n",
      "Training:   0%|          | 0/50 [00:00<?, ?it/s]"
     ]
    },
    {
     "name": "stdout",
     "output_type": "stream",
     "text": [
      "58.666666666666664\n"
     ]
    },
    {
     "name": "stderr",
     "output_type": "stream",
     "text": [
      "Training: 100%|██████████| 50/50 [00:08<00:00,  6.13it/s]\n",
      "Evaluating: 100%|██████████| 30/30 [00:00<00:00, 37.82it/s]\n",
      "Training:   0%|          | 0/50 [00:00<?, ?it/s]"
     ]
    },
    {
     "name": "stdout",
     "output_type": "stream",
     "text": [
      "200.0\n"
     ]
    },
    {
     "name": "stderr",
     "output_type": "stream",
     "text": [
      "Training: 100%|██████████| 50/50 [00:06<00:00,  7.29it/s]\n",
      "Evaluating: 100%|██████████| 30/30 [00:01<00:00, 29.24it/s]\n",
      "Training:   0%|          | 0/50 [00:00<?, ?it/s]"
     ]
    },
    {
     "name": "stdout",
     "output_type": "stream",
     "text": [
      "200.0\n"
     ]
    },
    {
     "name": "stderr",
     "output_type": "stream",
     "text": [
      "Training: 100%|██████████| 50/50 [00:06<00:00,  7.72it/s]\n",
      "Evaluating: 100%|██████████| 30/30 [00:00<00:00, 36.73it/s]\n",
      "Training:   2%|▏         | 1/50 [00:00<00:05,  9.54it/s]"
     ]
    },
    {
     "name": "stdout",
     "output_type": "stream",
     "text": [
      "200.0\n"
     ]
    },
    {
     "name": "stderr",
     "output_type": "stream",
     "text": [
      "Training: 100%|██████████| 50/50 [00:08<00:00,  6.22it/s]\n",
      "Evaluating: 100%|██████████| 30/30 [00:00<00:00, 37.25it/s]\n",
      "Training:   0%|          | 0/50 [00:00<?, ?it/s]"
     ]
    },
    {
     "name": "stdout",
     "output_type": "stream",
     "text": [
      "200.0\n"
     ]
    },
    {
     "name": "stderr",
     "output_type": "stream",
     "text": [
      "Training: 100%|██████████| 50/50 [00:09<00:00,  5.16it/s]\n",
      "Evaluating: 100%|██████████| 30/30 [00:00<00:00, 38.66it/s]\n",
      "Training:   0%|          | 0/50 [00:00<?, ?it/s]"
     ]
    },
    {
     "name": "stdout",
     "output_type": "stream",
     "text": [
      "187.93333333333334\n"
     ]
    },
    {
     "name": "stderr",
     "output_type": "stream",
     "text": [
      "Training: 100%|██████████| 50/50 [00:08<00:00,  6.16it/s]\n",
      "Evaluating: 100%|██████████| 30/30 [00:00<00:00, 37.60it/s]\n",
      "Training:   0%|          | 0/50 [00:00<?, ?it/s]"
     ]
    },
    {
     "name": "stdout",
     "output_type": "stream",
     "text": [
      "200.0\n"
     ]
    },
    {
     "name": "stderr",
     "output_type": "stream",
     "text": [
      "Training: 100%|██████████| 50/50 [00:09<00:00,  5.33it/s]\n",
      "Evaluating: 100%|██████████| 30/30 [00:00<00:00, 371.91it/s]\n",
      "Training:   8%|▊         | 4/50 [00:00<00:01, 35.14it/s]"
     ]
    },
    {
     "name": "stdout",
     "output_type": "stream",
     "text": [
      "19.866666666666667\n"
     ]
    },
    {
     "name": "stderr",
     "output_type": "stream",
     "text": [
      "Training: 100%|██████████| 50/50 [00:01<00:00, 26.60it/s]\n",
      "Evaluating: 100%|██████████| 30/30 [00:00<00:00, 140.37it/s]\n",
      "Training:   0%|          | 0/50 [00:00<?, ?it/s]"
     ]
    },
    {
     "name": "stdout",
     "output_type": "stream",
     "text": [
      "52.766666666666666\n"
     ]
    },
    {
     "name": "stderr",
     "output_type": "stream",
     "text": [
      "Training: 100%|██████████| 50/50 [00:02<00:00, 17.55it/s]\n",
      "Evaluating: 100%|██████████| 30/30 [00:00<00:00, 263.20it/s]\n",
      "Training:  10%|█         | 5/50 [00:00<00:00, 45.71it/s]"
     ]
    },
    {
     "name": "stdout",
     "output_type": "stream",
     "text": [
      "26.666666666666668\n"
     ]
    },
    {
     "name": "stderr",
     "output_type": "stream",
     "text": [
      "Training: 100%|██████████| 50/50 [00:03<00:00, 15.85it/s]\n",
      "Evaluating: 100%|██████████| 30/30 [00:00<00:00, 523.26it/s]\n",
      "Training:   0%|          | 0/50 [00:00<?, ?it/s]"
     ]
    },
    {
     "name": "stdout",
     "output_type": "stream",
     "text": [
      "13.4\n"
     ]
    },
    {
     "name": "stderr",
     "output_type": "stream",
     "text": [
      "Training: 100%|██████████| 50/50 [00:06<00:00,  8.14it/s]\n",
      "Evaluating: 100%|██████████| 30/30 [00:00<00:00, 414.81it/s]\n",
      "Training:  10%|█         | 5/50 [00:00<00:01, 44.59it/s]"
     ]
    },
    {
     "name": "stdout",
     "output_type": "stream",
     "text": [
      "13.133333333333333\n"
     ]
    },
    {
     "name": "stderr",
     "output_type": "stream",
     "text": [
      "Training: 100%|██████████| 50/50 [00:07<00:00,  6.42it/s]\n",
      "Evaluating: 100%|██████████| 30/30 [00:00<00:00, 31.99it/s]\n",
      "Training:   0%|          | 0/50 [00:00<?, ?it/s]"
     ]
    },
    {
     "name": "stdout",
     "output_type": "stream",
     "text": [
      "200.0\n"
     ]
    },
    {
     "name": "stderr",
     "output_type": "stream",
     "text": [
      "Training: 100%|██████████| 50/50 [00:10<00:00,  4.96it/s]\n",
      "Evaluating: 100%|██████████| 30/30 [00:00<00:00, 51.91it/s]\n",
      "Training:   0%|          | 0/50 [00:00<?, ?it/s]"
     ]
    },
    {
     "name": "stdout",
     "output_type": "stream",
     "text": [
      "143.6\n"
     ]
    },
    {
     "name": "stderr",
     "output_type": "stream",
     "text": [
      "Training: 100%|██████████| 50/50 [00:11<00:00,  4.39it/s]\n",
      "Evaluating: 100%|██████████| 30/30 [00:00<00:00, 37.81it/s]\n",
      "Training:   2%|▏         | 1/50 [00:00<00:07,  6.20it/s]"
     ]
    },
    {
     "name": "stdout",
     "output_type": "stream",
     "text": [
      "200.0\n"
     ]
    },
    {
     "name": "stderr",
     "output_type": "stream",
     "text": [
      "Training: 100%|██████████| 50/50 [00:09<00:00,  5.24it/s]\n",
      "Evaluating: 100%|██████████| 30/30 [00:00<00:00, 125.31it/s]\n",
      "Training:   2%|▏         | 1/50 [00:00<00:06,  7.23it/s]"
     ]
    },
    {
     "name": "stdout",
     "output_type": "stream",
     "text": [
      "59.8\n"
     ]
    },
    {
     "name": "stderr",
     "output_type": "stream",
     "text": [
      "Training: 100%|██████████| 50/50 [00:10<00:00,  4.93it/s]\n",
      "Evaluating: 100%|██████████| 30/30 [00:00<00:00, 36.67it/s]\n",
      "Training:   0%|          | 0/50 [00:00<?, ?it/s]"
     ]
    },
    {
     "name": "stdout",
     "output_type": "stream",
     "text": [
      "200.0\n"
     ]
    },
    {
     "name": "stderr",
     "output_type": "stream",
     "text": [
      "Training: 100%|██████████| 50/50 [00:09<00:00,  5.18it/s]\n",
      "Evaluating: 100%|██████████| 30/30 [00:00<00:00, 345.52it/s]\n",
      "Training:   4%|▍         | 2/50 [00:00<00:03, 13.13it/s]"
     ]
    },
    {
     "name": "stdout",
     "output_type": "stream",
     "text": [
      "20.9\n"
     ]
    },
    {
     "name": "stderr",
     "output_type": "stream",
     "text": [
      "Training: 100%|██████████| 50/50 [00:02<00:00, 17.60it/s]\n",
      "Evaluating: 100%|██████████| 30/30 [00:00<00:00, 369.79it/s]\n",
      "Training:   8%|▊         | 4/50 [00:00<00:01, 37.43it/s]"
     ]
    },
    {
     "name": "stdout",
     "output_type": "stream",
     "text": [
      "18.9\n"
     ]
    },
    {
     "name": "stderr",
     "output_type": "stream",
     "text": [
      "Training: 100%|██████████| 50/50 [00:03<00:00, 16.42it/s]\n",
      "Evaluating: 100%|██████████| 30/30 [00:00<00:00, 137.87it/s]\n",
      "Training:   0%|          | 0/50 [00:00<?, ?it/s]"
     ]
    },
    {
     "name": "stdout",
     "output_type": "stream",
     "text": [
      "49.93333333333333\n"
     ]
    },
    {
     "name": "stderr",
     "output_type": "stream",
     "text": [
      "Training: 100%|██████████| 50/50 [00:07<00:00,  6.85it/s]\n",
      "Evaluating: 100%|██████████| 30/30 [00:00<00:00, 404.46it/s]\n",
      "Training:   6%|▌         | 3/50 [00:00<00:01, 29.52it/s]"
     ]
    },
    {
     "name": "stdout",
     "output_type": "stream",
     "text": [
      "17.233333333333334\n"
     ]
    },
    {
     "name": "stderr",
     "output_type": "stream",
     "text": [
      "Training: 100%|██████████| 50/50 [00:03<00:00, 13.02it/s]\n",
      "Evaluating: 100%|██████████| 30/30 [00:00<00:00, 86.41it/s]\n",
      "Training:   0%|          | 0/50 [00:00<?, ?it/s]"
     ]
    },
    {
     "name": "stdout",
     "output_type": "stream",
     "text": [
      "86.63333333333334\n"
     ]
    },
    {
     "name": "stderr",
     "output_type": "stream",
     "text": [
      "Training: 100%|██████████| 50/50 [00:04<00:00, 11.71it/s]\n",
      "Evaluating: 100%|██████████| 30/30 [00:00<00:00, 294.31it/s]\n",
      "Training:   4%|▍         | 2/50 [00:00<00:03, 12.96it/s]"
     ]
    },
    {
     "name": "stdout",
     "output_type": "stream",
     "text": [
      "25.433333333333334\n"
     ]
    },
    {
     "name": "stderr",
     "output_type": "stream",
     "text": [
      "Training: 100%|██████████| 50/50 [00:03<00:00, 16.05it/s]\n",
      "Evaluating: 100%|██████████| 30/30 [00:00<00:00, 635.23it/s]\n",
      "Training:  12%|█▏        | 6/50 [00:00<00:00, 54.03it/s]"
     ]
    },
    {
     "name": "stdout",
     "output_type": "stream",
     "text": [
      "11.033333333333333\n"
     ]
    },
    {
     "name": "stderr",
     "output_type": "stream",
     "text": [
      "Training: 100%|██████████| 50/50 [00:03<00:00, 13.31it/s]\n",
      "Evaluating: 100%|██████████| 30/30 [00:00<00:00, 47.80it/s]\n",
      "Training:   4%|▍         | 2/50 [00:00<00:02, 18.85it/s]"
     ]
    },
    {
     "name": "stdout",
     "output_type": "stream",
     "text": [
      "157.4\n"
     ]
    },
    {
     "name": "stderr",
     "output_type": "stream",
     "text": [
      "Training: 100%|██████████| 50/50 [00:03<00:00, 13.31it/s]\n",
      "Evaluating: 100%|██████████| 30/30 [00:00<00:00, 42.16it/s]\n",
      "Training:   4%|▍         | 2/50 [00:00<00:02, 16.67it/s]"
     ]
    },
    {
     "name": "stdout",
     "output_type": "stream",
     "text": [
      "176.13333333333333\n"
     ]
    },
    {
     "name": "stderr",
     "output_type": "stream",
     "text": [
      "Training: 100%|██████████| 50/50 [00:06<00:00,  8.24it/s]\n",
      "Evaluating: 100%|██████████| 30/30 [00:00<00:00, 38.40it/s]\n",
      "Training:   2%|▏         | 1/50 [00:00<00:05,  9.12it/s]"
     ]
    },
    {
     "name": "stdout",
     "output_type": "stream",
     "text": [
      "194.03333333333333\n"
     ]
    },
    {
     "name": "stderr",
     "output_type": "stream",
     "text": [
      "Training: 100%|██████████| 50/50 [00:06<00:00,  7.30it/s]\n",
      "Evaluating: 100%|██████████| 30/30 [00:00<00:00, 35.44it/s]\n",
      "Training:   0%|          | 0/50 [00:00<?, ?it/s]"
     ]
    },
    {
     "name": "stdout",
     "output_type": "stream",
     "text": [
      "200.0\n"
     ]
    },
    {
     "name": "stderr",
     "output_type": "stream",
     "text": [
      "Training: 100%|██████████| 50/50 [00:09<00:00,  5.40it/s]\n",
      "Evaluating: 100%|██████████| 30/30 [00:00<00:00, 36.23it/s]\n",
      "Training:   2%|▏         | 1/50 [00:00<00:06,  7.91it/s]"
     ]
    },
    {
     "name": "stdout",
     "output_type": "stream",
     "text": [
      "200.0\n"
     ]
    },
    {
     "name": "stderr",
     "output_type": "stream",
     "text": [
      "Training: 100%|██████████| 50/50 [00:06<00:00,  7.54it/s]\n",
      "Evaluating: 100%|██████████| 30/30 [00:00<00:00, 539.18it/s]\n",
      "Training:   0%|          | 0/50 [00:00<?, ?it/s]"
     ]
    },
    {
     "name": "stdout",
     "output_type": "stream",
     "text": [
      "13.733333333333333\n"
     ]
    },
    {
     "name": "stderr",
     "output_type": "stream",
     "text": [
      "Training: 100%|██████████| 50/50 [00:02<00:00, 17.35it/s]\n",
      "Evaluating: 100%|██████████| 30/30 [00:00<00:00, 46.61it/s]\n",
      "Training:   4%|▍         | 2/50 [00:00<00:02, 17.90it/s]"
     ]
    },
    {
     "name": "stdout",
     "output_type": "stream",
     "text": [
      "162.53333333333333\n"
     ]
    },
    {
     "name": "stderr",
     "output_type": "stream",
     "text": [
      "Training: 100%|██████████| 50/50 [00:04<00:00, 12.31it/s]\n",
      "Evaluating: 100%|██████████| 30/30 [00:00<00:00, 33.59it/s]\n",
      "Training:   6%|▌         | 3/50 [00:00<00:01, 28.91it/s]"
     ]
    },
    {
     "name": "stdout",
     "output_type": "stream",
     "text": [
      "200.0\n"
     ]
    },
    {
     "name": "stderr",
     "output_type": "stream",
     "text": [
      "Training: 100%|██████████| 50/50 [00:06<00:00,  7.39it/s]\n",
      "Evaluating: 100%|██████████| 30/30 [00:01<00:00, 29.40it/s]\n",
      "Training:   4%|▍         | 2/50 [00:00<00:04, 11.54it/s]"
     ]
    },
    {
     "name": "stdout",
     "output_type": "stream",
     "text": [
      "200.0\n"
     ]
    },
    {
     "name": "stderr",
     "output_type": "stream",
     "text": [
      "Training: 100%|██████████| 50/50 [00:12<00:00,  4.13it/s]\n",
      "Evaluating: 100%|██████████| 30/30 [00:00<00:00, 37.90it/s]\n",
      "Training:   0%|          | 0/50 [00:00<?, ?it/s]"
     ]
    },
    {
     "name": "stdout",
     "output_type": "stream",
     "text": [
      "200.0\n"
     ]
    },
    {
     "name": "stderr",
     "output_type": "stream",
     "text": [
      "Training: 100%|██████████| 50/50 [00:12<00:00,  3.95it/s]\n",
      "Evaluating: 100%|██████████| 30/30 [00:00<00:00, 500.98it/s]\n",
      "Training:   0%|          | 0/50 [00:00<?, ?it/s]"
     ]
    },
    {
     "name": "stdout",
     "output_type": "stream",
     "text": [
      "14.633333333333333\n"
     ]
    },
    {
     "name": "stderr",
     "output_type": "stream",
     "text": [
      "Training: 100%|██████████| 50/50 [00:11<00:00,  4.49it/s]\n",
      "Evaluating: 100%|██████████| 30/30 [00:00<00:00, 36.08it/s]\n",
      "Training:   0%|          | 0/50 [00:00<?, ?it/s]"
     ]
    },
    {
     "name": "stdout",
     "output_type": "stream",
     "text": [
      "200.0\n"
     ]
    },
    {
     "name": "stderr",
     "output_type": "stream",
     "text": [
      "Training: 100%|██████████| 50/50 [00:08<00:00,  5.97it/s]\n",
      "Evaluating: 100%|██████████| 30/30 [00:00<00:00, 35.11it/s]\n",
      "Training:   4%|▍         | 2/50 [00:00<00:02, 19.43it/s]"
     ]
    },
    {
     "name": "stdout",
     "output_type": "stream",
     "text": [
      "200.0\n"
     ]
    },
    {
     "name": "stderr",
     "output_type": "stream",
     "text": [
      "Training: 100%|██████████| 50/50 [00:08<00:00,  6.09it/s]\n",
      "Evaluating: 100%|██████████| 30/30 [00:00<00:00, 37.53it/s]\n",
      "Training:   6%|▌         | 3/50 [00:00<00:02, 19.22it/s]"
     ]
    },
    {
     "name": "stdout",
     "output_type": "stream",
     "text": [
      "200.0\n"
     ]
    },
    {
     "name": "stderr",
     "output_type": "stream",
     "text": [
      "Training: 100%|██████████| 50/50 [00:10<00:00,  4.86it/s]\n",
      "Evaluating: 100%|██████████| 30/30 [00:00<00:00, 37.81it/s]\n",
      "Training:   0%|          | 0/50 [00:00<?, ?it/s]"
     ]
    },
    {
     "name": "stdout",
     "output_type": "stream",
     "text": [
      "200.0\n"
     ]
    },
    {
     "name": "stderr",
     "output_type": "stream",
     "text": [
      "Training: 100%|██████████| 50/50 [00:10<00:00,  4.64it/s]\n",
      "Evaluating: 100%|██████████| 30/30 [00:00<00:00, 121.32it/s]\n",
      "Training:   4%|▍         | 2/50 [00:00<00:03, 15.87it/s]"
     ]
    },
    {
     "name": "stdout",
     "output_type": "stream",
     "text": [
      "55.4\n"
     ]
    },
    {
     "name": "stderr",
     "output_type": "stream",
     "text": [
      "Training: 100%|██████████| 50/50 [00:07<00:00,  7.04it/s]\n",
      "Evaluating: 100%|██████████| 30/30 [00:00<00:00, 72.89it/s]\n",
      "Training:   0%|          | 0/50 [00:00<?, ?it/s]"
     ]
    },
    {
     "name": "stdout",
     "output_type": "stream",
     "text": [
      "98.33333333333333\n"
     ]
    },
    {
     "name": "stderr",
     "output_type": "stream",
     "text": [
      "Training: 100%|██████████| 50/50 [00:08<00:00,  5.77it/s]\n",
      "Evaluating: 100%|██████████| 30/30 [00:00<00:00, 37.42it/s]\n",
      "Training:   0%|          | 0/50 [00:00<?, ?it/s]"
     ]
    },
    {
     "name": "stdout",
     "output_type": "stream",
     "text": [
      "200.0\n"
     ]
    },
    {
     "name": "stderr",
     "output_type": "stream",
     "text": [
      "Training: 100%|██████████| 50/50 [00:13<00:00,  3.85it/s]\n",
      "Evaluating: 100%|██████████| 30/30 [00:00<00:00, 37.21it/s]"
     ]
    },
    {
     "name": "stdout",
     "output_type": "stream",
     "text": [
      "200.0\n",
      "\n",
      "Learning Performance:\n",
      "\n"
     ]
    },
    {
     "name": "stderr",
     "output_type": "stream",
     "text": [
      "\n"
     ]
    },
    {
     "data": {
      "text/plain": [
       "<Figure size 432x288 with 0 Axes>"
      ]
     },
     "metadata": {},
     "output_type": "display_data"
    },
    {
     "data": {
      "image/png": "[encoded data removed]",
      "text/plain": [
       "<Figure size 432x288 with 1 Axes>"
      ]
     },
     "metadata": {
      "needs_background": "light"
     },
     "output_type": "display_data"
    }
   ],
   "source": [
    "# DQN without a replay buffer (but including the target network).\n",
    "# The corresponding parameters are: memory_size = 1, update_steps = 1, batch_size = 1, use_target_model = True\n",
    "\n",
    "hyperparams_CartPole = {\n",
    "    'epsilon_decay_steps' : 100000, \n",
    "    'final_epsilon' : 0.1,\n",
    "    'batch_size' : 1, \n",
    "    'update_steps' : 1, \n",
    "    'memory_size' : 1, \n",
    "    'beta' : 0.99, \n",
    "    'model_replace_freq' : 2000,\n",
    "    'learning_rate' : 0.0003,\n",
    "    'use_target_model': True\n",
    "}\n",
    "\n",
    "training_episodes, test_interval = 10000, 50\n",
    "agent = DQN_agent(env_CartPole, hyperparams_CartPole)\n",
    "result = agent.learn_and_evaluate(training_episodes, test_interval)\n",
    "plot_result(result, test_interval, [\"latest_update with target_model\"])\n"
   ]
  },
  {
   "cell_type": "code",
   "execution_count": 14,
   "metadata": {},
   "outputs": [
    {
     "name": "stderr",
     "output_type": "stream",
     "text": [
      "Training: 100%|██████████| 50/50 [00:00<00:00, 104.63it/s]\n",
      "Evaluating: 100%|██████████| 30/30 [00:00<00:00, 579.10it/s]\n",
      "Training:  24%|██▍       | 12/50 [00:00<00:00, 116.59it/s]"
     ]
    },
    {
     "name": "stdout",
     "output_type": "stream",
     "text": [
      "9.3\n"
     ]
    },
    {
     "name": "stderr",
     "output_type": "stream",
     "text": [
      "Training: 100%|██████████| 50/50 [00:00<00:00, 163.29it/s]\n",
      "Evaluating: 100%|██████████| 30/30 [00:00<00:00, 622.77it/s]\n",
      "Training:  28%|██▊       | 14/50 [00:00<00:00, 138.10it/s]"
     ]
    },
    {
     "name": "stdout",
     "output_type": "stream",
     "text": [
      "10.9\n"
     ]
    },
    {
     "name": "stderr",
     "output_type": "stream",
     "text": [
      "Training: 100%|██████████| 50/50 [00:00<00:00, 133.66it/s]\n",
      "Evaluating: 100%|██████████| 30/30 [00:00<00:00, 590.95it/s]\n",
      "Training:  32%|███▏      | 16/50 [00:00<00:00, 159.37it/s]"
     ]
    },
    {
     "name": "stdout",
     "output_type": "stream",
     "text": [
      "11.033333333333333\n"
     ]
    },
    {
     "name": "stderr",
     "output_type": "stream",
     "text": [
      "Training: 100%|██████████| 50/50 [00:00<00:00, 147.03it/s]\n",
      "Evaluating: 100%|██████████| 30/30 [00:00<00:00, 709.83it/s]\n",
      "Training:  24%|██▍       | 12/50 [00:00<00:00, 110.16it/s]"
     ]
    },
    {
     "name": "stdout",
     "output_type": "stream",
     "text": [
      "9.266666666666667\n"
     ]
    },
    {
     "name": "stderr",
     "output_type": "stream",
     "text": [
      "Training: 100%|██████████| 50/50 [00:00<00:00, 131.73it/s]\n",
      "Evaluating: 100%|██████████| 30/30 [00:00<00:00, 697.64it/s]\n",
      "Training:  28%|██▊       | 14/50 [00:00<00:00, 128.02it/s]"
     ]
    },
    {
     "name": "stdout",
     "output_type": "stream",
     "text": [
      "9.533333333333333\n"
     ]
    },
    {
     "name": "stderr",
     "output_type": "stream",
     "text": [
      "Training: 100%|██████████| 50/50 [00:00<00:00, 138.67it/s]\n",
      "Evaluating: 100%|██████████| 30/30 [00:00<00:00, 737.42it/s]\n",
      "Training:  24%|██▍       | 12/50 [00:00<00:00, 113.82it/s]"
     ]
    },
    {
     "name": "stdout",
     "output_type": "stream",
     "text": [
      "9.266666666666667\n"
     ]
    },
    {
     "name": "stderr",
     "output_type": "stream",
     "text": [
      "Training: 100%|██████████| 50/50 [00:00<00:00, 101.36it/s]\n",
      "Evaluating: 100%|██████████| 30/30 [00:00<00:00, 588.31it/s]\n",
      "Training:  24%|██▍       | 12/50 [00:00<00:00, 111.43it/s]"
     ]
    },
    {
     "name": "stdout",
     "output_type": "stream",
     "text": [
      "9.366666666666667\n"
     ]
    },
    {
     "name": "stderr",
     "output_type": "stream",
     "text": [
      "Training: 100%|██████████| 50/50 [00:00<00:00, 138.57it/s]\n",
      "Evaluating: 100%|██████████| 30/30 [00:00<00:00, 734.22it/s]\n",
      "Training:  30%|███       | 15/50 [00:00<00:00, 147.83it/s]"
     ]
    },
    {
     "name": "stdout",
     "output_type": "stream",
     "text": [
      "9.366666666666667\n"
     ]
    },
    {
     "name": "stderr",
     "output_type": "stream",
     "text": [
      "Training: 100%|██████████| 50/50 [00:00<00:00, 166.71it/s]\n",
      "Evaluating: 100%|██████████| 30/30 [00:00<00:00, 727.52it/s]\n",
      "Training:  28%|██▊       | 14/50 [00:00<00:00, 136.88it/s]"
     ]
    },
    {
     "name": "stdout",
     "output_type": "stream",
     "text": [
      "9.266666666666667\n"
     ]
    },
    {
     "name": "stderr",
     "output_type": "stream",
     "text": [
      "Training: 100%|██████████| 50/50 [00:00<00:00, 114.50it/s]\n",
      "Evaluating: 100%|██████████| 30/30 [00:00<00:00, 566.40it/s]\n",
      "Training:  26%|██▌       | 13/50 [00:00<00:00, 129.74it/s]"
     ]
    },
    {
     "name": "stdout",
     "output_type": "stream",
     "text": [
      "9.2\n"
     ]
    },
    {
     "name": "stderr",
     "output_type": "stream",
     "text": [
      "Training: 100%|██████████| 50/50 [00:00<00:00, 154.01it/s]\n",
      "Evaluating: 100%|██████████| 30/30 [00:00<00:00, 725.31it/s]\n",
      "Training:  30%|███       | 15/50 [00:00<00:00, 149.56it/s]"
     ]
    },
    {
     "name": "stdout",
     "output_type": "stream",
     "text": [
      "9.266666666666667\n"
     ]
    },
    {
     "name": "stderr",
     "output_type": "stream",
     "text": [
      "Training: 100%|██████████| 50/50 [00:00<00:00, 151.43it/s]\n",
      "Evaluating: 100%|██████████| 30/30 [00:00<00:00, 711.30it/s]\n",
      "Training:  24%|██▍       | 12/50 [00:00<00:00, 119.75it/s]"
     ]
    },
    {
     "name": "stdout",
     "output_type": "stream",
     "text": [
      "9.266666666666667\n"
     ]
    },
    {
     "name": "stderr",
     "output_type": "stream",
     "text": [
      "Training: 100%|██████████| 50/50 [00:00<00:00, 116.98it/s]\n",
      "Evaluating: 100%|██████████| 30/30 [00:00<00:00, 567.51it/s]\n",
      "Training:  32%|███▏      | 16/50 [00:00<00:00, 151.95it/s]"
     ]
    },
    {
     "name": "stdout",
     "output_type": "stream",
     "text": [
      "9.2\n"
     ]
    },
    {
     "name": "stderr",
     "output_type": "stream",
     "text": [
      "Training: 100%|██████████| 50/50 [00:00<00:00, 161.94it/s]\n",
      "Evaluating: 100%|██████████| 30/30 [00:00<00:00, 723.78it/s]\n",
      "Training:  30%|███       | 15/50 [00:00<00:00, 147.34it/s]"
     ]
    },
    {
     "name": "stdout",
     "output_type": "stream",
     "text": [
      "9.166666666666666\n"
     ]
    },
    {
     "name": "stderr",
     "output_type": "stream",
     "text": [
      "Training: 100%|██████████| 50/50 [00:00<00:00, 149.21it/s]\n",
      "Evaluating: 100%|██████████| 30/30 [00:00<00:00, 682.70it/s]\n",
      "Training:  22%|██▏       | 11/50 [00:00<00:00, 101.63it/s]"
     ]
    },
    {
     "name": "stdout",
     "output_type": "stream",
     "text": [
      "9.633333333333333\n"
     ]
    },
    {
     "name": "stderr",
     "output_type": "stream",
     "text": [
      "Training: 100%|██████████| 50/50 [00:00<00:00, 114.54it/s]\n",
      "Evaluating: 100%|██████████| 30/30 [00:00<00:00, 579.96it/s]\n",
      "Training:  26%|██▌       | 13/50 [00:00<00:00, 127.57it/s]"
     ]
    },
    {
     "name": "stdout",
     "output_type": "stream",
     "text": [
      "9.433333333333334\n"
     ]
    },
    {
     "name": "stderr",
     "output_type": "stream",
     "text": [
      "Training: 100%|██████████| 50/50 [00:00<00:00, 136.38it/s]\n",
      "Evaluating: 100%|██████████| 30/30 [00:00<00:00, 598.17it/s]\n",
      "Training:  26%|██▌       | 13/50 [00:00<00:00, 127.67it/s]"
     ]
    },
    {
     "name": "stdout",
     "output_type": "stream",
     "text": [
      "9.166666666666666\n"
     ]
    },
    {
     "name": "stderr",
     "output_type": "stream",
     "text": [
      "Training: 100%|██████████| 50/50 [00:00<00:00, 122.59it/s]\n",
      "Evaluating: 100%|██████████| 30/30 [00:00<00:00, 589.87it/s]\n",
      "Training:  22%|██▏       | 11/50 [00:00<00:00, 84.33it/s]"
     ]
    },
    {
     "name": "stdout",
     "output_type": "stream",
     "text": [
      "9.333333333333334\n"
     ]
    },
    {
     "name": "stderr",
     "output_type": "stream",
     "text": [
      "Training: 100%|██████████| 50/50 [00:00<00:00, 111.65it/s]\n",
      "Evaluating: 100%|██████████| 30/30 [00:00<00:00, 584.30it/s]\n",
      "Training:  26%|██▌       | 13/50 [00:00<00:00, 126.45it/s]"
     ]
    },
    {
     "name": "stdout",
     "output_type": "stream",
     "text": [
      "9.4\n"
     ]
    },
    {
     "name": "stderr",
     "output_type": "stream",
     "text": [
      "Training: 100%|██████████| 50/50 [00:00<00:00, 107.14it/s]\n",
      "Evaluating: 100%|██████████| 30/30 [00:00<00:00, 585.95it/s]\n",
      "Training:  26%|██▌       | 13/50 [00:00<00:00, 109.73it/s]"
     ]
    },
    {
     "name": "stdout",
     "output_type": "stream",
     "text": [
      "9.3\n"
     ]
    },
    {
     "name": "stderr",
     "output_type": "stream",
     "text": [
      "Training: 100%|██████████| 50/50 [00:00<00:00, 112.20it/s]\n",
      "Evaluating: 100%|██████████| 30/30 [00:00<00:00, 574.82it/s]\n",
      "Training:  22%|██▏       | 11/50 [00:00<00:00, 107.29it/s]"
     ]
    },
    {
     "name": "stdout",
     "output_type": "stream",
     "text": [
      "9.4\n"
     ]
    },
    {
     "name": "stderr",
     "output_type": "stream",
     "text": [
      "Training: 100%|██████████| 50/50 [00:00<00:00, 111.34it/s]\n",
      "Evaluating: 100%|██████████| 30/30 [00:00<00:00, 595.72it/s]\n",
      "Training:  22%|██▏       | 11/50 [00:00<00:00, 92.95it/s]"
     ]
    },
    {
     "name": "stdout",
     "output_type": "stream",
     "text": [
      "9.233333333333333\n"
     ]
    },
    {
     "name": "stderr",
     "output_type": "stream",
     "text": [
      "Training: 100%|██████████| 50/50 [00:00<00:00, 103.01it/s]\n",
      "Evaluating: 100%|██████████| 30/30 [00:00<00:00, 578.18it/s]\n",
      "Training:  18%|█▊        | 9/50 [00:00<00:00, 87.82it/s]"
     ]
    },
    {
     "name": "stdout",
     "output_type": "stream",
     "text": [
      "9.4\n"
     ]
    },
    {
     "name": "stderr",
     "output_type": "stream",
     "text": [
      "Training: 100%|██████████| 50/50 [00:00<00:00, 102.77it/s]\n",
      "Evaluating: 100%|██████████| 30/30 [00:00<00:00, 592.81it/s]\n",
      "Training:  26%|██▌       | 13/50 [00:00<00:00, 129.00it/s]"
     ]
    },
    {
     "name": "stdout",
     "output_type": "stream",
     "text": [
      "9.366666666666667\n"
     ]
    },
    {
     "name": "stderr",
     "output_type": "stream",
     "text": [
      "Training: 100%|██████████| 50/50 [00:00<00:00, 125.98it/s]\n",
      "Evaluating: 100%|██████████| 30/30 [00:00<00:00, 584.91it/s]\n",
      "Training:  26%|██▌       | 13/50 [00:00<00:00, 127.86it/s]"
     ]
    },
    {
     "name": "stdout",
     "output_type": "stream",
     "text": [
      "9.366666666666667\n"
     ]
    },
    {
     "name": "stderr",
     "output_type": "stream",
     "text": [
      "Training: 100%|██████████| 50/50 [00:00<00:00, 154.22it/s]\n",
      "Evaluating: 100%|██████████| 30/30 [00:00<00:00, 752.12it/s]\n",
      "Training:  24%|██▍       | 12/50 [00:00<00:00, 115.42it/s]"
     ]
    },
    {
     "name": "stdout",
     "output_type": "stream",
     "text": [
      "9.3\n"
     ]
    },
    {
     "name": "stderr",
     "output_type": "stream",
     "text": [
      "Training: 100%|██████████| 50/50 [00:00<00:00, 155.68it/s]\n",
      "Evaluating: 100%|██████████| 30/30 [00:00<00:00, 716.84it/s]\n",
      "Training:  26%|██▌       | 13/50 [00:00<00:00, 128.29it/s]"
     ]
    },
    {
     "name": "stdout",
     "output_type": "stream",
     "text": [
      "9.166666666666666\n"
     ]
    },
    {
     "name": "stderr",
     "output_type": "stream",
     "text": [
      "Training: 100%|██████████| 50/50 [00:00<00:00, 152.99it/s]\n",
      "Evaluating: 100%|██████████| 30/30 [00:00<00:00, 754.74it/s]\n",
      "Training:  22%|██▏       | 11/50 [00:00<00:00, 104.47it/s]"
     ]
    },
    {
     "name": "stdout",
     "output_type": "stream",
     "text": [
      "9.166666666666666\n"
     ]
    },
    {
     "name": "stderr",
     "output_type": "stream",
     "text": [
      "Training: 100%|██████████| 50/50 [00:00<00:00, 113.83it/s]\n",
      "Evaluating: 100%|██████████| 30/30 [00:00<00:00, 599.81it/s]\n",
      "Training:  28%|██▊       | 14/50 [00:00<00:00, 137.15it/s]"
     ]
    },
    {
     "name": "stdout",
     "output_type": "stream",
     "text": [
      "9.3\n"
     ]
    },
    {
     "name": "stderr",
     "output_type": "stream",
     "text": [
      "Training: 100%|██████████| 50/50 [00:00<00:00, 146.65it/s]\n",
      "Evaluating: 100%|██████████| 30/30 [00:00<00:00, 715.57it/s]\n",
      "Training:  34%|███▍      | 17/50 [00:00<00:00, 167.64it/s]"
     ]
    },
    {
     "name": "stdout",
     "output_type": "stream",
     "text": [
      "9.5\n"
     ]
    },
    {
     "name": "stderr",
     "output_type": "stream",
     "text": [
      "Training: 100%|██████████| 50/50 [00:00<00:00, 165.12it/s]\n",
      "Evaluating: 100%|██████████| 30/30 [00:00<00:00, 707.71it/s]\n",
      "Training:  24%|██▍       | 12/50 [00:00<00:00, 113.63it/s]"
     ]
    },
    {
     "name": "stdout",
     "output_type": "stream",
     "text": [
      "9.3\n"
     ]
    },
    {
     "name": "stderr",
     "output_type": "stream",
     "text": [
      "Training: 100%|██████████| 50/50 [00:00<00:00, 128.29it/s]\n",
      "Evaluating: 100%|██████████| 30/30 [00:00<00:00, 562.98it/s]\n",
      "Training:  34%|███▍      | 17/50 [00:00<00:00, 159.92it/s]"
     ]
    },
    {
     "name": "stdout",
     "output_type": "stream",
     "text": [
      "9.3\n"
     ]
    },
    {
     "name": "stderr",
     "output_type": "stream",
     "text": [
      "Training: 100%|██████████| 50/50 [00:00<00:00, 158.54it/s]\n",
      "Evaluating: 100%|██████████| 30/30 [00:00<00:00, 748.21it/s]\n",
      "Training:  36%|███▌      | 18/50 [00:00<00:00, 178.74it/s]"
     ]
    },
    {
     "name": "stdout",
     "output_type": "stream",
     "text": [
      "9.366666666666667\n"
     ]
    },
    {
     "name": "stderr",
     "output_type": "stream",
     "text": [
      "Training: 100%|██████████| 50/50 [00:00<00:00, 191.71it/s]\n",
      "Evaluating: 100%|██████████| 30/30 [00:00<00:00, 730.97it/s]\n",
      "Training:  26%|██▌       | 13/50 [00:00<00:00, 121.21it/s]"
     ]
    },
    {
     "name": "stdout",
     "output_type": "stream",
     "text": [
      "9.466666666666667\n"
     ]
    },
    {
     "name": "stderr",
     "output_type": "stream",
     "text": [
      "Training: 100%|██████████| 50/50 [00:00<00:00, 154.34it/s]\n",
      "Evaluating: 100%|██████████| 30/30 [00:00<00:00, 729.55it/s]\n",
      "Training:  30%|███       | 15/50 [00:00<00:00, 146.48it/s]"
     ]
    },
    {
     "name": "stdout",
     "output_type": "stream",
     "text": [
      "9.6\n"
     ]
    },
    {
     "name": "stderr",
     "output_type": "stream",
     "text": [
      "Training: 100%|██████████| 50/50 [00:00<00:00, 164.24it/s]\n",
      "Evaluating: 100%|██████████| 30/30 [00:00<00:00, 736.91it/s]\n",
      "Training:  34%|███▍      | 17/50 [00:00<00:00, 164.74it/s]"
     ]
    },
    {
     "name": "stdout",
     "output_type": "stream",
     "text": [
      "9.466666666666667\n"
     ]
    },
    {
     "name": "stderr",
     "output_type": "stream",
     "text": [
      "Training: 100%|██████████| 50/50 [00:00<00:00, 162.65it/s]\n",
      "Evaluating: 100%|██████████| 30/30 [00:00<00:00, 728.40it/s]\n",
      "Training:  28%|██▊       | 14/50 [00:00<00:00, 137.59it/s]"
     ]
    },
    {
     "name": "stdout",
     "output_type": "stream",
     "text": [
      "9.566666666666666\n"
     ]
    },
    {
     "name": "stderr",
     "output_type": "stream",
     "text": [
      "Training: 100%|██████████| 50/50 [00:00<00:00, 148.69it/s]\n",
      "Evaluating: 100%|██████████| 30/30 [00:00<00:00, 620.08it/s]\n",
      "Training:  26%|██▌       | 13/50 [00:00<00:00, 127.29it/s]"
     ]
    },
    {
     "name": "stdout",
     "output_type": "stream",
     "text": [
      "9.3\n"
     ]
    },
    {
     "name": "stderr",
     "output_type": "stream",
     "text": [
      "Training: 100%|██████████| 50/50 [00:00<00:00, 150.65it/s]\n",
      "Evaluating: 100%|██████████| 30/30 [00:00<00:00, 739.94it/s]\n",
      "Training:  32%|███▏      | 16/50 [00:00<00:00, 154.19it/s]"
     ]
    },
    {
     "name": "stdout",
     "output_type": "stream",
     "text": [
      "9.4\n"
     ]
    },
    {
     "name": "stderr",
     "output_type": "stream",
     "text": [
      "Training: 100%|██████████| 50/50 [00:00<00:00, 162.01it/s]\n",
      "Evaluating: 100%|██████████| 30/30 [00:00<00:00, 714.11it/s]\n",
      "Training:  28%|██▊       | 14/50 [00:00<00:00, 130.39it/s]"
     ]
    },
    {
     "name": "stdout",
     "output_type": "stream",
     "text": [
      "9.366666666666667\n"
     ]
    },
    {
     "name": "stderr",
     "output_type": "stream",
     "text": [
      "Training: 100%|██████████| 50/50 [00:00<00:00, 141.16it/s]\n",
      "Evaluating: 100%|██████████| 30/30 [00:00<00:00, 741.24it/s]\n",
      "Training:  30%|███       | 15/50 [00:00<00:00, 149.60it/s]"
     ]
    },
    {
     "name": "stdout",
     "output_type": "stream",
     "text": [
      "9.266666666666667\n"
     ]
    },
    {
     "name": "stderr",
     "output_type": "stream",
     "text": [
      "Training: 100%|██████████| 50/50 [00:00<00:00, 162.54it/s]\n",
      "Evaluating: 100%|██████████| 30/30 [00:00<00:00, 752.85it/s]\n",
      "Training:  32%|███▏      | 16/50 [00:00<00:00, 157.22it/s]"
     ]
    },
    {
     "name": "stdout",
     "output_type": "stream",
     "text": [
      "9.266666666666667\n"
     ]
    },
    {
     "name": "stderr",
     "output_type": "stream",
     "text": [
      "Training: 100%|██████████| 50/50 [00:00<00:00, 163.35it/s]\n",
      "Evaluating: 100%|██████████| 30/30 [00:00<00:00, 552.06it/s]\n",
      "Training:  32%|███▏      | 16/50 [00:00<00:00, 155.78it/s]"
     ]
    },
    {
     "name": "stdout",
     "output_type": "stream",
     "text": [
      "9.566666666666666\n"
     ]
    },
    {
     "name": "stderr",
     "output_type": "stream",
     "text": [
      "Training: 100%|██████████| 50/50 [00:00<00:00, 161.38it/s]\n",
      "Evaluating: 100%|██████████| 30/30 [00:00<00:00, 719.09it/s]\n",
      "Training:  34%|███▍      | 17/50 [00:00<00:00, 162.18it/s]"
     ]
    },
    {
     "name": "stdout",
     "output_type": "stream",
     "text": [
      "9.666666666666666\n"
     ]
    },
    {
     "name": "stderr",
     "output_type": "stream",
     "text": [
      "Training: 100%|██████████| 50/50 [00:00<00:00, 168.92it/s]\n",
      "Evaluating: 100%|██████████| 30/30 [00:00<00:00, 719.85it/s]\n",
      "Training:  36%|███▌      | 18/50 [00:00<00:00, 173.86it/s]"
     ]
    },
    {
     "name": "stdout",
     "output_type": "stream",
     "text": [
      "9.6\n"
     ]
    },
    {
     "name": "stderr",
     "output_type": "stream",
     "text": [
      "Training: 100%|██████████| 50/50 [00:00<00:00, 170.54it/s]\n",
      "Evaluating: 100%|██████████| 30/30 [00:00<00:00, 730.21it/s]\n",
      "Training:  38%|███▊      | 19/50 [00:00<00:00, 167.60it/s]"
     ]
    },
    {
     "name": "stdout",
     "output_type": "stream",
     "text": [
      "9.5\n"
     ]
    },
    {
     "name": "stderr",
     "output_type": "stream",
     "text": [
      "Training: 100%|██████████| 50/50 [00:00<00:00, 178.21it/s]\n",
      "Evaluating: 100%|██████████| 30/30 [00:00<00:00, 747.58it/s]\n",
      "Training:  36%|███▌      | 18/50 [00:00<00:00, 174.94it/s]"
     ]
    },
    {
     "name": "stdout",
     "output_type": "stream",
     "text": [
      "9.266666666666667\n"
     ]
    },
    {
     "name": "stderr",
     "output_type": "stream",
     "text": [
      "Training: 100%|██████████| 50/50 [00:00<00:00, 164.76it/s]\n",
      "Evaluating: 100%|██████████| 30/30 [00:00<00:00, 745.54it/s]\n",
      "Training:  40%|████      | 20/50 [00:00<00:00, 189.00it/s]"
     ]
    },
    {
     "name": "stdout",
     "output_type": "stream",
     "text": [
      "9.266666666666667\n"
     ]
    },
    {
     "name": "stderr",
     "output_type": "stream",
     "text": [
      "Training: 100%|██████████| 50/50 [00:00<00:00, 187.82it/s]\n",
      "Evaluating: 100%|██████████| 30/30 [00:00<00:00, 758.08it/s]\n",
      "Training:  34%|███▍      | 17/50 [00:00<00:00, 169.75it/s]"
     ]
    },
    {
     "name": "stdout",
     "output_type": "stream",
     "text": [
      "9.066666666666666\n"
     ]
    },
    {
     "name": "stderr",
     "output_type": "stream",
     "text": [
      "Training: 100%|██████████| 50/50 [00:00<00:00, 169.54it/s]\n",
      "Evaluating: 100%|██████████| 30/30 [00:00<00:00, 731.96it/s]\n",
      "Training:  34%|███▍      | 17/50 [00:00<00:00, 156.95it/s]"
     ]
    },
    {
     "name": "stdout",
     "output_type": "stream",
     "text": [
      "9.3\n"
     ]
    },
    {
     "name": "stderr",
     "output_type": "stream",
     "text": [
      "Training: 100%|██████████| 50/50 [00:00<00:00, 167.01it/s]\n",
      "Evaluating: 100%|██████████| 30/30 [00:00<00:00, 741.81it/s]\n",
      "Training:  30%|███       | 15/50 [00:00<00:00, 148.03it/s]"
     ]
    },
    {
     "name": "stdout",
     "output_type": "stream",
     "text": [
      "9.4\n"
     ]
    },
    {
     "name": "stderr",
     "output_type": "stream",
     "text": [
      "Training: 100%|██████████| 50/50 [00:00<00:00, 168.96it/s]\n",
      "Evaluating: 100%|██████████| 30/30 [00:00<00:00, 754.33it/s]\n",
      "Training:  36%|███▌      | 18/50 [00:00<00:00, 178.71it/s]"
     ]
    },
    {
     "name": "stdout",
     "output_type": "stream",
     "text": [
      "9.2\n"
     ]
    },
    {
     "name": "stderr",
     "output_type": "stream",
     "text": [
      "Training: 100%|██████████| 50/50 [00:00<00:00, 174.67it/s]\n",
      "Evaluating: 100%|██████████| 30/30 [00:00<00:00, 728.21it/s]\n",
      "Training:  38%|███▊      | 19/50 [00:00<00:00, 179.12it/s]"
     ]
    },
    {
     "name": "stdout",
     "output_type": "stream",
     "text": [
      "9.5\n"
     ]
    },
    {
     "name": "stderr",
     "output_type": "stream",
     "text": [
      "Training: 100%|██████████| 50/50 [00:00<00:00, 174.82it/s]\n",
      "Evaluating: 100%|██████████| 30/30 [00:00<00:00, 717.47it/s]\n",
      "Training:  32%|███▏      | 16/50 [00:00<00:00, 159.09it/s]"
     ]
    },
    {
     "name": "stdout",
     "output_type": "stream",
     "text": [
      "9.666666666666666\n"
     ]
    },
    {
     "name": "stderr",
     "output_type": "stream",
     "text": [
      "Training: 100%|██████████| 50/50 [00:00<00:00, 177.20it/s]\n",
      "Evaluating: 100%|██████████| 30/30 [00:00<00:00, 744.84it/s]\n",
      "Training:  42%|████▏     | 21/50 [00:00<00:00, 209.70it/s]"
     ]
    },
    {
     "name": "stdout",
     "output_type": "stream",
     "text": [
      "9.3\n"
     ]
    },
    {
     "name": "stderr",
     "output_type": "stream",
     "text": [
      "Training: 100%|██████████| 50/50 [00:00<00:00, 191.88it/s]\n",
      "Evaluating: 100%|██████████| 30/30 [00:00<00:00, 751.94it/s]\n",
      "Training:  38%|███▊      | 19/50 [00:00<00:00, 184.95it/s]"
     ]
    },
    {
     "name": "stdout",
     "output_type": "stream",
     "text": [
      "9.266666666666667\n"
     ]
    },
    {
     "name": "stderr",
     "output_type": "stream",
     "text": [
      "Training: 100%|██████████| 50/50 [00:00<00:00, 181.45it/s]\n",
      "Evaluating: 100%|██████████| 30/30 [00:00<00:00, 749.41it/s]\n",
      "Training:  38%|███▊      | 19/50 [00:00<00:00, 180.50it/s]"
     ]
    },
    {
     "name": "stdout",
     "output_type": "stream",
     "text": [
      "9.2\n"
     ]
    },
    {
     "name": "stderr",
     "output_type": "stream",
     "text": [
      "Training: 100%|██████████| 50/50 [00:00<00:00, 177.33it/s]\n",
      "Evaluating: 100%|██████████| 30/30 [00:00<00:00, 742.24it/s]\n",
      "Training:  36%|███▌      | 18/50 [00:00<00:00, 178.54it/s]"
     ]
    },
    {
     "name": "stdout",
     "output_type": "stream",
     "text": [
      "9.3\n"
     ]
    },
    {
     "name": "stderr",
     "output_type": "stream",
     "text": [
      "Training: 100%|██████████| 50/50 [00:00<00:00, 174.24it/s]\n",
      "Evaluating: 100%|██████████| 30/30 [00:00<00:00, 738.69it/s]\n",
      "Training:  36%|███▌      | 18/50 [00:00<00:00, 170.71it/s]"
     ]
    },
    {
     "name": "stdout",
     "output_type": "stream",
     "text": [
      "9.4\n"
     ]
    },
    {
     "name": "stderr",
     "output_type": "stream",
     "text": [
      "Training: 100%|██████████| 50/50 [00:00<00:00, 173.53it/s]\n",
      "Evaluating: 100%|██████████| 30/30 [00:00<00:00, 729.56it/s]\n",
      "Training:  32%|███▏      | 16/50 [00:00<00:00, 155.74it/s]"
     ]
    },
    {
     "name": "stdout",
     "output_type": "stream",
     "text": [
      "9.466666666666667\n"
     ]
    },
    {
     "name": "stderr",
     "output_type": "stream",
     "text": [
      "Training: 100%|██████████| 50/50 [00:00<00:00, 161.27it/s]\n",
      "Evaluating: 100%|██████████| 30/30 [00:00<00:00, 713.65it/s]\n",
      "Training:  30%|███       | 15/50 [00:00<00:00, 143.02it/s]"
     ]
    },
    {
     "name": "stdout",
     "output_type": "stream",
     "text": [
      "9.333333333333334\n"
     ]
    },
    {
     "name": "stderr",
     "output_type": "stream",
     "text": [
      "Training: 100%|██████████| 50/50 [00:00<00:00, 168.60it/s]\n",
      "Evaluating: 100%|██████████| 30/30 [00:00<00:00, 573.60it/s]\n",
      "Training:  28%|██▊       | 14/50 [00:00<00:00, 136.02it/s]"
     ]
    },
    {
     "name": "stdout",
     "output_type": "stream",
     "text": [
      "9.1\n"
     ]
    },
    {
     "name": "stderr",
     "output_type": "stream",
     "text": [
      "Training: 100%|██████████| 50/50 [00:00<00:00, 144.16it/s]\n",
      "Evaluating: 100%|██████████| 30/30 [00:00<00:00, 567.39it/s]\n",
      "Training:  32%|███▏      | 16/50 [00:00<00:00, 152.08it/s]"
     ]
    },
    {
     "name": "stdout",
     "output_type": "stream",
     "text": [
      "9.233333333333333\n"
     ]
    },
    {
     "name": "stderr",
     "output_type": "stream",
     "text": [
      "Training: 100%|██████████| 50/50 [00:00<00:00, 137.95it/s]\n",
      "Evaluating: 100%|██████████| 30/30 [00:00<00:00, 590.39it/s]\n",
      "Training:  28%|██▊       | 14/50 [00:00<00:00, 135.67it/s]"
     ]
    },
    {
     "name": "stdout",
     "output_type": "stream",
     "text": [
      "9.3\n"
     ]
    },
    {
     "name": "stderr",
     "output_type": "stream",
     "text": [
      "Training: 100%|██████████| 50/50 [00:00<00:00, 142.40it/s]\n",
      "Evaluating: 100%|██████████| 30/30 [00:00<00:00, 581.41it/s]\n",
      "Training:  30%|███       | 15/50 [00:00<00:00, 146.80it/s]"
     ]
    },
    {
     "name": "stdout",
     "output_type": "stream",
     "text": [
      "9.366666666666667\n"
     ]
    },
    {
     "name": "stderr",
     "output_type": "stream",
     "text": [
      "Training: 100%|██████████| 50/50 [00:00<00:00, 139.34it/s]\n",
      "Evaluating: 100%|██████████| 30/30 [00:00<00:00, 595.70it/s]\n",
      "Training:  30%|███       | 15/50 [00:00<00:00, 148.84it/s]"
     ]
    },
    {
     "name": "stdout",
     "output_type": "stream",
     "text": [
      "9.1\n"
     ]
    },
    {
     "name": "stderr",
     "output_type": "stream",
     "text": [
      "Training: 100%|██████████| 50/50 [00:00<00:00, 144.58it/s]\n",
      "Evaluating: 100%|██████████| 30/30 [00:00<00:00, 580.21it/s]\n",
      "Training:  30%|███       | 15/50 [00:00<00:00, 143.98it/s]"
     ]
    },
    {
     "name": "stdout",
     "output_type": "stream",
     "text": [
      "9.466666666666667\n"
     ]
    },
    {
     "name": "stderr",
     "output_type": "stream",
     "text": [
      "Training: 100%|██████████| 50/50 [00:00<00:00, 148.12it/s]\n",
      "Evaluating: 100%|██████████| 30/30 [00:00<00:00, 584.22it/s]\n",
      "Training:  28%|██▊       | 14/50 [00:00<00:00, 139.87it/s]"
     ]
    },
    {
     "name": "stdout",
     "output_type": "stream",
     "text": [
      "9.366666666666667\n"
     ]
    },
    {
     "name": "stderr",
     "output_type": "stream",
     "text": [
      "Training: 100%|██████████| 50/50 [00:00<00:00, 139.82it/s]\n",
      "Evaluating: 100%|██████████| 30/30 [00:00<00:00, 574.89it/s]\n",
      "Training:  28%|██▊       | 14/50 [00:00<00:00, 137.88it/s]"
     ]
    },
    {
     "name": "stdout",
     "output_type": "stream",
     "text": [
      "9.533333333333333\n"
     ]
    },
    {
     "name": "stderr",
     "output_type": "stream",
     "text": [
      "Training: 100%|██████████| 50/50 [00:00<00:00, 146.61it/s]\n",
      "Evaluating: 100%|██████████| 30/30 [00:00<00:00, 595.60it/s]\n",
      "Training:  32%|███▏      | 16/50 [00:00<00:00, 157.55it/s]"
     ]
    },
    {
     "name": "stdout",
     "output_type": "stream",
     "text": [
      "9.233333333333333\n"
     ]
    },
    {
     "name": "stderr",
     "output_type": "stream",
     "text": [
      "Training: 100%|██████████| 50/50 [00:00<00:00, 93.54it/s] \n",
      "Evaluating: 100%|██████████| 30/30 [00:00<00:00, 336.27it/s]\n",
      "Training:  24%|██▍       | 12/50 [00:00<00:00, 112.05it/s]"
     ]
    },
    {
     "name": "stdout",
     "output_type": "stream",
     "text": [
      "17.133333333333333\n"
     ]
    },
    {
     "name": "stderr",
     "output_type": "stream",
     "text": [
      "Training: 100%|██████████| 50/50 [00:00<00:00, 89.58it/s] \n",
      "Evaluating: 100%|██████████| 30/30 [00:00<00:00, 288.79it/s]\n",
      "Training:  10%|█         | 5/50 [00:00<00:01, 44.87it/s]"
     ]
    },
    {
     "name": "stdout",
     "output_type": "stream",
     "text": [
      "19.866666666666667\n"
     ]
    },
    {
     "name": "stderr",
     "output_type": "stream",
     "text": [
      "Training: 100%|██████████| 50/50 [00:00<00:00, 50.17it/s]\n",
      "Evaluating: 100%|██████████| 30/30 [00:00<00:00, 79.85it/s]\n",
      "Training:  14%|█▍        | 7/50 [00:00<00:00, 66.25it/s]"
     ]
    },
    {
     "name": "stdout",
     "output_type": "stream",
     "text": [
      "74.06666666666666\n"
     ]
    },
    {
     "name": "stderr",
     "output_type": "stream",
     "text": [
      "Training: 100%|██████████| 50/50 [00:00<00:00, 59.78it/s]\n",
      "Evaluating: 100%|██████████| 30/30 [00:00<00:00, 291.51it/s]\n",
      "Training:  18%|█▊        | 9/50 [00:00<00:00, 82.60it/s]"
     ]
    },
    {
     "name": "stdout",
     "output_type": "stream",
     "text": [
      "19.566666666666666\n"
     ]
    },
    {
     "name": "stderr",
     "output_type": "stream",
     "text": [
      "Training: 100%|██████████| 50/50 [00:00<00:00, 58.68it/s]\n",
      "Evaluating: 100%|██████████| 30/30 [00:00<00:00, 232.82it/s]\n",
      "Training:  12%|█▏        | 6/50 [00:00<00:00, 54.03it/s]"
     ]
    },
    {
     "name": "stdout",
     "output_type": "stream",
     "text": [
      "24.833333333333332\n"
     ]
    },
    {
     "name": "stderr",
     "output_type": "stream",
     "text": [
      "Training: 100%|██████████| 50/50 [00:00<00:00, 75.78it/s]\n",
      "Evaluating: 100%|██████████| 30/30 [00:00<00:00, 318.83it/s]\n",
      "Training:  14%|█▍        | 7/50 [00:00<00:00, 63.92it/s]"
     ]
    },
    {
     "name": "stdout",
     "output_type": "stream",
     "text": [
      "23.066666666666666\n"
     ]
    },
    {
     "name": "stderr",
     "output_type": "stream",
     "text": [
      "Training: 100%|██████████| 50/50 [00:00<00:00, 77.65it/s]\n",
      "Evaluating: 100%|██████████| 30/30 [00:00<00:00, 185.03it/s]\n",
      "Training:  14%|█▍        | 7/50 [00:00<00:00, 60.33it/s]"
     ]
    },
    {
     "name": "stdout",
     "output_type": "stream",
     "text": [
      "30.433333333333334\n"
     ]
    },
    {
     "name": "stderr",
     "output_type": "stream",
     "text": [
      "Training: 100%|██████████| 50/50 [00:00<00:00, 89.25it/s]\n",
      "Evaluating: 100%|██████████| 30/30 [00:00<00:00, 127.90it/s]\n",
      "Training:  12%|█▏        | 6/50 [00:00<00:00, 54.93it/s]"
     ]
    },
    {
     "name": "stdout",
     "output_type": "stream",
     "text": [
      "58.1\n"
     ]
    },
    {
     "name": "stderr",
     "output_type": "stream",
     "text": [
      "Training: 100%|██████████| 50/50 [00:00<00:00, 60.47it/s]\n",
      "Evaluating: 100%|██████████| 30/30 [00:00<00:00, 386.89it/s]\n",
      "Training:  20%|██        | 10/50 [00:00<00:00, 70.39it/s]"
     ]
    },
    {
     "name": "stdout",
     "output_type": "stream",
     "text": [
      "18.7\n"
     ]
    },
    {
     "name": "stderr",
     "output_type": "stream",
     "text": [
      "Training: 100%|██████████| 50/50 [00:00<00:00, 52.33it/s]\n",
      "Evaluating: 100%|██████████| 30/30 [00:00<00:00, 280.65it/s]\n",
      "Training:  14%|█▍        | 7/50 [00:00<00:00, 54.57it/s]"
     ]
    },
    {
     "name": "stdout",
     "output_type": "stream",
     "text": [
      "26.066666666666666\n"
     ]
    },
    {
     "name": "stderr",
     "output_type": "stream",
     "text": [
      "Training: 100%|██████████| 50/50 [00:00<00:00, 69.21it/s]\n",
      "Evaluating: 100%|██████████| 30/30 [00:00<00:00, 476.64it/s]\n",
      "Training:   8%|▊         | 4/50 [00:00<00:01, 38.79it/s]"
     ]
    },
    {
     "name": "stdout",
     "output_type": "stream",
     "text": [
      "15.166666666666666\n"
     ]
    },
    {
     "name": "stderr",
     "output_type": "stream",
     "text": [
      "Training: 100%|██████████| 50/50 [00:00<00:00, 56.58it/s]\n",
      "Evaluating: 100%|██████████| 30/30 [00:00<00:00, 64.19it/s]\n",
      "Training:  16%|█▌        | 8/50 [00:00<00:00, 76.25it/s]"
     ]
    },
    {
     "name": "stdout",
     "output_type": "stream",
     "text": [
      "112.73333333333333\n"
     ]
    },
    {
     "name": "stderr",
     "output_type": "stream",
     "text": [
      "Training: 100%|██████████| 50/50 [00:00<00:00, 64.66it/s]\n",
      "Evaluating: 100%|██████████| 30/30 [00:00<00:00, 50.61it/s]\n",
      "Training:  10%|█         | 5/50 [00:00<00:00, 49.65it/s]"
     ]
    },
    {
     "name": "stdout",
     "output_type": "stream",
     "text": [
      "145.7\n"
     ]
    },
    {
     "name": "stderr",
     "output_type": "stream",
     "text": [
      "Training: 100%|██████████| 50/50 [00:00<00:00, 56.31it/s]\n",
      "Evaluating: 100%|██████████| 30/30 [00:00<00:00, 421.46it/s]\n",
      "Training:  24%|██▍       | 12/50 [00:00<00:00, 115.72it/s]"
     ]
    },
    {
     "name": "stdout",
     "output_type": "stream",
     "text": [
      "17.3\n"
     ]
    },
    {
     "name": "stderr",
     "output_type": "stream",
     "text": [
      "Training: 100%|██████████| 50/50 [00:00<00:00, 73.06it/s] \n",
      "Evaluating: 100%|██████████| 30/30 [00:00<00:00, 127.49it/s]\n",
      "Training:   8%|▊         | 4/50 [00:00<00:01, 37.00it/s]"
     ]
    },
    {
     "name": "stdout",
     "output_type": "stream",
     "text": [
      "59.233333333333334\n"
     ]
    },
    {
     "name": "stderr",
     "output_type": "stream",
     "text": [
      "Training: 100%|██████████| 50/50 [00:01<00:00, 42.46it/s]\n",
      "Evaluating: 100%|██████████| 30/30 [00:00<00:00, 44.05it/s]\n",
      "Training:   4%|▍         | 2/50 [00:00<00:02, 16.76it/s]"
     ]
    },
    {
     "name": "stdout",
     "output_type": "stream",
     "text": [
      "172.4\n"
     ]
    },
    {
     "name": "stderr",
     "output_type": "stream",
     "text": [
      "Training: 100%|██████████| 50/50 [00:02<00:00, 18.81it/s]\n",
      "Evaluating: 100%|██████████| 30/30 [00:00<00:00, 32.51it/s]\n",
      "Training:   2%|▏         | 1/50 [00:00<00:05,  8.28it/s]"
     ]
    },
    {
     "name": "stdout",
     "output_type": "stream",
     "text": [
      "181.4\n"
     ]
    },
    {
     "name": "stderr",
     "output_type": "stream",
     "text": [
      "Training: 100%|██████████| 50/50 [00:03<00:00, 13.66it/s]\n",
      "Evaluating: 100%|██████████| 30/30 [00:00<00:00, 41.22it/s]\n",
      "Training:   4%|▍         | 2/50 [00:00<00:03, 12.60it/s]"
     ]
    },
    {
     "name": "stdout",
     "output_type": "stream",
     "text": [
      "143.83333333333334\n"
     ]
    },
    {
     "name": "stderr",
     "output_type": "stream",
     "text": [
      "Training: 100%|██████████| 50/50 [00:05<00:00,  8.84it/s]\n",
      "Evaluating: 100%|██████████| 30/30 [00:01<00:00, 29.63it/s]\n",
      "Training:   2%|▏         | 1/50 [00:00<00:07,  6.82it/s]"
     ]
    },
    {
     "name": "stdout",
     "output_type": "stream",
     "text": [
      "200.0\n"
     ]
    },
    {
     "name": "stderr",
     "output_type": "stream",
     "text": [
      "Training: 100%|██████████| 50/50 [00:01<00:00, 29.00it/s]\n",
      "Evaluating: 100%|██████████| 30/30 [00:00<00:00, 229.63it/s]\n",
      "Training:  18%|█▊        | 9/50 [00:00<00:00, 88.83it/s]"
     ]
    },
    {
     "name": "stdout",
     "output_type": "stream",
     "text": [
      "25.2\n"
     ]
    },
    {
     "name": "stderr",
     "output_type": "stream",
     "text": [
      "Training: 100%|██████████| 50/50 [00:00<00:00, 95.94it/s]\n",
      "Evaluating: 100%|██████████| 30/30 [00:00<00:00, 403.30it/s]\n",
      "Training:  10%|█         | 5/50 [00:00<00:01, 42.16it/s]"
     ]
    },
    {
     "name": "stdout",
     "output_type": "stream",
     "text": [
      "17.166666666666668\n"
     ]
    },
    {
     "name": "stderr",
     "output_type": "stream",
     "text": [
      "Training: 100%|██████████| 50/50 [00:03<00:00, 15.39it/s]\n",
      "Evaluating: 100%|██████████| 30/30 [00:00<00:00, 85.48it/s]\n",
      "Training:   6%|▌         | 3/50 [00:00<00:01, 25.91it/s]"
     ]
    },
    {
     "name": "stdout",
     "output_type": "stream",
     "text": [
      "88.63333333333334\n"
     ]
    },
    {
     "name": "stderr",
     "output_type": "stream",
     "text": [
      "Training: 100%|██████████| 50/50 [00:02<00:00, 23.39it/s]\n",
      "Evaluating: 100%|██████████| 30/30 [00:00<00:00, 39.07it/s]\n",
      "Training:   2%|▏         | 1/50 [00:00<00:06,  7.38it/s]"
     ]
    },
    {
     "name": "stdout",
     "output_type": "stream",
     "text": [
      "196.36666666666667\n"
     ]
    },
    {
     "name": "stderr",
     "output_type": "stream",
     "text": [
      "Training: 100%|██████████| 50/50 [00:05<00:00,  9.29it/s]\n",
      "Evaluating: 100%|██████████| 30/30 [00:01<00:00, 29.65it/s]\n",
      "Training:   2%|▏         | 1/50 [00:00<00:05,  9.16it/s]"
     ]
    },
    {
     "name": "stdout",
     "output_type": "stream",
     "text": [
      "200.0\n"
     ]
    },
    {
     "name": "stderr",
     "output_type": "stream",
     "text": [
      "Training: 100%|██████████| 50/50 [00:03<00:00, 14.56it/s]\n",
      "Evaluating: 100%|██████████| 30/30 [00:00<00:00, 148.48it/s]\n",
      "Training:   2%|▏         | 1/50 [00:00<00:05,  9.60it/s]"
     ]
    },
    {
     "name": "stdout",
     "output_type": "stream",
     "text": [
      "48.4\n"
     ]
    },
    {
     "name": "stderr",
     "output_type": "stream",
     "text": [
      "Training: 100%|██████████| 50/50 [00:03<00:00, 12.83it/s]\n",
      "Evaluating: 100%|██████████| 30/30 [00:00<00:00, 412.53it/s]\n",
      "Training:  20%|██        | 10/50 [00:00<00:00, 94.69it/s]"
     ]
    },
    {
     "name": "stdout",
     "output_type": "stream",
     "text": [
      "17.5\n"
     ]
    },
    {
     "name": "stderr",
     "output_type": "stream",
     "text": [
      "Training: 100%|██████████| 50/50 [00:00<00:00, 89.09it/s]\n",
      "Evaluating: 100%|██████████| 30/30 [00:00<00:00, 537.70it/s]\n",
      "Training:  26%|██▌       | 13/50 [00:00<00:00, 96.84it/s]"
     ]
    },
    {
     "name": "stdout",
     "output_type": "stream",
     "text": [
      "10.233333333333333\n"
     ]
    },
    {
     "name": "stderr",
     "output_type": "stream",
     "text": [
      "Training: 100%|██████████| 50/50 [00:04<00:00, 11.52it/s]\n",
      "Evaluating: 100%|██████████| 30/30 [00:01<00:00, 29.73it/s]\n",
      "Training:   2%|▏         | 1/50 [00:00<00:06,  7.08it/s]"
     ]
    },
    {
     "name": "stdout",
     "output_type": "stream",
     "text": [
      "200.0\n"
     ]
    },
    {
     "name": "stderr",
     "output_type": "stream",
     "text": [
      "Training: 100%|██████████| 50/50 [00:04<00:00, 10.64it/s]\n",
      "Evaluating: 100%|██████████| 30/30 [00:00<00:00, 38.14it/s]\n",
      "Training:   2%|▏         | 1/50 [00:00<00:05,  8.38it/s]"
     ]
    },
    {
     "name": "stdout",
     "output_type": "stream",
     "text": [
      "200.0\n"
     ]
    },
    {
     "name": "stderr",
     "output_type": "stream",
     "text": [
      "Training: 100%|██████████| 50/50 [00:04<00:00, 11.82it/s]\n",
      "Evaluating: 100%|██████████| 30/30 [00:00<00:00, 38.11it/s]\n",
      "Training:   2%|▏         | 1/50 [00:00<00:05,  8.31it/s]"
     ]
    },
    {
     "name": "stdout",
     "output_type": "stream",
     "text": [
      "200.0\n"
     ]
    },
    {
     "name": "stderr",
     "output_type": "stream",
     "text": [
      "Training: 100%|██████████| 50/50 [00:06<00:00,  7.54it/s]\n",
      "Evaluating: 100%|██████████| 30/30 [00:01<00:00, 29.67it/s]\n",
      "Training:   2%|▏         | 1/50 [00:00<00:06,  7.58it/s]"
     ]
    },
    {
     "name": "stdout",
     "output_type": "stream",
     "text": [
      "200.0\n"
     ]
    },
    {
     "name": "stderr",
     "output_type": "stream",
     "text": [
      "Training: 100%|██████████| 50/50 [00:02<00:00, 18.33it/s]\n",
      "Evaluating: 100%|██████████| 30/30 [00:00<00:00, 149.93it/s]\n",
      "Training:   4%|▍         | 2/50 [00:00<00:02, 17.96it/s]"
     ]
    },
    {
     "name": "stdout",
     "output_type": "stream",
     "text": [
      "38.03333333333333\n"
     ]
    },
    {
     "name": "stderr",
     "output_type": "stream",
     "text": [
      "Training: 100%|██████████| 50/50 [00:03<00:00, 14.97it/s]\n",
      "Evaluating: 100%|██████████| 30/30 [00:00<00:00, 36.22it/s]\n",
      "Training:   2%|▏         | 1/50 [00:00<00:05,  9.72it/s]"
     ]
    },
    {
     "name": "stdout",
     "output_type": "stream",
     "text": [
      "200.0\n"
     ]
    },
    {
     "name": "stderr",
     "output_type": "stream",
     "text": [
      "Training: 100%|██████████| 50/50 [00:04<00:00, 10.82it/s]\n",
      "Evaluating: 100%|██████████| 30/30 [00:00<00:00, 38.12it/s]\n",
      "Training:   2%|▏         | 1/50 [00:00<00:05,  8.91it/s]"
     ]
    },
    {
     "name": "stdout",
     "output_type": "stream",
     "text": [
      "200.0\n"
     ]
    },
    {
     "name": "stderr",
     "output_type": "stream",
     "text": [
      "Training: 100%|██████████| 50/50 [00:04<00:00, 10.80it/s]\n",
      "Evaluating: 100%|██████████| 30/30 [00:00<00:00, 38.08it/s]\n",
      "Training:   2%|▏         | 1/50 [00:00<00:05,  8.81it/s]"
     ]
    },
    {
     "name": "stdout",
     "output_type": "stream",
     "text": [
      "200.0\n"
     ]
    },
    {
     "name": "stderr",
     "output_type": "stream",
     "text": [
      "Training: 100%|██████████| 50/50 [00:04<00:00, 11.24it/s]\n",
      "Evaluating: 100%|██████████| 30/30 [00:00<00:00, 36.90it/s]\n",
      "Training:   2%|▏         | 1/50 [00:00<00:05,  9.05it/s]"
     ]
    },
    {
     "name": "stdout",
     "output_type": "stream",
     "text": [
      "200.0\n"
     ]
    },
    {
     "name": "stderr",
     "output_type": "stream",
     "text": [
      "Training: 100%|██████████| 50/50 [00:04<00:00, 10.75it/s]\n",
      "Evaluating: 100%|██████████| 30/30 [00:00<00:00, 36.62it/s]\n",
      "Training:   2%|▏         | 1/50 [00:00<00:05,  9.50it/s]"
     ]
    },
    {
     "name": "stdout",
     "output_type": "stream",
     "text": [
      "200.0\n"
     ]
    },
    {
     "name": "stderr",
     "output_type": "stream",
     "text": [
      "Training: 100%|██████████| 50/50 [00:04<00:00, 11.02it/s]\n",
      "Evaluating: 100%|██████████| 30/30 [00:00<00:00, 37.95it/s]\n",
      "Training:   2%|▏         | 1/50 [00:00<00:06,  7.78it/s]"
     ]
    },
    {
     "name": "stdout",
     "output_type": "stream",
     "text": [
      "200.0\n"
     ]
    },
    {
     "name": "stderr",
     "output_type": "stream",
     "text": [
      "Training: 100%|██████████| 50/50 [00:04<00:00, 10.73it/s]\n",
      "Evaluating: 100%|██████████| 30/30 [00:00<00:00, 38.17it/s]\n",
      "Training:   2%|▏         | 1/50 [00:00<00:06,  7.11it/s]"
     ]
    },
    {
     "name": "stdout",
     "output_type": "stream",
     "text": [
      "200.0\n"
     ]
    },
    {
     "name": "stderr",
     "output_type": "stream",
     "text": [
      "Training: 100%|██████████| 50/50 [00:06<00:00,  8.23it/s]\n",
      "Evaluating: 100%|██████████| 30/30 [00:01<00:00, 29.68it/s]\n",
      "Training:   2%|▏         | 1/50 [00:00<00:07,  6.26it/s]"
     ]
    },
    {
     "name": "stdout",
     "output_type": "stream",
     "text": [
      "200.0\n"
     ]
    },
    {
     "name": "stderr",
     "output_type": "stream",
     "text": [
      "Training: 100%|██████████| 50/50 [00:04<00:00, 10.63it/s]\n",
      "Evaluating: 100%|██████████| 30/30 [00:00<00:00, 38.08it/s]\n",
      "Training:   2%|▏         | 1/50 [00:00<00:05,  8.59it/s]"
     ]
    },
    {
     "name": "stdout",
     "output_type": "stream",
     "text": [
      "200.0\n"
     ]
    },
    {
     "name": "stderr",
     "output_type": "stream",
     "text": [
      "Training: 100%|██████████| 50/50 [00:04<00:00, 10.72it/s]\n",
      "Evaluating: 100%|██████████| 30/30 [00:00<00:00, 37.62it/s]\n",
      "Training:   2%|▏         | 1/50 [00:00<00:07,  6.81it/s]"
     ]
    },
    {
     "name": "stdout",
     "output_type": "stream",
     "text": [
      "200.0\n"
     ]
    },
    {
     "name": "stderr",
     "output_type": "stream",
     "text": [
      "Training: 100%|██████████| 50/50 [00:02<00:00, 21.98it/s]\n",
      "Evaluating: 100%|██████████| 30/30 [00:00<00:00, 295.49it/s]\n",
      "Training:  10%|█         | 5/50 [00:00<00:01, 34.70it/s]"
     ]
    },
    {
     "name": "stdout",
     "output_type": "stream",
     "text": [
      "25.233333333333334\n"
     ]
    },
    {
     "name": "stderr",
     "output_type": "stream",
     "text": [
      "Training: 100%|██████████| 50/50 [00:04<00:00, 11.86it/s]\n",
      "Evaluating: 100%|██████████| 30/30 [00:00<00:00, 36.94it/s]\n",
      "Training:   2%|▏         | 1/50 [00:00<00:06,  7.19it/s]"
     ]
    },
    {
     "name": "stdout",
     "output_type": "stream",
     "text": [
      "200.0\n"
     ]
    },
    {
     "name": "stderr",
     "output_type": "stream",
     "text": [
      "Training: 100%|██████████| 50/50 [00:05<00:00,  8.81it/s]\n",
      "Evaluating: 100%|██████████| 30/30 [00:00<00:00, 35.19it/s]\n",
      "Training:   2%|▏         | 1/50 [00:00<00:06,  7.11it/s]"
     ]
    },
    {
     "name": "stdout",
     "output_type": "stream",
     "text": [
      "200.0\n"
     ]
    },
    {
     "name": "stderr",
     "output_type": "stream",
     "text": [
      "Training: 100%|██████████| 50/50 [00:01<00:00, 30.98it/s]\n",
      "Evaluating: 100%|██████████| 30/30 [00:00<00:00, 548.98it/s]\n",
      "Training:  36%|███▌      | 18/50 [00:00<00:00, 176.36it/s]"
     ]
    },
    {
     "name": "stdout",
     "output_type": "stream",
     "text": [
      "9.533333333333333\n"
     ]
    },
    {
     "name": "stderr",
     "output_type": "stream",
     "text": [
      "Training: 100%|██████████| 50/50 [00:00<00:00, 97.19it/s] \n",
      "Evaluating: 100%|██████████| 30/30 [00:00<00:00, 386.45it/s]\n",
      "Training:  26%|██▌       | 13/50 [00:00<00:00, 127.75it/s]"
     ]
    },
    {
     "name": "stdout",
     "output_type": "stream",
     "text": [
      "19.0\n"
     ]
    },
    {
     "name": "stderr",
     "output_type": "stream",
     "text": [
      "Training: 100%|██████████| 50/50 [00:03<00:00, 16.48it/s] \n",
      "Evaluating: 100%|██████████| 30/30 [00:00<00:00, 38.87it/s]\n",
      "Training:   4%|▍         | 2/50 [00:00<00:04, 11.50it/s]"
     ]
    },
    {
     "name": "stdout",
     "output_type": "stream",
     "text": [
      "184.2\n"
     ]
    },
    {
     "name": "stderr",
     "output_type": "stream",
     "text": [
      "Training: 100%|██████████| 50/50 [00:04<00:00, 11.01it/s]\n",
      "Evaluating: 100%|██████████| 30/30 [00:00<00:00, 37.83it/s]\n",
      "Training:   2%|▏         | 1/50 [00:00<00:06,  7.89it/s]"
     ]
    },
    {
     "name": "stdout",
     "output_type": "stream",
     "text": [
      "200.0\n"
     ]
    },
    {
     "name": "stderr",
     "output_type": "stream",
     "text": [
      "Training: 100%|██████████| 50/50 [00:04<00:00, 10.79it/s]\n",
      "Evaluating: 100%|██████████| 30/30 [00:00<00:00, 37.81it/s]\n",
      "Training:   4%|▍         | 2/50 [00:00<00:04, 10.83it/s]"
     ]
    },
    {
     "name": "stdout",
     "output_type": "stream",
     "text": [
      "200.0\n"
     ]
    },
    {
     "name": "stderr",
     "output_type": "stream",
     "text": [
      "Training: 100%|██████████| 50/50 [00:04<00:00, 10.77it/s]\n",
      "Evaluating: 100%|██████████| 30/30 [00:00<00:00, 37.90it/s]\n",
      "Training:   2%|▏         | 1/50 [00:00<00:05,  9.34it/s]"
     ]
    },
    {
     "name": "stdout",
     "output_type": "stream",
     "text": [
      "200.0\n"
     ]
    },
    {
     "name": "stderr",
     "output_type": "stream",
     "text": [
      "Training: 100%|██████████| 50/50 [00:04<00:00, 10.83it/s]\n",
      "Evaluating: 100%|██████████| 30/30 [00:00<00:00, 38.22it/s]\n",
      "Training:   2%|▏         | 1/50 [00:00<00:08,  5.46it/s]"
     ]
    },
    {
     "name": "stdout",
     "output_type": "stream",
     "text": [
      "200.0\n"
     ]
    },
    {
     "name": "stderr",
     "output_type": "stream",
     "text": [
      "Training: 100%|██████████| 50/50 [00:06<00:00,  8.04it/s]\n",
      "Evaluating: 100%|██████████| 30/30 [00:01<00:00, 29.62it/s]\n",
      "Training:   2%|▏         | 1/50 [00:00<00:05,  9.00it/s]"
     ]
    },
    {
     "name": "stdout",
     "output_type": "stream",
     "text": [
      "200.0\n"
     ]
    },
    {
     "name": "stderr",
     "output_type": "stream",
     "text": [
      "Training: 100%|██████████| 50/50 [00:04<00:00, 10.73it/s]\n",
      "Evaluating: 100%|██████████| 30/30 [00:00<00:00, 33.23it/s]\n",
      "Training:   2%|▏         | 1/50 [00:00<00:05,  9.72it/s]"
     ]
    },
    {
     "name": "stdout",
     "output_type": "stream",
     "text": [
      "200.0\n"
     ]
    },
    {
     "name": "stderr",
     "output_type": "stream",
     "text": [
      "Training: 100%|██████████| 50/50 [00:04<00:00, 10.99it/s]\n",
      "Evaluating: 100%|██████████| 30/30 [00:00<00:00, 38.04it/s]\n",
      "Training:   2%|▏         | 1/50 [00:00<00:06,  8.00it/s]"
     ]
    },
    {
     "name": "stdout",
     "output_type": "stream",
     "text": [
      "200.0\n"
     ]
    },
    {
     "name": "stderr",
     "output_type": "stream",
     "text": [
      "Training: 100%|██████████| 50/50 [00:04<00:00, 10.99it/s]\n",
      "Evaluating: 100%|██████████| 30/30 [00:00<00:00, 36.66it/s]\n",
      "Training:   2%|▏         | 1/50 [00:00<00:04,  9.91it/s]"
     ]
    },
    {
     "name": "stdout",
     "output_type": "stream",
     "text": [
      "200.0\n"
     ]
    },
    {
     "name": "stderr",
     "output_type": "stream",
     "text": [
      "Training: 100%|██████████| 50/50 [00:04<00:00, 10.65it/s]\n",
      "Evaluating: 100%|██████████| 30/30 [00:00<00:00, 37.66it/s]\n",
      "Training:   2%|▏         | 1/50 [00:00<00:05,  8.83it/s]"
     ]
    },
    {
     "name": "stdout",
     "output_type": "stream",
     "text": [
      "200.0\n"
     ]
    },
    {
     "name": "stderr",
     "output_type": "stream",
     "text": [
      "Training: 100%|██████████| 50/50 [00:04<00:00, 11.17it/s]\n",
      "Evaluating: 100%|██████████| 30/30 [00:00<00:00, 38.26it/s]\n",
      "Training:   2%|▏         | 1/50 [00:00<00:05,  9.29it/s]"
     ]
    },
    {
     "name": "stdout",
     "output_type": "stream",
     "text": [
      "200.0\n"
     ]
    },
    {
     "name": "stderr",
     "output_type": "stream",
     "text": [
      "Training: 100%|██████████| 50/50 [00:04<00:00, 10.74it/s]\n",
      "Evaluating: 100%|██████████| 30/30 [00:00<00:00, 38.25it/s]\n",
      "Training:   2%|▏         | 1/50 [00:00<00:05,  8.97it/s]"
     ]
    },
    {
     "name": "stdout",
     "output_type": "stream",
     "text": [
      "200.0\n"
     ]
    },
    {
     "name": "stderr",
     "output_type": "stream",
     "text": [
      "Training: 100%|██████████| 50/50 [00:04<00:00, 10.91it/s]\n",
      "Evaluating: 100%|██████████| 30/30 [00:00<00:00, 37.58it/s]\n",
      "Training:   2%|▏         | 1/50 [00:00<00:05,  8.47it/s]"
     ]
    },
    {
     "name": "stdout",
     "output_type": "stream",
     "text": [
      "200.0\n"
     ]
    },
    {
     "name": "stderr",
     "output_type": "stream",
     "text": [
      "Training: 100%|██████████| 50/50 [00:04<00:00, 10.70it/s]\n",
      "Evaluating: 100%|██████████| 30/30 [00:00<00:00, 38.07it/s]\n",
      "Training:   2%|▏         | 1/50 [00:00<00:07,  6.68it/s]"
     ]
    },
    {
     "name": "stdout",
     "output_type": "stream",
     "text": [
      "200.0\n"
     ]
    },
    {
     "name": "stderr",
     "output_type": "stream",
     "text": [
      "Training: 100%|██████████| 50/50 [00:05<00:00,  9.02it/s]\n",
      "Evaluating: 100%|██████████| 30/30 [00:01<00:00, 29.76it/s]\n",
      "Training:   2%|▏         | 1/50 [00:00<00:07,  6.74it/s]"
     ]
    },
    {
     "name": "stdout",
     "output_type": "stream",
     "text": [
      "200.0\n"
     ]
    },
    {
     "name": "stderr",
     "output_type": "stream",
     "text": [
      "Training: 100%|██████████| 50/50 [00:06<00:00,  8.08it/s]\n",
      "Evaluating: 100%|██████████| 30/30 [00:00<00:00, 37.95it/s]\n",
      "Training:   2%|▏         | 1/50 [00:00<00:05,  9.08it/s]"
     ]
    },
    {
     "name": "stdout",
     "output_type": "stream",
     "text": [
      "200.0\n"
     ]
    },
    {
     "name": "stderr",
     "output_type": "stream",
     "text": [
      "Training: 100%|██████████| 50/50 [00:05<00:00,  8.78it/s]\n",
      "Evaluating: 100%|██████████| 30/30 [00:01<00:00, 28.82it/s]\n",
      "Training:   2%|▏         | 1/50 [00:00<00:06,  7.47it/s]"
     ]
    },
    {
     "name": "stdout",
     "output_type": "stream",
     "text": [
      "200.0\n"
     ]
    },
    {
     "name": "stderr",
     "output_type": "stream",
     "text": [
      "Training: 100%|██████████| 50/50 [00:03<00:00, 12.84it/s]\n",
      "Evaluating: 100%|██████████| 30/30 [00:00<00:00, 38.12it/s]\n",
      "Training:   2%|▏         | 1/50 [00:00<00:05,  9.04it/s]"
     ]
    },
    {
     "name": "stdout",
     "output_type": "stream",
     "text": [
      "200.0\n"
     ]
    },
    {
     "name": "stderr",
     "output_type": "stream",
     "text": [
      "Training: 100%|██████████| 50/50 [00:04<00:00, 10.67it/s]\n",
      "Evaluating: 100%|██████████| 30/30 [00:00<00:00, 37.58it/s]\n",
      "Training:   2%|▏         | 1/50 [00:00<00:06,  7.04it/s]"
     ]
    },
    {
     "name": "stdout",
     "output_type": "stream",
     "text": [
      "200.0\n"
     ]
    },
    {
     "name": "stderr",
     "output_type": "stream",
     "text": [
      "Training: 100%|██████████| 50/50 [00:04<00:00, 10.75it/s]\n",
      "Evaluating: 100%|██████████| 30/30 [00:00<00:00, 38.12it/s]\n",
      "Training:   2%|▏         | 1/50 [00:00<00:06,  7.35it/s]"
     ]
    },
    {
     "name": "stdout",
     "output_type": "stream",
     "text": [
      "200.0\n"
     ]
    },
    {
     "name": "stderr",
     "output_type": "stream",
     "text": [
      "Training: 100%|██████████| 50/50 [00:06<00:00,  8.17it/s]\n",
      "Evaluating: 100%|██████████| 30/30 [00:00<00:00, 38.02it/s]\n",
      "Training:   4%|▍         | 2/50 [00:00<00:04, 10.63it/s]"
     ]
    },
    {
     "name": "stdout",
     "output_type": "stream",
     "text": [
      "200.0\n"
     ]
    },
    {
     "name": "stderr",
     "output_type": "stream",
     "text": [
      "Training: 100%|██████████| 50/50 [00:04<00:00, 11.05it/s]\n",
      "Evaluating: 100%|██████████| 30/30 [00:00<00:00, 38.21it/s]\n",
      "Training:   4%|▍         | 2/50 [00:00<00:04, 10.86it/s]"
     ]
    },
    {
     "name": "stdout",
     "output_type": "stream",
     "text": [
      "200.0\n"
     ]
    },
    {
     "name": "stderr",
     "output_type": "stream",
     "text": [
      "Training: 100%|██████████| 50/50 [00:04<00:00, 10.72it/s]\n",
      "Evaluating: 100%|██████████| 30/30 [00:00<00:00, 38.04it/s]\n",
      "Training:   4%|▍         | 2/50 [00:00<00:04, 10.55it/s]"
     ]
    },
    {
     "name": "stdout",
     "output_type": "stream",
     "text": [
      "200.0\n"
     ]
    },
    {
     "name": "stderr",
     "output_type": "stream",
     "text": [
      "Training: 100%|██████████| 50/50 [00:04<00:00, 11.84it/s]\n",
      "Evaluating: 100%|██████████| 30/30 [00:00<00:00, 38.02it/s]\n",
      "Training:   2%|▏         | 1/50 [00:00<00:06,  7.42it/s]"
     ]
    },
    {
     "name": "stdout",
     "output_type": "stream",
     "text": [
      "200.0\n"
     ]
    },
    {
     "name": "stderr",
     "output_type": "stream",
     "text": [
      "Training: 100%|██████████| 50/50 [00:04<00:00, 10.91it/s]\n",
      "Evaluating: 100%|██████████| 30/30 [00:00<00:00, 37.13it/s]\n",
      "Training:   2%|▏         | 1/50 [00:00<00:06,  8.17it/s]"
     ]
    },
    {
     "name": "stdout",
     "output_type": "stream",
     "text": [
      "200.0\n"
     ]
    },
    {
     "name": "stderr",
     "output_type": "stream",
     "text": [
      "Training: 100%|██████████| 50/50 [00:04<00:00, 10.84it/s]\n",
      "Evaluating: 100%|██████████| 30/30 [00:00<00:00, 38.21it/s]\n",
      "Training:   2%|▏         | 1/50 [00:00<00:06,  7.19it/s]"
     ]
    },
    {
     "name": "stdout",
     "output_type": "stream",
     "text": [
      "200.0\n"
     ]
    },
    {
     "name": "stderr",
     "output_type": "stream",
     "text": [
      "Training: 100%|██████████| 50/50 [00:04<00:00, 10.95it/s]\n",
      "Evaluating: 100%|██████████| 30/30 [00:00<00:00, 37.98it/s]\n",
      "Training:   4%|▍         | 2/50 [00:00<00:04, 10.79it/s]"
     ]
    },
    {
     "name": "stdout",
     "output_type": "stream",
     "text": [
      "200.0\n"
     ]
    },
    {
     "name": "stderr",
     "output_type": "stream",
     "text": [
      "Training: 100%|██████████| 50/50 [00:04<00:00, 10.86it/s]\n",
      "Evaluating: 100%|██████████| 30/30 [00:00<00:00, 37.72it/s]\n",
      "Training:   2%|▏         | 1/50 [00:00<00:05,  8.45it/s]"
     ]
    },
    {
     "name": "stdout",
     "output_type": "stream",
     "text": [
      "200.0\n"
     ]
    },
    {
     "name": "stderr",
     "output_type": "stream",
     "text": [
      "Training: 100%|██████████| 50/50 [00:04<00:00, 10.73it/s]\n",
      "Evaluating: 100%|██████████| 30/30 [00:00<00:00, 38.02it/s]\n",
      "Training:   2%|▏         | 1/50 [00:00<00:07,  6.47it/s]"
     ]
    },
    {
     "name": "stdout",
     "output_type": "stream",
     "text": [
      "200.0\n"
     ]
    },
    {
     "name": "stderr",
     "output_type": "stream",
     "text": [
      "Training: 100%|██████████| 50/50 [00:06<00:00,  8.22it/s]\n",
      "Evaluating: 100%|██████████| 30/30 [00:01<00:00, 29.77it/s]\n",
      "Training:   2%|▏         | 1/50 [00:00<00:07,  6.29it/s]"
     ]
    },
    {
     "name": "stdout",
     "output_type": "stream",
     "text": [
      "200.0\n"
     ]
    },
    {
     "name": "stderr",
     "output_type": "stream",
     "text": [
      "Training: 100%|██████████| 50/50 [00:06<00:00,  8.23it/s]\n",
      "Evaluating: 100%|██████████| 30/30 [00:01<00:00, 29.78it/s]\n",
      "Training:   2%|▏         | 1/50 [00:00<00:05,  8.99it/s]"
     ]
    },
    {
     "name": "stdout",
     "output_type": "stream",
     "text": [
      "200.0\n"
     ]
    },
    {
     "name": "stderr",
     "output_type": "stream",
     "text": [
      "Training: 100%|██████████| 50/50 [00:04<00:00, 10.94it/s]\n",
      "Evaluating: 100%|██████████| 30/30 [00:00<00:00, 37.65it/s]\n",
      "Training:   4%|▍         | 2/50 [00:00<00:04, 10.36it/s]"
     ]
    },
    {
     "name": "stdout",
     "output_type": "stream",
     "text": [
      "192.33333333333334\n"
     ]
    },
    {
     "name": "stderr",
     "output_type": "stream",
     "text": [
      "Training: 100%|██████████| 50/50 [00:04<00:00, 10.64it/s]\n",
      "Evaluating: 100%|██████████| 30/30 [00:01<00:00, 29.45it/s]\n",
      "Training:   2%|▏         | 1/50 [00:00<00:05,  8.36it/s]"
     ]
    },
    {
     "name": "stdout",
     "output_type": "stream",
     "text": [
      "200.0\n"
     ]
    },
    {
     "name": "stderr",
     "output_type": "stream",
     "text": [
      "Training: 100%|██████████| 50/50 [00:04<00:00, 10.95it/s]\n",
      "Evaluating: 100%|██████████| 30/30 [00:00<00:00, 37.17it/s]\n",
      "Training:   2%|▏         | 1/50 [00:00<00:07,  6.73it/s]"
     ]
    },
    {
     "name": "stdout",
     "output_type": "stream",
     "text": [
      "200.0\n"
     ]
    },
    {
     "name": "stderr",
     "output_type": "stream",
     "text": [
      "Training: 100%|██████████| 50/50 [00:04<00:00, 10.51it/s]\n",
      "Evaluating: 100%|██████████| 30/30 [00:00<00:00, 38.12it/s]\n",
      "Training:   2%|▏         | 1/50 [00:00<00:05,  9.43it/s]"
     ]
    },
    {
     "name": "stdout",
     "output_type": "stream",
     "text": [
      "200.0\n"
     ]
    },
    {
     "name": "stderr",
     "output_type": "stream",
     "text": [
      "Training: 100%|██████████| 50/50 [00:04<00:00, 10.74it/s]\n",
      "Evaluating: 100%|██████████| 30/30 [00:00<00:00, 38.10it/s]\n",
      "Training:   2%|▏         | 1/50 [00:00<00:06,  7.57it/s]"
     ]
    },
    {
     "name": "stdout",
     "output_type": "stream",
     "text": [
      "200.0\n"
     ]
    },
    {
     "name": "stderr",
     "output_type": "stream",
     "text": [
      "Training: 100%|██████████| 50/50 [00:06<00:00,  8.11it/s]\n",
      "Evaluating: 100%|██████████| 30/30 [00:01<00:00, 29.69it/s]\n",
      "Training:   2%|▏         | 1/50 [00:00<00:07,  6.41it/s]"
     ]
    },
    {
     "name": "stdout",
     "output_type": "stream",
     "text": [
      "200.0\n"
     ]
    },
    {
     "name": "stderr",
     "output_type": "stream",
     "text": [
      "Training: 100%|██████████| 50/50 [00:05<00:00,  8.34it/s]\n",
      "Evaluating: 100%|██████████| 30/30 [00:01<00:00, 29.86it/s]\n",
      "Training:   2%|▏         | 1/50 [00:00<00:06,  7.54it/s]"
     ]
    },
    {
     "name": "stdout",
     "output_type": "stream",
     "text": [
      "200.0\n"
     ]
    },
    {
     "name": "stderr",
     "output_type": "stream",
     "text": [
      "Training: 100%|██████████| 50/50 [00:06<00:00,  8.22it/s]\n",
      "Evaluating: 100%|██████████| 30/30 [00:00<00:00, 38.29it/s]\n",
      "Training:   2%|▏         | 1/50 [00:00<00:05,  8.56it/s]"
     ]
    },
    {
     "name": "stdout",
     "output_type": "stream",
     "text": [
      "200.0\n"
     ]
    },
    {
     "name": "stderr",
     "output_type": "stream",
     "text": [
      "Training: 100%|██████████| 50/50 [00:02<00:00, 20.23it/s]\n",
      "Evaluating: 100%|██████████| 30/30 [00:00<00:00, 571.43it/s]\n",
      "Training:  16%|█▌        | 8/50 [00:00<00:00, 56.76it/s]"
     ]
    },
    {
     "name": "stdout",
     "output_type": "stream",
     "text": [
      "12.333333333333334\n"
     ]
    },
    {
     "name": "stderr",
     "output_type": "stream",
     "text": [
      "Training: 100%|██████████| 50/50 [00:02<00:00, 22.67it/s]\n",
      "Evaluating: 100%|██████████| 30/30 [00:00<00:00, 38.54it/s]\n",
      "Training:   4%|▍         | 2/50 [00:00<00:04, 10.75it/s]"
     ]
    },
    {
     "name": "stdout",
     "output_type": "stream",
     "text": [
      "200.0\n"
     ]
    },
    {
     "name": "stderr",
     "output_type": "stream",
     "text": [
      "Training: 100%|██████████| 50/50 [00:04<00:00, 10.71it/s]\n",
      "Evaluating: 100%|██████████| 30/30 [00:00<00:00, 36.30it/s]\n",
      "Training:   2%|▏         | 1/50 [00:00<00:05,  9.22it/s]"
     ]
    },
    {
     "name": "stdout",
     "output_type": "stream",
     "text": [
      "200.0\n"
     ]
    },
    {
     "name": "stderr",
     "output_type": "stream",
     "text": [
      "Training: 100%|██████████| 50/50 [00:04<00:00, 10.72it/s]\n",
      "Evaluating: 100%|██████████| 30/30 [00:00<00:00, 38.01it/s]\n",
      "Training:   2%|▏         | 1/50 [00:00<00:07,  6.18it/s]"
     ]
    },
    {
     "name": "stdout",
     "output_type": "stream",
     "text": [
      "200.0\n"
     ]
    },
    {
     "name": "stderr",
     "output_type": "stream",
     "text": [
      "Training: 100%|██████████| 50/50 [00:04<00:00, 10.64it/s]\n",
      "Evaluating: 100%|██████████| 30/30 [00:00<00:00, 38.23it/s]\n",
      "Training:   4%|▍         | 2/50 [00:00<00:04, 10.69it/s]"
     ]
    },
    {
     "name": "stdout",
     "output_type": "stream",
     "text": [
      "200.0\n"
     ]
    },
    {
     "name": "stderr",
     "output_type": "stream",
     "text": [
      "Training: 100%|██████████| 50/50 [00:04<00:00, 10.80it/s]\n",
      "Evaluating: 100%|██████████| 30/30 [00:00<00:00, 38.18it/s]\n",
      "Training:   4%|▍         | 2/50 [00:00<00:04, 10.68it/s]"
     ]
    },
    {
     "name": "stdout",
     "output_type": "stream",
     "text": [
      "200.0\n"
     ]
    },
    {
     "name": "stderr",
     "output_type": "stream",
     "text": [
      "Training: 100%|██████████| 50/50 [00:04<00:00, 10.84it/s]\n",
      "Evaluating: 100%|██████████| 30/30 [00:00<00:00, 37.89it/s]\n",
      "Training:   2%|▏         | 1/50 [00:00<00:06,  7.95it/s]"
     ]
    },
    {
     "name": "stdout",
     "output_type": "stream",
     "text": [
      "200.0\n"
     ]
    },
    {
     "name": "stderr",
     "output_type": "stream",
     "text": [
      "Training: 100%|██████████| 50/50 [00:04<00:00, 10.74it/s]\n",
      "Evaluating: 100%|██████████| 30/30 [00:00<00:00, 38.36it/s]\n",
      "Training:   2%|▏         | 1/50 [00:00<00:05,  9.49it/s]"
     ]
    },
    {
     "name": "stdout",
     "output_type": "stream",
     "text": [
      "200.0\n"
     ]
    },
    {
     "name": "stderr",
     "output_type": "stream",
     "text": [
      "Training: 100%|██████████| 50/50 [00:04<00:00, 10.78it/s]\n",
      "Evaluating: 100%|██████████| 30/30 [00:00<00:00, 38.55it/s]\n",
      "Training:   2%|▏         | 1/50 [00:00<00:05,  9.40it/s]"
     ]
    },
    {
     "name": "stdout",
     "output_type": "stream",
     "text": [
      "200.0\n"
     ]
    },
    {
     "name": "stderr",
     "output_type": "stream",
     "text": [
      "Training: 100%|██████████| 50/50 [00:01<00:00, 32.34it/s]\n",
      "Evaluating: 100%|██████████| 30/30 [00:00<00:00, 553.93it/s]\n",
      "Training:  14%|█▍        | 7/50 [00:00<00:00, 46.83it/s]"
     ]
    },
    {
     "name": "stdout",
     "output_type": "stream",
     "text": [
      "12.9\n"
     ]
    },
    {
     "name": "stderr",
     "output_type": "stream",
     "text": [
      "Training: 100%|██████████| 50/50 [00:03<00:00, 12.93it/s]\n",
      "Evaluating: 100%|██████████| 30/30 [00:00<00:00, 35.88it/s]\n",
      "Training:   2%|▏         | 1/50 [00:00<00:05,  9.39it/s]"
     ]
    },
    {
     "name": "stdout",
     "output_type": "stream",
     "text": [
      "200.0\n"
     ]
    },
    {
     "name": "stderr",
     "output_type": "stream",
     "text": [
      "Training: 100%|██████████| 50/50 [00:04<00:00, 11.78it/s]\n",
      "Evaluating: 100%|██████████| 30/30 [00:00<00:00, 38.01it/s]\n",
      "Training:   2%|▏         | 1/50 [00:00<00:05,  9.10it/s]"
     ]
    },
    {
     "name": "stdout",
     "output_type": "stream",
     "text": [
      "200.0\n"
     ]
    },
    {
     "name": "stderr",
     "output_type": "stream",
     "text": [
      "Training: 100%|██████████| 50/50 [00:04<00:00, 10.78it/s]\n",
      "Evaluating: 100%|██████████| 30/30 [00:00<00:00, 38.15it/s]\n",
      "Training:   2%|▏         | 1/50 [00:00<00:05,  8.60it/s]"
     ]
    },
    {
     "name": "stdout",
     "output_type": "stream",
     "text": [
      "200.0\n"
     ]
    },
    {
     "name": "stderr",
     "output_type": "stream",
     "text": [
      "Training: 100%|██████████| 50/50 [00:04<00:00, 10.76it/s]\n",
      "Evaluating: 100%|██████████| 30/30 [00:00<00:00, 37.81it/s]\n",
      "Training:   2%|▏         | 1/50 [00:00<00:05,  8.73it/s]"
     ]
    },
    {
     "name": "stdout",
     "output_type": "stream",
     "text": [
      "200.0\n"
     ]
    },
    {
     "name": "stderr",
     "output_type": "stream",
     "text": [
      "Training: 100%|██████████| 50/50 [00:04<00:00, 10.78it/s]\n",
      "Evaluating: 100%|██████████| 30/30 [00:00<00:00, 38.45it/s]\n",
      "Training:   2%|▏         | 1/50 [00:00<00:07,  6.65it/s]"
     ]
    },
    {
     "name": "stdout",
     "output_type": "stream",
     "text": [
      "200.0\n"
     ]
    },
    {
     "name": "stderr",
     "output_type": "stream",
     "text": [
      "Training: 100%|██████████| 50/50 [00:04<00:00, 10.67it/s]\n",
      "Evaluating: 100%|██████████| 30/30 [00:00<00:00, 38.07it/s]\n",
      "Training:   2%|▏         | 1/50 [00:00<00:05,  8.57it/s]"
     ]
    },
    {
     "name": "stdout",
     "output_type": "stream",
     "text": [
      "200.0\n"
     ]
    },
    {
     "name": "stderr",
     "output_type": "stream",
     "text": [
      "Training: 100%|██████████| 50/50 [00:04<00:00, 10.77it/s]\n",
      "Evaluating: 100%|██████████| 30/30 [00:00<00:00, 38.08it/s]\n",
      "Training:   2%|▏         | 1/50 [00:00<00:05,  8.58it/s]"
     ]
    },
    {
     "name": "stdout",
     "output_type": "stream",
     "text": [
      "200.0\n"
     ]
    },
    {
     "name": "stderr",
     "output_type": "stream",
     "text": [
      "Training: 100%|██████████| 50/50 [00:04<00:00, 10.77it/s]\n",
      "Evaluating: 100%|██████████| 30/30 [00:00<00:00, 44.71it/s]\n",
      "Training:   4%|▍         | 2/50 [00:00<00:03, 15.21it/s]"
     ]
    },
    {
     "name": "stdout",
     "output_type": "stream",
     "text": [
      "169.5\n"
     ]
    },
    {
     "name": "stderr",
     "output_type": "stream",
     "text": [
      "Training: 100%|██████████| 50/50 [00:04<00:00, 11.52it/s]\n",
      "Evaluating: 100%|██████████| 30/30 [00:00<00:00, 38.29it/s]\n",
      "Training:   2%|▏         | 1/50 [00:00<00:06,  7.88it/s]"
     ]
    },
    {
     "name": "stdout",
     "output_type": "stream",
     "text": [
      "200.0\n"
     ]
    },
    {
     "name": "stderr",
     "output_type": "stream",
     "text": [
      "Training: 100%|██████████| 50/50 [00:03<00:00, 13.41it/s]\n",
      "Evaluating: 100%|██████████| 30/30 [00:00<00:00, 50.86it/s]\n",
      "Training:   2%|▏         | 1/50 [00:00<00:06,  7.08it/s]"
     ]
    },
    {
     "name": "stdout",
     "output_type": "stream",
     "text": [
      "149.1\n"
     ]
    },
    {
     "name": "stderr",
     "output_type": "stream",
     "text": [
      "Training: 100%|██████████| 50/50 [00:04<00:00, 10.84it/s]\n",
      "Evaluating: 100%|██████████| 30/30 [00:00<00:00, 32.87it/s]\n",
      "Training:   2%|▏         | 1/50 [00:00<00:05,  9.27it/s]"
     ]
    },
    {
     "name": "stdout",
     "output_type": "stream",
     "text": [
      "182.16666666666666\n"
     ]
    },
    {
     "name": "stderr",
     "output_type": "stream",
     "text": [
      "Training: 100%|██████████| 50/50 [00:04<00:00, 10.95it/s]\n",
      "Evaluating: 100%|██████████| 30/30 [00:00<00:00, 38.05it/s]\n",
      "Training:   4%|▍         | 2/50 [00:00<00:03, 13.75it/s]"
     ]
    },
    {
     "name": "stdout",
     "output_type": "stream",
     "text": [
      "156.4\n"
     ]
    },
    {
     "name": "stderr",
     "output_type": "stream",
     "text": [
      "Training: 100%|██████████| 50/50 [00:04<00:00, 12.38it/s]\n",
      "Evaluating: 100%|██████████| 30/30 [00:00<00:00, 39.37it/s]\n",
      "Training:   2%|▏         | 1/50 [00:00<00:05,  9.08it/s]"
     ]
    },
    {
     "name": "stdout",
     "output_type": "stream",
     "text": [
      "193.93333333333334\n"
     ]
    },
    {
     "name": "stderr",
     "output_type": "stream",
     "text": [
      "Training: 100%|██████████| 50/50 [00:03<00:00, 13.40it/s]\n",
      "Evaluating: 100%|██████████| 30/30 [00:00<00:00, 38.24it/s]\n",
      "Training:   2%|▏         | 1/50 [00:00<00:05,  8.29it/s]"
     ]
    },
    {
     "name": "stdout",
     "output_type": "stream",
     "text": [
      "200.0\n"
     ]
    },
    {
     "name": "stderr",
     "output_type": "stream",
     "text": [
      "Training: 100%|██████████| 50/50 [00:04<00:00, 10.72it/s]\n",
      "Evaluating: 100%|██████████| 30/30 [00:00<00:00, 38.09it/s]\n",
      "Training:   2%|▏         | 1/50 [00:00<00:06,  7.29it/s]"
     ]
    },
    {
     "name": "stdout",
     "output_type": "stream",
     "text": [
      "200.0\n"
     ]
    },
    {
     "name": "stderr",
     "output_type": "stream",
     "text": [
      "Training: 100%|██████████| 50/50 [00:06<00:00,  8.08it/s]\n",
      "Evaluating: 100%|██████████| 30/30 [00:01<00:00, 28.76it/s]\n",
      "Training:   2%|▏         | 1/50 [00:00<00:05,  9.20it/s]"
     ]
    },
    {
     "name": "stdout",
     "output_type": "stream",
     "text": [
      "200.0\n"
     ]
    },
    {
     "name": "stderr",
     "output_type": "stream",
     "text": [
      "Training: 100%|██████████| 50/50 [00:04<00:00, 10.73it/s]\n",
      "Evaluating: 100%|██████████| 30/30 [00:00<00:00, 36.88it/s]\n",
      "Training:   2%|▏         | 1/50 [00:00<00:05,  8.25it/s]"
     ]
    },
    {
     "name": "stdout",
     "output_type": "stream",
     "text": [
      "200.0\n"
     ]
    },
    {
     "name": "stderr",
     "output_type": "stream",
     "text": [
      "Training: 100%|██████████| 50/50 [00:04<00:00, 11.30it/s]\n",
      "Evaluating: 100%|██████████| 30/30 [00:00<00:00, 38.18it/s]\n",
      "Training:   2%|▏         | 1/50 [00:00<00:06,  7.51it/s]"
     ]
    },
    {
     "name": "stdout",
     "output_type": "stream",
     "text": [
      "200.0\n"
     ]
    },
    {
     "name": "stderr",
     "output_type": "stream",
     "text": [
      "Training: 100%|██████████| 50/50 [00:06<00:00,  8.27it/s]\n",
      "Evaluating: 100%|██████████| 30/30 [00:00<00:00, 32.73it/s]\n",
      "Training:   2%|▏         | 1/50 [00:00<00:05,  8.52it/s]"
     ]
    },
    {
     "name": "stdout",
     "output_type": "stream",
     "text": [
      "200.0\n"
     ]
    },
    {
     "name": "stderr",
     "output_type": "stream",
     "text": [
      "Training: 100%|██████████| 50/50 [00:04<00:00, 10.71it/s]\n",
      "Evaluating: 100%|██████████| 30/30 [00:00<00:00, 37.22it/s]\n",
      "Training:   2%|▏         | 1/50 [00:00<00:05,  8.23it/s]"
     ]
    },
    {
     "name": "stdout",
     "output_type": "stream",
     "text": [
      "200.0\n"
     ]
    },
    {
     "name": "stderr",
     "output_type": "stream",
     "text": [
      "Training: 100%|██████████| 50/50 [00:04<00:00, 10.70it/s]\n",
      "Evaluating: 100%|██████████| 30/30 [00:00<00:00, 37.33it/s]\n",
      "Training:   2%|▏         | 1/50 [00:00<00:05,  9.12it/s]"
     ]
    },
    {
     "name": "stdout",
     "output_type": "stream",
     "text": [
      "200.0\n"
     ]
    },
    {
     "name": "stderr",
     "output_type": "stream",
     "text": [
      "Training: 100%|██████████| 50/50 [00:04<00:00, 10.73it/s]\n",
      "Evaluating: 100%|██████████| 30/30 [00:00<00:00, 36.67it/s]\n",
      "Training:   2%|▏         | 1/50 [00:00<00:05,  9.26it/s]"
     ]
    },
    {
     "name": "stdout",
     "output_type": "stream",
     "text": [
      "200.0\n"
     ]
    },
    {
     "name": "stderr",
     "output_type": "stream",
     "text": [
      "Training: 100%|██████████| 50/50 [00:04<00:00, 10.70it/s]\n",
      "Evaluating: 100%|██████████| 30/30 [00:00<00:00, 37.57it/s]\n",
      "Training:   2%|▏         | 1/50 [00:00<00:05,  8.40it/s]"
     ]
    },
    {
     "name": "stdout",
     "output_type": "stream",
     "text": [
      "200.0\n"
     ]
    },
    {
     "name": "stderr",
     "output_type": "stream",
     "text": [
      "Training: 100%|██████████| 50/50 [00:04<00:00, 10.73it/s]\n",
      "Evaluating: 100%|██████████| 30/30 [00:00<00:00, 37.92it/s]\n",
      "Training:   2%|▏         | 1/50 [00:00<00:06,  7.86it/s]"
     ]
    },
    {
     "name": "stdout",
     "output_type": "stream",
     "text": [
      "200.0\n"
     ]
    },
    {
     "name": "stderr",
     "output_type": "stream",
     "text": [
      "Training: 100%|██████████| 50/50 [00:04<00:00, 12.45it/s]\n",
      "Evaluating: 100%|██████████| 30/30 [00:00<00:00, 37.83it/s]\n",
      "Training:   2%|▏         | 1/50 [00:00<00:05,  8.70it/s]"
     ]
    },
    {
     "name": "stdout",
     "output_type": "stream",
     "text": [
      "200.0\n"
     ]
    },
    {
     "name": "stderr",
     "output_type": "stream",
     "text": [
      "Training: 100%|██████████| 50/50 [00:03<00:00, 13.56it/s]\n",
      "Evaluating: 100%|██████████| 30/30 [00:00<00:00, 30.40it/s]\n",
      "Training:   2%|▏         | 1/50 [00:00<00:06,  7.21it/s]"
     ]
    },
    {
     "name": "stdout",
     "output_type": "stream",
     "text": [
      "200.0\n"
     ]
    },
    {
     "name": "stderr",
     "output_type": "stream",
     "text": [
      "Training: 100%|██████████| 50/50 [00:05<00:00,  9.26it/s]\n",
      "Evaluating: 100%|██████████| 30/30 [00:00<00:00, 49.30it/s]\n",
      "Training:   4%|▍         | 2/50 [00:00<00:04, 11.75it/s]"
     ]
    },
    {
     "name": "stdout",
     "output_type": "stream",
     "text": [
      "117.46666666666667\n"
     ]
    },
    {
     "name": "stderr",
     "output_type": "stream",
     "text": [
      "Training: 100%|██████████| 50/50 [00:05<00:00,  8.39it/s]\n",
      "Evaluating: 100%|██████████| 30/30 [00:01<00:00, 29.59it/s]\n",
      "Training:   2%|▏         | 1/50 [00:00<00:06,  7.26it/s]"
     ]
    },
    {
     "name": "stdout",
     "output_type": "stream",
     "text": [
      "200.0\n"
     ]
    },
    {
     "name": "stderr",
     "output_type": "stream",
     "text": [
      "Training: 100%|██████████| 50/50 [00:05<00:00,  9.61it/s]\n",
      "Evaluating: 100%|██████████| 30/30 [00:00<00:00, 38.04it/s]\n",
      "Training:   2%|▏         | 1/50 [00:00<00:05,  9.07it/s]"
     ]
    },
    {
     "name": "stdout",
     "output_type": "stream",
     "text": [
      "200.0\n"
     ]
    },
    {
     "name": "stderr",
     "output_type": "stream",
     "text": [
      "Training: 100%|██████████| 50/50 [00:04<00:00, 11.86it/s]\n",
      "Evaluating: 100%|██████████| 30/30 [00:00<00:00, 37.98it/s]\n",
      "Training:   2%|▏         | 1/50 [00:00<00:05,  8.61it/s]"
     ]
    },
    {
     "name": "stdout",
     "output_type": "stream",
     "text": [
      "200.0\n"
     ]
    },
    {
     "name": "stderr",
     "output_type": "stream",
     "text": [
      "Training: 100%|██████████| 50/50 [00:04<00:00, 12.33it/s]\n",
      "Evaluating: 100%|██████████| 30/30 [00:00<00:00, 37.89it/s]\n",
      "Training:   2%|▏         | 1/50 [00:00<00:06,  7.28it/s]"
     ]
    },
    {
     "name": "stdout",
     "output_type": "stream",
     "text": [
      "200.0\n"
     ]
    },
    {
     "name": "stderr",
     "output_type": "stream",
     "text": [
      "Training: 100%|██████████| 50/50 [00:04<00:00, 11.51it/s]\n",
      "Evaluating: 100%|██████████| 30/30 [00:00<00:00, 37.96it/s]\n",
      "Training:   2%|▏         | 1/50 [00:00<00:05,  9.65it/s]"
     ]
    },
    {
     "name": "stdout",
     "output_type": "stream",
     "text": [
      "200.0\n"
     ]
    },
    {
     "name": "stderr",
     "output_type": "stream",
     "text": [
      "Training: 100%|██████████| 50/50 [00:04<00:00, 10.87it/s]\n",
      "Evaluating: 100%|██████████| 30/30 [00:00<00:00, 42.24it/s]\n",
      "Training:   4%|▍         | 2/50 [00:00<00:02, 19.16it/s]"
     ]
    },
    {
     "name": "stdout",
     "output_type": "stream",
     "text": [
      "180.3\n"
     ]
    },
    {
     "name": "stderr",
     "output_type": "stream",
     "text": [
      "Training: 100%|██████████| 50/50 [00:03<00:00, 14.65it/s]\n",
      "Evaluating: 100%|██████████| 30/30 [00:00<00:00, 51.33it/s]"
     ]
    },
    {
     "name": "stdout",
     "output_type": "stream",
     "text": [
      "148.56666666666666\n",
      "\n",
      "Learning Performance:\n",
      "\n"
     ]
    },
    {
     "name": "stderr",
     "output_type": "stream",
     "text": [
      "\n"
     ]
    },
    {
     "data": {
      "text/plain": [
       "<Figure size 432x288 with 0 Axes>"
      ]
     },
     "metadata": {},
     "output_type": "display_data"
    },
    {
     "data": {
      "image/png": "[encoded data removed]",
      "text/plain": [
       "<Figure size 432x288 with 1 Axes>"
      ]
     },
     "metadata": {
      "needs_background": "light"
     },
     "output_type": "display_data"
    }
   ],
   "source": [
    "# DQN with a replay buffer, but without a target network.\n",
    "# Here you set use_target_model = False and otherwise set the replay memory parameters to the above suggested values\n",
    "\n",
    "hyperparams_CartPole = {\n",
    "    'epsilon_decay_steps' : 100000, \n",
    "    'final_epsilon' : 0.1,\n",
    "    'batch_size' : 32, \n",
    "    'update_steps' : 10, \n",
    "    'memory_size' : 2000, \n",
    "    'beta' : 0.99, \n",
    "    'model_replace_freq' : 2000,\n",
    "    'learning_rate' : 0.0003,\n",
    "    'use_target_model': False\n",
    "}\n",
    "\n",
    "training_episodes, test_interval = 10000, 50\n",
    "agent = DQN_agent(env_CartPole, hyperparams_CartPole)\n",
    "result = agent.learn_and_evaluate(training_episodes, test_interval)\n",
    "plot_result(result, test_interval, [\"batch_update without target_model\"])"
   ]
  },
  {
   "cell_type": "code",
   "execution_count": 13,
   "metadata": {},
   "outputs": [
    {
     "name": "stderr",
     "output_type": "stream",
     "text": [
      "Training: 100%|██████████| 50/50 [00:00<00:00, 105.90it/s]\n",
      "Evaluating: 100%|██████████| 30/30 [00:00<00:00, 599.44it/s]\n",
      "Training:  34%|███▍      | 17/50 [00:00<00:00, 161.09it/s]"
     ]
    },
    {
     "name": "stdout",
     "output_type": "stream",
     "text": [
      "9.333333333333334\n"
     ]
    },
    {
     "name": "stderr",
     "output_type": "stream",
     "text": [
      "Training: 100%|██████████| 50/50 [00:00<00:00, 162.52it/s]\n",
      "Evaluating: 100%|██████████| 30/30 [00:00<00:00, 449.77it/s]\n",
      "Training:  22%|██▏       | 11/50 [00:00<00:00, 109.17it/s]"
     ]
    },
    {
     "name": "stdout",
     "output_type": "stream",
     "text": [
      "15.933333333333334\n"
     ]
    },
    {
     "name": "stderr",
     "output_type": "stream",
     "text": [
      "Training: 100%|██████████| 50/50 [00:00<00:00, 140.28it/s]\n",
      "Evaluating: 100%|██████████| 30/30 [00:00<00:00, 751.86it/s]\n",
      "Training:  34%|███▍      | 17/50 [00:00<00:00, 157.11it/s]"
     ]
    },
    {
     "name": "stdout",
     "output_type": "stream",
     "text": [
      "9.466666666666667\n"
     ]
    },
    {
     "name": "stderr",
     "output_type": "stream",
     "text": [
      "Training: 100%|██████████| 50/50 [00:00<00:00, 141.65it/s]\n",
      "Evaluating: 100%|██████████| 30/30 [00:00<00:00, 501.27it/s]\n",
      "Training:  24%|██▍       | 12/50 [00:00<00:00, 112.46it/s]"
     ]
    },
    {
     "name": "stdout",
     "output_type": "stream",
     "text": [
      "13.666666666666666\n"
     ]
    },
    {
     "name": "stderr",
     "output_type": "stream",
     "text": [
      "Training: 100%|██████████| 50/50 [00:00<00:00, 135.14it/s]\n",
      "Evaluating: 100%|██████████| 30/30 [00:00<00:00, 557.27it/s]\n",
      "Training:  26%|██▌       | 13/50 [00:00<00:00, 128.32it/s]"
     ]
    },
    {
     "name": "stdout",
     "output_type": "stream",
     "text": [
      "12.633333333333333\n"
     ]
    },
    {
     "name": "stderr",
     "output_type": "stream",
     "text": [
      "Training: 100%|██████████| 50/50 [00:00<00:00, 134.54it/s]\n",
      "Evaluating: 100%|██████████| 30/30 [00:00<00:00, 595.27it/s]\n",
      "Training:  24%|██▍       | 12/50 [00:00<00:00, 116.25it/s]"
     ]
    },
    {
     "name": "stdout",
     "output_type": "stream",
     "text": [
      "11.266666666666667\n"
     ]
    },
    {
     "name": "stderr",
     "output_type": "stream",
     "text": [
      "Training: 100%|██████████| 50/50 [00:00<00:00, 114.99it/s]\n",
      "Evaluating: 100%|██████████| 30/30 [00:00<00:00, 160.17it/s]\n",
      "Training:  26%|██▌       | 13/50 [00:00<00:00, 121.54it/s]"
     ]
    },
    {
     "name": "stdout",
     "output_type": "stream",
     "text": [
      "46.93333333333333\n"
     ]
    },
    {
     "name": "stderr",
     "output_type": "stream",
     "text": [
      "Training: 100%|██████████| 50/50 [00:00<00:00, 126.34it/s]\n",
      "Evaluating: 100%|██████████| 30/30 [00:00<00:00, 199.64it/s]\n",
      "Training:  24%|██▍       | 12/50 [00:00<00:00, 113.26it/s]"
     ]
    },
    {
     "name": "stdout",
     "output_type": "stream",
     "text": [
      "37.53333333333333\n"
     ]
    },
    {
     "name": "stderr",
     "output_type": "stream",
     "text": [
      "Training: 100%|██████████| 50/50 [00:00<00:00, 119.53it/s]\n",
      "Evaluating: 100%|██████████| 30/30 [00:00<00:00, 36.65it/s]\n",
      "Training:  32%|███▏      | 16/50 [00:00<00:00, 143.18it/s]"
     ]
    },
    {
     "name": "stdout",
     "output_type": "stream",
     "text": [
      "199.96666666666667\n"
     ]
    },
    {
     "name": "stderr",
     "output_type": "stream",
     "text": [
      "Training: 100%|██████████| 50/50 [00:00<00:00, 146.54it/s]\n",
      "Evaluating: 100%|██████████| 30/30 [00:00<00:00, 37.58it/s]\n",
      "Training:  12%|█▏        | 6/50 [00:00<00:00, 58.27it/s]"
     ]
    },
    {
     "name": "stdout",
     "output_type": "stream",
     "text": [
      "200.0\n"
     ]
    },
    {
     "name": "stderr",
     "output_type": "stream",
     "text": [
      "Training: 100%|██████████| 50/50 [00:00<00:00, 123.03it/s]\n",
      "Evaluating: 100%|██████████| 30/30 [00:00<00:00, 50.16it/s]\n",
      "Training:  10%|█         | 5/50 [00:00<00:01, 43.97it/s]"
     ]
    },
    {
     "name": "stdout",
     "output_type": "stream",
     "text": [
      "151.23333333333332\n"
     ]
    },
    {
     "name": "stderr",
     "output_type": "stream",
     "text": [
      "Training: 100%|██████████| 50/50 [00:00<00:00, 70.94it/s]\n",
      "Evaluating: 100%|██████████| 30/30 [00:01<00:00, 29.83it/s]\n",
      "Training:   4%|▍         | 2/50 [00:00<00:03, 14.40it/s]"
     ]
    },
    {
     "name": "stdout",
     "output_type": "stream",
     "text": [
      "200.0\n"
     ]
    },
    {
     "name": "stderr",
     "output_type": "stream",
     "text": [
      "Training: 100%|██████████| 50/50 [00:00<00:00, 98.47it/s]\n",
      "Evaluating: 100%|██████████| 30/30 [00:00<00:00, 40.15it/s]\n",
      "Training:   6%|▌         | 3/50 [00:00<00:01, 28.27it/s]"
     ]
    },
    {
     "name": "stdout",
     "output_type": "stream",
     "text": [
      "189.96666666666667\n"
     ]
    },
    {
     "name": "stderr",
     "output_type": "stream",
     "text": [
      "Training: 100%|██████████| 50/50 [00:00<00:00, 78.29it/s]\n",
      "Evaluating: 100%|██████████| 30/30 [00:00<00:00, 38.03it/s]\n",
      "Training:  10%|█         | 5/50 [00:00<00:00, 47.64it/s]"
     ]
    },
    {
     "name": "stdout",
     "output_type": "stream",
     "text": [
      "200.0\n"
     ]
    },
    {
     "name": "stderr",
     "output_type": "stream",
     "text": [
      "Training: 100%|██████████| 50/50 [00:00<00:00, 91.15it/s]\n",
      "Evaluating: 100%|██████████| 30/30 [00:00<00:00, 37.04it/s]\n",
      "Training:  18%|█▊        | 9/50 [00:00<00:00, 84.05it/s]"
     ]
    },
    {
     "name": "stdout",
     "output_type": "stream",
     "text": [
      "200.0\n"
     ]
    },
    {
     "name": "stderr",
     "output_type": "stream",
     "text": [
      "Training: 100%|██████████| 50/50 [00:00<00:00, 93.21it/s]\n",
      "Evaluating: 100%|██████████| 30/30 [00:00<00:00, 40.50it/s]\n",
      "Training:  14%|█▍        | 7/50 [00:00<00:00, 65.64it/s]"
     ]
    },
    {
     "name": "stdout",
     "output_type": "stream",
     "text": [
      "184.7\n"
     ]
    },
    {
     "name": "stderr",
     "output_type": "stream",
     "text": [
      "Training: 100%|██████████| 50/50 [00:00<00:00, 77.01it/s]\n",
      "Evaluating: 100%|██████████| 30/30 [00:00<00:00, 37.99it/s]\n",
      "Training:  16%|█▌        | 8/50 [00:00<00:00, 78.69it/s]"
     ]
    },
    {
     "name": "stdout",
     "output_type": "stream",
     "text": [
      "200.0\n"
     ]
    },
    {
     "name": "stderr",
     "output_type": "stream",
     "text": [
      "Training: 100%|██████████| 50/50 [00:00<00:00, 78.47it/s]\n",
      "Evaluating: 100%|██████████| 30/30 [00:00<00:00, 42.10it/s]\n",
      "Training:  14%|█▍        | 7/50 [00:00<00:00, 64.57it/s]"
     ]
    },
    {
     "name": "stdout",
     "output_type": "stream",
     "text": [
      "171.56666666666666\n"
     ]
    },
    {
     "name": "stderr",
     "output_type": "stream",
     "text": [
      "Training: 100%|██████████| 50/50 [00:00<00:00, 74.46it/s]\n",
      "Evaluating: 100%|██████████| 30/30 [00:00<00:00, 37.57it/s]\n",
      "Training:  10%|█         | 5/50 [00:00<00:00, 45.20it/s]"
     ]
    },
    {
     "name": "stdout",
     "output_type": "stream",
     "text": [
      "198.73333333333332\n"
     ]
    },
    {
     "name": "stderr",
     "output_type": "stream",
     "text": [
      "Training: 100%|██████████| 50/50 [00:00<00:00, 54.50it/s]\n",
      "Evaluating: 100%|██████████| 30/30 [00:00<00:00, 36.62it/s]\n",
      "Training:   4%|▍         | 2/50 [00:00<00:02, 18.57it/s]"
     ]
    },
    {
     "name": "stdout",
     "output_type": "stream",
     "text": [
      "200.0\n"
     ]
    },
    {
     "name": "stderr",
     "output_type": "stream",
     "text": [
      "Training: 100%|██████████| 50/50 [00:00<00:00, 63.33it/s]\n",
      "Evaluating: 100%|██████████| 30/30 [00:00<00:00, 38.33it/s]\n",
      "Training:  14%|█▍        | 7/50 [00:00<00:00, 66.56it/s]"
     ]
    },
    {
     "name": "stdout",
     "output_type": "stream",
     "text": [
      "200.0\n"
     ]
    },
    {
     "name": "stderr",
     "output_type": "stream",
     "text": [
      "Training: 100%|██████████| 50/50 [00:00<00:00, 56.52it/s]\n",
      "Evaluating: 100%|██████████| 30/30 [00:00<00:00, 38.01it/s]\n",
      "Training:   8%|▊         | 4/50 [00:00<00:01, 35.71it/s]"
     ]
    },
    {
     "name": "stdout",
     "output_type": "stream",
     "text": [
      "200.0\n"
     ]
    },
    {
     "name": "stderr",
     "output_type": "stream",
     "text": [
      "Training: 100%|██████████| 50/50 [00:01<00:00, 43.49it/s]\n",
      "Evaluating: 100%|██████████| 30/30 [00:00<00:00, 37.94it/s]\n",
      "Training:   6%|▌         | 3/50 [00:00<00:01, 24.77it/s]"
     ]
    },
    {
     "name": "stdout",
     "output_type": "stream",
     "text": [
      "199.7\n"
     ]
    },
    {
     "name": "stderr",
     "output_type": "stream",
     "text": [
      "Training: 100%|██████████| 50/50 [00:01<00:00, 34.11it/s]\n",
      "Evaluating: 100%|██████████| 30/30 [00:00<00:00, 39.51it/s]\n",
      "Training:  10%|█         | 5/50 [00:00<00:00, 49.16it/s]"
     ]
    },
    {
     "name": "stdout",
     "output_type": "stream",
     "text": [
      "183.6\n"
     ]
    },
    {
     "name": "stderr",
     "output_type": "stream",
     "text": [
      "Training: 100%|██████████| 50/50 [00:01<00:00, 38.07it/s]\n",
      "Evaluating: 100%|██████████| 30/30 [00:00<00:00, 38.10it/s]\n",
      "Training:   6%|▌         | 3/50 [00:00<00:02, 21.87it/s]"
     ]
    },
    {
     "name": "stdout",
     "output_type": "stream",
     "text": [
      "200.0\n"
     ]
    },
    {
     "name": "stderr",
     "output_type": "stream",
     "text": [
      "Training: 100%|██████████| 50/50 [00:01<00:00, 35.68it/s]\n",
      "Evaluating: 100%|██████████| 30/30 [00:00<00:00, 38.09it/s]\n",
      "Training:   8%|▊         | 4/50 [00:00<00:01, 39.84it/s]"
     ]
    },
    {
     "name": "stdout",
     "output_type": "stream",
     "text": [
      "200.0\n"
     ]
    },
    {
     "name": "stderr",
     "output_type": "stream",
     "text": [
      "Training: 100%|██████████| 50/50 [00:01<00:00, 27.22it/s]\n",
      "Evaluating: 100%|██████████| 30/30 [00:00<00:00, 30.43it/s]\n",
      "Training:   6%|▌         | 3/50 [00:00<00:02, 21.57it/s]"
     ]
    },
    {
     "name": "stdout",
     "output_type": "stream",
     "text": [
      "200.0\n"
     ]
    },
    {
     "name": "stderr",
     "output_type": "stream",
     "text": [
      "Training: 100%|██████████| 50/50 [00:02<00:00, 18.32it/s]\n",
      "Evaluating: 100%|██████████| 30/30 [00:00<00:00, 38.35it/s]\n",
      "Training:   4%|▍         | 2/50 [00:00<00:03, 12.37it/s]"
     ]
    },
    {
     "name": "stdout",
     "output_type": "stream",
     "text": [
      "199.03333333333333\n"
     ]
    },
    {
     "name": "stderr",
     "output_type": "stream",
     "text": [
      "Training: 100%|██████████| 50/50 [00:03<00:00, 15.60it/s]\n",
      "Evaluating: 100%|██████████| 30/30 [00:00<00:00, 38.09it/s]\n",
      "Training:   2%|▏         | 1/50 [00:00<00:05,  9.77it/s]"
     ]
    },
    {
     "name": "stdout",
     "output_type": "stream",
     "text": [
      "200.0\n"
     ]
    },
    {
     "name": "stderr",
     "output_type": "stream",
     "text": [
      "Training: 100%|██████████| 50/50 [00:03<00:00, 12.87it/s]\n",
      "Evaluating: 100%|██████████| 30/30 [00:00<00:00, 43.28it/s]\n",
      "Training:   2%|▏         | 1/50 [00:00<00:08,  6.04it/s]"
     ]
    },
    {
     "name": "stdout",
     "output_type": "stream",
     "text": [
      "175.06666666666666\n"
     ]
    },
    {
     "name": "stderr",
     "output_type": "stream",
     "text": [
      "Training: 100%|██████████| 50/50 [00:03<00:00, 16.12it/s]\n",
      "Evaluating: 100%|██████████| 30/30 [00:00<00:00, 38.16it/s]\n",
      "Training:   2%|▏         | 1/50 [00:00<00:04,  9.95it/s]"
     ]
    },
    {
     "name": "stdout",
     "output_type": "stream",
     "text": [
      "199.43333333333334\n"
     ]
    },
    {
     "name": "stderr",
     "output_type": "stream",
     "text": [
      "Training: 100%|██████████| 50/50 [00:03<00:00, 15.97it/s]\n",
      "Evaluating: 100%|██████████| 30/30 [00:00<00:00, 41.09it/s]\n",
      "Training:   2%|▏         | 1/50 [00:00<00:06,  7.78it/s]"
     ]
    },
    {
     "name": "stdout",
     "output_type": "stream",
     "text": [
      "184.53333333333333\n"
     ]
    },
    {
     "name": "stderr",
     "output_type": "stream",
     "text": [
      "Training: 100%|██████████| 50/50 [00:03<00:00, 14.28it/s]\n",
      "Evaluating: 100%|██████████| 30/30 [00:00<00:00, 254.76it/s]\n",
      "Training:  10%|█         | 5/50 [00:00<00:01, 33.87it/s]"
     ]
    },
    {
     "name": "stdout",
     "output_type": "stream",
     "text": [
      "22.866666666666667\n"
     ]
    },
    {
     "name": "stderr",
     "output_type": "stream",
     "text": [
      "Training: 100%|██████████| 50/50 [00:01<00:00, 39.43it/s]\n",
      "Evaluating: 100%|██████████| 30/30 [00:00<00:00, 431.54it/s]\n",
      "Training:  10%|█         | 5/50 [00:00<00:01, 29.95it/s]"
     ]
    },
    {
     "name": "stdout",
     "output_type": "stream",
     "text": [
      "16.6\n"
     ]
    },
    {
     "name": "stderr",
     "output_type": "stream",
     "text": [
      "Training: 100%|██████████| 50/50 [00:03<00:00, 14.38it/s]\n",
      "Evaluating: 100%|██████████| 30/30 [00:00<00:00, 58.90it/s]\n",
      "Training:   4%|▍         | 2/50 [00:00<00:03, 13.19it/s]"
     ]
    },
    {
     "name": "stdout",
     "output_type": "stream",
     "text": [
      "112.8\n"
     ]
    },
    {
     "name": "stderr",
     "output_type": "stream",
     "text": [
      "Training: 100%|██████████| 50/50 [00:03<00:00, 16.33it/s]\n",
      "Evaluating: 100%|██████████| 30/30 [00:00<00:00, 389.66it/s]\n",
      "Training:  18%|█▊        | 9/50 [00:00<00:00, 80.66it/s]"
     ]
    },
    {
     "name": "stdout",
     "output_type": "stream",
     "text": [
      "19.133333333333333\n"
     ]
    },
    {
     "name": "stderr",
     "output_type": "stream",
     "text": [
      "Training: 100%|██████████| 50/50 [00:01<00:00, 38.85it/s]\n",
      "Evaluating: 100%|██████████| 30/30 [00:00<00:00, 78.13it/s]\n",
      "Training:  10%|█         | 5/50 [00:00<00:00, 47.05it/s]"
     ]
    },
    {
     "name": "stdout",
     "output_type": "stream",
     "text": [
      "93.53333333333333\n"
     ]
    },
    {
     "name": "stderr",
     "output_type": "stream",
     "text": [
      "Training: 100%|██████████| 50/50 [00:02<00:00, 23.46it/s]\n",
      "Evaluating: 100%|██████████| 30/30 [00:00<00:00, 68.34it/s]\n",
      "Training:   4%|▍         | 2/50 [00:00<00:02, 17.49it/s]"
     ]
    },
    {
     "name": "stdout",
     "output_type": "stream",
     "text": [
      "106.1\n"
     ]
    },
    {
     "name": "stderr",
     "output_type": "stream",
     "text": [
      "Training: 100%|██████████| 50/50 [00:03<00:00, 14.63it/s]\n",
      "Evaluating: 100%|██████████| 30/30 [00:00<00:00, 68.54it/s]\n",
      "Training:   2%|▏         | 1/50 [00:00<00:05,  9.66it/s]"
     ]
    },
    {
     "name": "stdout",
     "output_type": "stream",
     "text": [
      "110.06666666666666\n"
     ]
    },
    {
     "name": "stderr",
     "output_type": "stream",
     "text": [
      "Training: 100%|██████████| 50/50 [00:04<00:00, 11.79it/s]\n",
      "Evaluating: 100%|██████████| 30/30 [00:00<00:00, 37.51it/s]\n",
      "Training:   4%|▍         | 2/50 [00:00<00:03, 12.46it/s]"
     ]
    },
    {
     "name": "stdout",
     "output_type": "stream",
     "text": [
      "157.36666666666667\n"
     ]
    },
    {
     "name": "stderr",
     "output_type": "stream",
     "text": [
      "Training: 100%|██████████| 50/50 [00:03<00:00, 14.29it/s]\n",
      "Evaluating: 100%|██████████| 30/30 [00:00<00:00, 30.96it/s]\n",
      "Training:   2%|▏         | 1/50 [00:00<00:05,  8.89it/s]"
     ]
    },
    {
     "name": "stdout",
     "output_type": "stream",
     "text": [
      "190.73333333333332\n"
     ]
    },
    {
     "name": "stderr",
     "output_type": "stream",
     "text": [
      "Training: 100%|██████████| 50/50 [00:02<00:00, 17.01it/s]\n",
      "Evaluating: 100%|██████████| 30/30 [00:00<00:00, 68.66it/s]\n",
      "Training:   4%|▍         | 2/50 [00:00<00:02, 18.12it/s]"
     ]
    },
    {
     "name": "stdout",
     "output_type": "stream",
     "text": [
      "104.63333333333334\n"
     ]
    },
    {
     "name": "stderr",
     "output_type": "stream",
     "text": [
      "Training: 100%|██████████| 50/50 [00:02<00:00, 21.25it/s]\n",
      "Evaluating: 100%|██████████| 30/30 [00:00<00:00, 375.26it/s]\n",
      "Training:   8%|▊         | 4/50 [00:00<00:01, 37.04it/s]"
     ]
    },
    {
     "name": "stdout",
     "output_type": "stream",
     "text": [
      "19.6\n"
     ]
    },
    {
     "name": "stderr",
     "output_type": "stream",
     "text": [
      "Training: 100%|██████████| 50/50 [00:03<00:00, 16.22it/s]\n",
      "Evaluating: 100%|██████████| 30/30 [00:00<00:00, 47.11it/s]\n",
      "Training:   4%|▍         | 2/50 [00:00<00:03, 13.06it/s]"
     ]
    },
    {
     "name": "stdout",
     "output_type": "stream",
     "text": [
      "119.5\n"
     ]
    },
    {
     "name": "stderr",
     "output_type": "stream",
     "text": [
      "Training: 100%|██████████| 50/50 [00:02<00:00, 21.05it/s]\n",
      "Evaluating: 100%|██████████| 30/30 [00:00<00:00, 462.27it/s]\n",
      "Training:   8%|▊         | 4/50 [00:00<00:01, 34.27it/s]"
     ]
    },
    {
     "name": "stdout",
     "output_type": "stream",
     "text": [
      "15.566666666666666\n"
     ]
    },
    {
     "name": "stderr",
     "output_type": "stream",
     "text": [
      "Training: 100%|██████████| 50/50 [00:02<00:00, 18.49it/s]\n",
      "Evaluating: 100%|██████████| 30/30 [00:00<00:00, 72.85it/s]\n",
      "Training:   4%|▍         | 2/50 [00:00<00:02, 17.85it/s]"
     ]
    },
    {
     "name": "stdout",
     "output_type": "stream",
     "text": [
      "101.0\n"
     ]
    },
    {
     "name": "stderr",
     "output_type": "stream",
     "text": [
      "Training: 100%|██████████| 50/50 [00:02<00:00, 19.38it/s]\n",
      "Evaluating: 100%|██████████| 30/30 [00:00<00:00, 59.84it/s]\n",
      "Training:   4%|▍         | 2/50 [00:00<00:03, 12.32it/s]"
     ]
    },
    {
     "name": "stdout",
     "output_type": "stream",
     "text": [
      "126.8\n"
     ]
    },
    {
     "name": "stderr",
     "output_type": "stream",
     "text": [
      "Training: 100%|██████████| 50/50 [00:02<00:00, 17.00it/s]\n",
      "Evaluating: 100%|██████████| 30/30 [00:00<00:00, 50.03it/s]\n",
      "Training:   6%|▌         | 3/50 [00:00<00:02, 19.71it/s]"
     ]
    },
    {
     "name": "stdout",
     "output_type": "stream",
     "text": [
      "118.06666666666666\n"
     ]
    },
    {
     "name": "stderr",
     "output_type": "stream",
     "text": [
      "Training: 100%|██████████| 50/50 [00:03<00:00, 12.73it/s]\n",
      "Evaluating: 100%|██████████| 30/30 [00:00<00:00, 46.17it/s]\n",
      "Training:   4%|▍         | 2/50 [00:00<00:03, 12.61it/s]"
     ]
    },
    {
     "name": "stdout",
     "output_type": "stream",
     "text": [
      "126.73333333333333\n"
     ]
    },
    {
     "name": "stderr",
     "output_type": "stream",
     "text": [
      "Training: 100%|██████████| 50/50 [00:04<00:00, 11.35it/s]\n",
      "Evaluating: 100%|██████████| 30/30 [00:00<00:00, 46.67it/s]\n",
      "Training:   4%|▍         | 2/50 [00:00<00:02, 16.44it/s]"
     ]
    },
    {
     "name": "stdout",
     "output_type": "stream",
     "text": [
      "126.6\n"
     ]
    },
    {
     "name": "stderr",
     "output_type": "stream",
     "text": [
      "Training: 100%|██████████| 50/50 [00:03<00:00, 14.46it/s]\n",
      "Evaluating: 100%|██████████| 30/30 [00:00<00:00, 46.56it/s]\n",
      "Training:   2%|▏         | 1/50 [00:00<00:05,  9.54it/s]"
     ]
    },
    {
     "name": "stdout",
     "output_type": "stream",
     "text": [
      "163.5\n"
     ]
    },
    {
     "name": "stderr",
     "output_type": "stream",
     "text": [
      "Training: 100%|██████████| 50/50 [00:03<00:00, 14.43it/s]\n",
      "Evaluating: 100%|██████████| 30/30 [00:00<00:00, 45.16it/s]\n",
      "Training:   4%|▍         | 2/50 [00:00<00:03, 12.04it/s]"
     ]
    },
    {
     "name": "stdout",
     "output_type": "stream",
     "text": [
      "168.53333333333333\n"
     ]
    },
    {
     "name": "stderr",
     "output_type": "stream",
     "text": [
      "Training: 100%|██████████| 50/50 [00:03<00:00, 13.50it/s]\n",
      "Evaluating: 100%|██████████| 30/30 [00:00<00:00, 42.96it/s]\n",
      "Training:   2%|▏         | 1/50 [00:00<00:06,  7.56it/s]"
     ]
    },
    {
     "name": "stdout",
     "output_type": "stream",
     "text": [
      "176.96666666666667\n"
     ]
    },
    {
     "name": "stderr",
     "output_type": "stream",
     "text": [
      "Training: 100%|██████████| 50/50 [00:04<00:00, 11.09it/s]\n",
      "Evaluating: 100%|██████████| 30/30 [00:00<00:00, 35.10it/s]\n",
      "Training:   2%|▏         | 1/50 [00:00<00:06,  7.72it/s]"
     ]
    },
    {
     "name": "stdout",
     "output_type": "stream",
     "text": [
      "200.0\n"
     ]
    },
    {
     "name": "stderr",
     "output_type": "stream",
     "text": [
      "Training: 100%|██████████| 50/50 [00:04<00:00, 11.25it/s]\n",
      "Evaluating: 100%|██████████| 30/30 [00:00<00:00, 52.23it/s]\n",
      "Training:   4%|▍         | 2/50 [00:00<00:02, 18.20it/s]"
     ]
    },
    {
     "name": "stdout",
     "output_type": "stream",
     "text": [
      "108.93333333333334\n"
     ]
    },
    {
     "name": "stderr",
     "output_type": "stream",
     "text": [
      "Training: 100%|██████████| 50/50 [00:02<00:00, 18.33it/s]\n",
      "Evaluating: 100%|██████████| 30/30 [00:00<00:00, 80.32it/s]\n",
      "Training:   4%|▍         | 2/50 [00:00<00:04, 11.12it/s]"
     ]
    },
    {
     "name": "stdout",
     "output_type": "stream",
     "text": [
      "94.0\n"
     ]
    },
    {
     "name": "stderr",
     "output_type": "stream",
     "text": [
      "Training: 100%|██████████| 50/50 [00:03<00:00, 14.44it/s]\n",
      "Evaluating: 100%|██████████| 30/30 [00:00<00:00, 40.64it/s]\n",
      "Training:   4%|▍         | 2/50 [00:00<00:03, 12.17it/s]"
     ]
    },
    {
     "name": "stdout",
     "output_type": "stream",
     "text": [
      "184.63333333333333\n"
     ]
    },
    {
     "name": "stderr",
     "output_type": "stream",
     "text": [
      "Training: 100%|██████████| 50/50 [00:03<00:00, 13.55it/s]\n",
      "Evaluating: 100%|██████████| 30/30 [00:00<00:00, 61.61it/s]\n",
      "Training:   2%|▏         | 1/50 [00:00<00:05,  8.21it/s]"
     ]
    },
    {
     "name": "stdout",
     "output_type": "stream",
     "text": [
      "123.06666666666666\n"
     ]
    },
    {
     "name": "stderr",
     "output_type": "stream",
     "text": [
      "Training: 100%|██████████| 50/50 [00:02<00:00, 17.69it/s]\n",
      "Evaluating: 100%|██████████| 30/30 [00:00<00:00, 460.54it/s]\n",
      "Training:   8%|▊         | 4/50 [00:00<00:01, 28.70it/s]"
     ]
    },
    {
     "name": "stdout",
     "output_type": "stream",
     "text": [
      "15.8\n"
     ]
    },
    {
     "name": "stderr",
     "output_type": "stream",
     "text": [
      "Training: 100%|██████████| 50/50 [00:02<00:00, 17.37it/s]\n",
      "Evaluating: 100%|██████████| 30/30 [00:00<00:00, 36.97it/s]\n",
      "Training:   2%|▏         | 1/50 [00:00<00:05,  8.46it/s]"
     ]
    },
    {
     "name": "stdout",
     "output_type": "stream",
     "text": [
      "200.0\n"
     ]
    },
    {
     "name": "stderr",
     "output_type": "stream",
     "text": [
      "Training: 100%|██████████| 50/50 [00:03<00:00, 15.87it/s]\n",
      "Evaluating: 100%|██████████| 30/30 [00:00<00:00, 37.76it/s]\n",
      "Training:   2%|▏         | 1/50 [00:00<00:05,  9.40it/s]"
     ]
    },
    {
     "name": "stdout",
     "output_type": "stream",
     "text": [
      "200.0\n"
     ]
    },
    {
     "name": "stderr",
     "output_type": "stream",
     "text": [
      "Training: 100%|██████████| 50/50 [00:02<00:00, 21.38it/s]\n",
      "Evaluating: 100%|██████████| 30/30 [00:00<00:00, 112.53it/s]\n",
      "Training:   4%|▍         | 2/50 [00:00<00:03, 13.27it/s]"
     ]
    },
    {
     "name": "stdout",
     "output_type": "stream",
     "text": [
      "66.83333333333333\n"
     ]
    },
    {
     "name": "stderr",
     "output_type": "stream",
     "text": [
      "Training: 100%|██████████| 50/50 [00:03<00:00, 16.17it/s]\n",
      "Evaluating: 100%|██████████| 30/30 [00:00<00:00, 37.89it/s]\n",
      "Training:   2%|▏         | 1/50 [00:00<00:06,  7.73it/s]"
     ]
    },
    {
     "name": "stdout",
     "output_type": "stream",
     "text": [
      "200.0\n"
     ]
    },
    {
     "name": "stderr",
     "output_type": "stream",
     "text": [
      "Training: 100%|██████████| 50/50 [00:03<00:00, 14.54it/s]\n",
      "Evaluating: 100%|██████████| 30/30 [00:00<00:00, 36.23it/s]\n",
      "Training:   2%|▏         | 1/50 [00:00<00:05,  8.59it/s]"
     ]
    },
    {
     "name": "stdout",
     "output_type": "stream",
     "text": [
      "200.0\n"
     ]
    },
    {
     "name": "stderr",
     "output_type": "stream",
     "text": [
      "Training: 100%|██████████| 50/50 [00:03<00:00, 13.51it/s]\n",
      "Evaluating: 100%|██████████| 30/30 [00:00<00:00, 69.35it/s]\n",
      "Training:   4%|▍         | 2/50 [00:00<00:03, 12.07it/s]"
     ]
    },
    {
     "name": "stdout",
     "output_type": "stream",
     "text": [
      "108.63333333333334\n"
     ]
    },
    {
     "name": "stderr",
     "output_type": "stream",
     "text": [
      "Training: 100%|██████████| 50/50 [00:03<00:00, 14.25it/s]\n",
      "Evaluating: 100%|██████████| 30/30 [00:00<00:00, 61.28it/s]\n",
      "Training:   4%|▍         | 2/50 [00:00<00:04, 11.61it/s]"
     ]
    },
    {
     "name": "stdout",
     "output_type": "stream",
     "text": [
      "123.43333333333334\n"
     ]
    },
    {
     "name": "stderr",
     "output_type": "stream",
     "text": [
      "Training: 100%|██████████| 50/50 [00:03<00:00, 15.88it/s]\n",
      "Evaluating: 100%|██████████| 30/30 [00:00<00:00, 54.23it/s]\n",
      "Training:   4%|▍         | 2/50 [00:00<00:02, 19.57it/s]"
     ]
    },
    {
     "name": "stdout",
     "output_type": "stream",
     "text": [
      "137.1\n"
     ]
    },
    {
     "name": "stderr",
     "output_type": "stream",
     "text": [
      "Training: 100%|██████████| 50/50 [00:03<00:00, 12.62it/s]\n",
      "Evaluating: 100%|██████████| 30/30 [00:00<00:00, 38.75it/s]\n",
      "Training:   2%|▏         | 1/50 [00:00<00:05,  9.16it/s]"
     ]
    },
    {
     "name": "stdout",
     "output_type": "stream",
     "text": [
      "197.06666666666666\n"
     ]
    },
    {
     "name": "stderr",
     "output_type": "stream",
     "text": [
      "Training: 100%|██████████| 50/50 [00:04<00:00, 12.39it/s]\n",
      "Evaluating: 100%|██████████| 30/30 [00:00<00:00, 37.52it/s]\n",
      "Training:   2%|▏         | 1/50 [00:00<00:06,  7.03it/s]"
     ]
    },
    {
     "name": "stdout",
     "output_type": "stream",
     "text": [
      "200.0\n"
     ]
    },
    {
     "name": "stderr",
     "output_type": "stream",
     "text": [
      "Training: 100%|██████████| 50/50 [00:05<00:00,  8.57it/s]\n",
      "Evaluating: 100%|██████████| 30/30 [00:01<00:00, 29.64it/s]\n",
      "Training:   2%|▏         | 1/50 [00:00<00:07,  6.61it/s]"
     ]
    },
    {
     "name": "stdout",
     "output_type": "stream",
     "text": [
      "200.0\n"
     ]
    },
    {
     "name": "stderr",
     "output_type": "stream",
     "text": [
      "Training: 100%|██████████| 50/50 [00:05<00:00,  8.41it/s]\n",
      "Evaluating: 100%|██████████| 30/30 [00:01<00:00, 29.77it/s]\n",
      "Training:   2%|▏         | 1/50 [00:00<00:07,  6.63it/s]"
     ]
    },
    {
     "name": "stdout",
     "output_type": "stream",
     "text": [
      "200.0\n"
     ]
    },
    {
     "name": "stderr",
     "output_type": "stream",
     "text": [
      "Training: 100%|██████████| 50/50 [00:06<00:00,  8.10it/s]\n",
      "Evaluating: 100%|██████████| 30/30 [00:01<00:00, 29.57it/s]\n",
      "Training:   2%|▏         | 1/50 [00:00<00:07,  6.34it/s]"
     ]
    },
    {
     "name": "stdout",
     "output_type": "stream",
     "text": [
      "200.0\n"
     ]
    },
    {
     "name": "stderr",
     "output_type": "stream",
     "text": [
      "Training: 100%|██████████| 50/50 [00:06<00:00,  8.08it/s]\n",
      "Evaluating: 100%|██████████| 30/30 [00:01<00:00, 29.66it/s]\n",
      "Training:   2%|▏         | 1/50 [00:00<00:06,  7.43it/s]"
     ]
    },
    {
     "name": "stdout",
     "output_type": "stream",
     "text": [
      "200.0\n"
     ]
    },
    {
     "name": "stderr",
     "output_type": "stream",
     "text": [
      "Training: 100%|██████████| 50/50 [00:05<00:00,  8.55it/s]\n",
      "Evaluating: 100%|██████████| 30/30 [00:01<00:00, 29.73it/s]\n",
      "Training:   2%|▏         | 1/50 [00:00<00:07,  6.46it/s]"
     ]
    },
    {
     "name": "stdout",
     "output_type": "stream",
     "text": [
      "200.0\n"
     ]
    },
    {
     "name": "stderr",
     "output_type": "stream",
     "text": [
      "Training: 100%|██████████| 50/50 [00:06<00:00,  8.17it/s]\n",
      "Evaluating: 100%|██████████| 30/30 [00:01<00:00, 29.08it/s]\n",
      "Training:   2%|▏         | 1/50 [00:00<00:07,  6.29it/s]"
     ]
    },
    {
     "name": "stdout",
     "output_type": "stream",
     "text": [
      "200.0\n"
     ]
    },
    {
     "name": "stderr",
     "output_type": "stream",
     "text": [
      "Training: 100%|██████████| 50/50 [00:05<00:00,  8.40it/s]\n",
      "Evaluating: 100%|██████████| 30/30 [00:01<00:00, 29.64it/s]\n",
      "Training:   2%|▏         | 1/50 [00:00<00:06,  7.11it/s]"
     ]
    },
    {
     "name": "stdout",
     "output_type": "stream",
     "text": [
      "200.0\n"
     ]
    },
    {
     "name": "stderr",
     "output_type": "stream",
     "text": [
      "Training: 100%|██████████| 50/50 [00:06<00:00,  8.10it/s]\n",
      "Evaluating: 100%|██████████| 30/30 [00:01<00:00, 29.80it/s]\n",
      "Training:   2%|▏         | 1/50 [00:00<00:07,  6.96it/s]"
     ]
    },
    {
     "name": "stdout",
     "output_type": "stream",
     "text": [
      "200.0\n"
     ]
    },
    {
     "name": "stderr",
     "output_type": "stream",
     "text": [
      "Training: 100%|██████████| 50/50 [00:05<00:00,  9.36it/s]\n",
      "Evaluating: 100%|██████████| 30/30 [00:01<00:00, 29.79it/s]\n",
      "Training:   2%|▏         | 1/50 [00:00<00:06,  7.49it/s]"
     ]
    },
    {
     "name": "stdout",
     "output_type": "stream",
     "text": [
      "200.0\n"
     ]
    },
    {
     "name": "stderr",
     "output_type": "stream",
     "text": [
      "Training: 100%|██████████| 50/50 [00:05<00:00,  8.56it/s]\n",
      "Evaluating: 100%|██████████| 30/30 [00:01<00:00, 29.78it/s]\n",
      "Training:   2%|▏         | 1/50 [00:00<00:06,  7.61it/s]"
     ]
    },
    {
     "name": "stdout",
     "output_type": "stream",
     "text": [
      "200.0\n"
     ]
    },
    {
     "name": "stderr",
     "output_type": "stream",
     "text": [
      "Training: 100%|██████████| 50/50 [00:04<00:00, 11.06it/s]\n",
      "Evaluating: 100%|██████████| 30/30 [00:00<00:00, 37.74it/s]\n",
      "Training:   2%|▏         | 1/50 [00:00<00:06,  7.34it/s]"
     ]
    },
    {
     "name": "stdout",
     "output_type": "stream",
     "text": [
      "200.0\n"
     ]
    },
    {
     "name": "stderr",
     "output_type": "stream",
     "text": [
      "Training: 100%|██████████| 50/50 [00:06<00:00,  8.13it/s]\n",
      "Evaluating: 100%|██████████| 30/30 [00:00<00:00, 37.55it/s]\n",
      "Training:   2%|▏         | 1/50 [00:00<00:05,  8.91it/s]"
     ]
    },
    {
     "name": "stdout",
     "output_type": "stream",
     "text": [
      "200.0\n"
     ]
    },
    {
     "name": "stderr",
     "output_type": "stream",
     "text": [
      "Training: 100%|██████████| 50/50 [00:04<00:00, 11.58it/s]\n",
      "Evaluating: 100%|██████████| 30/30 [00:00<00:00, 36.33it/s]\n",
      "Training:   2%|▏         | 1/50 [00:00<00:05,  9.23it/s]"
     ]
    },
    {
     "name": "stdout",
     "output_type": "stream",
     "text": [
      "200.0\n"
     ]
    },
    {
     "name": "stderr",
     "output_type": "stream",
     "text": [
      "Training: 100%|██████████| 50/50 [00:04<00:00, 11.75it/s]\n",
      "Evaluating: 100%|██████████| 30/30 [00:00<00:00, 38.11it/s]\n",
      "Training:   4%|▍         | 2/50 [00:00<00:04, 10.57it/s]"
     ]
    },
    {
     "name": "stdout",
     "output_type": "stream",
     "text": [
      "200.0\n"
     ]
    },
    {
     "name": "stderr",
     "output_type": "stream",
     "text": [
      "Training: 100%|██████████| 50/50 [00:04<00:00, 11.35it/s]\n",
      "Evaluating: 100%|██████████| 30/30 [00:00<00:00, 36.47it/s]\n",
      "Training:   2%|▏         | 1/50 [00:00<00:05,  9.11it/s]"
     ]
    },
    {
     "name": "stdout",
     "output_type": "stream",
     "text": [
      "200.0\n"
     ]
    },
    {
     "name": "stderr",
     "output_type": "stream",
     "text": [
      "Training: 100%|██████████| 50/50 [00:04<00:00, 11.02it/s]\n",
      "Evaluating: 100%|██████████| 30/30 [00:00<00:00, 37.45it/s]\n",
      "Training:   2%|▏         | 1/50 [00:00<00:05,  9.27it/s]"
     ]
    },
    {
     "name": "stdout",
     "output_type": "stream",
     "text": [
      "200.0\n"
     ]
    },
    {
     "name": "stderr",
     "output_type": "stream",
     "text": [
      "Training: 100%|██████████| 50/50 [00:04<00:00, 10.79it/s]\n",
      "Evaluating: 100%|██████████| 30/30 [00:00<00:00, 37.96it/s]\n",
      "Training:   2%|▏         | 1/50 [00:00<00:05,  9.31it/s]"
     ]
    },
    {
     "name": "stdout",
     "output_type": "stream",
     "text": [
      "200.0\n"
     ]
    },
    {
     "name": "stderr",
     "output_type": "stream",
     "text": [
      "Training: 100%|██████████| 50/50 [00:04<00:00, 10.78it/s]\n",
      "Evaluating: 100%|██████████| 30/30 [00:00<00:00, 37.87it/s]\n",
      "Training:   2%|▏         | 1/50 [00:00<00:05,  9.45it/s]"
     ]
    },
    {
     "name": "stdout",
     "output_type": "stream",
     "text": [
      "200.0\n"
     ]
    },
    {
     "name": "stderr",
     "output_type": "stream",
     "text": [
      "Training: 100%|██████████| 50/50 [00:04<00:00, 11.79it/s]\n",
      "Evaluating: 100%|██████████| 30/30 [00:00<00:00, 38.01it/s]\n",
      "Training:   2%|▏         | 1/50 [00:00<00:05,  8.59it/s]"
     ]
    },
    {
     "name": "stdout",
     "output_type": "stream",
     "text": [
      "200.0\n"
     ]
    },
    {
     "name": "stderr",
     "output_type": "stream",
     "text": [
      "Training: 100%|██████████| 50/50 [00:04<00:00, 10.97it/s]\n",
      "Evaluating: 100%|██████████| 30/30 [00:00<00:00, 38.04it/s]\n",
      "Training:   4%|▍         | 2/50 [00:00<00:04, 11.36it/s]"
     ]
    },
    {
     "name": "stdout",
     "output_type": "stream",
     "text": [
      "200.0\n"
     ]
    },
    {
     "name": "stderr",
     "output_type": "stream",
     "text": [
      "Training: 100%|██████████| 50/50 [00:04<00:00, 11.68it/s]\n",
      "Evaluating: 100%|██████████| 30/30 [00:00<00:00, 37.36it/s]\n",
      "Training:   2%|▏         | 1/50 [00:00<00:06,  7.05it/s]"
     ]
    },
    {
     "name": "stdout",
     "output_type": "stream",
     "text": [
      "200.0\n"
     ]
    },
    {
     "name": "stderr",
     "output_type": "stream",
     "text": [
      "Training: 100%|██████████| 50/50 [00:01<00:00, 45.07it/s]\n",
      "Evaluating: 100%|██████████| 30/30 [00:00<00:00, 666.21it/s]\n",
      "Training:  30%|███       | 15/50 [00:00<00:00, 143.61it/s]"
     ]
    },
    {
     "name": "stdout",
     "output_type": "stream",
     "text": [
      "10.6\n"
     ]
    },
    {
     "name": "stderr",
     "output_type": "stream",
     "text": [
      "Training: 100%|██████████| 50/50 [00:02<00:00, 18.42it/s] \n",
      "Evaluating: 100%|██████████| 30/30 [00:01<00:00, 29.48it/s]\n",
      "Training:   0%|          | 0/50 [00:00<?, ?it/s]"
     ]
    },
    {
     "name": "stdout",
     "output_type": "stream",
     "text": [
      "200.0\n"
     ]
    },
    {
     "name": "stderr",
     "output_type": "stream",
     "text": [
      "Training: 100%|██████████| 50/50 [00:04<00:00, 10.65it/s]\n",
      "Evaluating: 100%|██████████| 30/30 [00:00<00:00, 38.08it/s]\n",
      "Training:   2%|▏         | 1/50 [00:00<00:05,  9.00it/s]"
     ]
    },
    {
     "name": "stdout",
     "output_type": "stream",
     "text": [
      "200.0\n"
     ]
    },
    {
     "name": "stderr",
     "output_type": "stream",
     "text": [
      "Training: 100%|██████████| 50/50 [00:04<00:00, 10.77it/s]\n",
      "Evaluating: 100%|██████████| 30/30 [00:00<00:00, 37.49it/s]\n",
      "Training:   2%|▏         | 1/50 [00:00<00:05,  8.83it/s]"
     ]
    },
    {
     "name": "stdout",
     "output_type": "stream",
     "text": [
      "200.0\n"
     ]
    },
    {
     "name": "stderr",
     "output_type": "stream",
     "text": [
      "Training: 100%|██████████| 50/50 [00:04<00:00, 10.71it/s]\n",
      "Evaluating: 100%|██████████| 30/30 [00:00<00:00, 37.50it/s]\n",
      "Training:   2%|▏         | 1/50 [00:00<00:05,  9.04it/s]"
     ]
    },
    {
     "name": "stdout",
     "output_type": "stream",
     "text": [
      "200.0\n"
     ]
    },
    {
     "name": "stderr",
     "output_type": "stream",
     "text": [
      "Training: 100%|██████████| 50/50 [00:04<00:00, 11.48it/s]\n",
      "Evaluating: 100%|██████████| 30/30 [00:00<00:00, 37.91it/s]\n",
      "Training:   2%|▏         | 1/50 [00:00<00:05,  9.07it/s]"
     ]
    },
    {
     "name": "stdout",
     "output_type": "stream",
     "text": [
      "200.0\n"
     ]
    },
    {
     "name": "stderr",
     "output_type": "stream",
     "text": [
      "Training: 100%|██████████| 50/50 [00:04<00:00, 11.34it/s]\n",
      "Evaluating: 100%|██████████| 30/30 [00:00<00:00, 36.63it/s]\n",
      "Training:   2%|▏         | 1/50 [00:00<00:05,  8.91it/s]"
     ]
    },
    {
     "name": "stdout",
     "output_type": "stream",
     "text": [
      "200.0\n"
     ]
    },
    {
     "name": "stderr",
     "output_type": "stream",
     "text": [
      "Training: 100%|██████████| 50/50 [00:04<00:00, 10.97it/s]\n",
      "Evaluating: 100%|██████████| 30/30 [00:00<00:00, 38.06it/s]\n",
      "Training:   2%|▏         | 1/50 [00:00<00:06,  8.12it/s]"
     ]
    },
    {
     "name": "stdout",
     "output_type": "stream",
     "text": [
      "200.0\n"
     ]
    },
    {
     "name": "stderr",
     "output_type": "stream",
     "text": [
      "Training: 100%|██████████| 50/50 [00:04<00:00, 10.95it/s]\n",
      "Evaluating: 100%|██████████| 30/30 [00:00<00:00, 37.74it/s]\n",
      "Training:   2%|▏         | 1/50 [00:00<00:05,  8.26it/s]"
     ]
    },
    {
     "name": "stdout",
     "output_type": "stream",
     "text": [
      "200.0\n"
     ]
    },
    {
     "name": "stderr",
     "output_type": "stream",
     "text": [
      "Training: 100%|██████████| 50/50 [00:04<00:00, 11.63it/s]\n",
      "Evaluating: 100%|██████████| 30/30 [00:00<00:00, 38.07it/s]\n",
      "Training:   2%|▏         | 1/50 [00:00<00:05,  9.14it/s]"
     ]
    },
    {
     "name": "stdout",
     "output_type": "stream",
     "text": [
      "200.0\n"
     ]
    },
    {
     "name": "stderr",
     "output_type": "stream",
     "text": [
      "Training: 100%|██████████| 50/50 [00:04<00:00, 11.39it/s]\n",
      "Evaluating: 100%|██████████| 30/30 [00:00<00:00, 37.67it/s]\n",
      "Training:   2%|▏         | 1/50 [00:00<00:05,  9.16it/s]"
     ]
    },
    {
     "name": "stdout",
     "output_type": "stream",
     "text": [
      "200.0\n"
     ]
    },
    {
     "name": "stderr",
     "output_type": "stream",
     "text": [
      "Training: 100%|██████████| 50/50 [00:04<00:00, 11.23it/s]\n",
      "Evaluating: 100%|██████████| 30/30 [00:00<00:00, 36.96it/s]\n",
      "Training:   2%|▏         | 1/50 [00:00<00:05,  8.97it/s]"
     ]
    },
    {
     "name": "stdout",
     "output_type": "stream",
     "text": [
      "200.0\n"
     ]
    },
    {
     "name": "stderr",
     "output_type": "stream",
     "text": [
      "Training: 100%|██████████| 50/50 [00:04<00:00, 10.95it/s]\n",
      "Evaluating: 100%|██████████| 30/30 [00:00<00:00, 37.93it/s]\n",
      "Training:   2%|▏         | 1/50 [00:00<00:05,  8.62it/s]"
     ]
    },
    {
     "name": "stdout",
     "output_type": "stream",
     "text": [
      "200.0\n"
     ]
    },
    {
     "name": "stderr",
     "output_type": "stream",
     "text": [
      "Training: 100%|██████████| 50/50 [00:04<00:00, 11.16it/s]\n",
      "Evaluating: 100%|██████████| 30/30 [00:00<00:00, 37.86it/s]\n",
      "Training:   2%|▏         | 1/50 [00:00<00:05,  8.64it/s]"
     ]
    },
    {
     "name": "stdout",
     "output_type": "stream",
     "text": [
      "200.0\n"
     ]
    },
    {
     "name": "stderr",
     "output_type": "stream",
     "text": [
      "Training: 100%|██████████| 50/50 [00:04<00:00, 10.76it/s]\n",
      "Evaluating: 100%|██████████| 30/30 [00:00<00:00, 37.87it/s]\n",
      "Training:   2%|▏         | 1/50 [00:00<00:05,  9.51it/s]"
     ]
    },
    {
     "name": "stdout",
     "output_type": "stream",
     "text": [
      "200.0\n"
     ]
    },
    {
     "name": "stderr",
     "output_type": "stream",
     "text": [
      "Training: 100%|██████████| 50/50 [00:04<00:00, 10.76it/s]\n",
      "Evaluating: 100%|██████████| 30/30 [00:00<00:00, 38.02it/s]\n",
      "Training:   2%|▏         | 1/50 [00:00<00:06,  7.25it/s]"
     ]
    },
    {
     "name": "stdout",
     "output_type": "stream",
     "text": [
      "200.0\n"
     ]
    },
    {
     "name": "stderr",
     "output_type": "stream",
     "text": [
      "Training: 100%|██████████| 50/50 [00:03<00:00, 12.51it/s]\n",
      "Evaluating: 100%|██████████| 30/30 [00:01<00:00, 29.57it/s]\n",
      "Training:   2%|▏         | 1/50 [00:00<00:07,  6.80it/s]"
     ]
    },
    {
     "name": "stdout",
     "output_type": "stream",
     "text": [
      "200.0\n"
     ]
    },
    {
     "name": "stderr",
     "output_type": "stream",
     "text": [
      "Training: 100%|██████████| 50/50 [00:06<00:00,  8.08it/s]\n",
      "Evaluating: 100%|██████████| 30/30 [00:01<00:00, 29.68it/s]\n",
      "Training:   2%|▏         | 1/50 [00:00<00:07,  6.62it/s]"
     ]
    },
    {
     "name": "stdout",
     "output_type": "stream",
     "text": [
      "200.0\n"
     ]
    },
    {
     "name": "stderr",
     "output_type": "stream",
     "text": [
      "Training: 100%|██████████| 50/50 [00:05<00:00,  8.66it/s]\n",
      "Evaluating: 100%|██████████| 30/30 [00:01<00:00, 28.87it/s]\n",
      "Training:   2%|▏         | 1/50 [00:00<00:07,  6.51it/s]"
     ]
    },
    {
     "name": "stdout",
     "output_type": "stream",
     "text": [
      "200.0\n"
     ]
    },
    {
     "name": "stderr",
     "output_type": "stream",
     "text": [
      "Training: 100%|██████████| 50/50 [00:05<00:00,  8.71it/s]\n",
      "Evaluating: 100%|██████████| 30/30 [00:00<00:00, 33.15it/s]\n",
      "Training:   2%|▏         | 1/50 [00:00<00:06,  7.00it/s]"
     ]
    },
    {
     "name": "stdout",
     "output_type": "stream",
     "text": [
      "200.0\n"
     ]
    },
    {
     "name": "stderr",
     "output_type": "stream",
     "text": [
      "Training: 100%|██████████| 50/50 [00:05<00:00,  8.58it/s]\n",
      "Evaluating: 100%|██████████| 30/30 [00:00<00:00, 33.29it/s]\n",
      "Training:   2%|▏         | 1/50 [00:00<00:06,  8.08it/s]"
     ]
    },
    {
     "name": "stdout",
     "output_type": "stream",
     "text": [
      "200.0\n"
     ]
    },
    {
     "name": "stderr",
     "output_type": "stream",
     "text": [
      "Training: 100%|██████████| 50/50 [00:04<00:00, 11.28it/s]\n",
      "Evaluating: 100%|██████████| 30/30 [00:00<00:00, 36.90it/s]\n",
      "Training:   2%|▏         | 1/50 [00:00<00:06,  7.69it/s]"
     ]
    },
    {
     "name": "stdout",
     "output_type": "stream",
     "text": [
      "200.0\n"
     ]
    },
    {
     "name": "stderr",
     "output_type": "stream",
     "text": [
      "Training: 100%|██████████| 50/50 [00:04<00:00, 11.36it/s]\n",
      "Evaluating: 100%|██████████| 30/30 [00:00<00:00, 38.09it/s]\n",
      "Training:   2%|▏         | 1/50 [00:00<00:05,  9.75it/s]"
     ]
    },
    {
     "name": "stdout",
     "output_type": "stream",
     "text": [
      "200.0\n"
     ]
    },
    {
     "name": "stderr",
     "output_type": "stream",
     "text": [
      "Training: 100%|██████████| 50/50 [00:04<00:00, 11.84it/s]\n",
      "Evaluating: 100%|██████████| 30/30 [00:00<00:00, 38.01it/s]\n",
      "Training:   6%|▌         | 3/50 [00:00<00:02, 18.74it/s]"
     ]
    },
    {
     "name": "stdout",
     "output_type": "stream",
     "text": [
      "193.76666666666668\n"
     ]
    },
    {
     "name": "stderr",
     "output_type": "stream",
     "text": [
      "Training: 100%|██████████| 50/50 [00:05<00:00,  8.40it/s]\n",
      "Evaluating: 100%|██████████| 30/30 [00:01<00:00, 29.64it/s]\n",
      "Training:   4%|▍         | 2/50 [00:00<00:04, 11.97it/s]"
     ]
    },
    {
     "name": "stdout",
     "output_type": "stream",
     "text": [
      "200.0\n"
     ]
    },
    {
     "name": "stderr",
     "output_type": "stream",
     "text": [
      "Training: 100%|██████████| 50/50 [00:04<00:00, 11.60it/s]\n",
      "Evaluating: 100%|██████████| 30/30 [00:00<00:00, 37.38it/s]\n",
      "Training:   2%|▏         | 1/50 [00:00<00:05,  8.69it/s]"
     ]
    },
    {
     "name": "stdout",
     "output_type": "stream",
     "text": [
      "200.0\n"
     ]
    },
    {
     "name": "stderr",
     "output_type": "stream",
     "text": [
      "Training: 100%|██████████| 50/50 [00:04<00:00, 10.93it/s]\n",
      "Evaluating: 100%|██████████| 30/30 [00:00<00:00, 38.01it/s]\n",
      "Training:   2%|▏         | 1/50 [00:00<00:05,  8.82it/s]"
     ]
    },
    {
     "name": "stdout",
     "output_type": "stream",
     "text": [
      "200.0\n"
     ]
    },
    {
     "name": "stderr",
     "output_type": "stream",
     "text": [
      "Training: 100%|██████████| 50/50 [00:04<00:00, 11.14it/s]\n",
      "Evaluating: 100%|██████████| 30/30 [00:00<00:00, 37.10it/s]\n",
      "Training:   2%|▏         | 1/50 [00:00<00:05,  8.53it/s]"
     ]
    },
    {
     "name": "stdout",
     "output_type": "stream",
     "text": [
      "200.0\n"
     ]
    },
    {
     "name": "stderr",
     "output_type": "stream",
     "text": [
      "Training: 100%|██████████| 50/50 [00:04<00:00, 10.75it/s]\n",
      "Evaluating: 100%|██████████| 30/30 [00:00<00:00, 38.07it/s]\n",
      "Training:   2%|▏         | 1/50 [00:00<00:06,  7.63it/s]"
     ]
    },
    {
     "name": "stdout",
     "output_type": "stream",
     "text": [
      "200.0\n"
     ]
    },
    {
     "name": "stderr",
     "output_type": "stream",
     "text": [
      "Training: 100%|██████████| 50/50 [00:04<00:00, 10.72it/s]\n",
      "Evaluating: 100%|██████████| 30/30 [00:00<00:00, 37.92it/s]\n",
      "Training:   2%|▏         | 1/50 [00:00<00:05,  9.49it/s]"
     ]
    },
    {
     "name": "stdout",
     "output_type": "stream",
     "text": [
      "200.0\n"
     ]
    },
    {
     "name": "stderr",
     "output_type": "stream",
     "text": [
      "Training: 100%|██████████| 50/50 [00:04<00:00, 10.83it/s]\n",
      "Evaluating: 100%|██████████| 30/30 [00:00<00:00, 38.06it/s]\n",
      "Training:   2%|▏         | 1/50 [00:00<00:05,  8.98it/s]"
     ]
    },
    {
     "name": "stdout",
     "output_type": "stream",
     "text": [
      "200.0\n"
     ]
    },
    {
     "name": "stderr",
     "output_type": "stream",
     "text": [
      "Training: 100%|██████████| 50/50 [00:04<00:00, 10.76it/s]\n",
      "Evaluating: 100%|██████████| 30/30 [00:00<00:00, 37.62it/s]\n",
      "Training:   2%|▏         | 1/50 [00:00<00:05,  9.18it/s]"
     ]
    },
    {
     "name": "stdout",
     "output_type": "stream",
     "text": [
      "200.0\n"
     ]
    },
    {
     "name": "stderr",
     "output_type": "stream",
     "text": [
      "Training: 100%|██████████| 50/50 [00:04<00:00, 10.99it/s]\n",
      "Evaluating: 100%|██████████| 30/30 [00:00<00:00, 37.13it/s]\n",
      "Training:   2%|▏         | 1/50 [00:00<00:05,  9.72it/s]"
     ]
    },
    {
     "name": "stdout",
     "output_type": "stream",
     "text": [
      "200.0\n"
     ]
    },
    {
     "name": "stderr",
     "output_type": "stream",
     "text": [
      "Training: 100%|██████████| 50/50 [00:04<00:00, 10.79it/s]\n",
      "Evaluating: 100%|██████████| 30/30 [00:00<00:00, 36.66it/s]\n",
      "Training:   2%|▏         | 1/50 [00:00<00:06,  7.44it/s]"
     ]
    },
    {
     "name": "stdout",
     "output_type": "stream",
     "text": [
      "200.0\n"
     ]
    },
    {
     "name": "stderr",
     "output_type": "stream",
     "text": [
      "Training: 100%|██████████| 50/50 [00:04<00:00, 12.04it/s]\n",
      "Evaluating: 100%|██████████| 30/30 [00:00<00:00, 37.88it/s]\n",
      "Training:   4%|▍         | 2/50 [00:00<00:03, 12.22it/s]"
     ]
    },
    {
     "name": "stdout",
     "output_type": "stream",
     "text": [
      "200.0\n"
     ]
    },
    {
     "name": "stderr",
     "output_type": "stream",
     "text": [
      "Training: 100%|██████████| 50/50 [00:05<00:00,  8.95it/s]\n",
      "Evaluating: 100%|██████████| 30/30 [00:01<00:00, 29.68it/s]\n",
      "Training:   2%|▏         | 1/50 [00:00<00:06,  8.00it/s]"
     ]
    },
    {
     "name": "stdout",
     "output_type": "stream",
     "text": [
      "200.0\n"
     ]
    },
    {
     "name": "stderr",
     "output_type": "stream",
     "text": [
      "Training: 100%|██████████| 50/50 [00:06<00:00,  8.10it/s]\n",
      "Evaluating: 100%|██████████| 30/30 [00:01<00:00, 29.65it/s]\n",
      "Training:   2%|▏         | 1/50 [00:00<00:07,  6.72it/s]"
     ]
    },
    {
     "name": "stdout",
     "output_type": "stream",
     "text": [
      "200.0\n"
     ]
    },
    {
     "name": "stderr",
     "output_type": "stream",
     "text": [
      "Training: 100%|██████████| 50/50 [00:06<00:00,  8.08it/s]\n",
      "Evaluating: 100%|██████████| 30/30 [00:01<00:00, 28.97it/s]\n",
      "Training:   2%|▏         | 1/50 [00:00<00:05,  8.50it/s]"
     ]
    },
    {
     "name": "stdout",
     "output_type": "stream",
     "text": [
      "200.0\n"
     ]
    },
    {
     "name": "stderr",
     "output_type": "stream",
     "text": [
      "Training: 100%|██████████| 50/50 [00:04<00:00, 10.76it/s]\n",
      "Evaluating: 100%|██████████| 30/30 [00:00<00:00, 37.94it/s]\n",
      "Training:   2%|▏         | 1/50 [00:00<00:05,  8.92it/s]"
     ]
    },
    {
     "name": "stdout",
     "output_type": "stream",
     "text": [
      "200.0\n"
     ]
    },
    {
     "name": "stderr",
     "output_type": "stream",
     "text": [
      "Training: 100%|██████████| 50/50 [00:04<00:00, 10.96it/s]\n",
      "Evaluating: 100%|██████████| 30/30 [00:00<00:00, 34.96it/s]\n",
      "Training:   2%|▏         | 1/50 [00:00<00:05,  8.96it/s]"
     ]
    },
    {
     "name": "stdout",
     "output_type": "stream",
     "text": [
      "200.0\n"
     ]
    },
    {
     "name": "stderr",
     "output_type": "stream",
     "text": [
      "Training: 100%|██████████| 50/50 [00:04<00:00, 10.75it/s]\n",
      "Evaluating: 100%|██████████| 30/30 [00:00<00:00, 38.12it/s]\n",
      "Training:   2%|▏         | 1/50 [00:00<00:05,  8.60it/s]"
     ]
    },
    {
     "name": "stdout",
     "output_type": "stream",
     "text": [
      "200.0\n"
     ]
    },
    {
     "name": "stderr",
     "output_type": "stream",
     "text": [
      "Training: 100%|██████████| 50/50 [00:04<00:00, 10.78it/s]\n",
      "Evaluating: 100%|██████████| 30/30 [00:00<00:00, 36.78it/s]\n",
      "Training:   2%|▏         | 1/50 [00:00<00:06,  7.29it/s]"
     ]
    },
    {
     "name": "stdout",
     "output_type": "stream",
     "text": [
      "200.0\n"
     ]
    },
    {
     "name": "stderr",
     "output_type": "stream",
     "text": [
      "Training: 100%|██████████| 50/50 [00:06<00:00,  8.08it/s]\n",
      "Evaluating: 100%|██████████| 30/30 [00:01<00:00, 28.65it/s]\n",
      "Training:   2%|▏         | 1/50 [00:00<00:07,  6.18it/s]"
     ]
    },
    {
     "name": "stdout",
     "output_type": "stream",
     "text": [
      "200.0\n"
     ]
    },
    {
     "name": "stderr",
     "output_type": "stream",
     "text": [
      "Training: 100%|██████████| 50/50 [00:06<00:00,  8.08it/s]\n",
      "Evaluating: 100%|██████████| 30/30 [00:01<00:00, 29.58it/s]\n",
      "Training:   2%|▏         | 1/50 [00:00<00:05,  8.74it/s]"
     ]
    },
    {
     "name": "stdout",
     "output_type": "stream",
     "text": [
      "200.0\n"
     ]
    },
    {
     "name": "stderr",
     "output_type": "stream",
     "text": [
      "Training: 100%|██████████| 50/50 [00:04<00:00, 10.82it/s]\n",
      "Evaluating: 100%|██████████| 30/30 [00:00<00:00, 37.43it/s]\n",
      "Training:   2%|▏         | 1/50 [00:00<00:05,  9.15it/s]"
     ]
    },
    {
     "name": "stdout",
     "output_type": "stream",
     "text": [
      "200.0\n"
     ]
    },
    {
     "name": "stderr",
     "output_type": "stream",
     "text": [
      "Training: 100%|██████████| 50/50 [00:04<00:00, 10.80it/s]\n",
      "Evaluating: 100%|██████████| 30/30 [00:00<00:00, 37.12it/s]\n",
      "Training:   2%|▏         | 1/50 [00:00<00:05,  9.08it/s]"
     ]
    },
    {
     "name": "stdout",
     "output_type": "stream",
     "text": [
      "200.0\n"
     ]
    },
    {
     "name": "stderr",
     "output_type": "stream",
     "text": [
      "Training: 100%|██████████| 50/50 [00:04<00:00, 10.80it/s]\n",
      "Evaluating: 100%|██████████| 30/30 [00:00<00:00, 38.07it/s]\n",
      "Training:   2%|▏         | 1/50 [00:00<00:05,  9.21it/s]"
     ]
    },
    {
     "name": "stdout",
     "output_type": "stream",
     "text": [
      "200.0\n"
     ]
    },
    {
     "name": "stderr",
     "output_type": "stream",
     "text": [
      "Training: 100%|██████████| 50/50 [00:04<00:00, 11.88it/s]\n",
      "Evaluating: 100%|██████████| 30/30 [00:00<00:00, 37.92it/s]\n",
      "Training:   2%|▏         | 1/50 [00:00<00:06,  7.30it/s]"
     ]
    },
    {
     "name": "stdout",
     "output_type": "stream",
     "text": [
      "200.0\n"
     ]
    },
    {
     "name": "stderr",
     "output_type": "stream",
     "text": [
      "Training: 100%|██████████| 50/50 [00:06<00:00,  8.09it/s]\n",
      "Evaluating: 100%|██████████| 30/30 [00:01<00:00, 29.76it/s]\n",
      "Training:   2%|▏         | 1/50 [00:00<00:05,  9.01it/s]"
     ]
    },
    {
     "name": "stdout",
     "output_type": "stream",
     "text": [
      "200.0\n"
     ]
    },
    {
     "name": "stderr",
     "output_type": "stream",
     "text": [
      "Training: 100%|██████████| 50/50 [00:04<00:00, 10.79it/s]\n",
      "Evaluating: 100%|██████████| 30/30 [00:00<00:00, 37.72it/s]\n",
      "Training:   2%|▏         | 1/50 [00:00<00:05,  9.01it/s]"
     ]
    },
    {
     "name": "stdout",
     "output_type": "stream",
     "text": [
      "200.0\n"
     ]
    },
    {
     "name": "stderr",
     "output_type": "stream",
     "text": [
      "Training: 100%|██████████| 50/50 [00:04<00:00, 10.79it/s]\n",
      "Evaluating: 100%|██████████| 30/30 [00:00<00:00, 37.91it/s]\n",
      "Training:   2%|▏         | 1/50 [00:00<00:05,  9.17it/s]"
     ]
    },
    {
     "name": "stdout",
     "output_type": "stream",
     "text": [
      "200.0\n"
     ]
    },
    {
     "name": "stderr",
     "output_type": "stream",
     "text": [
      "Training: 100%|██████████| 50/50 [00:04<00:00, 11.21it/s]\n",
      "Evaluating: 100%|██████████| 30/30 [00:00<00:00, 35.70it/s]\n",
      "Training:   2%|▏         | 1/50 [00:00<00:05,  9.45it/s]"
     ]
    },
    {
     "name": "stdout",
     "output_type": "stream",
     "text": [
      "200.0\n"
     ]
    },
    {
     "name": "stderr",
     "output_type": "stream",
     "text": [
      "Training: 100%|██████████| 50/50 [00:04<00:00, 10.77it/s]\n",
      "Evaluating: 100%|██████████| 30/30 [00:00<00:00, 37.87it/s]\n",
      "Training:   2%|▏         | 1/50 [00:00<00:05,  8.28it/s]"
     ]
    },
    {
     "name": "stdout",
     "output_type": "stream",
     "text": [
      "200.0\n"
     ]
    },
    {
     "name": "stderr",
     "output_type": "stream",
     "text": [
      "Training: 100%|██████████| 50/50 [00:04<00:00, 10.69it/s]\n",
      "Evaluating: 100%|██████████| 30/30 [00:00<00:00, 37.87it/s]\n",
      "Training:   4%|▍         | 2/50 [00:00<00:04, 10.53it/s]"
     ]
    },
    {
     "name": "stdout",
     "output_type": "stream",
     "text": [
      "200.0\n"
     ]
    },
    {
     "name": "stderr",
     "output_type": "stream",
     "text": [
      "Training: 100%|██████████| 50/50 [00:04<00:00, 10.80it/s]\n",
      "Evaluating: 100%|██████████| 30/30 [00:00<00:00, 38.10it/s]\n",
      "Training:   2%|▏         | 1/50 [00:00<00:05,  8.73it/s]"
     ]
    },
    {
     "name": "stdout",
     "output_type": "stream",
     "text": [
      "200.0\n"
     ]
    },
    {
     "name": "stderr",
     "output_type": "stream",
     "text": [
      "Training: 100%|██████████| 50/50 [00:04<00:00, 10.76it/s]\n",
      "Evaluating: 100%|██████████| 30/30 [00:00<00:00, 36.85it/s]\n",
      "Training:   2%|▏         | 1/50 [00:00<00:05,  8.47it/s]"
     ]
    },
    {
     "name": "stdout",
     "output_type": "stream",
     "text": [
      "200.0\n"
     ]
    },
    {
     "name": "stderr",
     "output_type": "stream",
     "text": [
      "Training: 100%|██████████| 50/50 [00:04<00:00, 10.75it/s]\n",
      "Evaluating: 100%|██████████| 30/30 [00:00<00:00, 37.14it/s]\n",
      "Training:   2%|▏         | 1/50 [00:00<00:05,  8.36it/s]"
     ]
    },
    {
     "name": "stdout",
     "output_type": "stream",
     "text": [
      "200.0\n"
     ]
    },
    {
     "name": "stderr",
     "output_type": "stream",
     "text": [
      "Training: 100%|██████████| 50/50 [00:04<00:00, 10.71it/s]\n",
      "Evaluating: 100%|██████████| 30/30 [00:00<00:00, 38.03it/s]\n",
      "Training:   2%|▏         | 1/50 [00:00<00:05,  9.62it/s]"
     ]
    },
    {
     "name": "stdout",
     "output_type": "stream",
     "text": [
      "200.0\n"
     ]
    },
    {
     "name": "stderr",
     "output_type": "stream",
     "text": [
      "Training: 100%|██████████| 50/50 [00:04<00:00, 10.99it/s]\n",
      "Evaluating: 100%|██████████| 30/30 [00:00<00:00, 37.86it/s]\n",
      "Training:   2%|▏         | 1/50 [00:00<00:05,  8.86it/s]"
     ]
    },
    {
     "name": "stdout",
     "output_type": "stream",
     "text": [
      "200.0\n"
     ]
    },
    {
     "name": "stderr",
     "output_type": "stream",
     "text": [
      "Training: 100%|██████████| 50/50 [00:04<00:00, 10.78it/s]\n",
      "Evaluating: 100%|██████████| 30/30 [00:00<00:00, 36.75it/s]\n",
      "Training:   2%|▏         | 1/50 [00:00<00:07,  6.34it/s]"
     ]
    },
    {
     "name": "stdout",
     "output_type": "stream",
     "text": [
      "200.0\n"
     ]
    },
    {
     "name": "stderr",
     "output_type": "stream",
     "text": [
      "Training: 100%|██████████| 50/50 [00:04<00:00, 11.02it/s]\n",
      "Evaluating: 100%|██████████| 30/30 [00:00<00:00, 36.70it/s]\n",
      "Training:   2%|▏         | 1/50 [00:00<00:06,  7.55it/s]"
     ]
    },
    {
     "name": "stdout",
     "output_type": "stream",
     "text": [
      "200.0\n"
     ]
    },
    {
     "name": "stderr",
     "output_type": "stream",
     "text": [
      "Training: 100%|██████████| 50/50 [00:06<00:00,  8.13it/s]\n",
      "Evaluating: 100%|██████████| 30/30 [00:01<00:00, 29.51it/s]\n",
      "Training:   2%|▏         | 1/50 [00:00<00:05,  8.97it/s]"
     ]
    },
    {
     "name": "stdout",
     "output_type": "stream",
     "text": [
      "200.0\n"
     ]
    },
    {
     "name": "stderr",
     "output_type": "stream",
     "text": [
      "Training: 100%|██████████| 50/50 [00:04<00:00, 10.78it/s]\n",
      "Evaluating: 100%|██████████| 30/30 [00:00<00:00, 37.77it/s]\n",
      "Training:   2%|▏         | 1/50 [00:00<00:05,  9.38it/s]"
     ]
    },
    {
     "name": "stdout",
     "output_type": "stream",
     "text": [
      "200.0\n"
     ]
    },
    {
     "name": "stderr",
     "output_type": "stream",
     "text": [
      "Training: 100%|██████████| 50/50 [00:04<00:00, 10.96it/s]\n",
      "Evaluating: 100%|██████████| 30/30 [00:00<00:00, 36.56it/s]\n",
      "Training:   2%|▏         | 1/50 [00:00<00:05,  8.91it/s]"
     ]
    },
    {
     "name": "stdout",
     "output_type": "stream",
     "text": [
      "200.0\n"
     ]
    },
    {
     "name": "stderr",
     "output_type": "stream",
     "text": [
      "Training: 100%|██████████| 50/50 [00:04<00:00, 11.38it/s]\n",
      "Evaluating: 100%|██████████| 30/30 [00:00<00:00, 37.03it/s]\n",
      "Training:   2%|▏         | 1/50 [00:00<00:05,  8.62it/s]"
     ]
    },
    {
     "name": "stdout",
     "output_type": "stream",
     "text": [
      "199.86666666666667\n"
     ]
    },
    {
     "name": "stderr",
     "output_type": "stream",
     "text": [
      "Training: 100%|██████████| 50/50 [00:04<00:00, 10.66it/s]\n",
      "Evaluating: 100%|██████████| 30/30 [00:00<00:00, 38.05it/s]\n",
      "Training:   2%|▏         | 1/50 [00:00<00:06,  7.30it/s]"
     ]
    },
    {
     "name": "stdout",
     "output_type": "stream",
     "text": [
      "200.0\n"
     ]
    },
    {
     "name": "stderr",
     "output_type": "stream",
     "text": [
      "Training: 100%|██████████| 50/50 [00:04<00:00, 10.67it/s]\n",
      "Evaluating: 100%|██████████| 30/30 [00:00<00:00, 38.06it/s]\n",
      "Training:   2%|▏         | 1/50 [00:00<00:05,  8.92it/s]"
     ]
    },
    {
     "name": "stdout",
     "output_type": "stream",
     "text": [
      "200.0\n"
     ]
    },
    {
     "name": "stderr",
     "output_type": "stream",
     "text": [
      "Training: 100%|██████████| 50/50 [00:04<00:00, 10.79it/s]\n",
      "Evaluating: 100%|██████████| 30/30 [00:00<00:00, 37.25it/s]\n",
      "Training:   2%|▏         | 1/50 [00:00<00:06,  7.77it/s]"
     ]
    },
    {
     "name": "stdout",
     "output_type": "stream",
     "text": [
      "200.0\n"
     ]
    },
    {
     "name": "stderr",
     "output_type": "stream",
     "text": [
      "Training: 100%|██████████| 50/50 [00:04<00:00, 10.76it/s]\n",
      "Evaluating: 100%|██████████| 30/30 [00:00<00:00, 37.89it/s]\n",
      "Training:   2%|▏         | 1/50 [00:00<00:05,  9.14it/s]"
     ]
    },
    {
     "name": "stdout",
     "output_type": "stream",
     "text": [
      "200.0\n"
     ]
    },
    {
     "name": "stderr",
     "output_type": "stream",
     "text": [
      "Training: 100%|██████████| 50/50 [00:04<00:00, 10.73it/s]\n",
      "Evaluating: 100%|██████████| 30/30 [00:00<00:00, 38.06it/s]\n",
      "Training:   2%|▏         | 1/50 [00:00<00:05,  8.86it/s]"
     ]
    },
    {
     "name": "stdout",
     "output_type": "stream",
     "text": [
      "200.0\n"
     ]
    },
    {
     "name": "stderr",
     "output_type": "stream",
     "text": [
      "Training: 100%|██████████| 50/50 [00:04<00:00, 10.75it/s]\n",
      "Evaluating: 100%|██████████| 30/30 [00:00<00:00, 37.90it/s]\n",
      "Training:   2%|▏         | 1/50 [00:00<00:05,  9.12it/s]"
     ]
    },
    {
     "name": "stdout",
     "output_type": "stream",
     "text": [
      "200.0\n"
     ]
    },
    {
     "name": "stderr",
     "output_type": "stream",
     "text": [
      "Training: 100%|██████████| 50/50 [00:04<00:00, 10.94it/s]\n",
      "Evaluating: 100%|██████████| 30/30 [00:00<00:00, 37.98it/s]\n",
      "Training:   2%|▏         | 1/50 [00:00<00:05,  8.55it/s]"
     ]
    },
    {
     "name": "stdout",
     "output_type": "stream",
     "text": [
      "200.0\n"
     ]
    },
    {
     "name": "stderr",
     "output_type": "stream",
     "text": [
      "Training: 100%|██████████| 50/50 [00:04<00:00, 10.91it/s]\n",
      "Evaluating: 100%|██████████| 30/30 [00:00<00:00, 36.78it/s]\n",
      "Training:   2%|▏         | 1/50 [00:00<00:06,  7.08it/s]"
     ]
    },
    {
     "name": "stdout",
     "output_type": "stream",
     "text": [
      "200.0\n"
     ]
    },
    {
     "name": "stderr",
     "output_type": "stream",
     "text": [
      "Training: 100%|██████████| 50/50 [00:04<00:00, 10.68it/s]\n",
      "Evaluating: 100%|██████████| 30/30 [00:00<00:00, 38.04it/s]\n",
      "Training:   2%|▏         | 1/50 [00:00<00:05,  9.39it/s]"
     ]
    },
    {
     "name": "stdout",
     "output_type": "stream",
     "text": [
      "200.0\n"
     ]
    },
    {
     "name": "stderr",
     "output_type": "stream",
     "text": [
      "Training: 100%|██████████| 50/50 [00:04<00:00, 10.83it/s]\n",
      "Evaluating: 100%|██████████| 30/30 [00:00<00:00, 37.90it/s]\n",
      "Training:   2%|▏         | 1/50 [00:00<00:05,  8.84it/s]"
     ]
    },
    {
     "name": "stdout",
     "output_type": "stream",
     "text": [
      "200.0\n"
     ]
    },
    {
     "name": "stderr",
     "output_type": "stream",
     "text": [
      "Training: 100%|██████████| 50/50 [00:04<00:00, 10.80it/s]\n",
      "Evaluating: 100%|██████████| 30/30 [00:00<00:00, 37.86it/s]\n",
      "Training:   2%|▏         | 1/50 [00:00<00:06,  7.20it/s]"
     ]
    },
    {
     "name": "stdout",
     "output_type": "stream",
     "text": [
      "200.0\n"
     ]
    },
    {
     "name": "stderr",
     "output_type": "stream",
     "text": [
      "Training: 100%|██████████| 50/50 [00:06<00:00,  8.08it/s]\n",
      "Evaluating: 100%|██████████| 30/30 [00:01<00:00, 29.60it/s]\n",
      "Training:   2%|▏         | 1/50 [00:00<00:06,  7.16it/s]"
     ]
    },
    {
     "name": "stdout",
     "output_type": "stream",
     "text": [
      "200.0\n"
     ]
    },
    {
     "name": "stderr",
     "output_type": "stream",
     "text": [
      "Training: 100%|██████████| 50/50 [00:05<00:00,  8.59it/s]\n",
      "Evaluating: 100%|██████████| 30/30 [00:00<00:00, 37.78it/s]\n",
      "Training:   2%|▏         | 1/50 [00:00<00:05,  9.35it/s]"
     ]
    },
    {
     "name": "stdout",
     "output_type": "stream",
     "text": [
      "200.0\n"
     ]
    },
    {
     "name": "stderr",
     "output_type": "stream",
     "text": [
      "Training: 100%|██████████| 50/50 [00:05<00:00,  8.49it/s]\n",
      "Evaluating: 100%|██████████| 30/30 [00:01<00:00, 29.67it/s]\n",
      "Training:   2%|▏         | 1/50 [00:00<00:05,  8.45it/s]"
     ]
    },
    {
     "name": "stdout",
     "output_type": "stream",
     "text": [
      "200.0\n"
     ]
    },
    {
     "name": "stderr",
     "output_type": "stream",
     "text": [
      "Training: 100%|██████████| 50/50 [00:04<00:00, 10.71it/s]\n",
      "Evaluating: 100%|██████████| 30/30 [00:00<00:00, 37.95it/s]\n",
      "Training:   2%|▏         | 1/50 [00:00<00:05,  9.01it/s]"
     ]
    },
    {
     "name": "stdout",
     "output_type": "stream",
     "text": [
      "200.0\n"
     ]
    },
    {
     "name": "stderr",
     "output_type": "stream",
     "text": [
      "Training: 100%|██████████| 50/50 [00:04<00:00, 10.73it/s]\n",
      "Evaluating: 100%|██████████| 30/30 [00:00<00:00, 36.14it/s]\n",
      "Training:   2%|▏         | 1/50 [00:00<00:06,  7.52it/s]"
     ]
    },
    {
     "name": "stdout",
     "output_type": "stream",
     "text": [
      "200.0\n"
     ]
    },
    {
     "name": "stderr",
     "output_type": "stream",
     "text": [
      "Training: 100%|██████████| 50/50 [00:06<00:00,  8.09it/s]\n",
      "Evaluating: 100%|██████████| 30/30 [00:01<00:00, 28.43it/s]\n",
      "Training:   2%|▏         | 1/50 [00:00<00:07,  6.70it/s]"
     ]
    },
    {
     "name": "stdout",
     "output_type": "stream",
     "text": [
      "200.0\n"
     ]
    },
    {
     "name": "stderr",
     "output_type": "stream",
     "text": [
      "Training: 100%|██████████| 50/50 [00:06<00:00,  8.06it/s]\n",
      "Evaluating: 100%|██████████| 30/30 [00:00<00:00, 38.07it/s]\n",
      "Training:   2%|▏         | 1/50 [00:00<00:05,  8.89it/s]"
     ]
    },
    {
     "name": "stdout",
     "output_type": "stream",
     "text": [
      "200.0\n"
     ]
    },
    {
     "name": "stderr",
     "output_type": "stream",
     "text": [
      "Training: 100%|██████████| 50/50 [00:04<00:00, 10.86it/s]\n",
      "Evaluating: 100%|██████████| 30/30 [00:00<00:00, 37.35it/s]\n",
      "Training:   2%|▏         | 1/50 [00:00<00:06,  7.42it/s]"
     ]
    },
    {
     "name": "stdout",
     "output_type": "stream",
     "text": [
      "200.0\n"
     ]
    },
    {
     "name": "stderr",
     "output_type": "stream",
     "text": [
      "Training: 100%|██████████| 50/50 [00:04<00:00, 10.56it/s]\n",
      "Evaluating: 100%|██████████| 30/30 [00:00<00:00, 37.97it/s]\n",
      "Training:   2%|▏         | 1/50 [00:00<00:05,  9.77it/s]"
     ]
    },
    {
     "name": "stdout",
     "output_type": "stream",
     "text": [
      "200.0\n"
     ]
    },
    {
     "name": "stderr",
     "output_type": "stream",
     "text": [
      "Training: 100%|██████████| 50/50 [00:04<00:00, 10.88it/s]\n",
      "Evaluating: 100%|██████████| 30/30 [00:00<00:00, 37.99it/s]\n",
      "Training:   2%|▏         | 1/50 [00:00<00:06,  7.94it/s]"
     ]
    },
    {
     "name": "stdout",
     "output_type": "stream",
     "text": [
      "200.0\n"
     ]
    },
    {
     "name": "stderr",
     "output_type": "stream",
     "text": [
      "Training: 100%|██████████| 50/50 [00:04<00:00, 10.66it/s]\n",
      "Evaluating: 100%|██████████| 30/30 [00:00<00:00, 37.98it/s]\n",
      "Training:   2%|▏         | 1/50 [00:00<00:08,  6.07it/s]"
     ]
    },
    {
     "name": "stdout",
     "output_type": "stream",
     "text": [
      "200.0\n"
     ]
    },
    {
     "name": "stderr",
     "output_type": "stream",
     "text": [
      "Training: 100%|██████████| 50/50 [00:04<00:00, 10.02it/s]\n",
      "Evaluating: 100%|██████████| 30/30 [00:00<00:00, 38.13it/s]\n",
      "Training:   2%|▏         | 1/50 [00:00<00:05,  8.35it/s]"
     ]
    },
    {
     "name": "stdout",
     "output_type": "stream",
     "text": [
      "200.0\n"
     ]
    },
    {
     "name": "stderr",
     "output_type": "stream",
     "text": [
      "Training: 100%|██████████| 50/50 [00:04<00:00, 10.67it/s]\n",
      "Evaluating: 100%|██████████| 30/30 [00:00<00:00, 38.04it/s]\n",
      "Training:   2%|▏         | 1/50 [00:00<00:05,  8.97it/s]"
     ]
    },
    {
     "name": "stdout",
     "output_type": "stream",
     "text": [
      "200.0\n"
     ]
    },
    {
     "name": "stderr",
     "output_type": "stream",
     "text": [
      "Training: 100%|██████████| 50/50 [00:04<00:00, 10.79it/s]\n",
      "Evaluating: 100%|██████████| 30/30 [00:00<00:00, 38.09it/s]\n",
      "Training:   2%|▏         | 1/50 [00:00<00:05,  8.25it/s]"
     ]
    },
    {
     "name": "stdout",
     "output_type": "stream",
     "text": [
      "200.0\n"
     ]
    },
    {
     "name": "stderr",
     "output_type": "stream",
     "text": [
      "Training: 100%|██████████| 50/50 [00:04<00:00, 10.71it/s]\n",
      "Evaluating: 100%|██████████| 30/30 [00:00<00:00, 41.77it/s]\n",
      "Training:   2%|▏         | 1/50 [00:00<00:06,  7.17it/s]"
     ]
    },
    {
     "name": "stdout",
     "output_type": "stream",
     "text": [
      "166.43333333333334\n"
     ]
    },
    {
     "name": "stderr",
     "output_type": "stream",
     "text": [
      "Training: 100%|██████████| 50/50 [00:06<00:00,  8.07it/s]\n",
      "Evaluating: 100%|██████████| 30/30 [00:01<00:00, 29.48it/s]\n",
      "Training:   2%|▏         | 1/50 [00:00<00:06,  7.33it/s]"
     ]
    },
    {
     "name": "stdout",
     "output_type": "stream",
     "text": [
      "200.0\n"
     ]
    },
    {
     "name": "stderr",
     "output_type": "stream",
     "text": [
      "Training: 100%|██████████| 50/50 [00:06<00:00,  8.21it/s]\n",
      "Evaluating: 100%|██████████| 30/30 [00:01<00:00, 29.39it/s]\n",
      "Training:   2%|▏         | 1/50 [00:00<00:05,  8.57it/s]"
     ]
    },
    {
     "name": "stdout",
     "output_type": "stream",
     "text": [
      "200.0\n"
     ]
    },
    {
     "name": "stderr",
     "output_type": "stream",
     "text": [
      "Training: 100%|██████████| 50/50 [00:04<00:00, 10.70it/s]\n",
      "Evaluating: 100%|██████████| 30/30 [00:00<00:00, 37.65it/s]\n",
      "Training:   2%|▏         | 1/50 [00:00<00:06,  7.37it/s]"
     ]
    },
    {
     "name": "stdout",
     "output_type": "stream",
     "text": [
      "200.0\n"
     ]
    },
    {
     "name": "stderr",
     "output_type": "stream",
     "text": [
      "Training: 100%|██████████| 50/50 [00:06<00:00,  8.07it/s]\n",
      "Evaluating: 100%|██████████| 30/30 [00:01<00:00, 28.53it/s]\n",
      "Training:   2%|▏         | 1/50 [00:00<00:06,  7.16it/s]"
     ]
    },
    {
     "name": "stdout",
     "output_type": "stream",
     "text": [
      "200.0\n"
     ]
    },
    {
     "name": "stderr",
     "output_type": "stream",
     "text": [
      "Training: 100%|██████████| 50/50 [00:06<00:00,  8.23it/s]\n",
      "Evaluating: 100%|██████████| 30/30 [00:00<00:00, 38.14it/s]\n",
      "Training:   2%|▏         | 1/50 [00:00<00:05,  8.97it/s]"
     ]
    },
    {
     "name": "stdout",
     "output_type": "stream",
     "text": [
      "200.0\n"
     ]
    },
    {
     "name": "stderr",
     "output_type": "stream",
     "text": [
      "Training: 100%|██████████| 50/50 [00:06<00:00,  8.12it/s]\n",
      "Evaluating: 100%|██████████| 30/30 [00:01<00:00, 29.62it/s]\n",
      "Training:   2%|▏         | 1/50 [00:00<00:06,  7.69it/s]"
     ]
    },
    {
     "name": "stdout",
     "output_type": "stream",
     "text": [
      "200.0\n"
     ]
    },
    {
     "name": "stderr",
     "output_type": "stream",
     "text": [
      "Training: 100%|██████████| 50/50 [00:06<00:00,  8.22it/s]\n",
      "Evaluating: 100%|██████████| 30/30 [00:01<00:00, 29.52it/s]\n",
      "Training:   2%|▏         | 1/50 [00:00<00:06,  7.34it/s]"
     ]
    },
    {
     "name": "stdout",
     "output_type": "stream",
     "text": [
      "200.0\n"
     ]
    },
    {
     "name": "stderr",
     "output_type": "stream",
     "text": [
      "Training: 100%|██████████| 50/50 [00:04<00:00, 10.68it/s]\n",
      "Evaluating: 100%|██████████| 30/30 [00:00<00:00, 37.86it/s]\n",
      "Training:   2%|▏         | 1/50 [00:00<00:05,  8.84it/s]"
     ]
    },
    {
     "name": "stdout",
     "output_type": "stream",
     "text": [
      "200.0\n"
     ]
    },
    {
     "name": "stderr",
     "output_type": "stream",
     "text": [
      "Training: 100%|██████████| 50/50 [00:04<00:00, 10.87it/s]\n",
      "Evaluating: 100%|██████████| 30/30 [00:00<00:00, 37.59it/s]\n",
      "Training:   2%|▏         | 1/50 [00:00<00:06,  7.23it/s]"
     ]
    },
    {
     "name": "stdout",
     "output_type": "stream",
     "text": [
      "200.0\n"
     ]
    },
    {
     "name": "stderr",
     "output_type": "stream",
     "text": [
      "Training: 100%|██████████| 50/50 [00:04<00:00, 11.09it/s]\n",
      "Evaluating: 100%|██████████| 30/30 [00:00<00:00, 37.73it/s]\n",
      "Training:   2%|▏         | 1/50 [00:00<00:05,  9.21it/s]"
     ]
    },
    {
     "name": "stdout",
     "output_type": "stream",
     "text": [
      "200.0\n"
     ]
    },
    {
     "name": "stderr",
     "output_type": "stream",
     "text": [
      "Training: 100%|██████████| 50/50 [00:04<00:00, 10.78it/s]\n",
      "Evaluating: 100%|██████████| 30/30 [00:00<00:00, 38.13it/s]\n",
      "Training:   2%|▏         | 1/50 [00:00<00:06,  8.16it/s]"
     ]
    },
    {
     "name": "stdout",
     "output_type": "stream",
     "text": [
      "200.0\n"
     ]
    },
    {
     "name": "stderr",
     "output_type": "stream",
     "text": [
      "Training: 100%|██████████| 50/50 [00:04<00:00, 11.24it/s]\n",
      "Evaluating: 100%|██████████| 30/30 [00:00<00:00, 38.05it/s]\n",
      "Training:   2%|▏         | 1/50 [00:00<00:05,  8.38it/s]"
     ]
    },
    {
     "name": "stdout",
     "output_type": "stream",
     "text": [
      "200.0\n"
     ]
    },
    {
     "name": "stderr",
     "output_type": "stream",
     "text": [
      "Training: 100%|██████████| 50/50 [00:04<00:00, 10.74it/s]\n",
      "Evaluating: 100%|██████████| 30/30 [00:00<00:00, 37.76it/s]\n",
      "Training:   2%|▏         | 1/50 [00:00<00:05,  9.48it/s]"
     ]
    },
    {
     "name": "stdout",
     "output_type": "stream",
     "text": [
      "200.0\n"
     ]
    },
    {
     "name": "stderr",
     "output_type": "stream",
     "text": [
      "Training: 100%|██████████| 50/50 [00:04<00:00, 10.74it/s]\n",
      "Evaluating: 100%|██████████| 30/30 [00:00<00:00, 35.80it/s]\n",
      "Training:   2%|▏         | 1/50 [00:00<00:05,  9.22it/s]"
     ]
    },
    {
     "name": "stdout",
     "output_type": "stream",
     "text": [
      "200.0\n"
     ]
    },
    {
     "name": "stderr",
     "output_type": "stream",
     "text": [
      "Training: 100%|██████████| 50/50 [00:04<00:00, 10.74it/s]\n",
      "Evaluating: 100%|██████████| 30/30 [00:00<00:00, 36.87it/s]\n",
      "Training:   2%|▏         | 1/50 [00:00<00:05,  9.24it/s]"
     ]
    },
    {
     "name": "stdout",
     "output_type": "stream",
     "text": [
      "200.0\n"
     ]
    },
    {
     "name": "stderr",
     "output_type": "stream",
     "text": [
      "Training: 100%|██████████| 50/50 [00:04<00:00, 11.00it/s]\n",
      "Evaluating: 100%|██████████| 30/30 [00:00<00:00, 37.49it/s]\n",
      "Training:   2%|▏         | 1/50 [00:00<00:05,  8.65it/s]"
     ]
    },
    {
     "name": "stdout",
     "output_type": "stream",
     "text": [
      "200.0\n"
     ]
    },
    {
     "name": "stderr",
     "output_type": "stream",
     "text": [
      "Training: 100%|██████████| 50/50 [00:04<00:00, 11.13it/s]\n",
      "Evaluating: 100%|██████████| 30/30 [00:00<00:00, 38.11it/s]\n",
      "Training:   2%|▏         | 1/50 [00:00<00:05,  9.00it/s]"
     ]
    },
    {
     "name": "stdout",
     "output_type": "stream",
     "text": [
      "200.0\n"
     ]
    },
    {
     "name": "stderr",
     "output_type": "stream",
     "text": [
      "Training: 100%|██████████| 50/50 [00:04<00:00, 10.69it/s]\n",
      "Evaluating: 100%|██████████| 30/30 [00:00<00:00, 36.32it/s]\n",
      "Training:   2%|▏         | 1/50 [00:00<00:07,  6.55it/s]"
     ]
    },
    {
     "name": "stdout",
     "output_type": "stream",
     "text": [
      "200.0\n"
     ]
    },
    {
     "name": "stderr",
     "output_type": "stream",
     "text": [
      "Training: 100%|██████████| 50/50 [00:04<00:00, 10.64it/s]\n",
      "Evaluating: 100%|██████████| 30/30 [00:00<00:00, 37.61it/s]"
     ]
    },
    {
     "name": "stdout",
     "output_type": "stream",
     "text": [
      "200.0\n",
      "\n",
      "Learning Performance:\n",
      "\n"
     ]
    },
    {
     "name": "stderr",
     "output_type": "stream",
     "text": [
      "\n"
     ]
    },
    {
     "data": {
      "text/plain": [
       "<Figure size 432x288 with 0 Axes>"
      ]
     },
     "metadata": {},
     "output_type": "display_data"
    },
    {
     "data": {
      "image/png": "[encoded data removed]",
      "text/plain": [
       "<Figure size 432x288 with 1 Axes>"
      ]
     },
     "metadata": {
      "needs_background": "light"
     },
     "output_type": "display_data"
    }
   ],
   "source": [
    "# Full DQN\n",
    "\n",
    "hyperparams_CartPole = {\n",
    "    'epsilon_decay_steps' : 100000, \n",
    "    'final_epsilon' : 0.1,\n",
    "    'batch_size' : 32, \n",
    "    'update_steps' : 10, \n",
    "    'memory_size' : 2000, \n",
    "    'beta' : 0.99, \n",
    "    'model_replace_freq' : 2000,\n",
    "    'learning_rate' : 0.0003,\n",
    "    'use_target_model': True\n",
    "}\n",
    "\n",
    "training_episodes, test_interval = 10000, 50\n",
    "agent = DQN_agent(env_CartPole, hyperparams_CartPole)\n",
    "result = agent.learn_and_evaluate(training_episodes, test_interval)\n",
    "plot_result(result, test_interval, [\"batch_update with target_model\"])"
   ]
  },
  {
   "cell_type": "markdown",
   "metadata": {},
   "source": [
    "***\n",
    "# Part 2: Distributed DQN\n",
    "***\n",
    "\n",
    "Here you will implement a distributed version of the above DQN approach. The distribution approach can be the same as that used for the table-based distribution Q-learning algorithm from homework 3."
   ]
  },
  {
   "cell_type": "markdown",
   "metadata": {},
   "source": [
    "## init Ray"
   ]
  },
  {
   "cell_type": "code",
   "execution_count": null,
   "metadata": {},
   "outputs": [],
   "source": [
    "ray.shutdown()\n",
    "ray.init(include_webui=False, ignore_reinit_error=True, redis_max_memory=500000000, object_store_memory=5000000000)"
   ]
  },
  {
   "cell_type": "markdown",
   "metadata": {},
   "source": [
    "## Distributed DQN agent\n",
    "The idea is to speedup learning by creating actors to collect data and a model_server to update the neural network model.\n",
    "- Collector: There is a simulator inside each collector. Their job is to collect exprience from the simulator, and send them to the memory server. They follow the explore_or_exploit policy, getting greedy action from model server. Also, call update function of model server to update the model.  \n",
    "- Evaluator: There is a simulator inside the evaluator. It is called by the the Model Server, taking eval_model from it, and test its performance.\n",
    "- Model Server: Stores the evalation and target networks. It Takes experiences from Memory Server and updates the Q-network, also replacing target Q-network periodically. It also interfaces to the evaluator periodically. \n",
    "- Memory Server: It is used to store/sample experience relays.\n",
    "\n",
    "An image of this architecture is below. \n",
    "\n",
    "For this part, you should use our custom_cartpole as your enviroment. This version of cartpole is slower, which allows for the benefits of distributed experience collection to be observed. In particular, the time to generate an experience tuple needs to be non-trivial compared to the time needed to do a neural network model update. \n",
    "\n",
    "<span style=\"color:green\">It is better to run the distributed DQN agent in exclusive node, not in Jupyter notebook</span>\n",
    "```\n",
    "Store all of your distrited DQN code into a python file.\n",
    "ssh colfax (get access to the Devcloud on terminal)\n",
    "qsub -I -lselect=1\n",
    "python3 distributed_dqn.py\n",
    "```\n",
    "\n",
    "<img src=\"distributed DQN.png\">\n",
    "\n",
    "For this part of the homework you need to submit your code for distributed DQN and run experiments that vary the number of workers involved. Produce some learning curves and timing results and discuss your observations. "
   ]
  },
  {
   "cell_type": "code",
   "execution_count": null,
   "metadata": {},
   "outputs": [],
   "source": [
    "from memory_remote import ReplayBuffer_remote\n",
    "from dqn_model import _DQNModel\n",
    "import torch\n",
    "from custom_cartpole import CartPoleEnv"
   ]
  },
  {
   "cell_type": "code",
   "execution_count": null,
   "metadata": {},
   "outputs": [],
   "source": [
    "# Set the Env name and action space for CartPole\n",
    "ENV_NAME = 'CartPole_distributed'\n",
    "\n",
    "# Set result saveing floder\n",
    "result_floder = ENV_NAME + \"_distributed\"\n",
    "result_file = ENV_NAME + \"/results.txt\"\n",
    "if not os.path.isdir(result_floder):\n",
    "    os.mkdir(result_floder)\n",
    "torch.set_num_threads(12)"
   ]
  }
 ],
 "metadata": {
  "kernelspec": {
   "display_name": "PyTorch 1.4.0 (AI kit)",
   "language": "python",
   "name": "c009-intel_distribution_of_python_3_oneapi-beta05-pytorch"
  },
  "language_info": {
   "codemirror_mode": {
    "name": "ipython",
    "version": 3
   },
   "file_extension": ".py",
   "mimetype": "text/x-python",
   "name": "python",
   "nbconvert_exporter": "python",
   "pygments_lexer": "ipython3",
   "version": "3.7.7"
  }
 },
 "nbformat": 4,
 "nbformat_minor": 4
}
